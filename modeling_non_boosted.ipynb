{
 "cells": [
  {
   "cell_type": "code",
   "execution_count": 67,
   "metadata": {},
   "outputs": [],
   "source": [
    "import pandas as pd\n",
    "import numpy as np\n",
    "from time import time\n",
    "from pprint import PrettyPrinter\n",
    "\n",
    "from sklearn.model_selection import train_test_split\n",
    "from sklearn.naive_bayes import GaussianNB\n",
    "from sklearn.linear_model import LogisticRegression\n",
    "from sklearn.neighbors import KNeighborsClassifier\n",
    "from sklearn.ensemble import RandomForestClassifier\n",
    "from sklearn import cross_validation\n",
    "from sklearn.model_selection import GridSearchCV\n",
    "\n",
    "import seaborn as sns\n",
    "import matplotlib.pyplot as plt\n",
    "sns.set()\n",
    "%matplotlib inline\n",
    "pp = PrettyPrinter()"
   ]
  },
  {
   "cell_type": "markdown",
   "metadata": {},
   "source": [
    "# Load"
   ]
  },
  {
   "cell_type": "code",
   "execution_count": 2,
   "metadata": {
    "scrolled": true
   },
   "outputs": [
    {
     "data": {
      "text/html": [
       "<div>\n",
       "<style scoped>\n",
       "    .dataframe tbody tr th:only-of-type {\n",
       "        vertical-align: middle;\n",
       "    }\n",
       "\n",
       "    .dataframe tbody tr th {\n",
       "        vertical-align: top;\n",
       "    }\n",
       "\n",
       "    .dataframe thead th {\n",
       "        text-align: right;\n",
       "    }\n",
       "</style>\n",
       "<table border=\"1\" class=\"dataframe\">\n",
       "  <thead>\n",
       "    <tr style=\"text-align: right;\">\n",
       "      <th></th>\n",
       "      <th>sk_id_curr</th>\n",
       "      <th>target</th>\n",
       "      <th>0</th>\n",
       "      <th>1</th>\n",
       "      <th>2</th>\n",
       "      <th>3</th>\n",
       "      <th>4</th>\n",
       "      <th>5</th>\n",
       "      <th>6</th>\n",
       "      <th>7</th>\n",
       "      <th>...</th>\n",
       "      <th>28</th>\n",
       "      <th>29</th>\n",
       "      <th>30</th>\n",
       "      <th>31</th>\n",
       "      <th>32</th>\n",
       "      <th>33</th>\n",
       "      <th>34</th>\n",
       "      <th>35</th>\n",
       "      <th>36</th>\n",
       "      <th>37</th>\n",
       "    </tr>\n",
       "  </thead>\n",
       "  <tbody>\n",
       "    <tr>\n",
       "      <th>0</th>\n",
       "      <td>100002</td>\n",
       "      <td>1</td>\n",
       "      <td>0.311091</td>\n",
       "      <td>-1.332634</td>\n",
       "      <td>-0.399883</td>\n",
       "      <td>-2.000222</td>\n",
       "      <td>0.390812</td>\n",
       "      <td>0.672156</td>\n",
       "      <td>-0.191782</td>\n",
       "      <td>1.242912</td>\n",
       "      <td>...</td>\n",
       "      <td>0.094919</td>\n",
       "      <td>0.108869</td>\n",
       "      <td>-0.097447</td>\n",
       "      <td>0.207195</td>\n",
       "      <td>1.110724</td>\n",
       "      <td>-0.885310</td>\n",
       "      <td>0.271509</td>\n",
       "      <td>0.201748</td>\n",
       "      <td>0.078745</td>\n",
       "      <td>-1.013988</td>\n",
       "    </tr>\n",
       "    <tr>\n",
       "      <th>1</th>\n",
       "      <td>100003</td>\n",
       "      <td>0</td>\n",
       "      <td>1.003885</td>\n",
       "      <td>2.295670</td>\n",
       "      <td>-0.859131</td>\n",
       "      <td>-1.410614</td>\n",
       "      <td>0.350578</td>\n",
       "      <td>-0.441695</td>\n",
       "      <td>1.138504</td>\n",
       "      <td>-0.655109</td>\n",
       "      <td>...</td>\n",
       "      <td>0.215964</td>\n",
       "      <td>0.051572</td>\n",
       "      <td>0.488226</td>\n",
       "      <td>-0.041404</td>\n",
       "      <td>-0.785569</td>\n",
       "      <td>1.252293</td>\n",
       "      <td>1.370241</td>\n",
       "      <td>-0.178892</td>\n",
       "      <td>-0.732245</td>\n",
       "      <td>0.653229</td>\n",
       "    </tr>\n",
       "    <tr>\n",
       "      <th>2</th>\n",
       "      <td>100004</td>\n",
       "      <td>0</td>\n",
       "      <td>-0.356299</td>\n",
       "      <td>-2.745839</td>\n",
       "      <td>0.603927</td>\n",
       "      <td>-0.145268</td>\n",
       "      <td>2.845680</td>\n",
       "      <td>-0.206305</td>\n",
       "      <td>-1.628813</td>\n",
       "      <td>-0.740097</td>\n",
       "      <td>...</td>\n",
       "      <td>-0.140227</td>\n",
       "      <td>0.215135</td>\n",
       "      <td>-0.424872</td>\n",
       "      <td>0.097197</td>\n",
       "      <td>0.123388</td>\n",
       "      <td>0.143478</td>\n",
       "      <td>0.539556</td>\n",
       "      <td>0.226337</td>\n",
       "      <td>-0.640607</td>\n",
       "      <td>-1.492682</td>\n",
       "    </tr>\n",
       "    <tr>\n",
       "      <th>3</th>\n",
       "      <td>100006</td>\n",
       "      <td>0</td>\n",
       "      <td>-0.452229</td>\n",
       "      <td>-0.706371</td>\n",
       "      <td>-1.026894</td>\n",
       "      <td>-1.142946</td>\n",
       "      <td>-0.490824</td>\n",
       "      <td>-0.542183</td>\n",
       "      <td>-0.185623</td>\n",
       "      <td>0.939177</td>\n",
       "      <td>...</td>\n",
       "      <td>0.015248</td>\n",
       "      <td>-0.032642</td>\n",
       "      <td>-0.234938</td>\n",
       "      <td>-0.217559</td>\n",
       "      <td>0.080454</td>\n",
       "      <td>-0.554469</td>\n",
       "      <td>-0.494474</td>\n",
       "      <td>0.734851</td>\n",
       "      <td>-0.315487</td>\n",
       "      <td>0.781315</td>\n",
       "    </tr>\n",
       "    <tr>\n",
       "      <th>4</th>\n",
       "      <td>100007</td>\n",
       "      <td>0</td>\n",
       "      <td>0.396743</td>\n",
       "      <td>-0.732436</td>\n",
       "      <td>2.179659</td>\n",
       "      <td>-0.024886</td>\n",
       "      <td>1.154158</td>\n",
       "      <td>2.721180</td>\n",
       "      <td>-2.287210</td>\n",
       "      <td>0.657978</td>\n",
       "      <td>...</td>\n",
       "      <td>0.434943</td>\n",
       "      <td>0.120781</td>\n",
       "      <td>-0.307910</td>\n",
       "      <td>-0.718415</td>\n",
       "      <td>-0.035805</td>\n",
       "      <td>-1.283724</td>\n",
       "      <td>0.026249</td>\n",
       "      <td>0.483156</td>\n",
       "      <td>2.127985</td>\n",
       "      <td>-0.200012</td>\n",
       "    </tr>\n",
       "  </tbody>\n",
       "</table>\n",
       "<p>5 rows × 40 columns</p>\n",
       "</div>"
      ],
      "text/plain": [
       "   sk_id_curr  target         0         1         2         3         4  \\\n",
       "0      100002       1  0.311091 -1.332634 -0.399883 -2.000222  0.390812   \n",
       "1      100003       0  1.003885  2.295670 -0.859131 -1.410614  0.350578   \n",
       "2      100004       0 -0.356299 -2.745839  0.603927 -0.145268  2.845680   \n",
       "3      100006       0 -0.452229 -0.706371 -1.026894 -1.142946 -0.490824   \n",
       "4      100007       0  0.396743 -0.732436  2.179659 -0.024886  1.154158   \n",
       "\n",
       "          5         6         7    ...           28        29        30  \\\n",
       "0  0.672156 -0.191782  1.242912    ...     0.094919  0.108869 -0.097447   \n",
       "1 -0.441695  1.138504 -0.655109    ...     0.215964  0.051572  0.488226   \n",
       "2 -0.206305 -1.628813 -0.740097    ...    -0.140227  0.215135 -0.424872   \n",
       "3 -0.542183 -0.185623  0.939177    ...     0.015248 -0.032642 -0.234938   \n",
       "4  2.721180 -2.287210  0.657978    ...     0.434943  0.120781 -0.307910   \n",
       "\n",
       "         31        32        33        34        35        36        37  \n",
       "0  0.207195  1.110724 -0.885310  0.271509  0.201748  0.078745 -1.013988  \n",
       "1 -0.041404 -0.785569  1.252293  1.370241 -0.178892 -0.732245  0.653229  \n",
       "2  0.097197  0.123388  0.143478  0.539556  0.226337 -0.640607 -1.492682  \n",
       "3 -0.217559  0.080454 -0.554469 -0.494474  0.734851 -0.315487  0.781315  \n",
       "4 -0.718415 -0.035805 -1.283724  0.026249  0.483156  2.127985 -0.200012  \n",
       "\n",
       "[5 rows x 40 columns]"
      ]
     },
     "execution_count": 2,
     "metadata": {},
     "output_type": "execute_result"
    }
   ],
   "source": [
    "df = pd.read_csv('data/application_train_pca.csv')\n",
    "df.head()"
   ]
  },
  {
   "cell_type": "code",
   "execution_count": 3,
   "metadata": {},
   "outputs": [],
   "source": [
    "train = df[df.columns[2:]]\n",
    "target = df['target']"
   ]
  },
  {
   "cell_type": "markdown",
   "metadata": {},
   "source": [
    "# Modeling"
   ]
  },
  {
   "cell_type": "code",
   "execution_count": 4,
   "metadata": {},
   "outputs": [],
   "source": [
    "def model_fit(model, train, target, timed=True, feature_importance=False):\n",
    "    '''\n",
    "    This function is for checking performance of a single model. \n",
    "    \n",
    "    Optional plot of feature importance for ensemble methods.\n",
    "    '''\n",
    "    # Fit and Predict\n",
    "    if timed:\n",
    "        start = time()\n",
    "        passed = time() - start\n",
    "        print(f'Seconds to start: {passed:.2f}')\n",
    "    model.fit(train, target)\n",
    "    if timed:\n",
    "        passed = time() - start\n",
    "        print(f'Seconds to fit: {passed:.2f}')\n",
    "    \n",
    "    # CV\n",
    "    cv_score = cross_validation.cross_val_score(model, train, target, cv=5, scoring='roc_auc')\n",
    "    print(f'CV Score : Mean - {np.mean(cv_score):.3f} | Std - {np.std(cv_score):.3f} | Min - {np.min(cv_score):.3f} | Max - {np.max(cv_score):.3f}')\n",
    "    if timed:\n",
    "        passed = time() - start\n",
    "        print(f'Seconds to CV: {passed:.2f}')\n",
    "    \n",
    "    # Plots feature importance, for ensemble models only\n",
    "    if feature_importance:\n",
    "        feat_imp = pd.Series(model.feature_importances_).sort_values(ascending=False)\n",
    "        feat_imp.plot(kind='bar', title='Feature Importances')\n",
    "        plt.ylabel('Feature Importance Score')"
   ]
  },
  {
   "cell_type": "code",
   "execution_count": 5,
   "metadata": {},
   "outputs": [],
   "source": [
    "def grid_searcher(model, train, target, parameters={}, cv=4, timed=True):\n",
    "    '''\n",
    "    Makes a printout of the AUC score for gridsearched models.\n",
    "    '''\n",
    "    if timed:\n",
    "        start = time()\n",
    "        passed = time() - start\n",
    "        print(f'Seconds to start: {passed:.2f}')\n",
    "    gsearcher = GridSearchCV(\n",
    "        estimator=model, \n",
    "        param_grid=parameters,\n",
    "        scoring='roc_auc',\n",
    "        n_jobs=4,\n",
    "        cv=cv)\n",
    "    gsearcher.fit(train, target)\n",
    "    if timed:\n",
    "        passed = time() - start\n",
    "        print(f'Seconds to fit: {passed:.2f}')\n",
    "    print('Grid Scores: \\n')\n",
    "    pp.pprint(gsearcher.cv_results_)\n",
    "    print(f'Best Model Parameters: {gsearcher.best_params_}')\n",
    "    print(f'Best Model Score: {gsearcher.best_score_:.4f}')"
   ]
  },
  {
   "cell_type": "markdown",
   "metadata": {},
   "source": [
    "## Naive Bayes"
   ]
  },
  {
   "cell_type": "markdown",
   "metadata": {},
   "source": [
    "For Funnsies"
   ]
  },
  {
   "cell_type": "code",
   "execution_count": 69,
   "metadata": {},
   "outputs": [
    {
     "name": "stdout",
     "output_type": "stream",
     "text": [
      "Seconds to start: 0.00\n",
      "Seconds to fit: 2.61\n",
      "Grid Scores: \n",
      "\n",
      "{'mean_fit_time': array([0.57424241]),\n",
      " 'mean_score_time': array([0.16385829]),\n",
      " 'mean_test_score': array([0.63585457]),\n",
      " 'mean_train_score': array([0.63620212]),\n",
      " 'params': [{}],\n",
      " 'rank_test_score': array([1], dtype=int32),\n",
      " 'split0_test_score': array([0.66536437]),\n",
      " 'split0_train_score': array([0.66500492]),\n",
      " 'split1_test_score': array([0.63106633]),\n",
      " 'split1_train_score': array([0.62473171]),\n",
      " 'split2_test_score': array([0.62023497]),\n",
      " 'split2_train_score': array([0.62882607]),\n",
      " 'split3_test_score': array([0.6267519]),\n",
      " 'split3_train_score': array([0.62624578]),\n",
      " 'std_fit_time': array([0.10114609]),\n",
      " 'std_score_time': array([0.02379337]),\n",
      " 'std_test_score': array([0.01746852]),\n",
      " 'std_train_score': array([0.01669361])}\n",
      "Best Model Parameters: {}\n",
      "Best Model Score: 0.6359\n"
     ]
    }
   ],
   "source": [
    "grid_searcher(GaussianNB(), train, target)"
   ]
  },
  {
   "cell_type": "markdown",
   "metadata": {},
   "source": [
    "## Logistic Regression"
   ]
  },
  {
   "cell_type": "markdown",
   "metadata": {},
   "source": [
    "Did a L1 Vs. L2 run. Same AUC (0.0688 w/ C=1.0). But took more than 10 times as long to fit, so don't use it."
   ]
  },
  {
   "cell_type": "code",
   "execution_count": 59,
   "metadata": {},
   "outputs": [
    {
     "name": "stdout",
     "output_type": "stream",
     "text": [
      "Seconds to start: 0.00\n",
      "Seconds to fit: 85.71\n",
      "Grid Scores: \n",
      "\n",
      "{'mean_fit_time': array([ 6.74909526,  7.93353075, 13.28336269,  9.04026347, 10.95242119,\n",
      "        9.88661391,  8.97505802,  9.24396497]),\n",
      " 'mean_score_time': array([0.07046926, 0.04790127, 0.06197524, 0.04607099, 0.05425823,\n",
      "       0.04637903, 0.0476833 , 0.04011935]),\n",
      " 'mean_test_score': array([0.68675385, 0.68782749, 0.68813003, 0.68814998, 0.68815127,\n",
      "       0.68815128, 0.68815131, 0.68815129]),\n",
      " 'mean_train_score': array([0.68741683, 0.68844141, 0.68868085, 0.68868879, 0.68868906,\n",
      "       0.68868914, 0.68868913, 0.68868913]),\n",
      " 'param_C': masked_array(data=[0.01, 0.1, 1.0, 10.0, 100.0, 1000.0, 10000.0, 100000.0],\n",
      "             mask=[False, False, False, False, False, False, False, False],\n",
      "       fill_value='?',\n",
      "            dtype=object),\n",
      " 'params': [{'C': 0.01},\n",
      "            {'C': 0.1},\n",
      "            {'C': 1.0},\n",
      "            {'C': 10.0},\n",
      "            {'C': 100.0},\n",
      "            {'C': 1000.0},\n",
      "            {'C': 10000.0},\n",
      "            {'C': 100000.0}],\n",
      " 'rank_test_score': array([8, 7, 6, 5, 4, 3, 1, 2], dtype=int32),\n",
      " 'split0_test_score': array([0.6875686 , 0.68852682, 0.68875559, 0.68877045, 0.68877025,\n",
      "       0.68876999, 0.68877007, 0.68877006]),\n",
      " 'split0_train_score': array([0.68709429, 0.68811236, 0.68830688, 0.68830709, 0.68830704,\n",
      "       0.688307  , 0.68830695, 0.68830694]),\n",
      " 'split1_test_score': array([0.68833495, 0.68948963, 0.68989244, 0.68992319, 0.68992636,\n",
      "       0.68992668, 0.68992668, 0.68992669]),\n",
      " 'split1_train_score': array([0.6868357 , 0.68782096, 0.68809091, 0.68810805, 0.6881093 ,\n",
      "       0.68810951, 0.68810953, 0.68810953]),\n",
      " 'split2_test_score': array([0.68265636, 0.68378984, 0.68411861, 0.68414445, 0.68414621,\n",
      "       0.68414624, 0.68414636, 0.68414632]),\n",
      " 'split2_train_score': array([0.68874998, 0.68981337, 0.69007042, 0.69007795, 0.69007795,\n",
      "       0.69007804, 0.69007805, 0.69007808]),\n",
      " 'split3_test_score': array([0.68845545, 0.68950365, 0.68975344, 0.68976177, 0.68976221,\n",
      "       0.68976217, 0.6897621 , 0.68976205]),\n",
      " 'split3_train_score': array([0.68698734, 0.68801894, 0.68825519, 0.68826207, 0.68826194,\n",
      "       0.68826199, 0.68826199, 0.68826199]),\n",
      " 'std_fit_time': array([0.54744458, 0.27708473, 0.56765875, 0.59969626, 0.72074632,\n",
      "       0.61999236, 0.60831036, 0.75722729]),\n",
      " 'std_score_time': array([0.01967864, 0.00757488, 0.02448808, 0.00351912, 0.01234346,\n",
      "       0.00175183, 0.00534543, 0.0167326 ]),\n",
      " 'std_test_score': array([0.00239   , 0.00236452, 0.00235713, 0.00235432, 0.00235423,\n",
      "       0.00235425, 0.00235419, 0.00235421]),\n",
      " 'std_train_score': array([0.00077516, 0.00079906, 0.00080622, 0.00080542, 0.00080522,\n",
      "       0.00080521, 0.00080523, 0.00080524])}\n",
      "Best Model Parameters: {'C': 10000.0}\n",
      "Best Model Score: 0.6882\n"
     ]
    }
   ],
   "source": [
    "parameters = {\n",
    "    'C': np.logspace(-2, 5, 8)\n",
    "}\n",
    "grid_searcher(LogisticRegression(), train, target, parameters=parameters)"
   ]
  },
  {
   "cell_type": "code",
   "execution_count": 64,
   "metadata": {},
   "outputs": [
    {
     "data": {
      "text/plain": [
       "Text(0,0.5,'AUC Score')"
      ]
     },
     "execution_count": 64,
     "metadata": {},
     "output_type": "execute_result"
    },
    {
     "data": {
      "image/png": "[encoded data removed]",
      "text/plain": [
       "<Figure size 432x288 with 1 Axes>"
      ]
     },
     "metadata": {},
     "output_type": "display_data"
    }
   ],
   "source": [
    "x = range(-2, 6)\n",
    "logreg_AUC_means = [0.68675385, 0.68782749, 0.68813003, 0.68814998, 0.68815127,\n",
    "       0.68815128, 0.68815131, 0.68815129]\n",
    "plt.scatter(x=x, y=logreg_AUC_means)\n",
    "plt.title('Logistic Regression AUC over C')\n",
    "plt.xlabel('C Base')\n",
    "plt.ylabel('AUC Score')"
   ]
  },
  {
   "cell_type": "markdown",
   "metadata": {},
   "source": [
    "C with 1,000 and 10,000 are just marginally better than 100 so sticking with 100."
   ]
  },
  {
   "cell_type": "code",
   "execution_count": 65,
   "metadata": {},
   "outputs": [
    {
     "name": "stdout",
     "output_type": "stream",
     "text": [
      "Seconds to start: 0.00\n",
      "Seconds to fit: 5.19\n",
      "CV Score : Mean - 0.688 | Std - 0.002 | Min - 0.686 | Max - 0.691\n",
      "Seconds to CV: 30.28\n"
     ]
    }
   ],
   "source": [
    "model = LogisticRegression(C=100)\n",
    "\n",
    "model_fit(model, train, target)"
   ]
  },
  {
   "cell_type": "markdown",
   "metadata": {},
   "source": [
    "## KNN"
   ]
  },
  {
   "cell_type": "code",
   "execution_count": 82,
   "metadata": {},
   "outputs": [
    {
     "name": "stdout",
     "output_type": "stream",
     "text": [
      "Seconds to start: 0.00\n",
      "Seconds to fit: 0.30\n",
      "Grid Scores: \n",
      "\n",
      "{'mean_fit_time': array([0.00845522]),\n",
      " 'mean_score_time': array([0.02241725]),\n",
      " 'mean_test_score': array([0.52674497]),\n",
      " 'mean_train_score': array([0.90104145]),\n",
      " 'params': [{}],\n",
      " 'rank_test_score': array([1], dtype=int32),\n",
      " 'split0_test_score': array([0.55293276]),\n",
      " 'split0_train_score': array([0.89595519]),\n",
      " 'split1_test_score': array([0.47627563]),\n",
      " 'split1_train_score': array([0.90339091]),\n",
      " 'split2_test_score': array([0.53815923]),\n",
      " 'split2_train_score': array([0.90639023]),\n",
      " 'split3_test_score': array([0.5398073]),\n",
      " 'split3_train_score': array([0.89842948]),\n",
      " 'std_fit_time': array([0.00098422]),\n",
      " 'std_score_time': array([0.0018546]),\n",
      " 'std_test_score': array([0.02977244]),\n",
      " 'std_train_score': array([0.00408723])}\n",
      "Best Model Parameters: {}\n",
      "Best Model Score: 0.5267\n"
     ]
    }
   ],
   "source": [
    "parameters = {}\n",
    "grid_searcher(KNeighborsClassifier(), train[:1000], target[:1000], parameters=parameters)"
   ]
  },
  {
   "cell_type": "code",
   "execution_count": 80,
   "metadata": {},
   "outputs": [
    {
     "name": "stdout",
     "output_type": "stream",
     "text": [
      "Seconds to start: 0.00\n",
      "Seconds to fit: 13.98\n",
      "Grid Scores: \n",
      "\n",
      "{'mean_fit_time': array([0.03860927]),\n",
      " 'mean_score_time': array([3.47560292]),\n",
      " 'mean_test_score': array([0.55925109]),\n",
      " 'mean_train_score': array([0.90473996]),\n",
      " 'params': [{}],\n",
      " 'rank_test_score': array([1], dtype=int32),\n",
      " 'split0_test_score': array([0.57021548]),\n",
      " 'split0_train_score': array([0.90351992]),\n",
      " 'split1_test_score': array([0.55509719]),\n",
      " 'split1_train_score': array([0.90815545]),\n",
      " 'split2_test_score': array([0.55631544]),\n",
      " 'split2_train_score': array([0.90518849]),\n",
      " 'split3_test_score': array([0.55537031]),\n",
      " 'split3_train_score': array([0.902096]),\n",
      " 'std_fit_time': array([0.00539002]),\n",
      " 'std_score_time': array([0.10222352]),\n",
      " 'std_test_score': array([0.0063481]),\n",
      " 'std_train_score': array([0.00225531])}\n",
      "Best Model Parameters: {}\n",
      "Best Model Score: 0.5593\n"
     ]
    }
   ],
   "source": [
    "parameters = {}\n",
    "grid_searcher(KNeighborsClassifier(), train[:10000], target[:10000], parameters=parameters)"
   ]
  },
  {
   "cell_type": "code",
   "execution_count": 81,
   "metadata": {},
   "outputs": [
    {
     "name": "stdout",
     "output_type": "stream",
     "text": [
      "Seconds to start: 0.00\n",
      "Seconds to fit: 250.46\n",
      "Grid Scores: \n",
      "\n",
      "{'mean_fit_time': array([0.25517172]),\n",
      " 'mean_score_time': array([64.12995625]),\n",
      " 'mean_test_score': array([0.55795376]),\n",
      " 'mean_train_score': array([0.899545]),\n",
      " 'params': [{}],\n",
      " 'rank_test_score': array([1], dtype=int32),\n",
      " 'split0_test_score': array([0.55891313]),\n",
      " 'split0_train_score': array([0.89847673]),\n",
      " 'split1_test_score': array([0.54330993]),\n",
      " 'split1_train_score': array([0.89891288]),\n",
      " 'split2_test_score': array([0.56728112]),\n",
      " 'split2_train_score': array([0.89845786]),\n",
      " 'split3_test_score': array([0.56231306]),\n",
      " 'split3_train_score': array([0.90233251]),\n",
      " 'std_fit_time': array([0.01521097]),\n",
      " 'std_score_time': array([2.42269303]),\n",
      " 'std_test_score': array([0.00896345]),\n",
      " 'std_train_score': array([0.00161963])}\n",
      "Best Model Parameters: {}\n",
      "Best Model Score: 0.5580\n"
     ]
    }
   ],
   "source": [
    "parameters = {}\n",
    "grid_searcher(KNeighborsClassifier(), train[:50000], target[:50000], parameters=parameters)"
   ]
  },
  {
   "cell_type": "markdown",
   "metadata": {},
   "source": [
    "---\n",
    "\n",
    "Training time is increasing by n^2 - the whole dataset of 300k would take ~9000 seconds to train locally (2.5 hours). Not worth it if it can't even tickle ~0.6 AUC. I'll gridsearch on a subset of data later (just 30k instead of the 50k above).\n",
    "\n",
    "---"
   ]
  },
  {
   "cell_type": "code",
   "execution_count": 92,
   "metadata": {},
   "outputs": [
    {
     "name": "stdout",
     "output_type": "stream",
     "text": [
      "Seconds to start: 0.00\n",
      "Seconds to fit: 529.45\n",
      "Grid Scores: \n",
      "\n",
      "{'mean_fit_time': array([0.14385247, 0.12380219, 0.11354631, 0.11212033, 0.1148473 ]),\n",
      " 'mean_score_time': array([23.35089755, 25.75460583, 27.42709237, 28.14374775, 29.16809601]),\n",
      " 'mean_test_score': array([0.54479748, 0.57184604, 0.5852932 , 0.59513264, 0.60120883]),\n",
      " 'mean_train_score': array([0.94035583, 0.8690169 , 0.82673626, 0.80059894, 0.78296345]),\n",
      " 'param_n_neighbors': masked_array(data=[3, 7, 11, 15, 19],\n",
      "             mask=[False, False, False, False, False],\n",
      "       fill_value='?',\n",
      "            dtype=object),\n",
      " 'params': [{'n_neighbors': 3},\n",
      "            {'n_neighbors': 7},\n",
      "            {'n_neighbors': 11},\n",
      "            {'n_neighbors': 15},\n",
      "            {'n_neighbors': 19}],\n",
      " 'rank_test_score': array([5, 4, 3, 2, 1], dtype=int32),\n",
      " 'split0_test_score': array([0.54261571, 0.55548418, 0.57401941, 0.58244802, 0.58998957]),\n",
      " 'split0_train_score': array([0.93969433, 0.87007617, 0.82979798, 0.80355858, 0.78675149]),\n",
      " 'split1_test_score': array([0.53699194, 0.56020155, 0.5706691 , 0.57615073, 0.58371815]),\n",
      " 'split1_train_score': array([0.94111209, 0.87204289, 0.83036759, 0.80555943, 0.78718088]),\n",
      " 'split2_test_score': array([0.55020339, 0.5837362 , 0.5943001 , 0.61050956, 0.61640083]),\n",
      " 'split2_train_score': array([0.94059543, 0.86948237, 0.82389669, 0.79745345, 0.77934554]),\n",
      " 'split3_test_score': array([0.54937946, 0.58796433, 0.60218637, 0.61142436, 0.61472853]),\n",
      " 'split3_train_score': array([0.94002145, 0.86446617, 0.82288277, 0.79582429, 0.7785759 ]),\n",
      " 'std_fit_time': array([0.02816388, 0.00122808, 0.00171068, 0.00253476, 0.00291297]),\n",
      " 'std_score_time': array([0.64849128, 0.53599606, 0.45203461, 0.46793727, 0.43758418]),\n",
      " 'std_test_score': array([0.00538298, 0.01418161, 0.01329899, 0.01599282, 0.0145377 ]),\n",
      " 'std_train_score': array([0.00054284, 0.00279305, 0.00337169, 0.00406378, 0.00401484])}\n",
      "Best Model Parameters: {'n_neighbors': 19}\n",
      "Best Model Score: 0.6012\n"
     ]
    }
   ],
   "source": [
    "x_train, y_train, x_test, y_test = train_test_split(train, target,test_size=0.9, random_state=42)\n",
    "\n",
    "parameters = {\n",
    "    'n_neighbors': range(3, 20, 4)\n",
    "}\n",
    "grid_searcher(KNeighborsClassifier(), x_train, x_test, parameters=parameters)"
   ]
  },
  {
   "cell_type": "markdown",
   "metadata": {},
   "source": [
    "---\n",
    "\n",
    "0.6 AUC achieved. Go a little further before moving onto Random Forest.\n",
    "\n",
    "---"
   ]
  },
  {
   "cell_type": "code",
   "execution_count": 95,
   "metadata": {},
   "outputs": [
    {
     "name": "stdout",
     "output_type": "stream",
     "text": [
      "Seconds to start: 0.00\n",
      "Seconds to fit: 780.18\n",
      "Grid Scores: \n",
      "\n",
      "{'mean_fit_time': array([0.13688499, 0.11805701, 0.11368102, 0.11555791, 0.11695671,\n",
      "       0.16096228]),\n",
      " 'mean_score_time': array([30.27679992, 30.14938778, 33.44042993, 33.92674637, 34.22200781,\n",
      "       34.94614708]),\n",
      " 'mean_test_score': array([0.60120883, 0.60896516, 0.61627274, 0.62263232, 0.63040065,\n",
      "       0.63615329]),\n",
      " 'mean_train_score': array([0.78296345, 0.77062483, 0.76191558, 0.75613101, 0.7504163 ,\n",
      "       0.74531885]),\n",
      " 'param_n_neighbors': masked_array(data=[19, 23, 27, 31, 35, 39],\n",
      "             mask=[False, False, False, False, False, False],\n",
      "       fill_value='?',\n",
      "            dtype=object),\n",
      " 'params': [{'n_neighbors': 19},\n",
      "            {'n_neighbors': 23},\n",
      "            {'n_neighbors': 27},\n",
      "            {'n_neighbors': 31},\n",
      "            {'n_neighbors': 35},\n",
      "            {'n_neighbors': 39}],\n",
      " 'rank_test_score': array([6, 5, 4, 3, 2, 1], dtype=int32),\n",
      " 'split0_test_score': array([0.58998957, 0.60165653, 0.60509818, 0.6064078 , 0.61341832,\n",
      "       0.6201391 ]),\n",
      " 'split0_train_score': array([0.78675149, 0.77506358, 0.76466305, 0.7615273 , 0.7570028 ,\n",
      "       0.75370299]),\n",
      " 'split1_test_score': array([0.58371815, 0.5924061 , 0.61643706, 0.62292052, 0.62946223,\n",
      "       0.63271339]),\n",
      " 'split1_train_score': array([0.78718088, 0.77750564, 0.76770591, 0.76083456, 0.75254584,\n",
      "       0.74513025]),\n",
      " 'split2_test_score': array([0.61640083, 0.61895204, 0.62350747, 0.63401602, 0.64303939,\n",
      "       0.64824806]),\n",
      " 'split2_train_score': array([0.77934554, 0.76264096, 0.75726873, 0.7492365 , 0.74604451,\n",
      "       0.74045787]),\n",
      " 'split3_test_score': array([0.61472853, 0.62284781, 0.62004875, 0.62718552, 0.63568337,\n",
      "       0.64351355]),\n",
      " 'split3_train_score': array([0.7785759 , 0.76728913, 0.75802463, 0.75292568, 0.74607205,\n",
      "       0.74198428]),\n",
      " 'std_fit_time': array([0.00866877, 0.00681799, 0.00611134, 0.00909285, 0.00637869,\n",
      "       0.036199  ]),\n",
      " 'std_score_time': array([0.42313498, 0.453842  , 0.31814402, 0.43272336, 0.32969642,\n",
      "       0.51384315]),\n",
      " 'std_test_score': array([0.0145377 , 0.0124507 , 0.00691921, 0.01016918, 0.01091944,\n",
      "       0.01082534]),\n",
      " 'std_train_score': array([0.00401484, 0.00595645, 0.00441048, 0.00522139, 0.00463417,\n",
      "       0.00512537])}\n",
      "Best Model Parameters: {'n_neighbors': 39}\n",
      "Best Model Score: 0.6362\n"
     ]
    }
   ],
   "source": [
    "parameters = {\n",
    "    'n_neighbors': range(19, 40, 4)\n",
    "}\n",
    "grid_searcher(KNeighborsClassifier(), x_train, x_test, parameters=parameters)"
   ]
  },
  {
   "cell_type": "markdown",
   "metadata": {},
   "source": [
    "---\n",
    "\n",
    "Hmmm....see how much further this can go...\n",
    "\n",
    "---"
   ]
  },
  {
   "cell_type": "code",
   "execution_count": 97,
   "metadata": {},
   "outputs": [
    {
     "name": "stdout",
     "output_type": "stream",
     "text": [
      "Seconds to start: 0.00\n",
      "Seconds to fit: 295.30\n",
      "Grid Scores: \n",
      "\n",
      "{'mean_fit_time': array([0.13802606, 0.14722174]),\n",
      " 'mean_score_time': array([37.02309197, 37.94940591]),\n",
      " 'mean_test_score': array([0.63783752, 0.64099169]),\n",
      " 'mean_train_score': array([0.73386181, 0.72569142]),\n",
      " 'param_n_neighbors': masked_array(data=[50, 60],\n",
      "             mask=[False, False],\n",
      "       fill_value='?',\n",
      "            dtype=object),\n",
      " 'params': [{'n_neighbors': 50}, {'n_neighbors': 60}],\n",
      " 'rank_test_score': array([2, 1], dtype=int32),\n",
      " 'split0_test_score': array([0.6208874, 0.623075 ]),\n",
      " 'split0_train_score': array([0.74124953, 0.73368386]),\n",
      " 'split1_test_score': array([0.63690405, 0.6394443 ]),\n",
      " 'split1_train_score': array([0.73497644, 0.72808635]),\n",
      " 'split2_test_score': array([0.65288993, 0.65484452]),\n",
      " 'split2_train_score': array([0.72698929, 0.71750481]),\n",
      " 'split3_test_score': array([0.64066905, 0.64660368]),\n",
      " 'split3_train_score': array([0.73223196, 0.72349067]),\n",
      " 'std_fit_time': array([0.02070816, 0.01507383]),\n",
      " 'std_score_time': array([0.51365445, 0.2423046 ]),\n",
      " 'std_test_score': array([0.01143226, 0.011692  ]),\n",
      " 'std_train_score': array([0.00514074, 0.00594724])}\n",
      "Best Model Parameters: {'n_neighbors': 60}\n",
      "Best Model Score: 0.6410\n"
     ]
    }
   ],
   "source": [
    "parameters = {\n",
    "    'n_neighbors': [50, 60]\n",
    "}\n",
    "grid_searcher(KNeighborsClassifier(), x_train, x_test, parameters=parameters)"
   ]
  },
  {
   "cell_type": "code",
   "execution_count": 98,
   "metadata": {},
   "outputs": [
    {
     "name": "stdout",
     "output_type": "stream",
     "text": [
      "Seconds to start: 0.00\n",
      "Seconds to fit: 301.32\n",
      "Grid Scores: \n",
      "\n",
      "{'mean_fit_time': array([0.13332397, 0.12818938]),\n",
      " 'mean_score_time': array([38.5567435 , 35.97088635]),\n",
      " 'mean_test_score': array([0.64338975, 0.64766161]),\n",
      " 'mean_train_score': array([0.7124254 , 0.70654365]),\n",
      " 'param_n_neighbors': masked_array(data=[80, 100],\n",
      "             mask=[False, False],\n",
      "       fill_value='?',\n",
      "            dtype=object),\n",
      " 'params': [{'n_neighbors': 80}, {'n_neighbors': 100}],\n",
      " 'rank_test_score': array([2, 1], dtype=int32),\n",
      " 'split0_test_score': array([0.6236616 , 0.62384183]),\n",
      " 'split0_train_score': array([0.72169498, 0.71548974]),\n",
      " 'split1_test_score': array([0.63679022, 0.64489122]),\n",
      " 'split1_train_score': array([0.71224388, 0.70842726]),\n",
      " 'split2_test_score': array([0.6557105 , 0.66277531]),\n",
      " 'split2_train_score': array([0.70672402, 0.6987411 ]),\n",
      " 'split3_test_score': array([0.6573985 , 0.65913955]),\n",
      " 'split3_train_score': array([0.70903874, 0.70351649]),\n",
      " 'std_fit_time': array([0.01960268, 0.01434934]),\n",
      " 'std_score_time': array([0.43151116, 0.36178901]),\n",
      " 'std_test_score': array([0.01397139, 0.01529082]),\n",
      " 'std_train_score': array([0.00569941, 0.00619726])}\n",
      "Best Model Parameters: {'n_neighbors': 100}\n",
      "Best Model Score: 0.6477\n"
     ]
    }
   ],
   "source": [
    "parameters = {\n",
    "    'n_neighbors': [80, 100]\n",
    "}\n",
    "grid_searcher(KNeighborsClassifier(), x_train, x_test, parameters=parameters)"
   ]
  },
  {
   "cell_type": "code",
   "execution_count": 100,
   "metadata": {},
   "outputs": [
    {
     "name": "stdout",
     "output_type": "stream",
     "text": [
      "Seconds to start: 0.00\n",
      "Seconds to fit: 631.65\n",
      "Grid Scores: \n",
      "\n",
      "{'mean_fit_time': array([0.1325593 , 0.13325483, 0.11910671, 0.12345225]),\n",
      " 'mean_score_time': array([35.31970727, 36.95936239, 37.04843122, 37.57638675]),\n",
      " 'mean_test_score': array([0.65137785, 0.65149116, 0.65325445, 0.6551905 ]),\n",
      " 'mean_train_score': array([0.69928784, 0.69407967, 0.6912033 , 0.68840554]),\n",
      " 'param_n_neighbors': masked_array(data=[125, 150, 175, 200],\n",
      "             mask=[False, False, False, False],\n",
      "       fill_value='?',\n",
      "            dtype=object),\n",
      " 'params': [{'n_neighbors': 125},\n",
      "            {'n_neighbors': 150},\n",
      "            {'n_neighbors': 175},\n",
      "            {'n_neighbors': 200}],\n",
      " 'rank_test_score': array([4, 3, 2, 1], dtype=int32),\n",
      " 'split0_test_score': array([0.62910782, 0.62703579, 0.62839225, 0.62880188]),\n",
      " 'split0_train_score': array([0.70786338, 0.70223947, 0.69951348, 0.69663934]),\n",
      " 'split1_test_score': array([0.6472763 , 0.64666197, 0.6470314 , 0.65078563]),\n",
      " 'split1_train_score': array([0.70111144, 0.69486535, 0.69340901, 0.69074438]),\n",
      " 'split2_test_score': array([0.66257667, 0.66403624, 0.66820697, 0.67084928]),\n",
      " 'split2_train_score': array([0.69202666, 0.6875559 , 0.68442981, 0.68258279]),\n",
      " 'split3_test_score': array([0.66655259, 0.66823282, 0.66938929, 0.67032716]),\n",
      " 'split3_train_score': array([0.69614988, 0.69165796, 0.68746091, 0.68365563]),\n",
      " 'std_fit_time': array([0.01297456, 0.00922991, 0.00769573, 0.0125917 ]),\n",
      " 'std_score_time': array([0.39652549, 0.2331817 , 0.34733795, 0.31564066]),\n",
      " 'std_test_score': array([0.01473484, 0.01627149, 0.01688764, 0.01724882]),\n",
      " 'std_train_score': array([0.00590417, 0.00537643, 0.00578381, 0.00569499])}\n",
      "Best Model Parameters: {'n_neighbors': 200}\n",
      "Best Model Score: 0.6552\n"
     ]
    }
   ],
   "source": [
    "parameters = {\n",
    "    'n_neighbors': range(125, 201, 25)\n",
    "}\n",
    "grid_searcher(KNeighborsClassifier(), x_train, x_test, parameters=parameters)"
   ]
  },
  {
   "cell_type": "code",
   "execution_count": 101,
   "metadata": {},
   "outputs": [
    {
     "name": "stdout",
     "output_type": "stream",
     "text": [
      "Seconds to start: 0.00\n",
      "Seconds to fit: 872.22\n",
      "Grid Scores: \n",
      "\n",
      "{'mean_fit_time': array([0.14175755, 0.12903881, 0.12424058, 0.15267181, 0.16963798]),\n",
      " 'mean_score_time': array([43.57783151, 47.51412475, 41.36088622, 47.48112595, 47.85628557]),\n",
      " 'mean_test_score': array([0.6551905 , 0.65488796, 0.65824526, 0.65794263, 0.65905535]),\n",
      " 'mean_train_score': array([0.68840554, 0.68405795, 0.68213119, 0.68059386, 0.67906348]),\n",
      " 'param_n_neighbors': masked_array(data=[200, 250, 300, 350, 400],\n",
      "             mask=[False, False, False, False, False],\n",
      "       fill_value='?',\n",
      "            dtype=object),\n",
      " 'params': [{'n_neighbors': 200},\n",
      "            {'n_neighbors': 250},\n",
      "            {'n_neighbors': 300},\n",
      "            {'n_neighbors': 350},\n",
      "            {'n_neighbors': 400}],\n",
      " 'rank_test_score': array([4, 5, 2, 3, 1], dtype=int32),\n",
      " 'split0_test_score': array([0.62880188, 0.62885943, 0.62856922, 0.62816682, 0.63044517]),\n",
      " 'split0_train_score': array([0.69663934, 0.69091696, 0.69076239, 0.69094394, 0.68928905]),\n",
      " 'split1_test_score': array([0.65078563, 0.64560248, 0.65041002, 0.65265494, 0.65370884]),\n",
      " 'split1_train_score': array([0.69074438, 0.68750415, 0.68513306, 0.68201727, 0.67959917]),\n",
      " 'split2_test_score': array([0.67084928, 0.67338872, 0.67855231, 0.67586665, 0.67555279]),\n",
      " 'split2_train_score': array([0.68258279, 0.67786818, 0.67547465, 0.67474523, 0.67435065]),\n",
      " 'split3_test_score': array([0.67032716, 0.67170339, 0.67545174, 0.67508435, 0.67651685]),\n",
      " 'split3_train_score': array([0.68365563, 0.67994251, 0.67715467, 0.674669  , 0.67301504]),\n",
      " 'std_fit_time': array([0.01754913, 0.01028118, 0.02644259, 0.03526471, 0.05812457]),\n",
      " 'std_score_time': array([0.26806977, 0.28127428, 0.30374312, 0.32609097, 0.39461531]),\n",
      " 'std_test_score': array([0.01724882, 0.01863297, 0.02031325, 0.01955556, 0.01886931]),\n",
      " 'std_train_score': array([0.00569499, 0.00534257, 0.00617625, 0.00667946, 0.00639616])}\n",
      "Best Model Parameters: {'n_neighbors': 400}\n",
      "Best Model Score: 0.6591\n"
     ]
    }
   ],
   "source": [
    "parameters = {\n",
    "    'n_neighbors': range(200, 401, 50)\n",
    "}\n",
    "grid_searcher(KNeighborsClassifier(), x_train, x_test, parameters=parameters)"
   ]
  },
  {
   "cell_type": "markdown",
   "metadata": {},
   "source": [
    "**Note***, Timings for the block below are not valid, operation was interupted."
   ]
  },
  {
   "cell_type": "code",
   "execution_count": 102,
   "metadata": {},
   "outputs": [
    {
     "name": "stdout",
     "output_type": "stream",
     "text": [
      "Seconds to start: 0.00\n",
      "Seconds to fit: 5543.41\n",
      "Grid Scores: \n",
      "\n",
      "{'mean_fit_time': array([0.13964373, 0.11477357, 0.10823256]),\n",
      " 'mean_score_time': array([39.60221505, 39.26024419, 40.91284329]),\n",
      " 'mean_test_score': array([0.65905535, 0.66007587, 0.66221001]),\n",
      " 'mean_train_score': array([0.67906348, 0.67673292, 0.67583827]),\n",
      " 'param_n_neighbors': masked_array(data=[400, 500, 600],\n",
      "             mask=[False, False, False],\n",
      "       fill_value='?',\n",
      "            dtype=object),\n",
      " 'params': [{'n_neighbors': 400}, {'n_neighbors': 500}, {'n_neighbors': 600}],\n",
      " 'rank_test_score': array([3, 2, 1], dtype=int32),\n",
      " 'split0_test_score': array([0.63044517, 0.63049399, 0.63413369]),\n",
      " 'split0_train_score': array([0.68928905, 0.68701126, 0.68536271]),\n",
      " 'split1_test_score': array([0.65370884, 0.65648886, 0.65503314]),\n",
      " 'split1_train_score': array([0.67959917, 0.67696626, 0.67786309]),\n",
      " 'split2_test_score': array([0.67555279, 0.67580712, 0.68110538]),\n",
      " 'split2_train_score': array([0.67435065, 0.67309981, 0.6707361 ]),\n",
      " 'split3_test_score': array([0.67651685, 0.67751579, 0.67856995]),\n",
      " 'split3_train_score': array([0.67301504, 0.66985434, 0.66939117]),\n",
      " 'std_fit_time': array([0.01637122, 0.00997794, 0.01056285]),\n",
      " 'std_score_time': array([0.26713609, 0.03897321, 0.401473  ]),\n",
      " 'std_test_score': array([0.01886931, 0.01897093, 0.01913428]),\n",
      " 'std_train_score': array([0.00639616, 0.00644618, 0.00637205])}\n",
      "Best Model Parameters: {'n_neighbors': 600}\n",
      "Best Model Score: 0.6622\n"
     ]
    }
   ],
   "source": [
    "parameters = {\n",
    "    'n_neighbors': [400, 500, 600]\n",
    "}\n",
    "grid_searcher(KNeighborsClassifier(), x_train, x_test, parameters=parameters)"
   ]
  },
  {
   "cell_type": "code",
   "execution_count": 6,
   "metadata": {},
   "outputs": [
    {
     "data": {
      "text/plain": [
       "Text(0,0.5,'AUC Score')"
      ]
     },
     "execution_count": 6,
     "metadata": {},
     "output_type": "execute_result"
    },
    {
     "data": {
      "image/png": "[encoded data removed]",
      "text/plain": [
       "<Figure size 432x288 with 1 Axes>"
      ]
     },
     "metadata": {},
     "output_type": "display_data"
    }
   ],
   "source": [
    "x = [3, 7, 11, 15, 19, 19, 23, 27, 31, 35, 39, 50, 60, 80, 100, 125, 150, 175, 200, 200, 250, 300, 350, 400, 400, 500, 600]\n",
    "knn_AUC_means = [0.54479748, 0.57184604, 0.5852932 , 0.59513264, 0.60120883, 0.60120883, 0.60896516, 0.61627274, 0.62263232, 0.63040065,\n",
    "       0.63615329, 0.63783752, 0.64099169, 0.64338975, 0.64766161, 0.65137785, 0.65149116, 0.65325445, 0.6551905, 0.6551905 , 0.65488796, 0.65824526, 0.65794263, 0.6590553, 0.65905535, 0.66007587, 0.66221001]\n",
    "plt.scatter(x=x, y=knn_AUC_means)\n",
    "plt.title('KNN AUC over N-Neighbors')\n",
    "plt.xlabel('N Neighbors')\n",
    "plt.ylabel('AUC Score')"
   ]
  },
  {
   "cell_type": "markdown",
   "metadata": {},
   "source": [
    "---\n",
    "\n",
    "For n_neighbors, could pick either 200 or the range 40-50. Going for 200 for that sweet sweet AUC.\n",
    "\n",
    "Check final KNN model with model_fit function and 1/3 of total available training data instead of 1/10. \n",
    "Hoping to achieve ~0.66 AUC\n",
    "\n",
    "---"
   ]
  },
  {
   "cell_type": "code",
   "execution_count": 10,
   "metadata": {},
   "outputs": [
    {
     "name": "stdout",
     "output_type": "stream",
     "text": [
      "Seconds to start: 0.00\n",
      "Seconds to fit: 0.39\n",
      "CV Score : Mean - 0.662 | Std - 0.005 | Min - 0.655 | Max - 0.670\n",
      "Seconds to CV: 987.14\n"
     ]
    }
   ],
   "source": [
    "x_train, y_train, x_test, y_test = train_test_split(train, target,test_size=2/3, random_state=42)\n",
    "\n",
    "model = KNeighborsClassifier(n_neighbors=200)\n",
    "model_fit(model, x_train, x_test)"
   ]
  },
  {
   "cell_type": "markdown",
   "metadata": {},
   "source": [
    "---\n",
    "\n",
    "Huzzah! AUC of 0.662 w/ k=200. Done with KNN now. It was much closer to logistic regression than I had first anticipated.\n",
    "\n",
    "---"
   ]
  },
  {
   "cell_type": "markdown",
   "metadata": {},
   "source": [
    "## Random Forest"
   ]
  },
  {
   "cell_type": "markdown",
   "metadata": {},
   "source": [
    "### Data"
   ]
  },
  {
   "cell_type": "markdown",
   "metadata": {},
   "source": [
    "Here I'll be working with a dataset 1/5 of the total training set; verifying last AUC with more data in the end with model_fit."
   ]
  },
  {
   "cell_type": "code",
   "execution_count": 19,
   "metadata": {},
   "outputs": [],
   "source": [
    "x_train, y_train, x_test, y_test = train_test_split(train, target,test_size=4/5, random_state=42)"
   ]
  },
  {
   "cell_type": "markdown",
   "metadata": {},
   "source": [
    "### Benchmark"
   ]
  },
  {
   "cell_type": "code",
   "execution_count": 53,
   "metadata": {},
   "outputs": [
    {
     "name": "stdout",
     "output_type": "stream",
     "text": [
      "Seconds to start: 0.00\n",
      "Seconds to fit: 36.94\n",
      "CV Score : Mean - 0.590 | Std - 0.006 | Min - 0.583 | Max - 0.598\n",
      "Seconds to CV: 170.66\n"
     ]
    },
    {
     "data": {
      "image/png": "[encoded data removed]",
      "text/plain": [
       "<Figure size 432x288 with 1 Axes>"
      ]
     },
     "metadata": {},
     "output_type": "display_data"
    }
   ],
   "source": [
    "model = RandomForestClassifier()\n",
    "\n",
    "model_fit(model, train, target, feature_importance=True)"
   ]
  },
  {
   "cell_type": "markdown",
   "metadata": {},
   "source": [
    "---\n",
    "### n_estimators"
   ]
  },
  {
   "cell_type": "code",
   "execution_count": 20,
   "metadata": {},
   "outputs": [
    {
     "name": "stdout",
     "output_type": "stream",
     "text": [
      "Seconds to start: 0.00\n",
      "Seconds to fit: 85.40\n",
      "Grid Scores: \n",
      "\n",
      "{'mean_fit_time': array([ 2.41849893,  5.78911066,  9.27150947, 12.4912101 , 18.31551629,\n",
      "       21.91529477]),\n",
      " 'mean_score_time': array([0.038697  , 0.05975473, 0.09324604, 0.11985546, 0.16689324,\n",
      "       0.18642569]),\n",
      " 'mean_test_score': array([0.66541025, 0.67292908, 0.67538656, 0.67637215, 0.67591569,\n",
      "       0.67562305]),\n",
      " 'mean_train_score': array([0.71862691, 0.72924253, 0.73291748, 0.73430775, 0.73499939,\n",
      "       0.73517863]),\n",
      " 'param_n_estimators': masked_array(data=[10, 25, 40, 55, 70, 85],\n",
      "             mask=[False, False, False, False, False, False],\n",
      "       fill_value='?',\n",
      "            dtype=object),\n",
      " 'params': [{'n_estimators': 10},\n",
      "            {'n_estimators': 25},\n",
      "            {'n_estimators': 40},\n",
      "            {'n_estimators': 55},\n",
      "            {'n_estimators': 70},\n",
      "            {'n_estimators': 85}],\n",
      " 'rank_test_score': array([6, 5, 4, 1, 2, 3], dtype=int32),\n",
      " 'split0_test_score': array([0.67300514, 0.67942708, 0.67925434, 0.68016705, 0.6791127 ,\n",
      "       0.67889138]),\n",
      " 'split0_train_score': array([0.7213254 , 0.73042198, 0.7341682 , 0.73561059, 0.73638224,\n",
      "       0.73643834]),\n",
      " 'split1_test_score': array([0.66330107, 0.67059406, 0.67379022, 0.6747851 , 0.67467517,\n",
      "       0.67371412]),\n",
      " 'split1_train_score': array([0.71643981, 0.72996877, 0.73326816, 0.73470874, 0.73512118,\n",
      "       0.73489432]),\n",
      " 'split2_test_score': array([0.65551621, 0.66706255, 0.66961552, 0.66994143, 0.66955644,\n",
      "       0.6696998 ]),\n",
      " 'split2_train_score': array([0.72085361, 0.72949831, 0.73384638, 0.73566232, 0.73622485,\n",
      "       0.73684208]),\n",
      " 'split3_test_score': array([0.66981759, 0.67463177, 0.67888564, 0.68059451, 0.68031802,\n",
      "       0.68018649]),\n",
      " 'split3_train_score': array([0.7158888 , 0.72708105, 0.73038719, 0.73124936, 0.73226928,\n",
      "       0.73253978]),\n",
      " 'std_fit_time': array([0.03402431, 0.05784406, 0.1130611 , 0.09589626, 0.11493309,\n",
      "       0.16721759]),\n",
      " 'std_score_time': array([0.00326239, 0.00221871, 0.00574785, 0.00374278, 0.00952555,\n",
      "       0.02557901]),\n",
      " 'std_test_score': array([0.00669793, 0.00460962, 0.0039704 , 0.00436182, 0.00423023,\n",
      "       0.00419032]),\n",
      " 'std_train_score': array([0.00247592, 0.00128996, 0.00149604, 0.00180602, 0.00164942,\n",
      "       0.00168807])}\n",
      "Best Model Parameters: {'n_estimators': 55}\n",
      "Best Model Score: 0.6764\n"
     ]
    }
   ],
   "source": [
    "parameters = {\n",
    "    'n_estimators': range(10, 86, 15)\n",
    "}\n",
    "\n",
    "model = RandomForestClassifier(\n",
    "    min_samples_split=1000,\n",
    "    min_samples_leaf=50,\n",
    "    max_depth=8,\n",
    "    random_state=42\n",
    ")\n",
    "\n",
    "grid_searcher(model, x_train, x_test, parameters=parameters)"
   ]
  },
  {
   "cell_type": "code",
   "execution_count": 22,
   "metadata": {},
   "outputs": [
    {
     "name": "stdout",
     "output_type": "stream",
     "text": [
      "Seconds to start: 0.00\n",
      "Seconds to fit: 233.71\n",
      "Grid Scores: \n",
      "\n",
      "{'mean_fit_time': array([24.06901354, 32.14482266, 37.79112232, 44.34354621, 47.54860002]),\n",
      " 'mean_score_time': array([0.22121155, 0.27254778, 0.33757973, 0.3910768 , 0.40888357]),\n",
      " 'mean_test_score': array([0.67621946, 0.67623844, 0.67650603, 0.67691156, 0.67702076]),\n",
      " 'mean_train_score': array([0.73559113, 0.73610113, 0.73665369, 0.73714873, 0.73718065]),\n",
      " 'param_n_estimators': masked_array(data=[100, 125, 150, 175, 200],\n",
      "             mask=[False, False, False, False, False],\n",
      "       fill_value='?',\n",
      "            dtype=object),\n",
      " 'params': [{'n_estimators': 100},\n",
      "            {'n_estimators': 125},\n",
      "            {'n_estimators': 150},\n",
      "            {'n_estimators': 175},\n",
      "            {'n_estimators': 200}],\n",
      " 'rank_test_score': array([5, 4, 3, 2, 1], dtype=int32),\n",
      " 'split0_test_score': array([0.67952436, 0.67870042, 0.67970847, 0.68027118, 0.68025873]),\n",
      " 'split0_train_score': array([0.7367492 , 0.73726867, 0.73836452, 0.73858742, 0.73865257]),\n",
      " 'split1_test_score': array([0.67418819, 0.67433263, 0.6744641 , 0.67427658, 0.67433629]),\n",
      " 'split1_train_score': array([0.73536071, 0.7358368 , 0.73610999, 0.73684559, 0.73687721]),\n",
      " 'split2_test_score': array([0.67003857, 0.67067542, 0.6709054 , 0.67128857, 0.67145381]),\n",
      " 'split2_train_score': array([0.73746509, 0.73826479, 0.73847382, 0.73890947, 0.73920113]),\n",
      " 'split3_test_score': array([0.68112629, 0.68124497, 0.68094574, 0.68180949, 0.68203381]),\n",
      " 'split3_train_score': array([0.73278953, 0.73303427, 0.73366644, 0.73425244, 0.73399171]),\n",
      " 'std_fit_time': array([0.09935106, 0.21882335, 0.30236504, 0.08764223, 0.45080537]),\n",
      " 'std_score_time': array([0.00635091, 0.00954494, 0.01939407, 0.01889256, 0.09098472]),\n",
      " 'std_test_score': array([0.00439681, 0.00405292, 0.00404668, 0.00429642, 0.00429568]),\n",
      " 'std_train_score': array([0.0017857 , 0.00196978, 0.0019659 , 0.00184732, 0.00203164])}\n",
      "Best Model Parameters: {'n_estimators': 200}\n",
      "Best Model Score: 0.6770\n"
     ]
    }
   ],
   "source": [
    "parameters = {\n",
    "    'n_estimators': range(100, 201, 25)\n",
    "}\n",
    "\n",
    "model = RandomForestClassifier(\n",
    "    min_samples_split=1000,\n",
    "    min_samples_leaf=50,\n",
    "    max_depth=8,\n",
    "    random_state=42\n",
    ")\n",
    "\n",
    "grid_searcher(model, x_train, x_test, parameters=parameters)"
   ]
  },
  {
   "cell_type": "code",
   "execution_count": 23,
   "metadata": {},
   "outputs": [
    {
     "data": {
      "text/plain": [
       "Text(0,0.5,'AUC Score')"
      ]
     },
     "execution_count": 23,
     "metadata": {},
     "output_type": "execute_result"
    },
    {
     "data": {
      "image/png": "[encoded data removed]",
      "text/plain": [
       "<Figure size 432x288 with 1 Axes>"
      ]
     },
     "metadata": {},
     "output_type": "display_data"
    }
   ],
   "source": [
    "x = [10, 25, 40, 55, 70, 85, 100, 125, 150, 175, 200]\n",
    "rfc_AUC_means = [0.66541025, 0.67292908, 0.67538656, 0.67637215, 0.67591569,\n",
    "       0.67562305, 0.67621946, 0.67623844, 0.67650603, 0.67691156, 0.67702076]\n",
    "\n",
    "plt.scatter(x=x, y=rfc_AUC_means)\n",
    "plt.title('RFC AUC over N-Estimators')\n",
    "plt.xlabel('N Estimators')\n",
    "plt.ylabel('AUC Score')"
   ]
  },
  {
   "cell_type": "markdown",
   "metadata": {},
   "source": [
    "55 trees performed the best, so for the model I'm using 50 trees"
   ]
  },
  {
   "cell_type": "markdown",
   "metadata": {},
   "source": [
    "---\n",
    "### max_depth"
   ]
  },
  {
   "cell_type": "code",
   "execution_count": 28,
   "metadata": {},
   "outputs": [
    {
     "name": "stdout",
     "output_type": "stream",
     "text": [
      "Seconds to start: 0.00\n",
      "Seconds to fit: 55.61\n",
      "Grid Scores: \n",
      "\n",
      "{'mean_fit_time': array([ 9.17154944, 10.44019651, 11.68558347, 11.94682401]),\n",
      " 'mean_score_time': array([0.15450639, 0.0974384 , 0.10815096, 0.11364484]),\n",
      " 'mean_test_score': array([0.66605839, 0.67038921, 0.67375967, 0.67517438]),\n",
      " 'mean_train_score': array([0.69496001, 0.70790343, 0.71817172, 0.72733198]),\n",
      " 'param_max_depth': masked_array(data=[4, 5, 6, 7],\n",
      "             mask=[False, False, False, False],\n",
      "       fill_value='?',\n",
      "            dtype=object),\n",
      " 'params': [{'max_depth': 4},\n",
      "            {'max_depth': 5},\n",
      "            {'max_depth': 6},\n",
      "            {'max_depth': 7}],\n",
      " 'rank_test_score': array([4, 3, 2, 1], dtype=int32),\n",
      " 'split0_test_score': array([0.67074759, 0.67586956, 0.68039061, 0.67797786]),\n",
      " 'split0_train_score': array([0.69597449, 0.70736521, 0.71876886, 0.72828828]),\n",
      " 'split1_test_score': array([0.66328684, 0.66897718, 0.67002497, 0.67282608]),\n",
      " 'split1_train_score': array([0.69584602, 0.70816886, 0.71823738, 0.72635893]),\n",
      " 'split2_test_score': array([0.66239207, 0.6644076 , 0.66841563, 0.67027363]),\n",
      " 'split2_train_score': array([0.69580776, 0.71227112, 0.72177193, 0.72932281]),\n",
      " 'split3_test_score': array([0.66780646, 0.67230179, 0.67620663, 0.67961957]),\n",
      " 'split3_train_score': array([0.69221177, 0.70380854, 0.71390872, 0.72535788]),\n",
      " 'std_fit_time': array([0.16390505, 0.07093484, 0.08537677, 0.06981241]),\n",
      " 'std_score_time': array([0.01938403, 0.00787809, 0.00908175, 0.02685477]),\n",
      " 'std_test_score': array([0.00339739, 0.00422692, 0.00480797, 0.00377989]),\n",
      " 'std_train_score': array([0.0015879 , 0.00300853, 0.00280605, 0.00155899])}\n",
      "Best Model Parameters: {'max_depth': 7}\n",
      "Best Model Score: 0.6752\n"
     ]
    }
   ],
   "source": [
    "parameters = {\n",
    "    'max_depth': range(4, 8)\n",
    "}\n",
    "\n",
    "model = RandomForestClassifier(\n",
    "    n_estimators=50,\n",
    "    min_samples_split=1000,\n",
    "    min_samples_leaf=50,\n",
    "    random_state=42\n",
    ")\n",
    "\n",
    "grid_searcher(model, x_train, x_test, parameters=parameters)"
   ]
  },
  {
   "cell_type": "code",
   "execution_count": 25,
   "metadata": {},
   "outputs": [
    {
     "name": "stdout",
     "output_type": "stream",
     "text": [
      "Seconds to start: 0.00\n",
      "Seconds to fit: 76.31\n",
      "Grid Scores: \n",
      "\n",
      "{'mean_fit_time': array([15.48302126, 12.21226287, 15.59766972, 15.83098853]),\n",
      " 'mean_score_time': array([0.20385128, 0.19473833, 0.1269415 , 0.18710726]),\n",
      " 'mean_test_score': array([0.67641652, 0.67600583, 0.67678109, 0.67799914]),\n",
      " 'mean_train_score': array([0.73391548, 0.73947752, 0.74340755, 0.74532288]),\n",
      " 'param_max_depth': masked_array(data=[8, 9, 10, 11],\n",
      "             mask=[False, False, False, False],\n",
      "       fill_value='?',\n",
      "            dtype=object),\n",
      " 'params': [{'max_depth': 8},\n",
      "            {'max_depth': 9},\n",
      "            {'max_depth': 10},\n",
      "            {'max_depth': 11}],\n",
      " 'rank_test_score': array([3, 4, 2, 1], dtype=int32),\n",
      " 'split0_test_score': array([0.6799588 , 0.67940179, 0.68088464, 0.68011025]),\n",
      " 'split0_train_score': array([0.73455327, 0.74019539, 0.74265995, 0.74504806]),\n",
      " 'split1_test_score': array([0.6751217 , 0.67502914, 0.67563062, 0.67767181]),\n",
      " 'split1_train_score': array([0.73472372, 0.74052457, 0.74386892, 0.74680536]),\n",
      " 'split2_test_score': array([0.66999366, 0.67137333, 0.67018472, 0.6724912 ]),\n",
      " 'split2_train_score': array([0.73504471, 0.74208231, 0.74622937, 0.74619292]),\n",
      " 'split3_test_score': array([0.68059148, 0.67821862, 0.68042384, 0.68172304]),\n",
      " 'split3_train_score': array([0.73134022, 0.73510781, 0.74087197, 0.74324518]),\n",
      " 'std_fit_time': array([0.14630158, 0.17572174, 0.19635519, 0.3102918 ]),\n",
      " 'std_score_time': array([0.01522525, 0.07966478, 0.01128572, 0.04370358]),\n",
      " 'std_test_score': array([0.00426928, 0.00311622, 0.00432851, 0.0034917 ]),\n",
      " 'std_train_score': array([0.00149726, 0.00262159, 0.00194702, 0.00135527])}\n",
      "Best Model Parameters: {'max_depth': 11}\n",
      "Best Model Score: 0.6780\n"
     ]
    }
   ],
   "source": [
    "parameters = {\n",
    "    'max_depth': range(8, 12)\n",
    "}\n",
    "\n",
    "model = RandomForestClassifier(\n",
    "    n_estimators=50,\n",
    "    min_samples_split=1000,\n",
    "    min_samples_leaf=50,\n",
    "    random_state=42\n",
    ")\n",
    "\n",
    "grid_searcher(model, x_train, x_test, parameters=parameters)"
   ]
  },
  {
   "cell_type": "code",
   "execution_count": 32,
   "metadata": {},
   "outputs": [
    {
     "data": {
      "text/plain": [
       "Text(0,0.5,'AUC Score')"
      ]
     },
     "execution_count": 32,
     "metadata": {},
     "output_type": "execute_result"
    },
    {
     "data": {
      "image/png": "[encoded data removed]",
      "text/plain": [
       "<Figure size 432x288 with 1 Axes>"
      ]
     },
     "metadata": {},
     "output_type": "display_data"
    }
   ],
   "source": [
    "x = range(4,12)\n",
    "rfc_AUC_means = [0.66605839, 0.67038921, 0.67375967, 0.67517438, 0.67641652, 0.67600583, 0.67678109, 0.67799914]\n",
    "\n",
    "plt.scatter(x=x, y=rfc_AUC_means)\n",
    "plt.title('RFC AUC over Max Depth')\n",
    "plt.xlabel('Depth')\n",
    "plt.ylabel('AUC Score')"
   ]
  },
  {
   "cell_type": "markdown",
   "metadata": {},
   "source": [
    "Max Depth of 8 looks like a reasonable choice, but let's investigate it a bit more as 11 might actually be better."
   ]
  },
  {
   "cell_type": "code",
   "execution_count": 37,
   "metadata": {},
   "outputs": [
    {
     "name": "stdout",
     "output_type": "stream",
     "text": [
      "Seconds to start: 0.00\n",
      "Seconds to fit: 129.94\n",
      "Grid Scores: \n",
      "\n",
      "{'mean_fit_time': array([11.87880766, 14.94747883, 13.15105629, 15.48897797, 14.98955208,\n",
      "       14.92374051, 14.50487006, 13.34646446]),\n",
      " 'mean_score_time': array([0.12242639, 0.14300817, 0.13096058, 0.15226901, 0.12715572,\n",
      "       0.13818061, 0.13935226, 0.10274726]),\n",
      " 'mean_test_score': array([0.67517438, 0.67641652, 0.67600583, 0.67678109, 0.67799914,\n",
      "       0.67747145, 0.6769519 , 0.67762646]),\n",
      " 'mean_train_score': array([0.72733198, 0.73391548, 0.73947752, 0.74340755, 0.74532288,\n",
      "       0.74649659, 0.7475905 , 0.74814977]),\n",
      " 'param_max_depth': masked_array(data=[7, 8, 9, 10, 11, 12, 13, 14],\n",
      "             mask=[False, False, False, False, False, False, False, False],\n",
      "       fill_value='?',\n",
      "            dtype=object),\n",
      " 'params': [{'max_depth': 7},\n",
      "            {'max_depth': 8},\n",
      "            {'max_depth': 9},\n",
      "            {'max_depth': 10},\n",
      "            {'max_depth': 11},\n",
      "            {'max_depth': 12},\n",
      "            {'max_depth': 13},\n",
      "            {'max_depth': 14}],\n",
      " 'rank_test_score': array([8, 6, 7, 5, 1, 3, 4, 2], dtype=int32),\n",
      " 'split0_test_score': array([0.67797786, 0.6799588 , 0.67940179, 0.68088464, 0.68011025,\n",
      "       0.68080426, 0.68039831, 0.68033712]),\n",
      " 'split0_train_score': array([0.72828828, 0.73455327, 0.74019539, 0.74265995, 0.74504806,\n",
      "       0.74666253, 0.74704511, 0.74795496]),\n",
      " 'split1_test_score': array([0.67282608, 0.6751217 , 0.67502914, 0.67563062, 0.67767181,\n",
      "       0.67440097, 0.67500165, 0.67516038]),\n",
      " 'split1_train_score': array([0.72635893, 0.73472372, 0.74052457, 0.74386892, 0.74680536,\n",
      "       0.74726946, 0.74866959, 0.74821568]),\n",
      " 'split2_test_score': array([0.67027363, 0.66999366, 0.67137333, 0.67018472, 0.6724912 ,\n",
      "       0.67268067, 0.67093454, 0.67194153]),\n",
      " 'split2_train_score': array([0.72932281, 0.73504471, 0.74208231, 0.74622937, 0.74619292,\n",
      "       0.7483426 , 0.74883831, 0.74974085]),\n",
      " 'split3_test_score': array([0.67961957, 0.68059148, 0.67821862, 0.68042384, 0.68172304,\n",
      "       0.68199947, 0.68147266, 0.68306646]),\n",
      " 'split3_train_score': array([0.72535788, 0.73134022, 0.73510781, 0.74087197, 0.74324518,\n",
      "       0.74371176, 0.74580898, 0.74668761]),\n",
      " 'std_fit_time': array([0.10727532, 0.28764094, 0.17851496, 0.08724203, 0.21447431,\n",
      "       0.08415122, 0.27238196, 0.25663301]),\n",
      " 'std_score_time': array([0.01461868, 0.03277745, 0.01716214, 0.04434596, 0.01353128,\n",
      "       0.00783093, 0.02580203, 0.01787615]),\n",
      " 'std_test_score': array([0.00377989, 0.00426928, 0.00311622, 0.00432851, 0.0034917 ,\n",
      "       0.00399967, 0.00425224, 0.00433992]),\n",
      " 'std_train_score': array([0.00155899, 0.00149726, 0.00262159, 0.00194702, 0.00135527,\n",
      "       0.00171668, 0.00124426, 0.00108533])}\n",
      "Best Model Parameters: {'max_depth': 11}\n",
      "Best Model Score: 0.6780\n"
     ]
    }
   ],
   "source": [
    "parameters = {\n",
    "    'max_depth': range(7, 15)\n",
    "}\n",
    "\n",
    "model = RandomForestClassifier(\n",
    "    n_estimators=50,\n",
    "    min_samples_split=1000,\n",
    "    min_samples_leaf=50,\n",
    "    random_state=42\n",
    ")\n",
    "\n",
    "grid_searcher(model, x_train, x_test, parameters=parameters)"
   ]
  },
  {
   "cell_type": "code",
   "execution_count": 38,
   "metadata": {},
   "outputs": [
    {
     "data": {
      "text/plain": [
       "Text(0,0.5,'AUC Score')"
      ]
     },
     "execution_count": 38,
     "metadata": {},
     "output_type": "execute_result"
    },
    {
     "data": {
      "image/png": "[encoded data removed]",
      "text/plain": [
       "<Figure size 432x288 with 1 Axes>"
      ]
     },
     "metadata": {},
     "output_type": "display_data"
    }
   ],
   "source": [
    "x = range(7,15)\n",
    "rfc_AUC_means = [0.67517438, 0.67641652, 0.67600583, 0.67678109, 0.67799914,\n",
    "       0.67747145, 0.6769519 , 0.67762646]\n",
    "\n",
    "plt.scatter(x=x, y=rfc_AUC_means)\n",
    "plt.title('RFC AUC over Max Depth')\n",
    "plt.xlabel('Depth')\n",
    "plt.ylabel('AUC Score')"
   ]
  },
  {
   "cell_type": "markdown",
   "metadata": {},
   "source": [
    "Yep, going to stick with 11 instead as it keeps getting close to 0.678 and 8 stays around 0.676"
   ]
  },
  {
   "cell_type": "markdown",
   "metadata": {},
   "source": [
    "---\n",
    "### min_samples_split"
   ]
  },
  {
   "cell_type": "code",
   "execution_count": 40,
   "metadata": {},
   "outputs": [
    {
     "name": "stdout",
     "output_type": "stream",
     "text": [
      "Seconds to start: 0.00\n",
      "Seconds to fit: 87.57\n",
      "Grid Scores: \n",
      "\n",
      "{'mean_fit_time': array([14.01755196, 15.54445738, 15.53078943, 13.2331264 , 13.65292591]),\n",
      " 'mean_score_time': array([0.1656279 , 0.13513446, 0.12643909, 0.15957612, 0.10970151]),\n",
      " 'mean_test_score': array([0.67742146, 0.67796323, 0.67799914, 0.67657605, 0.67503372]),\n",
      " 'mean_train_score': array([0.75564907, 0.75052157, 0.74532288, 0.74071965, 0.73746494]),\n",
      " 'param_min_samples_split': masked_array(data=[800, 900, 1000, 1100, 1200],\n",
      "             mask=[False, False, False, False, False],\n",
      "       fill_value='?',\n",
      "            dtype=object),\n",
      " 'params': [{'min_samples_split': 800},\n",
      "            {'min_samples_split': 900},\n",
      "            {'min_samples_split': 1000},\n",
      "            {'min_samples_split': 1100},\n",
      "            {'min_samples_split': 1200}],\n",
      " 'rank_test_score': array([3, 2, 1, 4, 5], dtype=int32),\n",
      " 'split0_test_score': array([0.68237805, 0.6821026 , 0.68011025, 0.68004391, 0.67801525]),\n",
      " 'split0_train_score': array([0.75552551, 0.75174803, 0.74504806, 0.74049706, 0.73730756]),\n",
      " 'split1_test_score': array([0.6751625 , 0.67596534, 0.67767181, 0.67506085, 0.67288259]),\n",
      " 'split1_train_score': array([0.75692243, 0.75069317, 0.74680536, 0.74164477, 0.73847286]),\n",
      " 'split2_test_score': array([0.67150963, 0.67145124, 0.6724912 , 0.67254405, 0.67042876]),\n",
      " 'split2_train_score': array([0.75699055, 0.75222841, 0.74619292, 0.74310815, 0.73924901]),\n",
      " 'split3_test_score': array([0.68063502, 0.68233321, 0.68172304, 0.67865492, 0.67880788]),\n",
      " 'split3_train_score': array([0.75315781, 0.74741668, 0.74324518, 0.73762864, 0.73483034]),\n",
      " 'std_fit_time': array([0.18169848, 0.13797325, 0.32816761, 0.53548634, 0.39231993]),\n",
      " 'std_score_time': array([0.01814359, 0.0098698 , 0.00714802, 0.04978631, 0.02805604]),\n",
      " 'std_test_score': array([0.00432863, 0.00454501, 0.0034917 , 0.00295386, 0.0034988 ]),\n",
      " 'std_train_score': array([0.00155263, 0.00187666, 0.00135527, 0.00201027, 0.00167068])}\n",
      "Best Model Parameters: {'min_samples_split': 1000}\n",
      "Best Model Score: 0.6780\n"
     ]
    }
   ],
   "source": [
    "parameters = {\n",
    "    'min_samples_split': range(800, 1201, 100)\n",
    "}\n",
    "\n",
    "model = RandomForestClassifier(\n",
    "    n_estimators=50,\n",
    "    max_depth=11,\n",
    "    min_samples_leaf=50,\n",
    "    random_state=42\n",
    ")\n",
    "\n",
    "grid_searcher(model, x_train, x_test, parameters=parameters)"
   ]
  },
  {
   "cell_type": "code",
   "execution_count": 41,
   "metadata": {},
   "outputs": [
    {
     "data": {
      "text/plain": [
       "Text(0,0.5,'AUC Score')"
      ]
     },
     "execution_count": 41,
     "metadata": {},
     "output_type": "execute_result"
    },
    {
     "data": {
      "image/png": "[encoded data removed]",
      "text/plain": [
       "<Figure size 432x288 with 1 Axes>"
      ]
     },
     "metadata": {},
     "output_type": "display_data"
    }
   ],
   "source": [
    "x = range(800, 1201, 100)\n",
    "rfc_AUC_means = [0.67742146, 0.67796323, 0.67799914, 0.67657605, 0.67503372]\n",
    "\n",
    "plt.scatter(x=x, y=rfc_AUC_means)\n",
    "plt.title('RFC AUC over Min Samples Split')\n",
    "plt.xlabel('Samples Split')\n",
    "plt.ylabel('AUC Score')"
   ]
  },
  {
   "cell_type": "markdown",
   "metadata": {},
   "source": [
    "1000 works for this one"
   ]
  },
  {
   "cell_type": "markdown",
   "metadata": {},
   "source": [
    "---\n",
    "### min_samples_leaf"
   ]
  },
  {
   "cell_type": "code",
   "execution_count": 44,
   "metadata": {},
   "outputs": [
    {
     "name": "stdout",
     "output_type": "stream",
     "text": [
      "Seconds to start: 0.00\n",
      "Seconds to fit: 114.00\n",
      "Grid Scores: \n",
      "\n",
      "{'mean_fit_time': array([13.35721159, 12.54519409, 16.62812573, 13.56623012, 13.61580896,\n",
      "       14.63730079, 12.69475079]),\n",
      " 'mean_score_time': array([0.13563347, 0.13291544, 0.13600034, 0.12523907, 0.11619753,\n",
      "       0.17711151, 0.09419072]),\n",
      " 'mean_test_score': array([0.67661538, 0.67766949, 0.67799914, 0.67792479, 0.67731088,\n",
      "       0.67753087, 0.67771314]),\n",
      " 'mean_train_score': array([0.74924309, 0.74729625, 0.74532288, 0.74441573, 0.74358579,\n",
      "       0.74287875, 0.74208766]),\n",
      " 'param_min_samples_leaf': masked_array(data=[30, 40, 50, 60, 70, 80, 90],\n",
      "             mask=[False, False, False, False, False, False, False],\n",
      "       fill_value='?',\n",
      "            dtype=object),\n",
      " 'params': [{'min_samples_leaf': 30},\n",
      "            {'min_samples_leaf': 40},\n",
      "            {'min_samples_leaf': 50},\n",
      "            {'min_samples_leaf': 60},\n",
      "            {'min_samples_leaf': 70},\n",
      "            {'min_samples_leaf': 80},\n",
      "            {'min_samples_leaf': 90}],\n",
      " 'rank_test_score': array([7, 4, 1, 2, 6, 5, 3], dtype=int32),\n",
      " 'split0_test_score': array([0.67951762, 0.68120022, 0.68011025, 0.68006492, 0.68156889,\n",
      "       0.68165429, 0.68129116]),\n",
      " 'split0_train_score': array([0.74893774, 0.74696286, 0.74504806, 0.74503688, 0.74339543,\n",
      "       0.7435148 , 0.74290383]),\n",
      " 'split1_test_score': array([0.67395775, 0.67698593, 0.67767181, 0.67750462, 0.67614881,\n",
      "       0.67690651, 0.6766751 ]),\n",
      " 'split1_train_score': array([0.75050853, 0.74834403, 0.74680536, 0.74436344, 0.74407146,\n",
      "       0.744024  , 0.74280506]),\n",
      " 'split2_test_score': array([0.67069405, 0.67170836, 0.6724912 , 0.67151255, 0.67175561,\n",
      "       0.6716527 , 0.67235738]),\n",
      " 'split2_train_score': array([0.75041748, 0.74885269, 0.74619292, 0.74583627, 0.74643638,\n",
      "       0.74451686, 0.74421596]),\n",
      " 'split3_test_score': array([0.68229173, 0.68078301, 0.68172304, 0.68261678, 0.67976967,\n",
      "       0.67990943, 0.68052846]),\n",
      " 'split3_train_score': array([0.74710862, 0.74502541, 0.74324518, 0.7424263 , 0.74043989,\n",
      "       0.73945935, 0.73842579]),\n",
      " 'std_fit_time': array([0.14484339, 0.14578479, 0.29553775, 0.20376777, 0.32369179,\n",
      "       0.29039856, 0.36068738]),\n",
      " 'std_score_time': array([0.01230004, 0.03379486, 0.01107651, 0.00753009, 0.00333584,\n",
      "       0.05316204, 0.01680738]),\n",
      " 'std_test_score': array([0.00454883, 0.00381321, 0.0034917 , 0.00411967, 0.00375461,\n",
      "       0.00379484, 0.00355281]),\n",
      " 'std_train_score': array([0.0013811 , 0.00148225, 0.00135527, 0.00126138, 0.00213861,\n",
      "       0.00200573, 0.00218631])}\n",
      "Best Model Parameters: {'min_samples_leaf': 50}\n",
      "Best Model Score: 0.6780\n"
     ]
    }
   ],
   "source": [
    "parameters = {\n",
    "    'min_samples_leaf': range(30, 91, 10)\n",
    "}\n",
    "\n",
    "model = RandomForestClassifier(\n",
    "    n_estimators=50,\n",
    "    max_depth=11,\n",
    "    min_samples_split=1000,\n",
    "    random_state=42\n",
    ")\n",
    "\n",
    "grid_searcher(model, x_train, x_test, parameters=parameters)"
   ]
  },
  {
   "cell_type": "code",
   "execution_count": 47,
   "metadata": {},
   "outputs": [
    {
     "data": {
      "text/plain": [
       "Text(0,0.5,'AUC Score')"
      ]
     },
     "execution_count": 47,
     "metadata": {},
     "output_type": "execute_result"
    },
    {
     "data": {
      "image/png": "[encoded data removed]",
      "text/plain": [
       "<Figure size 432x288 with 1 Axes>"
      ]
     },
     "metadata": {},
     "output_type": "display_data"
    }
   ],
   "source": [
    "x = range(30, 91, 10)\n",
    "rfc_AUC_means = [0.67661538, 0.67766949, 0.67799914, 0.67792479, 0.67731088,\n",
    "       0.67753087, 0.67771314]\n",
    "\n",
    "plt.scatter(x=x, y=rfc_AUC_means)\n",
    "plt.title('RFC AUC over Min Samples Leaf')\n",
    "plt.xlabel('Samples Leaf')\n",
    "plt.ylabel('AUC Score')"
   ]
  },
  {
   "cell_type": "markdown",
   "metadata": {},
   "source": [
    "50 looks like the best value but just really quickly want to make sure it needs to be that high"
   ]
  },
  {
   "cell_type": "code",
   "execution_count": 46,
   "metadata": {},
   "outputs": [
    {
     "name": "stdout",
     "output_type": "stream",
     "text": [
      "Seconds to start: 0.00\n",
      "Seconds to fit: 172.39\n",
      "Grid Scores: \n",
      "\n",
      "{'mean_fit_time': array([15.68738717, 16.55180657, 16.33200127, 14.66370696, 13.99682313,\n",
      "       16.2119202 , 15.62675303, 13.38833934, 16.24450034, 14.04426974]),\n",
      " 'mean_score_time': array([0.15672737, 0.14881366, 0.14502013, 0.12682939, 0.12440944,\n",
      "       0.13641214, 0.11948806, 0.1330505 , 0.22191596, 0.09997481]),\n",
      " 'mean_test_score': array([0.67549166, 0.67607916, 0.67688768, 0.6757257 , 0.6760272 ,\n",
      "       0.67661538, 0.6764529 , 0.67766949, 0.67769047, 0.67799914]),\n",
      " 'mean_train_score': array([0.75891433, 0.75551262, 0.75308766, 0.7507847 , 0.75027918,\n",
      "       0.74924309, 0.7475829 , 0.74729625, 0.74617076, 0.74532288]),\n",
      " 'param_min_samples_leaf': masked_array(data=[5, 10, 15, 20, 25, 30, 35, 40, 45, 50],\n",
      "             mask=[False, False, False, False, False, False, False, False,\n",
      "                   False, False],\n",
      "       fill_value='?',\n",
      "            dtype=object),\n",
      " 'params': [{'min_samples_leaf': 5},\n",
      "            {'min_samples_leaf': 10},\n",
      "            {'min_samples_leaf': 15},\n",
      "            {'min_samples_leaf': 20},\n",
      "            {'min_samples_leaf': 25},\n",
      "            {'min_samples_leaf': 30},\n",
      "            {'min_samples_leaf': 35},\n",
      "            {'min_samples_leaf': 40},\n",
      "            {'min_samples_leaf': 45},\n",
      "            {'min_samples_leaf': 50}],\n",
      " 'rank_test_score': array([10,  7,  4,  9,  8,  5,  6,  3,  2,  1], dtype=int32),\n",
      " 'split0_test_score': array([0.67833043, 0.68122431, 0.68179775, 0.67895497, 0.67896239,\n",
      "       0.67951762, 0.68052939, 0.68120022, 0.68132324, 0.68011025]),\n",
      " 'split0_train_score': array([0.76015124, 0.75580068, 0.75278216, 0.75018835, 0.7500133 ,\n",
      "       0.74893774, 0.74687418, 0.74696286, 0.74632527, 0.74504806]),\n",
      " 'split1_test_score': array([0.67388553, 0.67353065, 0.67406111, 0.67353465, 0.67367212,\n",
      "       0.67395775, 0.67459306, 0.67698593, 0.67682017, 0.67767181]),\n",
      " 'split1_train_score': array([0.75943401, 0.75483778, 0.75366923, 0.75150063, 0.75129826,\n",
      "       0.75050853, 0.74910984, 0.74834403, 0.74706076, 0.74680536]),\n",
      " 'split2_test_score': array([0.67160311, 0.66971728, 0.67072256, 0.67132016, 0.67009868,\n",
      "       0.67069405, 0.67033591, 0.67170836, 0.67100528, 0.6724912 ]),\n",
      " 'split2_train_score': array([0.76137436, 0.75917523, 0.75542336, 0.75231263, 0.75177699,\n",
      "       0.75041748, 0.7485925 , 0.74885269, 0.74722976, 0.74619292]),\n",
      " 'split3_test_score': array([0.67814719, 0.67984372, 0.68096865, 0.67909259, 0.68137524,\n",
      "       0.68229173, 0.68035271, 0.68078301, 0.6816127 , 0.68172304]),\n",
      " 'split3_train_score': array([0.7546977 , 0.75223682, 0.75047589, 0.74913718, 0.7480282 ,\n",
      "       0.74710862, 0.74575509, 0.74502541, 0.74406726, 0.74324518]),\n",
      " 'std_fit_time': array([0.19937457, 0.30452448, 0.21069883, 0.23495584, 0.1591153 ,\n",
      "       0.23846735, 0.1267235 , 0.20307071, 0.62233437, 0.72614566]),\n",
      " 'std_score_time': array([0.02757235, 0.01569564, 0.02484014, 0.00431226, 0.00362036,\n",
      "       0.025921  , 0.00497076, 0.01173928, 0.07689692, 0.01716009]),\n",
      " 'std_test_score': array([0.00286404, 0.00468011, 0.0046573 , 0.00339019, 0.00441331,\n",
      "       0.00454883, 0.00426329, 0.00381321, 0.00430202, 0.0034917 ]),\n",
      " 'std_train_score': array([0.00253139, 0.00248415, 0.00178244, 0.00121625, 0.00145082,\n",
      "       0.0013811 , 0.00134108, 0.00148225, 0.00126117, 0.00135527])}\n",
      "Best Model Parameters: {'min_samples_leaf': 50}\n",
      "Best Model Score: 0.6780\n"
     ]
    }
   ],
   "source": [
    "parameters = {\n",
    "    'min_samples_leaf': range(5, 51, 5)\n",
    "}\n",
    "\n",
    "model = RandomForestClassifier(\n",
    "    n_estimators=50,\n",
    "    max_depth=11,\n",
    "    min_samples_split=1000,\n",
    "    random_state=42\n",
    ")\n",
    "\n",
    "grid_searcher(model, x_train, x_test, parameters=parameters)"
   ]
  },
  {
   "cell_type": "code",
   "execution_count": 49,
   "metadata": {},
   "outputs": [
    {
     "data": {
      "text/plain": [
       "Text(0,0.5,'AUC Score')"
      ]
     },
     "execution_count": 49,
     "metadata": {},
     "output_type": "execute_result"
    },
    {
     "data": {
      "image/png": "[encoded data removed]",
      "text/plain": [
       "<Figure size 432x288 with 1 Axes>"
      ]
     },
     "metadata": {},
     "output_type": "display_data"
    }
   ],
   "source": [
    "x = range(5, 51, 5)\n",
    "rfc_AUC_means = [0.67549166, 0.67607916, 0.67688768, 0.6757257 , 0.6760272 ,\n",
    "       0.67661538, 0.6764529 , 0.67766949, 0.67769047, 0.67799914]\n",
    "\n",
    "plt.scatter(x=x, y=rfc_AUC_means)\n",
    "plt.title('RFC AUC over Min Samples Leaf')\n",
    "plt.xlabel('Samples Leaf')\n",
    "plt.ylabel('AUC Score')"
   ]
  },
  {
   "cell_type": "markdown",
   "metadata": {},
   "source": [
    "Yep, sticking with 50 for Samples Leaf"
   ]
  },
  {
   "cell_type": "markdown",
   "metadata": {},
   "source": [
    "---\n",
    "### max_features"
   ]
  },
  {
   "cell_type": "markdown",
   "metadata": {},
   "source": [
    "Currently this is set to 'auto' which sets it to 'sqrt'. Meaning the sqrt of the number of input features. Since it's being fed 38 features that means the value is likely been 6 this whole time."
   ]
  },
  {
   "cell_type": "code",
   "execution_count": 50,
   "metadata": {},
   "outputs": [
    {
     "name": "stdout",
     "output_type": "stream",
     "text": [
      "Seconds to start: 0.00\n",
      "Seconds to fit: 107.85\n",
      "Grid Scores: \n",
      "\n",
      "{'mean_fit_time': array([10.90474957, 12.03899622, 15.06256139, 16.115578  , 18.27724868,\n",
      "       19.65572619]),\n",
      " 'mean_score_time': array([0.16999024, 0.13906127, 0.11861694, 0.13052452, 0.14702404,\n",
      "       0.09590763]),\n",
      " 'mean_test_score': array([0.67494209, 0.67589008, 0.67799914, 0.675083  , 0.67565238,\n",
      "       0.67579716]),\n",
      " 'mean_train_score': array([0.74584295, 0.74555125, 0.74532288, 0.74448963, 0.74464081,\n",
      "       0.74590165]),\n",
      " 'param_max_features': masked_array(data=[4, 5, 6, 7, 8, 9],\n",
      "             mask=[False, False, False, False, False, False],\n",
      "       fill_value='?',\n",
      "            dtype=object),\n",
      " 'params': [{'max_features': 4},\n",
      "            {'max_features': 5},\n",
      "            {'max_features': 6},\n",
      "            {'max_features': 7},\n",
      "            {'max_features': 8},\n",
      "            {'max_features': 9}],\n",
      " 'rank_test_score': array([6, 2, 1, 5, 4, 3], dtype=int32),\n",
      " 'split0_test_score': array([0.67831588, 0.67748109, 0.68011025, 0.67861119, 0.67855108,\n",
      "       0.6771463 ]),\n",
      " 'split0_train_score': array([0.74779325, 0.74732001, 0.74504806, 0.7442885 , 0.74637616,\n",
      "       0.7470804 ]),\n",
      " 'split1_test_score': array([0.67305749, 0.6697823 , 0.67767181, 0.67043796, 0.67541779,\n",
      "       0.67278694]),\n",
      " 'split1_train_score': array([0.74558769, 0.74704351, 0.74680536, 0.74303934, 0.74515015,\n",
      "       0.74535493]),\n",
      " 'split2_test_score': array([0.67207889, 0.6744533 , 0.6724912 , 0.67208575, 0.66847317,\n",
      "       0.67148832]),\n",
      " 'split2_train_score': array([0.7487472 , 0.74599816, 0.74619292, 0.74754026, 0.74554156,\n",
      "       0.74719377]),\n",
      " 'split3_test_score': array([0.67631565, 0.68184343, 0.68172304, 0.67919664, 0.68016712,\n",
      "       0.68176692]),\n",
      " 'split3_train_score': array([0.74124367, 0.74184331, 0.74324518, 0.74309043, 0.74149535,\n",
      "       0.7439775 ]),\n",
      " 'std_fit_time': array([0.11954788, 0.15730091, 0.19329227, 0.1852318 , 0.19079079,\n",
      "       0.24243976]),\n",
      " 'std_score_time': array([0.02667518, 0.01692487, 0.00608774, 0.01292172, 0.02868627,\n",
      "       0.01662687]),\n",
      " 'std_test_score': array([0.00250097, 0.00439718, 0.0034917 , 0.00387072, 0.00448274,\n",
      "       0.00403373]),\n",
      " 'std_train_score': array([0.00289209, 0.00219681, 0.00135527, 0.00183084, 0.00186924,\n",
      "       0.00132856])}\n",
      "Best Model Parameters: {'max_features': 6}\n",
      "Best Model Score: 0.6780\n"
     ]
    }
   ],
   "source": [
    "parameters = {\n",
    "    'max_features': range(4, 10)\n",
    "}\n",
    "\n",
    "model = RandomForestClassifier(\n",
    "    n_estimators=50,\n",
    "    max_depth=11,\n",
    "    min_samples_split=1000,\n",
    "    min_samples_leaf=50,\n",
    "    random_state=42\n",
    ")\n",
    "\n",
    "grid_searcher(model, x_train, x_test, parameters=parameters)"
   ]
  },
  {
   "cell_type": "code",
   "execution_count": 51,
   "metadata": {},
   "outputs": [
    {
     "data": {
      "text/plain": [
       "Text(0,0.5,'AUC Score')"
      ]
     },
     "execution_count": 51,
     "metadata": {},
     "output_type": "execute_result"
    },
    {
     "data": {
      "image/png": "[encoded data removed]",
      "text/plain": [
       "<Figure size 432x288 with 1 Axes>"
      ]
     },
     "metadata": {},
     "output_type": "display_data"
    }
   ],
   "source": [
    "x = range(4, 10)\n",
    "rfc_AUC_means = [0.67494209, 0.67589008, 0.67799914, 0.675083  , 0.67565238,\n",
    "       0.67579716]\n",
    "\n",
    "plt.scatter(x=x, y=rfc_AUC_means)\n",
    "plt.title('RFC AUC over Max Features')\n",
    "plt.xlabel('Features')\n",
    "plt.ylabel('AUC Score')"
   ]
  },
  {
   "cell_type": "markdown",
   "metadata": {},
   "source": [
    "Cool. Sticking with 6, which is the default value in this case."
   ]
  },
  {
   "cell_type": "markdown",
   "metadata": {},
   "source": [
    "### Final RFC Model"
   ]
  },
  {
   "cell_type": "code",
   "execution_count": 52,
   "metadata": {},
   "outputs": [
    {
     "name": "stdout",
     "output_type": "stream",
     "text": [
      "Seconds to start: 0.00\n",
      "Seconds to fit: 100.41\n",
      "CV Score : Mean - 0.684 | Std - 0.003 | Min - 0.681 | Max - 0.687\n",
      "Seconds to CV: 453.60\n"
     ]
    },
    {
     "data": {
      "image/png": "[encoded data removed]",
      "text/plain": [
       "<Figure size 432x288 with 1 Axes>"
      ]
     },
     "metadata": {},
     "output_type": "display_data"
    }
   ],
   "source": [
    "model = RandomForestClassifier(\n",
    "    n_estimators=50,\n",
    "    max_depth=11,\n",
    "    min_samples_split=1000,\n",
    "    min_samples_leaf=50,\n",
    "    random_state=42\n",
    ")\n",
    "\n",
    "model_fit(model, train, target, feature_importance=True)"
   ]
  },
  {
   "cell_type": "markdown",
   "metadata": {},
   "source": [
    "AUC went from 0.590 to 0.684. Not bad! Training time tripled but oh well. \n",
    "\n",
    "- First five PCA columns pre-train: 11, 1, 5, 8, 12\n",
    "- First five PCA columns post-train: 11, 1, 5, 0, 32\n",
    "\n",
    "In the end, still behind Logistic Regression by 0.004"
   ]
  },
  {
   "cell_type": "code",
   "execution_count": null,
   "metadata": {},
   "outputs": [],
   "source": []
  }
 ],
 "metadata": {
  "kernelspec": {
   "display_name": "Python 3",
   "language": "python",
   "name": "python3"
  },
  "language_info": {
   "codemirror_mode": {
    "name": "ipython",
    "version": 3
   },
   "file_extension": ".py",
   "mimetype": "text/x-python",
   "name": "python",
   "nbconvert_exporter": "python",
   "pygments_lexer": "ipython3",
   "version": "3.6.6"
  }
 },
 "nbformat": 4,
 "nbformat_minor": 2
}
