{
 "cells": [
  {
   "cell_type": "code",
   "execution_count": 1,
   "metadata": {},
   "outputs": [
    {
     "name": "stderr",
     "output_type": "stream",
     "text": [
      "/Users/blairthurman/anaconda3/lib/python3.6/site-packages/sklearn/cross_validation.py:41: DeprecationWarning: This module was deprecated in version 0.18 in favor of the model_selection module into which all the refactored classes and functions are moved. Also note that the interface of the new CV iterators are different from that of this module. This module will be removed in 0.20.\n",
      "  \"This module will be removed in 0.20.\", DeprecationWarning)\n"
     ]
    }
   ],
   "source": [
    "import pandas as pd\n",
    "import numpy as np\n",
    "from time import time\n",
    "from pprint import PrettyPrinter\n",
    "\n",
    "from sklearn.model_selection import train_test_split\n",
    "import xgboost as xgb\n",
    "from xgboost.sklearn import XGBClassifier\n",
    "from sklearn import cross_validation\n",
    "from sklearn.model_selection import GridSearchCV\n",
    "\n",
    "import seaborn as sns\n",
    "import matplotlib.pyplot as plt\n",
    "sns.set()\n",
    "%matplotlib inline\n",
    "pp = PrettyPrinter()"
   ]
  },
  {
   "cell_type": "markdown",
   "metadata": {},
   "source": [
    "# Useful Functions"
   ]
  },
  {
   "cell_type": "code",
   "execution_count": 2,
   "metadata": {},
   "outputs": [],
   "source": [
    "def model_fit(model, train, target, timed=True, feature_importance=False):\n",
    "    '''\n",
    "    This function is for checking performance of a single model. \n",
    "    \n",
    "    Optional plot of feature importance for ensemble methods.\n",
    "    '''\n",
    "    # Fit\n",
    "    if timed:\n",
    "        start = time()\n",
    "        passed = time() - start\n",
    "        print(f'Seconds to start: {passed:.2f}')\n",
    "    model.fit(train, target)\n",
    "    if timed:\n",
    "        passed = time() - start\n",
    "        print(f'Seconds to fit: {passed:.2f}')\n",
    "    \n",
    "    # CV\n",
    "    cv_score = cross_validation.cross_val_score(model, train, target, cv=5, scoring='roc_auc')\n",
    "    print(f'CV Score : Mean - {np.mean(cv_score):.3f} | Std - {np.std(cv_score):.3f} | Min - {np.min(cv_score):.3f} | Max - {np.max(cv_score):.3f}')\n",
    "    if timed:\n",
    "        passed = time() - start\n",
    "        print(f'Seconds to CV: {passed:.2f}')\n",
    "    \n",
    "    # Plots feature importance, for ensemble models only\n",
    "    if feature_importance:\n",
    "        feat_imp = pd.Series(model.feature_importances_).sort_values(ascending=False)\n",
    "        feat_imp.plot(kind='bar', title='Feature Importances')\n",
    "        plt.ylabel('Feature Importance Score')"
   ]
  },
  {
   "cell_type": "code",
   "execution_count": 3,
   "metadata": {},
   "outputs": [],
   "source": [
    "def grid_searcher(model, train, target, parameters={}, cv=4, timed=True):\n",
    "    '''\n",
    "    Makes a printout of the AUC score for gridsearched models.\n",
    "    '''\n",
    "    if timed:\n",
    "        start = time()\n",
    "        passed = time() - start\n",
    "        print(f'Seconds to start: {passed:.2f}')\n",
    "    gsearcher = GridSearchCV(\n",
    "        estimator=model, \n",
    "        param_grid=parameters,\n",
    "        scoring='roc_auc',\n",
    "        n_jobs=4,\n",
    "        cv=cv)\n",
    "    gsearcher.fit(train, target)\n",
    "    if timed:\n",
    "        passed = time() - start\n",
    "        print(f'Seconds to fit: {passed:.2f}')\n",
    "    print('Grid Scores: \\n')\n",
    "    pp.pprint(gsearcher.cv_results_)\n",
    "    print(f'Best Model Parameters: {gsearcher.best_params_}')\n",
    "    print(f'Best Model Score: {gsearcher.best_score_:.4f}')"
   ]
  },
  {
   "cell_type": "code",
   "execution_count": 4,
   "metadata": {},
   "outputs": [],
   "source": [
    "def cv_plotter(x, y, title, feature_label):\n",
    "    '''\n",
    "    Makes a simple scatter plot\n",
    "    '''\n",
    "    plt.scatter(x=x, y=y)\n",
    "    plt.title(f'{title} AUC over {feature_label}')\n",
    "    plt.xlabel(feature_label)\n",
    "    plt.ylabel('AUC Score')"
   ]
  },
  {
   "cell_type": "code",
   "execution_count": 5,
   "metadata": {},
   "outputs": [],
   "source": [
    "def sampler(train, test, size):\n",
    "    '''\n",
    "    Just a hack of a function to quickly sample out data. \n",
    "    \n",
    "    Size: Float, 0.0 - 1.0\n",
    "        Fraction of data you want returned\n",
    "    '''\n",
    "    test_size = 1 - size\n",
    "    results = train_test_split(train, test, test_size=test_size, random_state=42)\n",
    "    return results[0], results[2]"
   ]
  },
  {
   "cell_type": "markdown",
   "metadata": {},
   "source": [
    "# Load"
   ]
  },
  {
   "cell_type": "code",
   "execution_count": 6,
   "metadata": {},
   "outputs": [
    {
     "data": {
      "text/html": [
       "<div>\n",
       "<style scoped>\n",
       "    .dataframe tbody tr th:only-of-type {\n",
       "        vertical-align: middle;\n",
       "    }\n",
       "\n",
       "    .dataframe tbody tr th {\n",
       "        vertical-align: top;\n",
       "    }\n",
       "\n",
       "    .dataframe thead th {\n",
       "        text-align: right;\n",
       "    }\n",
       "</style>\n",
       "<table border=\"1\" class=\"dataframe\">\n",
       "  <thead>\n",
       "    <tr style=\"text-align: right;\">\n",
       "      <th></th>\n",
       "      <th>sk_id_curr</th>\n",
       "      <th>target</th>\n",
       "      <th>0</th>\n",
       "      <th>1</th>\n",
       "      <th>2</th>\n",
       "      <th>3</th>\n",
       "      <th>4</th>\n",
       "      <th>5</th>\n",
       "      <th>6</th>\n",
       "      <th>7</th>\n",
       "      <th>...</th>\n",
       "      <th>28</th>\n",
       "      <th>29</th>\n",
       "      <th>30</th>\n",
       "      <th>31</th>\n",
       "      <th>32</th>\n",
       "      <th>33</th>\n",
       "      <th>34</th>\n",
       "      <th>35</th>\n",
       "      <th>36</th>\n",
       "      <th>37</th>\n",
       "    </tr>\n",
       "  </thead>\n",
       "  <tbody>\n",
       "    <tr>\n",
       "      <th>0</th>\n",
       "      <td>100002</td>\n",
       "      <td>1</td>\n",
       "      <td>0.311091</td>\n",
       "      <td>-1.332634</td>\n",
       "      <td>-0.399883</td>\n",
       "      <td>-2.000222</td>\n",
       "      <td>0.390812</td>\n",
       "      <td>0.672156</td>\n",
       "      <td>-0.191782</td>\n",
       "      <td>1.242912</td>\n",
       "      <td>...</td>\n",
       "      <td>0.094919</td>\n",
       "      <td>0.108869</td>\n",
       "      <td>-0.097447</td>\n",
       "      <td>0.207195</td>\n",
       "      <td>1.110724</td>\n",
       "      <td>-0.885310</td>\n",
       "      <td>0.271509</td>\n",
       "      <td>0.201748</td>\n",
       "      <td>0.078745</td>\n",
       "      <td>-1.013988</td>\n",
       "    </tr>\n",
       "    <tr>\n",
       "      <th>1</th>\n",
       "      <td>100003</td>\n",
       "      <td>0</td>\n",
       "      <td>1.003885</td>\n",
       "      <td>2.295670</td>\n",
       "      <td>-0.859131</td>\n",
       "      <td>-1.410614</td>\n",
       "      <td>0.350578</td>\n",
       "      <td>-0.441695</td>\n",
       "      <td>1.138504</td>\n",
       "      <td>-0.655109</td>\n",
       "      <td>...</td>\n",
       "      <td>0.215964</td>\n",
       "      <td>0.051572</td>\n",
       "      <td>0.488226</td>\n",
       "      <td>-0.041404</td>\n",
       "      <td>-0.785569</td>\n",
       "      <td>1.252293</td>\n",
       "      <td>1.370241</td>\n",
       "      <td>-0.178892</td>\n",
       "      <td>-0.732245</td>\n",
       "      <td>0.653229</td>\n",
       "    </tr>\n",
       "    <tr>\n",
       "      <th>2</th>\n",
       "      <td>100004</td>\n",
       "      <td>0</td>\n",
       "      <td>-0.356299</td>\n",
       "      <td>-2.745839</td>\n",
       "      <td>0.603927</td>\n",
       "      <td>-0.145268</td>\n",
       "      <td>2.845680</td>\n",
       "      <td>-0.206305</td>\n",
       "      <td>-1.628813</td>\n",
       "      <td>-0.740097</td>\n",
       "      <td>...</td>\n",
       "      <td>-0.140227</td>\n",
       "      <td>0.215135</td>\n",
       "      <td>-0.424872</td>\n",
       "      <td>0.097197</td>\n",
       "      <td>0.123388</td>\n",
       "      <td>0.143478</td>\n",
       "      <td>0.539556</td>\n",
       "      <td>0.226337</td>\n",
       "      <td>-0.640607</td>\n",
       "      <td>-1.492682</td>\n",
       "    </tr>\n",
       "    <tr>\n",
       "      <th>3</th>\n",
       "      <td>100006</td>\n",
       "      <td>0</td>\n",
       "      <td>-0.452229</td>\n",
       "      <td>-0.706371</td>\n",
       "      <td>-1.026894</td>\n",
       "      <td>-1.142946</td>\n",
       "      <td>-0.490824</td>\n",
       "      <td>-0.542183</td>\n",
       "      <td>-0.185623</td>\n",
       "      <td>0.939177</td>\n",
       "      <td>...</td>\n",
       "      <td>0.015248</td>\n",
       "      <td>-0.032642</td>\n",
       "      <td>-0.234938</td>\n",
       "      <td>-0.217559</td>\n",
       "      <td>0.080454</td>\n",
       "      <td>-0.554469</td>\n",
       "      <td>-0.494474</td>\n",
       "      <td>0.734851</td>\n",
       "      <td>-0.315487</td>\n",
       "      <td>0.781315</td>\n",
       "    </tr>\n",
       "    <tr>\n",
       "      <th>4</th>\n",
       "      <td>100007</td>\n",
       "      <td>0</td>\n",
       "      <td>0.396743</td>\n",
       "      <td>-0.732436</td>\n",
       "      <td>2.179659</td>\n",
       "      <td>-0.024886</td>\n",
       "      <td>1.154158</td>\n",
       "      <td>2.721180</td>\n",
       "      <td>-2.287210</td>\n",
       "      <td>0.657978</td>\n",
       "      <td>...</td>\n",
       "      <td>0.434943</td>\n",
       "      <td>0.120781</td>\n",
       "      <td>-0.307910</td>\n",
       "      <td>-0.718415</td>\n",
       "      <td>-0.035805</td>\n",
       "      <td>-1.283724</td>\n",
       "      <td>0.026249</td>\n",
       "      <td>0.483156</td>\n",
       "      <td>2.127985</td>\n",
       "      <td>-0.200012</td>\n",
       "    </tr>\n",
       "  </tbody>\n",
       "</table>\n",
       "<p>5 rows × 40 columns</p>\n",
       "</div>"
      ],
      "text/plain": [
       "   sk_id_curr  target         0         1         2         3         4  \\\n",
       "0      100002       1  0.311091 -1.332634 -0.399883 -2.000222  0.390812   \n",
       "1      100003       0  1.003885  2.295670 -0.859131 -1.410614  0.350578   \n",
       "2      100004       0 -0.356299 -2.745839  0.603927 -0.145268  2.845680   \n",
       "3      100006       0 -0.452229 -0.706371 -1.026894 -1.142946 -0.490824   \n",
       "4      100007       0  0.396743 -0.732436  2.179659 -0.024886  1.154158   \n",
       "\n",
       "          5         6         7    ...           28        29        30  \\\n",
       "0  0.672156 -0.191782  1.242912    ...     0.094919  0.108869 -0.097447   \n",
       "1 -0.441695  1.138504 -0.655109    ...     0.215964  0.051572  0.488226   \n",
       "2 -0.206305 -1.628813 -0.740097    ...    -0.140227  0.215135 -0.424872   \n",
       "3 -0.542183 -0.185623  0.939177    ...     0.015248 -0.032642 -0.234938   \n",
       "4  2.721180 -2.287210  0.657978    ...     0.434943  0.120781 -0.307910   \n",
       "\n",
       "         31        32        33        34        35        36        37  \n",
       "0  0.207195  1.110724 -0.885310  0.271509  0.201748  0.078745 -1.013988  \n",
       "1 -0.041404 -0.785569  1.252293  1.370241 -0.178892 -0.732245  0.653229  \n",
       "2  0.097197  0.123388  0.143478  0.539556  0.226337 -0.640607 -1.492682  \n",
       "3 -0.217559  0.080454 -0.554469 -0.494474  0.734851 -0.315487  0.781315  \n",
       "4 -0.718415 -0.035805 -1.283724  0.026249  0.483156  2.127985 -0.200012  \n",
       "\n",
       "[5 rows x 40 columns]"
      ]
     },
     "execution_count": 6,
     "metadata": {},
     "output_type": "execute_result"
    }
   ],
   "source": [
    "df = pd.read_csv('data/application_train_pca.csv')\n",
    "train = df[df.columns[2:]]\n",
    "target = df['target']\n",
    "df.head()"
   ]
  },
  {
   "cell_type": "markdown",
   "metadata": {},
   "source": [
    "# Modeling"
   ]
  },
  {
   "cell_type": "markdown",
   "metadata": {},
   "source": [
    "## XGBoost"
   ]
  },
  {
   "cell_type": "markdown",
   "metadata": {},
   "source": [
    "---\n",
    "### Benchmark"
   ]
  },
  {
   "cell_type": "code",
   "execution_count": 7,
   "metadata": {},
   "outputs": [
    {
     "name": "stdout",
     "output_type": "stream",
     "text": [
      "Seconds to start: 0.00\n",
      "Seconds to fit: 115.55\n",
      "CV Score : Mean - 0.688 | Std - 0.002 | Min - 0.685 | Max - 0.690\n",
      "Seconds to CV: 558.01\n"
     ]
    },
    {
     "data": {
      "image/png": "[encoded data removed]",
      "text/plain": [
       "<Figure size 432x288 with 1 Axes>"
      ]
     },
     "metadata": {},
     "output_type": "display_data"
    }
   ],
   "source": [
    "model = XGBClassifier()\n",
    "\n",
    "model_fit(model, train, target, feature_importance=True)"
   ]
  },
  {
   "cell_type": "markdown",
   "metadata": {},
   "source": [
    "---\n",
    "### Data"
   ]
  },
  {
   "cell_type": "code",
   "execution_count": 13,
   "metadata": {},
   "outputs": [],
   "source": [
    "train_sample, test_sample = sampler(train, target, 1/5)"
   ]
  },
  {
   "cell_type": "markdown",
   "metadata": {},
   "source": [
    "---\n",
    "### n_estimators"
   ]
  },
  {
   "cell_type": "code",
   "execution_count": 10,
   "metadata": {},
   "outputs": [
    {
     "name": "stdout",
     "output_type": "stream",
     "text": [
      "Seconds to start: 0.00\n",
      "Seconds to fit: 243.43\n",
      "Grid Scores: \n",
      "\n",
      "{'mean_fit_time': array([ 8.67627144, 11.79463679, 15.56078768, 19.40552145, 23.25121439,\n",
      "       27.1758576 , 31.42106175, 35.05236757, 38.96454382]),\n",
      " 'mean_score_time': array([0.04796177, 0.05684268, 0.05866659, 0.08223128, 0.09467876,\n",
      "       0.10515928, 0.11150926, 0.11441666, 0.11384946]),\n",
      " 'mean_test_score': array([0.65411723, 0.66617186, 0.6748186 , 0.6788663 , 0.68029374,\n",
      "       0.68112375, 0.68141858, 0.68160528, 0.68202856]),\n",
      " 'mean_train_score': array([0.71131868, 0.73588765, 0.75556637, 0.77107572, 0.78415205,\n",
      "       0.79462101, 0.80321201, 0.81231649, 0.82043955]),\n",
      " 'param_n_estimators': masked_array(data=[20, 30, 40, 50, 60, 70, 80, 90, 100],\n",
      "             mask=[False, False, False, False, False, False, False, False,\n",
      "                   False],\n",
      "       fill_value='?',\n",
      "            dtype=object),\n",
      " 'params': [{'n_estimators': 20},\n",
      "            {'n_estimators': 30},\n",
      "            {'n_estimators': 40},\n",
      "            {'n_estimators': 50},\n",
      "            {'n_estimators': 60},\n",
      "            {'n_estimators': 70},\n",
      "            {'n_estimators': 80},\n",
      "            {'n_estimators': 90},\n",
      "            {'n_estimators': 100}],\n",
      " 'rank_test_score': array([9, 8, 7, 6, 5, 4, 3, 2, 1], dtype=int32),\n",
      " 'split0_test_score': array([0.64741877, 0.6632662 , 0.67323469, 0.67787859, 0.67791407,\n",
      "       0.67804297, 0.67884425, 0.67845297, 0.67896059]),\n",
      " 'split0_train_score': array([0.71035113, 0.73580871, 0.75784563, 0.77310903, 0.78859069,\n",
      "       0.80015604, 0.80825091, 0.81832231, 0.826348  ]),\n",
      " 'split1_test_score': array([0.65977765, 0.66918867, 0.67492646, 0.67737538, 0.67974096,\n",
      "       0.68050338, 0.68125097, 0.68039142, 0.68067502]),\n",
      " 'split1_train_score': array([0.71379305, 0.73740726, 0.75578984, 0.77105411, 0.78417191,\n",
      "       0.79485503, 0.80303083, 0.81148539, 0.8194295 ]),\n",
      " 'split2_test_score': array([0.64882506, 0.65926596, 0.66875474, 0.6710773 , 0.67261033,\n",
      "       0.67396512, 0.67309494, 0.67371154, 0.67549624]),\n",
      " 'split2_train_score': array([0.71431739, 0.73965004, 0.75650241, 0.77196101, 0.78389136,\n",
      "       0.79263735, 0.80064589, 0.80958374, 0.81616661]),\n",
      " 'split3_test_score': array([0.6604483 , 0.67296701, 0.68235869, 0.68913407, 0.69090991,\n",
      "       0.69198392, 0.69248451, 0.69386558, 0.6929828 ]),\n",
      " 'split3_train_score': array([0.70681315, 0.73068459, 0.75212758, 0.76817874, 0.77995424,\n",
      "       0.79083561, 0.8009204 , 0.80987453, 0.81981408]),\n",
      " 'std_fit_time': array([0.14617283, 0.15309518, 0.11055961, 0.28601983, 0.07847409,\n",
      "       0.26177274, 0.06234741, 0.43003996, 0.31927625]),\n",
      " 'std_score_time': array([0.01149934, 0.0159711 , 0.0020369 , 0.00567023, 0.02340351,\n",
      "       0.02055643, 0.01412559, 0.00648297, 0.02040797]),\n",
      " 'std_test_score': array([0.00602081, 0.00527748, 0.00490258, 0.00650555, 0.00666523,\n",
      "       0.00669068, 0.0070425 , 0.00748382, 0.00659369]),\n",
      " 'std_train_score': array([0.00301458, 0.00329935, 0.00211816, 0.00182421, 0.00305743,\n",
      "       0.00349841, 0.00305204, 0.00354231, 0.00369388])}\n",
      "Best Model Parameters: {'n_estimators': 100}\n",
      "Best Model Score: 0.6820\n"
     ]
    }
   ],
   "source": [
    "parameters = {\n",
    "    'n_estimators': range(20, 101, 10)\n",
    "}\n",
    "\n",
    "model = XGBClassifier(\n",
    "    max_depth=5,\n",
    "    min_child_weight=1,\n",
    "    gamma=0,\n",
    "    subsample=1.0,\n",
    "    colsample_bytree=1.0,\n",
    "    scale_pos_weight=0.5,\n",
    "    learning_rate=0.1,\n",
    ")\n",
    "\n",
    "grid_searcher(model, train_sample, test_sample, parameters=parameters)"
   ]
  },
  {
   "cell_type": "code",
   "execution_count": 11,
   "metadata": {},
   "outputs": [
    {
     "data": {
      "image/png": "[encoded data removed]",
      "text/plain": [
       "<Figure size 432x288 with 1 Axes>"
      ]
     },
     "metadata": {},
     "output_type": "display_data"
    }
   ],
   "source": [
    "x = range(20, 101, 10)\n",
    "y = [0.65411723, 0.66617186, 0.6748186 , 0.6788663 , 0.68029374,\n",
    "       0.68112375, 0.68141858, 0.68160528, 0.68202856]\n",
    "cv_plotter(x, y, 'XBC', 'N Estimators')"
   ]
  },
  {
   "cell_type": "code",
   "execution_count": 24,
   "metadata": {},
   "outputs": [
    {
     "name": "stdout",
     "output_type": "stream",
     "text": [
      "Seconds to start: 0.00\n",
      "Seconds to fit: 255.34\n",
      "Grid Scores: \n",
      "\n",
      "{'mean_fit_time': array([32.59346426, 34.52305663, 42.13688123, 51.02830827, 58.46833873]),\n",
      " 'mean_score_time': array([0.115367  , 0.11142927, 0.14764076, 0.15629524, 0.17508006]),\n",
      " 'mean_test_score': array([0.68029374, 0.68141858, 0.68202856, 0.68143364, 0.68121974]),\n",
      " 'mean_train_score': array([0.78415205, 0.80321201, 0.82043955, 0.834667  , 0.84835808]),\n",
      " 'param_n_estimators': masked_array(data=[60, 80, 100, 120, 140],\n",
      "             mask=[False, False, False, False, False],\n",
      "       fill_value='?',\n",
      "            dtype=object),\n",
      " 'params': [{'n_estimators': 60},\n",
      "            {'n_estimators': 80},\n",
      "            {'n_estimators': 100},\n",
      "            {'n_estimators': 120},\n",
      "            {'n_estimators': 140}],\n",
      " 'rank_test_score': array([5, 3, 1, 2, 4], dtype=int32),\n",
      " 'split0_test_score': array([0.67791407, 0.67884425, 0.67896059, 0.67754748, 0.67617684]),\n",
      " 'split0_train_score': array([0.78859069, 0.80825091, 0.826348  , 0.84137521, 0.85531899]),\n",
      " 'split1_test_score': array([0.67974096, 0.68125097, 0.68067502, 0.67970111, 0.6801593 ]),\n",
      " 'split1_train_score': array([0.78417191, 0.80303083, 0.8194295 , 0.83303096, 0.84752968]),\n",
      " 'split2_test_score': array([0.67261033, 0.67309494, 0.67549624, 0.67593945, 0.67553132]),\n",
      " 'split2_train_score': array([0.78389136, 0.80064589, 0.81616661, 0.82937725, 0.84243394]),\n",
      " 'split3_test_score': array([0.69090991, 0.69248451, 0.6929828 , 0.69254702, 0.69301217]),\n",
      " 'split3_train_score': array([0.77995424, 0.8009204 , 0.81981408, 0.83488457, 0.84814971]),\n",
      " 'std_fit_time': array([0.22896929, 0.33755396, 0.43618959, 0.36251042, 0.59185476]),\n",
      " 'std_score_time': array([0.02337511, 0.0092953 , 0.01486928, 0.01416853, 0.01851949]),\n",
      " 'std_test_score': array([0.00666523, 0.0070425 , 0.00659369, 0.0065535 , 0.00703512]),\n",
      " 'std_train_score': array([0.00305743, 0.00305204, 0.00369388, 0.00435044, 0.00459019])}\n",
      "Best Model Parameters: {'n_estimators': 100}\n",
      "Best Model Score: 0.6820\n"
     ]
    }
   ],
   "source": [
    "parameters = {\n",
    "    'n_estimators': range(60, 141, 20)\n",
    "}\n",
    "\n",
    "model = XGBClassifier(\n",
    "    max_depth=5,\n",
    "    min_child_weight=1,\n",
    "    gamma=0,\n",
    "    subsample=1.0,\n",
    "    colsample_bytree=1.0,\n",
    "    scale_pos_weight=0.5,\n",
    "    learning_rate=0.1,\n",
    ")\n",
    "\n",
    "grid_searcher(model, train_sample, test_sample, parameters=parameters)"
   ]
  },
  {
   "cell_type": "code",
   "execution_count": 25,
   "metadata": {},
   "outputs": [
    {
     "data": {
      "image/png": "[encoded data removed]",
      "text/plain": [
       "<Figure size 432x288 with 1 Axes>"
      ]
     },
     "metadata": {},
     "output_type": "display_data"
    }
   ],
   "source": [
    "x = range(60, 141, 20)\n",
    "y = [0.68029374, 0.68141858, 0.68202856, 0.68143364, 0.68121974]\n",
    "cv_plotter(x, y, 'XBC', 'N Estimators')"
   ]
  },
  {
   "cell_type": "markdown",
   "metadata": {},
   "source": [
    "100 trees here"
   ]
  },
  {
   "cell_type": "markdown",
   "metadata": {},
   "source": [
    "---\n",
    "### max_depth"
   ]
  },
  {
   "cell_type": "code",
   "execution_count": 26,
   "metadata": {},
   "outputs": [
    {
     "name": "stdout",
     "output_type": "stream",
     "text": [
      "Seconds to start: 0.00\n",
      "Seconds to fit: 441.78\n",
      "Grid Scores: \n",
      "\n",
      "{'mean_fit_time': array([28.10474026, 42.80416191, 44.58547634, 67.04867703, 69.69356048,\n",
      "       79.32903433, 84.95207822]),\n",
      " 'mean_score_time': array([0.14807397, 0.13850629, 0.13802505, 0.25668144, 0.25408196,\n",
      "       0.21696717, 0.25998431]),\n",
      " 'mean_test_score': array([0.68427622, 0.68369683, 0.68202856, 0.6787101 , 0.67575431,\n",
      "       0.67408312, 0.66823865]),\n",
      " 'mean_train_score': array([0.7386693 , 0.77581269, 0.82043955, 0.86635399, 0.91362228,\n",
      "       0.94877485, 0.97486739]),\n",
      " 'param_max_depth': masked_array(data=[3, 4, 5, 6, 7, 8, 9],\n",
      "             mask=[False, False, False, False, False, False, False],\n",
      "       fill_value='?',\n",
      "            dtype=object),\n",
      " 'params': [{'max_depth': 3},\n",
      "            {'max_depth': 4},\n",
      "            {'max_depth': 5},\n",
      "            {'max_depth': 6},\n",
      "            {'max_depth': 7},\n",
      "            {'max_depth': 8},\n",
      "            {'max_depth': 9}],\n",
      " 'rank_test_score': array([1, 2, 3, 4, 5, 6, 7], dtype=int32),\n",
      " 'split0_test_score': array([0.68238804, 0.68225286, 0.67896059, 0.67839677, 0.67232829,\n",
      "       0.66915371, 0.66381834]),\n",
      " 'split0_train_score': array([0.73970656, 0.7778401 , 0.826348  , 0.86887751, 0.91901133,\n",
      "       0.95577362, 0.97959366]),\n",
      " 'split1_test_score': array([0.67980381, 0.68379099, 0.68067502, 0.6764766 , 0.67371949,\n",
      "       0.67386419, 0.66702424]),\n",
      " 'split1_train_score': array([0.73735353, 0.77730259, 0.8194295 , 0.86578787, 0.91161938,\n",
      "       0.94742768, 0.97284049]),\n",
      " 'split2_test_score': array([0.67896015, 0.67458078, 0.67549624, 0.67064962, 0.66889359,\n",
      "       0.66808203, 0.65968389]),\n",
      " 'split2_train_score': array([0.74198689, 0.77556204, 0.81616661, 0.86100351, 0.90865207,\n",
      "       0.94095485, 0.97153439]),\n",
      " 'split3_test_score': array([0.69595313, 0.69416287, 0.6929828 , 0.68931743, 0.68807631,\n",
      "       0.6852332 , 0.68242872]),\n",
      " 'split3_train_score': array([0.73563021, 0.77254603, 0.81981408, 0.86974707, 0.91520634,\n",
      "       0.95094324, 0.97550101]),\n",
      " 'std_fit_time': array([0.2189192 , 0.42965141, 0.25590978, 0.33491657, 0.12805011,\n",
      "       0.67621618, 0.53676458]),\n",
      " 'std_score_time': array([0.02967392, 0.01997637, 0.00938205, 0.06121877, 0.03214569,\n",
      "       0.00997528, 0.0457376 ]),\n",
      " 'std_test_score': array([0.00685881, 0.00697725, 0.00659369, 0.00675587, 0.00732758,\n",
      "       0.00679488, 0.00859577]),\n",
      " 'std_train_score': array([0.0024005 , 0.00206543, 0.00369388, 0.0034216 , 0.00388155,\n",
      "       0.00540028, 0.00308044])}\n",
      "Best Model Parameters: {'max_depth': 3}\n",
      "Best Model Score: 0.6843\n"
     ]
    }
   ],
   "source": [
    "parameters = {\n",
    "    'max_depth': range(3, 10)\n",
    "}\n",
    "\n",
    "model = XGBClassifier(\n",
    "    n_estimators=100,\n",
    "    min_child_weight=1,\n",
    "    gamma=0,\n",
    "    subsample=1.0,\n",
    "    colsample_bytree=1.0,\n",
    "    scale_pos_weight=0.5,\n",
    "    learning_rate=0.1,\n",
    ")\n",
    "\n",
    "grid_searcher(model, train_sample, test_sample, parameters=parameters)"
   ]
  },
  {
   "cell_type": "code",
   "execution_count": 27,
   "metadata": {},
   "outputs": [
    {
     "data": {
      "image/png": "[encoded data removed]",
      "text/plain": [
       "<Figure size 432x288 with 1 Axes>"
      ]
     },
     "metadata": {},
     "output_type": "display_data"
    }
   ],
   "source": [
    "x = range(3, 10)\n",
    "y = [0.68427622, 0.68369683, 0.68202856, 0.6787101 , 0.67575431,\n",
    "       0.67408312, 0.66823865]\n",
    "cv_plotter(x, y, 'XBC', 'Max Depth')"
   ]
  },
  {
   "cell_type": "markdown",
   "metadata": {},
   "source": [
    "3 it is this time"
   ]
  },
  {
   "cell_type": "markdown",
   "metadata": {},
   "source": [
    "---\n",
    "### min_child_weight"
   ]
  },
  {
   "cell_type": "code",
   "execution_count": 28,
   "metadata": {},
   "outputs": [
    {
     "name": "stdout",
     "output_type": "stream",
     "text": [
      "Seconds to start: 0.00\n",
      "Seconds to fit: 179.09\n",
      "Grid Scores: \n",
      "\n",
      "{'mean_fit_time': array([25.93529135, 22.38775057, 22.57790983, 22.12250465, 22.14968276,\n",
      "       22.09643066, 22.26990128]),\n",
      " 'mean_score_time': array([0.09979212, 0.0923593 , 0.09661418, 0.08533216, 0.08252865,\n",
      "       0.08198541, 0.07326216]),\n",
      " 'mean_test_score': array([0.68427622, 0.6835755 , 0.68417814, 0.68361139, 0.68417834,\n",
      "       0.68427515, 0.68400389]),\n",
      " 'mean_train_score': array([0.7386693 , 0.73781746, 0.73702168, 0.7364176 , 0.73664371,\n",
      "       0.7355454 , 0.73557404]),\n",
      " 'param_min_child_weight': masked_array(data=[1, 2, 3, 4, 5, 6, 7],\n",
      "             mask=[False, False, False, False, False, False, False],\n",
      "       fill_value='?',\n",
      "            dtype=object),\n",
      " 'params': [{'min_child_weight': 1},\n",
      "            {'min_child_weight': 2},\n",
      "            {'min_child_weight': 3},\n",
      "            {'min_child_weight': 4},\n",
      "            {'min_child_weight': 5},\n",
      "            {'min_child_weight': 6},\n",
      "            {'min_child_weight': 7}],\n",
      " 'rank_test_score': array([1, 7, 4, 6, 3, 2, 5], dtype=int32),\n",
      " 'split0_test_score': array([0.68238804, 0.68223533, 0.68267008, 0.68222899, 0.68320987,\n",
      "       0.68321056, 0.68284888]),\n",
      " 'split0_train_score': array([0.73970656, 0.73853032, 0.7389657 , 0.73673668, 0.73815077,\n",
      "       0.73656958, 0.73575189]),\n",
      " 'split1_test_score': array([0.67980381, 0.68118877, 0.68126851, 0.67985404, 0.68144318,\n",
      "       0.68175206, 0.68116117]),\n",
      " 'split1_train_score': array([0.73735353, 0.73708094, 0.73643504, 0.73692001, 0.73673641,\n",
      "       0.73508731, 0.73625554]),\n",
      " 'split2_test_score': array([0.67896015, 0.67786916, 0.67876762, 0.67683277, 0.67739652,\n",
      "       0.67816156, 0.67733913]),\n",
      " 'split2_train_score': array([0.74198689, 0.74061491, 0.73867088, 0.73857285, 0.73883721,\n",
      "       0.73740762, 0.73769791]),\n",
      " 'split3_test_score': array([0.69595313, 0.69300892, 0.69400654, 0.69552994, 0.69466394,\n",
      "       0.69397657, 0.69466654]),\n",
      " 'split3_train_score': array([0.73563021, 0.73504366, 0.73401509, 0.73344087, 0.73285044,\n",
      "       0.73311709, 0.73259083]),\n",
      " 'std_fit_time': array([0.18265947, 0.13344027, 0.13857489, 0.14082829, 0.20367638,\n",
      "       0.05688015, 0.16631809]),\n",
      " 'std_score_time': array([0.01099613, 0.00696602, 0.01215689, 0.00380456, 0.00089339,\n",
      "       0.00124454, 0.01000625]),\n",
      " 'std_test_score': array([0.00685881, 0.00567979, 0.00584395, 0.00714185, 0.00641004,\n",
      "       0.00589467, 0.00647149]),\n",
      " 'std_train_score': array([0.0024005 , 0.00203533, 0.00199266, 0.00186147, 0.00231734,\n",
      "       0.00162968, 0.00186456])}\n",
      "Best Model Parameters: {'min_child_weight': 1}\n",
      "Best Model Score: 0.6843\n"
     ]
    }
   ],
   "source": [
    "parameters = {\n",
    "    'min_child_weight': range(1, 8)\n",
    "}\n",
    "\n",
    "model = XGBClassifier(\n",
    "    n_estimators=100,\n",
    "    max_depth=3,\n",
    "    gamma=0,\n",
    "    subsample=1.0,\n",
    "    colsample_bytree=1.0,\n",
    "    scale_pos_weight=0.5,\n",
    "    learning_rate=0.1,\n",
    ")\n",
    "\n",
    "grid_searcher(model, train_sample, test_sample, parameters=parameters)"
   ]
  },
  {
   "cell_type": "code",
   "execution_count": 29,
   "metadata": {},
   "outputs": [
    {
     "data": {
      "image/png": "[encoded data removed]",
      "text/plain": [
       "<Figure size 432x288 with 1 Axes>"
      ]
     },
     "metadata": {},
     "output_type": "display_data"
    }
   ],
   "source": [
    "x = range(1, 8)\n",
    "y = [0.68427622, 0.6835755 , 0.68417814, 0.68361139, 0.68417834,\n",
    "       0.68427515, 0.68400389]\n",
    "cv_plotter(x, y, 'XBC', 'Min Child Weight')"
   ]
  },
  {
   "cell_type": "markdown",
   "metadata": {},
   "source": [
    "Neat, just sticking with 1 again, not much fluctuation here./\n"
   ]
  },
  {
   "cell_type": "markdown",
   "metadata": {},
   "source": [
    "---\n",
    "### gamma"
   ]
  },
  {
   "cell_type": "code",
   "execution_count": 30,
   "metadata": {},
   "outputs": [
    {
     "name": "stdout",
     "output_type": "stream",
     "text": [
      "Seconds to start: 0.00\n",
      "Seconds to fit: 172.17\n",
      "Grid Scores: \n",
      "\n",
      "{'mean_fit_time': array([24.00964379, 25.28169459, 25.7905764 , 24.12879723, 28.05706477,\n",
      "       24.65962386]),\n",
      " 'mean_score_time': array([0.09482479, 0.14940524, 0.08990932, 0.09581167, 0.09298736,\n",
      "       0.08814758]),\n",
      " 'mean_test_score': array([0.68427622, 0.68454572, 0.68316335, 0.68379308, 0.68434285,\n",
      "       0.68373129]),\n",
      " 'mean_train_score': array([0.7386693 , 0.73907477, 0.73877513, 0.73935609, 0.7389076 ,\n",
      "       0.7387767 ]),\n",
      " 'param_gamma': masked_array(data=[0.0, 0.1, 0.2, 0.30000000000000004, 0.4, 0.5],\n",
      "             mask=[False, False, False, False, False, False],\n",
      "       fill_value='?',\n",
      "            dtype=object),\n",
      " 'params': [{'gamma': 0.0},\n",
      "            {'gamma': 0.1},\n",
      "            {'gamma': 0.2},\n",
      "            {'gamma': 0.30000000000000004},\n",
      "            {'gamma': 0.4},\n",
      "            {'gamma': 0.5}],\n",
      " 'rank_test_score': array([3, 1, 6, 4, 2, 5], dtype=int32),\n",
      " 'split0_test_score': array([0.68238804, 0.68165738, 0.68165738, 0.68358819, 0.68358819,\n",
      "       0.68195694]),\n",
      " 'split0_train_score': array([0.73970656, 0.740325  , 0.740325  , 0.74003506, 0.74003506,\n",
      "       0.74033594]),\n",
      " 'split1_test_score': array([0.67980381, 0.68161262, 0.6788267 , 0.68029954, 0.67959195,\n",
      "       0.67959195]),\n",
      " 'split1_train_score': array([0.73735353, 0.73835698, 0.73753437, 0.73847322, 0.73784631,\n",
      "       0.73784631]),\n",
      " 'split2_test_score': array([0.67896015, 0.67896015, 0.67621637, 0.67561474, 0.6785215 ,\n",
      "       0.6785215 ]),\n",
      " 'split2_train_score': array([0.74198689, 0.74198689, 0.74161096, 0.74266144, 0.74149439,\n",
      "       0.74149439]),\n",
      " 'split3_test_score': array([0.69595313, 0.69595313, 0.69595313, 0.69566987, 0.69566987,\n",
      "       0.694855  ]),\n",
      " 'split3_train_score': array([0.73563021, 0.73563021, 0.73563021, 0.73625464, 0.73625464,\n",
      "       0.73543018]),\n",
      " 'std_fit_time': array([0.19118437, 0.33831415, 0.13565923, 0.13983405, 0.09954424,\n",
      "       0.21684788]),\n",
      " 'std_score_time': array([0.00539316, 0.02839208, 0.00783804, 0.01402971, 0.01367594,\n",
      "       0.01528528]),\n",
      " 'std_test_score': array([0.00685881, 0.00667586, 0.00763063, 0.00741928, 0.00680669,\n",
      "       0.00654133]),\n",
      " 'std_train_score': array([0.0024005 , 0.00236769, 0.00233848, 0.00233371, 0.00200793,\n",
      "       0.0023389 ])}\n",
      "Best Model Parameters: {'gamma': 0.1}\n",
      "Best Model Score: 0.6845\n"
     ]
    }
   ],
   "source": [
    "parameters = {\n",
    "    'gamma': np.arange(0.0, 0.6, 0.1)\n",
    "}\n",
    "\n",
    "model = XGBClassifier(\n",
    "    n_estimators=100,\n",
    "    max_depth=3,\n",
    "    min_child_weight=1,\n",
    "    subsample=1.0,\n",
    "    colsample_bytree=1.0,\n",
    "    scale_pos_weight=0.5,\n",
    "    learning_rate=0.1,\n",
    ")\n",
    "\n",
    "grid_searcher(model, train_sample, test_sample, parameters=parameters)"
   ]
  },
  {
   "cell_type": "code",
   "execution_count": 31,
   "metadata": {},
   "outputs": [
    {
     "data": {
      "image/png": "[encoded data removed]",
      "text/plain": [
       "<Figure size 432x288 with 1 Axes>"
      ]
     },
     "metadata": {},
     "output_type": "display_data"
    }
   ],
   "source": [
    "x = x = np.arange(0.0, 0.6, 0.1)\n",
    "y = [0.68427622, 0.68454572, 0.68316335, 0.68379308, 0.68434285,\n",
    "       0.68373129]\n",
    "cv_plotter(x, y, 'XBC', 'Gamma')"
   ]
  },
  {
   "cell_type": "markdown",
   "metadata": {},
   "source": [
    "Setting gamma to 0.1"
   ]
  },
  {
   "cell_type": "markdown",
   "metadata": {},
   "source": [
    "---\n",
    "### subsample"
   ]
  },
  {
   "cell_type": "code",
   "execution_count": 15,
   "metadata": {},
   "outputs": [
    {
     "name": "stdout",
     "output_type": "stream",
     "text": [
      "Seconds to start: 0.00\n",
      "Seconds to fit: 159.95\n",
      "Grid Scores: \n",
      "\n",
      "{'mean_fit_time': array([19.92357302, 22.93375194, 24.33000213, 23.01577896, 25.4172219 ,\n",
      "       24.46254206]),\n",
      " 'mean_score_time': array([0.12258619, 0.08877832, 0.09605783, 0.11735702, 0.09134686,\n",
      "       0.08752751]),\n",
      " 'mean_test_score': array([0.68355446, 0.68431964, 0.6846233 , 0.68411999, 0.6859445 ,\n",
      "       0.68454572]),\n",
      " 'mean_train_score': array([0.73214935, 0.7342149 , 0.73600782, 0.73682033, 0.73783442,\n",
      "       0.73907477]),\n",
      " 'param_subsample': masked_array(data=[0.5, 0.6, 0.7, 0.8, 0.9, 1.0],\n",
      "             mask=[False, False, False, False, False, False],\n",
      "       fill_value='?',\n",
      "            dtype=object),\n",
      " 'params': [{'subsample': 0.5},\n",
      "            {'subsample': 0.6},\n",
      "            {'subsample': 0.7},\n",
      "            {'subsample': 0.8},\n",
      "            {'subsample': 0.9},\n",
      "            {'subsample': 1.0}],\n",
      " 'rank_test_score': array([6, 4, 2, 5, 1, 3], dtype=int32),\n",
      " 'split0_test_score': array([0.68366771, 0.6835947 , 0.68432684, 0.68371743, 0.68651463,\n",
      "       0.68165738]),\n",
      " 'split0_train_score': array([0.73356246, 0.73507131, 0.73596524, 0.73686065, 0.73911307,\n",
      "       0.740325  ]),\n",
      " 'split1_test_score': array([0.67691474, 0.67807923, 0.67789945, 0.68222611, 0.68342005,\n",
      "       0.68161262]),\n",
      " 'split1_train_score': array([0.73195069, 0.73329232, 0.7361413 , 0.73775269, 0.7386945 ,\n",
      "       0.73835698]),\n",
      " 'split2_test_score': array([0.67776906, 0.68005042, 0.67856647, 0.67790913, 0.67784308,\n",
      "       0.67896015]),\n",
      " 'split2_train_score': array([0.7337066 , 0.73753343, 0.73872631, 0.73956891, 0.73911901,\n",
      "       0.74198689]),\n",
      " 'split3_test_score': array([0.69586631, 0.69555431, 0.69770049, 0.69262732, 0.69600016,\n",
      "       0.69595313]),\n",
      " 'split3_train_score': array([0.72937764, 0.73096253, 0.73319844, 0.73309905, 0.7344111 ,\n",
      "       0.73563021]),\n",
      " 'std_fit_time': array([0.21298283, 0.05319133, 0.10108776, 0.05520273, 0.21103595,\n",
      "       0.03795156]),\n",
      " 'std_score_time': array([0.03011928, 0.00664706, 0.00860334, 0.05088115, 0.01340932,\n",
      "       0.01521188]),\n",
      " 'std_test_score': array([0.00756875, 0.00678061, 0.0079528 , 0.00535478, 0.00658486,\n",
      "       0.00667586]),\n",
      " 'std_train_score': array([0.00174239, 0.00240703, 0.00195592, 0.00235974, 0.00198394,\n",
      "       0.00236769])}\n",
      "Best Model Parameters: {'subsample': 0.9}\n",
      "Best Model Score: 0.6859\n"
     ]
    }
   ],
   "source": [
    "parameters = {\n",
    "    'subsample': [0.5, 0.6, 0.7, 0.8, 0.9, 1.0]\n",
    "}\n",
    "\n",
    "model = XGBClassifier(\n",
    "    n_estimators=100,\n",
    "    max_depth=3,\n",
    "    min_child_weight=1,\n",
    "    gamma=0.1,\n",
    "    colsample_bytree=1.0,\n",
    "    scale_pos_weight=0.5,\n",
    "    learning_rate=0.1,\n",
    ")\n",
    "\n",
    "grid_searcher(model, train_sample, test_sample, parameters=parameters)"
   ]
  },
  {
   "cell_type": "code",
   "execution_count": 19,
   "metadata": {},
   "outputs": [
    {
     "data": {
      "image/png": "[encoded data removed]",
      "text/plain": [
       "<Figure size 432x288 with 1 Axes>"
      ]
     },
     "metadata": {},
     "output_type": "display_data"
    }
   ],
   "source": [
    "x = [0.5, 0.6, 0.7, 0.8, 0.9, 1.0]\n",
    "y = [0.68355446, 0.68431964, 0.6846233 , 0.68411999, 0.6859445 ,\n",
    "       0.68454572]\n",
    "cv_plotter(x, y, 'XBC', 'Subsample')"
   ]
  },
  {
   "cell_type": "markdown",
   "metadata": {},
   "source": [
    "---\n",
    "### colsample_bytree"
   ]
  },
  {
   "cell_type": "code",
   "execution_count": 20,
   "metadata": {},
   "outputs": [
    {
     "name": "stdout",
     "output_type": "stream",
     "text": [
      "Seconds to start: 0.00\n",
      "Seconds to fit: 136.12\n",
      "Grid Scores: \n",
      "\n",
      "{'mean_fit_time': array([13.68739229, 14.7819767 , 16.12863797, 17.88667554, 21.26081622,\n",
      "       30.79927754]),\n",
      " 'mean_score_time': array([0.12613493, 0.09250033, 0.10701203, 0.09230596, 0.14705932,\n",
      "       0.09006518]),\n",
      " 'mean_test_score': array([0.68428031, 0.68515731, 0.68555163, 0.68476768, 0.68492221,\n",
      "       0.6859445 ]),\n",
      " 'mean_train_score': array([0.73487209, 0.73554591, 0.73640519, 0.73707006, 0.73698988,\n",
      "       0.73783442]),\n",
      " 'param_colsample_bytree': masked_array(data=[0.5, 0.6, 0.7, 0.8, 0.9, 1.0],\n",
      "             mask=[False, False, False, False, False, False],\n",
      "       fill_value='?',\n",
      "            dtype=object),\n",
      " 'params': [{'colsample_bytree': 0.5},\n",
      "            {'colsample_bytree': 0.6},\n",
      "            {'colsample_bytree': 0.7},\n",
      "            {'colsample_bytree': 0.8},\n",
      "            {'colsample_bytree': 0.9},\n",
      "            {'colsample_bytree': 1.0}],\n",
      " 'rank_test_score': array([6, 3, 2, 5, 4, 1], dtype=int32),\n",
      " 'split0_test_score': array([0.68206852, 0.68513206, 0.68404129, 0.68333609, 0.68249117,\n",
      "       0.68651463]),\n",
      " 'split0_train_score': array([0.73529242, 0.73638075, 0.73666806, 0.73854397, 0.73803896,\n",
      "       0.73911307]),\n",
      " 'split1_test_score': array([0.68298592, 0.68184034, 0.68291727, 0.68252016, 0.6824402 ,\n",
      "       0.68342005]),\n",
      " 'split1_train_score': array([0.73514147, 0.73549765, 0.73603524, 0.73654349, 0.73666152,\n",
      "       0.7386945 ]),\n",
      " 'split2_test_score': array([0.67625071, 0.67848325, 0.67919713, 0.67760513, 0.67959072,\n",
      "       0.67784308]),\n",
      " 'split2_train_score': array([0.73595474, 0.73605249, 0.73839833, 0.73829917, 0.73934345,\n",
      "       0.73911901]),\n",
      " 'split3_test_score': array([0.69581637, 0.6951736 , 0.69605101, 0.69560951, 0.69516709,\n",
      "       0.69600016]),\n",
      " 'split3_train_score': array([0.73309972, 0.73425275, 0.73451911, 0.73489359, 0.73391557,\n",
      "       0.7344111 ]),\n",
      " 'std_fit_time': array([0.03762625, 0.07959742, 0.12357506, 0.16020833, 0.21069793,\n",
      "       0.32274844]),\n",
      " 'std_score_time': array([0.01385433, 0.00679898, 0.0208832 , 0.0094182 , 0.02562802,\n",
      "       0.02463465]),\n",
      " 'std_test_score': array([0.00714347, 0.00624234, 0.00632125, 0.00663217, 0.00603011,\n",
      "       0.00658486]),\n",
      " 'std_train_score': array([0.00106802, 0.00081058, 0.00139067, 0.00147457, 0.0020124 ,\n",
      "       0.00198394])}\n",
      "Best Model Parameters: {'colsample_bytree': 1.0}\n",
      "Best Model Score: 0.6859\n"
     ]
    }
   ],
   "source": [
    "parameters = {\n",
    "    'colsample_bytree': [0.5, 0.6, 0.7, 0.8, 0.9, 1.0]\n",
    "}\n",
    "\n",
    "model = XGBClassifier(\n",
    "    n_estimators=100,\n",
    "    max_depth=3,\n",
    "    min_child_weight=1,\n",
    "    gamma=0.1,\n",
    "    subsample=0.9,\n",
    "    scale_pos_weight=0.5,\n",
    "    learning_rate=0.1,\n",
    ")\n",
    "\n",
    "grid_searcher(model, train_sample, test_sample, parameters=parameters)"
   ]
  },
  {
   "cell_type": "code",
   "execution_count": 22,
   "metadata": {},
   "outputs": [
    {
     "data": {
      "image/png": "[encoded data removed]",
      "text/plain": [
       "<Figure size 432x288 with 1 Axes>"
      ]
     },
     "metadata": {},
     "output_type": "display_data"
    }
   ],
   "source": [
    "x = [0.5, 0.6, 0.7, 0.8, 0.9, 1.0]\n",
    "y = [0.68428031, 0.68515731, 0.68555163, 0.68476768, 0.68492221,\n",
    "       0.6859445]\n",
    "cv_plotter(x, y, 'XBC', 'Colsample By Tree')"
   ]
  },
  {
   "cell_type": "markdown",
   "metadata": {},
   "source": [
    "Looks like the default of 1.0 is the right parameter here"
   ]
  },
  {
   "cell_type": "markdown",
   "metadata": {},
   "source": [
    "---\n",
    "### scale_pos_weight"
   ]
  },
  {
   "cell_type": "code",
   "execution_count": 25,
   "metadata": {},
   "outputs": [
    {
     "name": "stdout",
     "output_type": "stream",
     "text": [
      "Seconds to start: 0.00\n",
      "Seconds to fit: 166.16\n",
      "Grid Scores: \n",
      "\n",
      "{'mean_fit_time': array([11.67996299, 26.06900322, 28.79568923, 22.98619199, 30.41998023,\n",
      "       26.33239233]),\n",
      " 'mean_score_time': array([0.04177415, 0.0824275 , 0.09983158, 0.09352326, 0.107979  ,\n",
      "       0.0831098 ]),\n",
      " 'mean_test_score': array([0.5       , 0.68429407, 0.68432293, 0.68553968, 0.68501612,\n",
      "       0.68510961]),\n",
      " 'mean_train_score': array([0.5       , 0.73105689, 0.73682098, 0.73881381, 0.74149348,\n",
      "       0.7431812 ]),\n",
      " 'param_scale_pos_weight': masked_array(data=[0.0, 0.2, 0.4, 0.6000000000000001, 0.8, 1.0],\n",
      "             mask=[False, False, False, False, False, False],\n",
      "       fill_value='?',\n",
      "            dtype=object),\n",
      " 'params': [{'scale_pos_weight': 0.0},\n",
      "            {'scale_pos_weight': 0.2},\n",
      "            {'scale_pos_weight': 0.4},\n",
      "            {'scale_pos_weight': 0.6000000000000001},\n",
      "            {'scale_pos_weight': 0.8},\n",
      "            {'scale_pos_weight': 1.0}],\n",
      " 'rank_test_score': array([6, 5, 4, 1, 3, 2], dtype=int32),\n",
      " 'split0_test_score': array([0.5       , 0.68357063, 0.68408762, 0.68367519, 0.68528614,\n",
      "       0.68335031]),\n",
      " 'split0_train_score': array([0.5       , 0.73223496, 0.73762096, 0.74008398, 0.7430823 ,\n",
      "       0.74393746]),\n",
      " 'split1_test_score': array([0.5       , 0.68091714, 0.68059071, 0.68352096, 0.68070065,\n",
      "       0.68196913]),\n",
      " 'split1_train_score': array([0.5       , 0.7306038 , 0.73697199, 0.73972397, 0.74071395,\n",
      "       0.74420383]),\n",
      " 'split2_test_score': array([0.5       , 0.67796641, 0.6775655 , 0.67959812, 0.67729019,\n",
      "       0.67889715]),\n",
      " 'split2_train_score': array([0.5       , 0.73211874, 0.73875622, 0.73991946, 0.74384659,\n",
      "       0.74530161]),\n",
      " 'split3_test_score': array([0.5       , 0.69472219, 0.69504793, 0.6953647 , 0.69678748,\n",
      "       0.69622208]),\n",
      " 'split3_train_score': array([0.5       , 0.72927005, 0.73393477, 0.73552783, 0.73833107,\n",
      "       0.73928188]),\n",
      " 'std_fit_time': array([0.14075255, 0.10500941, 0.22320803, 0.0508079 , 0.79848535,\n",
      "       0.56316985]),\n",
      " 'std_score_time': array([0.00855042, 0.00330147, 0.00693877, 0.00750483, 0.01456323,\n",
      "       0.01032271]),\n",
      " 'std_test_score': array([0.        , 0.00633851, 0.00660809, 0.00590298, 0.00736451,\n",
      "       0.00661502]),\n",
      " 'std_train_score': array([0.        , 0.00121588, 0.00178453, 0.00190144, 0.00216044,\n",
      "       0.0023086 ])}\n",
      "Best Model Parameters: {'scale_pos_weight': 0.6000000000000001}\n",
      "Best Model Score: 0.6855\n"
     ]
    }
   ],
   "source": [
    "parameters = {\n",
    "    'scale_pos_weight': np.arange(0.0, 1.1, 0.2)\n",
    "}\n",
    "\n",
    "model = XGBClassifier(\n",
    "    n_estimators=100,\n",
    "    max_depth=3,\n",
    "    min_child_weight=1,\n",
    "    gamma=0.1,\n",
    "    subsample=0.9,\n",
    "    colsample_bytree=1.0,\n",
    "    learning_rate=0.1,\n",
    ")\n",
    "\n",
    "grid_searcher(model, train_sample, test_sample, parameters=parameters)"
   ]
  },
  {
   "cell_type": "code",
   "execution_count": 29,
   "metadata": {},
   "outputs": [
    {
     "data": {
      "image/png": "[encoded data removed]",
      "text/plain": [
       "<Figure size 432x288 with 1 Axes>"
      ]
     },
     "metadata": {},
     "output_type": "display_data"
    }
   ],
   "source": [
    "x = np.arange(0.2, 1.1, 0.2)\n",
    "y = [0.68429407, 0.68432293, 0.68553968, 0.68501612,\n",
    "       0.68510961]\n",
    "cv_plotter(x, y, 'XBC', 'Scale Positive Weight')"
   ]
  },
  {
   "cell_type": "markdown",
   "metadata": {},
   "source": [
    "Going with 0.6"
   ]
  },
  {
   "cell_type": "markdown",
   "metadata": {},
   "source": [
    "---\n",
    "### learning_rate"
   ]
  },
  {
   "cell_type": "markdown",
   "metadata": {},
   "source": [
    "---\n",
    "* n_estimators: 100\n",
    "* learning_rate: 0.1"
   ]
  },
  {
   "cell_type": "code",
   "execution_count": 30,
   "metadata": {},
   "outputs": [
    {
     "name": "stdout",
     "output_type": "stream",
     "text": [
      "Seconds to start: 0.00\n",
      "Seconds to fit: 17.36\n",
      "CV Score : Mean - 0.686 | Std - 0.007 | Min - 0.677 | Max - 0.695\n",
      "Seconds to CV: 83.98\n"
     ]
    },
    {
     "data": {
      "image/png": "[encoded data removed]",
      "text/plain": [
       "<Figure size 432x288 with 1 Axes>"
      ]
     },
     "metadata": {},
     "output_type": "display_data"
    }
   ],
   "source": [
    "model = XGBClassifier(\n",
    "    n_estimators=100,\n",
    "    max_depth=3,\n",
    "    min_child_weight=1,\n",
    "    gamma=0.1,\n",
    "    subsample=0.9,\n",
    "    colsample_bytree=1.0,\n",
    "    scale_pos_weight=0.6,\n",
    "    learning_rate=0.1,\n",
    ")\n",
    "\n",
    "\n",
    "model_fit(model, train_sample, test_sample, feature_importance=True)"
   ]
  },
  {
   "cell_type": "markdown",
   "metadata": {},
   "source": [
    "---\n",
    "* n_estimators: 200\n",
    "* learning_rate: 0.05"
   ]
  },
  {
   "cell_type": "code",
   "execution_count": 31,
   "metadata": {},
   "outputs": [
    {
     "name": "stdout",
     "output_type": "stream",
     "text": [
      "Seconds to start: 0.00\n",
      "Seconds to fit: 33.36\n",
      "CV Score : Mean - 0.686 | Std - 0.006 | Min - 0.678 | Max - 0.694\n",
      "Seconds to CV: 163.47\n"
     ]
    },
    {
     "data": {
      "image/png": "[encoded data removed]",
      "text/plain": [
       "<Figure size 432x288 with 1 Axes>"
      ]
     },
     "metadata": {},
     "output_type": "display_data"
    }
   ],
   "source": [
    "model = XGBClassifier(\n",
    "    n_estimators=200,\n",
    "    max_depth=3,\n",
    "    min_child_weight=1,\n",
    "    gamma=0.1,\n",
    "    subsample=0.9,\n",
    "    colsample_bytree=1.0,\n",
    "    scale_pos_weight=0.6,\n",
    "    learning_rate=0.05,\n",
    ")\n",
    "\n",
    "\n",
    "model_fit(model, train_sample, test_sample, feature_importance=True)"
   ]
  },
  {
   "cell_type": "markdown",
   "metadata": {},
   "source": [
    "---\n",
    "* n_estimators: 333\n",
    "* learning_rate: 0.03"
   ]
  },
  {
   "cell_type": "code",
   "execution_count": 32,
   "metadata": {},
   "outputs": [
    {
     "name": "stdout",
     "output_type": "stream",
     "text": [
      "Seconds to start: 0.00\n",
      "Seconds to fit: 58.74\n",
      "CV Score : Mean - 0.686 | Std - 0.006 | Min - 0.679 | Max - 0.695\n",
      "Seconds to CV: 270.56\n"
     ]
    },
    {
     "data": {
      "image/png": "[encoded data removed]",
      "text/plain": [
       "<Figure size 432x288 with 1 Axes>"
      ]
     },
     "metadata": {},
     "output_type": "display_data"
    }
   ],
   "source": [
    "model = XGBClassifier(\n",
    "    n_estimators=333,\n",
    "    max_depth=3,\n",
    "    min_child_weight=1,\n",
    "    gamma=0.1,\n",
    "    subsample=0.9,\n",
    "    colsample_bytree=1.0,\n",
    "    scale_pos_weight=0.6,\n",
    "    learning_rate=0.03,\n",
    ")\n",
    "\n",
    "model_fit(model, train_sample, test_sample, feature_importance=True)"
   ]
  },
  {
   "cell_type": "markdown",
   "metadata": {},
   "source": [
    "---\n",
    "* n_estimators: 666\n",
    "* learning_rate: 0.02"
   ]
  },
  {
   "cell_type": "code",
   "execution_count": 33,
   "metadata": {},
   "outputs": [
    {
     "name": "stdout",
     "output_type": "stream",
     "text": [
      "Seconds to start: 0.00\n",
      "Seconds to fit: 107.21\n",
      "CV Score : Mean - 0.688 | Std - 0.006 | Min - 0.679 | Max - 0.696\n",
      "Seconds to CV: 536.39\n"
     ]
    },
    {
     "data": {
      "image/png": "[encoded data removed]",
      "text/plain": [
       "<Figure size 432x288 with 1 Axes>"
      ]
     },
     "metadata": {},
     "output_type": "display_data"
    }
   ],
   "source": [
    "model = XGBClassifier(\n",
    "    n_estimators=666,\n",
    "    max_depth=3,\n",
    "    min_child_weight=1,\n",
    "    gamma=0.1,\n",
    "    subsample=0.9,\n",
    "    colsample_bytree=1.0,\n",
    "    scale_pos_weight=0.6,\n",
    "    learning_rate=0.02\n",
    ")\n",
    "\n",
    "model_fit(model, train_sample, test_sample, feature_importance=True)"
   ]
  },
  {
   "cell_type": "markdown",
   "metadata": {},
   "source": [
    "---\n",
    "* n_estimators: 1333\n",
    "* learning_rate: 0.01"
   ]
  },
  {
   "cell_type": "code",
   "execution_count": null,
   "metadata": {},
   "outputs": [],
   "source": [
    "# Haven't run this yet, would likely take 15+ mins to run locally\n",
    "\n",
    "# model = XGBClassifier(\n",
    "#     n_estimators=1333,\n",
    "#     max_depth=3,\n",
    "#     min_child_weight=1,\n",
    "#     gamma=0.1,\n",
    "#     subsample=0.9,\n",
    "#     colsample_bytree=1.0,\n",
    "#     scale_pos_weight=0.6,\n",
    "#     learning_rate=0.01\n",
    "# )\n",
    "\n",
    "\n",
    "# model_fit(model, train_sample, test_sample, feature_importance=True)"
   ]
  }
 ],
 "metadata": {
  "kernelspec": {
   "display_name": "Python 3",
   "language": "python",
   "name": "python3"
  },
  "language_info": {
   "codemirror_mode": {
    "name": "ipython",
    "version": 3
   },
   "file_extension": ".py",
   "mimetype": "text/x-python",
   "name": "python",
   "nbconvert_exporter": "python",
   "pygments_lexer": "ipython3",
   "version": "3.6.6"
  }
 },
 "nbformat": 4,
 "nbformat_minor": 2
}
