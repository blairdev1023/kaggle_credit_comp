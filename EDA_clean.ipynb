{
 "cells": [
  {
   "cell_type": "code",
   "execution_count": 1,
   "metadata": {},
   "outputs": [],
   "source": [
    "import pandas as pd\n",
    "import numpy as np\n",
    "from scipy import stats\n",
    "import seaborn as sns\n",
    "import matplotlib.pyplot as plt\n",
    "\n",
    "sns.set()\n",
    "%matplotlib inline"
   ]
  },
  {
   "cell_type": "markdown",
   "metadata": {},
   "source": [
    "# Load"
   ]
  },
  {
   "cell_type": "code",
   "execution_count": 2,
   "metadata": {},
   "outputs": [
    {
     "data": {
      "text/html": [
       "<div>\n",
       "<style scoped>\n",
       "    .dataframe tbody tr th:only-of-type {\n",
       "        vertical-align: middle;\n",
       "    }\n",
       "\n",
       "    .dataframe tbody tr th {\n",
       "        vertical-align: top;\n",
       "    }\n",
       "\n",
       "    .dataframe thead th {\n",
       "        text-align: right;\n",
       "    }\n",
       "</style>\n",
       "<table border=\"1\" class=\"dataframe\">\n",
       "  <thead>\n",
       "    <tr style=\"text-align: right;\">\n",
       "      <th></th>\n",
       "      <th>sk_id_curr</th>\n",
       "      <th>target</th>\n",
       "      <th>name_contract_type</th>\n",
       "      <th>code_gender</th>\n",
       "      <th>flag_own_car</th>\n",
       "      <th>flag_own_realty</th>\n",
       "      <th>cnt_children</th>\n",
       "      <th>amt_income_total</th>\n",
       "      <th>amt_credit</th>\n",
       "      <th>amt_annuity</th>\n",
       "      <th>...</th>\n",
       "      <th>flag_document_18</th>\n",
       "      <th>flag_document_19</th>\n",
       "      <th>flag_document_20</th>\n",
       "      <th>flag_document_21</th>\n",
       "      <th>amt_req_credit_bureau_hour</th>\n",
       "      <th>amt_req_credit_bureau_day</th>\n",
       "      <th>amt_req_credit_bureau_week</th>\n",
       "      <th>amt_req_credit_bureau_mon</th>\n",
       "      <th>amt_req_credit_bureau_qrt</th>\n",
       "      <th>amt_req_credit_bureau_year</th>\n",
       "    </tr>\n",
       "  </thead>\n",
       "  <tbody>\n",
       "    <tr>\n",
       "      <th>0</th>\n",
       "      <td>100002</td>\n",
       "      <td>1</td>\n",
       "      <td>Cash loans</td>\n",
       "      <td>M</td>\n",
       "      <td>N</td>\n",
       "      <td>Y</td>\n",
       "      <td>0</td>\n",
       "      <td>202500.0</td>\n",
       "      <td>406597.5</td>\n",
       "      <td>24700.5</td>\n",
       "      <td>...</td>\n",
       "      <td>0</td>\n",
       "      <td>0</td>\n",
       "      <td>0</td>\n",
       "      <td>0</td>\n",
       "      <td>0.0</td>\n",
       "      <td>0.0</td>\n",
       "      <td>0.0</td>\n",
       "      <td>0.0</td>\n",
       "      <td>0.0</td>\n",
       "      <td>1.0</td>\n",
       "    </tr>\n",
       "    <tr>\n",
       "      <th>1</th>\n",
       "      <td>100003</td>\n",
       "      <td>0</td>\n",
       "      <td>Cash loans</td>\n",
       "      <td>F</td>\n",
       "      <td>N</td>\n",
       "      <td>N</td>\n",
       "      <td>0</td>\n",
       "      <td>270000.0</td>\n",
       "      <td>1293502.5</td>\n",
       "      <td>35698.5</td>\n",
       "      <td>...</td>\n",
       "      <td>0</td>\n",
       "      <td>0</td>\n",
       "      <td>0</td>\n",
       "      <td>0</td>\n",
       "      <td>0.0</td>\n",
       "      <td>0.0</td>\n",
       "      <td>0.0</td>\n",
       "      <td>0.0</td>\n",
       "      <td>0.0</td>\n",
       "      <td>0.0</td>\n",
       "    </tr>\n",
       "    <tr>\n",
       "      <th>2</th>\n",
       "      <td>100004</td>\n",
       "      <td>0</td>\n",
       "      <td>Revolving loans</td>\n",
       "      <td>M</td>\n",
       "      <td>Y</td>\n",
       "      <td>Y</td>\n",
       "      <td>0</td>\n",
       "      <td>67500.0</td>\n",
       "      <td>135000.0</td>\n",
       "      <td>6750.0</td>\n",
       "      <td>...</td>\n",
       "      <td>0</td>\n",
       "      <td>0</td>\n",
       "      <td>0</td>\n",
       "      <td>0</td>\n",
       "      <td>0.0</td>\n",
       "      <td>0.0</td>\n",
       "      <td>0.0</td>\n",
       "      <td>0.0</td>\n",
       "      <td>0.0</td>\n",
       "      <td>0.0</td>\n",
       "    </tr>\n",
       "    <tr>\n",
       "      <th>3</th>\n",
       "      <td>100006</td>\n",
       "      <td>0</td>\n",
       "      <td>Cash loans</td>\n",
       "      <td>F</td>\n",
       "      <td>N</td>\n",
       "      <td>Y</td>\n",
       "      <td>0</td>\n",
       "      <td>135000.0</td>\n",
       "      <td>312682.5</td>\n",
       "      <td>29686.5</td>\n",
       "      <td>...</td>\n",
       "      <td>0</td>\n",
       "      <td>0</td>\n",
       "      <td>0</td>\n",
       "      <td>0</td>\n",
       "      <td>NaN</td>\n",
       "      <td>NaN</td>\n",
       "      <td>NaN</td>\n",
       "      <td>NaN</td>\n",
       "      <td>NaN</td>\n",
       "      <td>NaN</td>\n",
       "    </tr>\n",
       "    <tr>\n",
       "      <th>4</th>\n",
       "      <td>100007</td>\n",
       "      <td>0</td>\n",
       "      <td>Cash loans</td>\n",
       "      <td>M</td>\n",
       "      <td>N</td>\n",
       "      <td>Y</td>\n",
       "      <td>0</td>\n",
       "      <td>121500.0</td>\n",
       "      <td>513000.0</td>\n",
       "      <td>21865.5</td>\n",
       "      <td>...</td>\n",
       "      <td>0</td>\n",
       "      <td>0</td>\n",
       "      <td>0</td>\n",
       "      <td>0</td>\n",
       "      <td>0.0</td>\n",
       "      <td>0.0</td>\n",
       "      <td>0.0</td>\n",
       "      <td>0.0</td>\n",
       "      <td>0.0</td>\n",
       "      <td>0.0</td>\n",
       "    </tr>\n",
       "  </tbody>\n",
       "</table>\n",
       "<p>5 rows × 122 columns</p>\n",
       "</div>"
      ],
      "text/plain": [
       "   sk_id_curr  target name_contract_type code_gender flag_own_car  \\\n",
       "0      100002       1         Cash loans           M            N   \n",
       "1      100003       0         Cash loans           F            N   \n",
       "2      100004       0    Revolving loans           M            Y   \n",
       "3      100006       0         Cash loans           F            N   \n",
       "4      100007       0         Cash loans           M            N   \n",
       "\n",
       "  flag_own_realty  cnt_children  amt_income_total  amt_credit  amt_annuity  \\\n",
       "0               Y             0          202500.0    406597.5      24700.5   \n",
       "1               N             0          270000.0   1293502.5      35698.5   \n",
       "2               Y             0           67500.0    135000.0       6750.0   \n",
       "3               Y             0          135000.0    312682.5      29686.5   \n",
       "4               Y             0          121500.0    513000.0      21865.5   \n",
       "\n",
       "              ...              flag_document_18 flag_document_19  \\\n",
       "0             ...                             0                0   \n",
       "1             ...                             0                0   \n",
       "2             ...                             0                0   \n",
       "3             ...                             0                0   \n",
       "4             ...                             0                0   \n",
       "\n",
       "  flag_document_20 flag_document_21 amt_req_credit_bureau_hour  \\\n",
       "0                0                0                        0.0   \n",
       "1                0                0                        0.0   \n",
       "2                0                0                        0.0   \n",
       "3                0                0                        NaN   \n",
       "4                0                0                        0.0   \n",
       "\n",
       "  amt_req_credit_bureau_day  amt_req_credit_bureau_week  \\\n",
       "0                       0.0                         0.0   \n",
       "1                       0.0                         0.0   \n",
       "2                       0.0                         0.0   \n",
       "3                       NaN                         NaN   \n",
       "4                       0.0                         0.0   \n",
       "\n",
       "   amt_req_credit_bureau_mon  amt_req_credit_bureau_qrt  \\\n",
       "0                        0.0                        0.0   \n",
       "1                        0.0                        0.0   \n",
       "2                        0.0                        0.0   \n",
       "3                        NaN                        NaN   \n",
       "4                        0.0                        0.0   \n",
       "\n",
       "   amt_req_credit_bureau_year  \n",
       "0                         1.0  \n",
       "1                         0.0  \n",
       "2                         0.0  \n",
       "3                         NaN  \n",
       "4                         0.0  \n",
       "\n",
       "[5 rows x 122 columns]"
      ]
     },
     "execution_count": 2,
     "metadata": {},
     "output_type": "execute_result"
    }
   ],
   "source": [
    "df_train = pd.read_csv('data/application_train.csv')\n",
    "df_test = pd.read_csv('data/application_test.csv')\n",
    "\n",
    "df_train.columns = [col.lower() for col in df_train.columns]\n",
    "df_test.columns = [col.lower() for col in df_test.columns]\n",
    "\n",
    "df_train.head()"
   ]
  },
  {
   "cell_type": "markdown",
   "metadata": {},
   "source": [
    "# EDA Workspace"
   ]
  },
  {
   "cell_type": "code",
   "execution_count": 3,
   "metadata": {},
   "outputs": [],
   "source": [
    "def perc_null(col):\n",
    "    '''\n",
    "    Makes a pretty print out of the percent of null values in each column\n",
    "    '''\n",
    "    print('\\n', '-' * 50, '\\n', col, '\\n')\n",
    "    train_null = len(df_train[df_train[col].isnull()])\n",
    "    test_null = len(df_test[df_test[col].isnull()])\n",
    "    if train_null == 0:\n",
    "        print('Train: 0')\n",
    "    else:\n",
    "        print('Train: ', train_null)\n",
    "        print(round(train_null/len(df_train), 3))\n",
    "    if test_null == 0:\n",
    "        print('Test: 0')\n",
    "    else:\n",
    "        print('Test: ', test_null)\n",
    "        print(round(test_null/len(df_test), 3))"
   ]
  },
  {
   "cell_type": "code",
   "execution_count": 4,
   "metadata": {},
   "outputs": [
    {
     "name": "stdout",
     "output_type": "stream",
     "text": [
      "\n",
      " -------------------------------------------------- \n",
      " name_contract_type \n",
      "\n",
      "Train: 0\n",
      "Test: 0\n",
      "\n",
      " -------------------------------------------------- \n",
      " code_gender \n",
      "\n",
      "Train: 0\n",
      "Test: 0\n",
      "\n",
      " -------------------------------------------------- \n",
      " flag_own_car \n",
      "\n",
      "Train: 0\n",
      "Test: 0\n",
      "\n",
      " -------------------------------------------------- \n",
      " flag_own_realty \n",
      "\n",
      "Train: 0\n",
      "Test: 0\n",
      "\n",
      " -------------------------------------------------- \n",
      " cnt_children \n",
      "\n",
      "Train: 0\n",
      "Test: 0\n",
      "\n",
      " -------------------------------------------------- \n",
      " amt_income_total \n",
      "\n",
      "Train: 0\n",
      "Test: 0\n",
      "\n",
      " -------------------------------------------------- \n",
      " amt_credit \n",
      "\n",
      "Train: 0\n",
      "Test: 0\n",
      "\n",
      " -------------------------------------------------- \n",
      " amt_annuity \n",
      "\n",
      "Train:  12\n",
      "0.0\n",
      "Test:  24\n",
      "0.0\n",
      "\n",
      " -------------------------------------------------- \n",
      " amt_goods_price \n",
      "\n",
      "Train:  278\n",
      "0.001\n",
      "Test: 0\n",
      "\n",
      " -------------------------------------------------- \n",
      " name_type_suite \n",
      "\n",
      "Train:  1292\n",
      "0.004\n",
      "Test:  911\n",
      "0.019\n",
      "\n",
      " -------------------------------------------------- \n",
      " name_income_type \n",
      "\n",
      "Train: 0\n",
      "Test: 0\n",
      "\n",
      " -------------------------------------------------- \n",
      " name_education_type \n",
      "\n",
      "Train: 0\n",
      "Test: 0\n",
      "\n",
      " -------------------------------------------------- \n",
      " name_family_status \n",
      "\n",
      "Train: 0\n",
      "Test: 0\n",
      "\n",
      " -------------------------------------------------- \n",
      " name_housing_type \n",
      "\n",
      "Train: 0\n",
      "Test: 0\n",
      "\n",
      " -------------------------------------------------- \n",
      " region_population_relative \n",
      "\n",
      "Train: 0\n",
      "Test: 0\n",
      "\n",
      " -------------------------------------------------- \n",
      " days_birth \n",
      "\n",
      "Train: 0\n",
      "Test: 0\n",
      "\n",
      " -------------------------------------------------- \n",
      " days_employed \n",
      "\n",
      "Train: 0\n",
      "Test: 0\n",
      "\n",
      " -------------------------------------------------- \n",
      " days_registration \n",
      "\n",
      "Train: 0\n",
      "Test: 0\n",
      "\n",
      " -------------------------------------------------- \n",
      " days_id_publish \n",
      "\n",
      "Train: 0\n",
      "Test: 0\n",
      "\n",
      " -------------------------------------------------- \n",
      " own_car_age \n",
      "\n",
      "Train:  202929\n",
      "0.66\n",
      "Test:  32312\n",
      "0.663\n",
      "\n",
      " -------------------------------------------------- \n",
      " flag_mobil \n",
      "\n",
      "Train: 0\n",
      "Test: 0\n",
      "\n",
      " -------------------------------------------------- \n",
      " flag_emp_phone \n",
      "\n",
      "Train: 0\n",
      "Test: 0\n",
      "\n",
      " -------------------------------------------------- \n",
      " flag_work_phone \n",
      "\n",
      "Train: 0\n",
      "Test: 0\n",
      "\n",
      " -------------------------------------------------- \n",
      " flag_cont_mobile \n",
      "\n",
      "Train: 0\n",
      "Test: 0\n",
      "\n",
      " -------------------------------------------------- \n",
      " flag_phone \n",
      "\n",
      "Train: 0\n",
      "Test: 0\n",
      "\n",
      " -------------------------------------------------- \n",
      " flag_email \n",
      "\n",
      "Train: 0\n",
      "Test: 0\n",
      "\n",
      " -------------------------------------------------- \n",
      " occupation_type \n",
      "\n",
      "Train:  96391\n",
      "0.313\n",
      "Test:  15605\n",
      "0.32\n",
      "\n",
      " -------------------------------------------------- \n",
      " cnt_fam_members \n",
      "\n",
      "Train:  2\n",
      "0.0\n",
      "Test: 0\n",
      "\n",
      " -------------------------------------------------- \n",
      " region_rating_client \n",
      "\n",
      "Train: 0\n",
      "Test: 0\n",
      "\n",
      " -------------------------------------------------- \n",
      " region_rating_client_w_city \n",
      "\n",
      "Train: 0\n",
      "Test: 0\n",
      "\n",
      " -------------------------------------------------- \n",
      " weekday_appr_process_start \n",
      "\n",
      "Train: 0\n",
      "Test: 0\n",
      "\n",
      " -------------------------------------------------- \n",
      " hour_appr_process_start \n",
      "\n",
      "Train: 0\n",
      "Test: 0\n",
      "\n",
      " -------------------------------------------------- \n",
      " reg_region_not_live_region \n",
      "\n",
      "Train: 0\n",
      "Test: 0\n",
      "\n",
      " -------------------------------------------------- \n",
      " reg_region_not_work_region \n",
      "\n",
      "Train: 0\n",
      "Test: 0\n",
      "\n",
      " -------------------------------------------------- \n",
      " live_region_not_work_region \n",
      "\n",
      "Train: 0\n",
      "Test: 0\n",
      "\n",
      " -------------------------------------------------- \n",
      " reg_city_not_live_city \n",
      "\n",
      "Train: 0\n",
      "Test: 0\n",
      "\n",
      " -------------------------------------------------- \n",
      " reg_city_not_work_city \n",
      "\n",
      "Train: 0\n",
      "Test: 0\n",
      "\n",
      " -------------------------------------------------- \n",
      " live_city_not_work_city \n",
      "\n",
      "Train: 0\n",
      "Test: 0\n",
      "\n",
      " -------------------------------------------------- \n",
      " organization_type \n",
      "\n",
      "Train: 0\n",
      "Test: 0\n",
      "\n",
      " -------------------------------------------------- \n",
      " ext_source_1 \n",
      "\n",
      "Train:  173378\n",
      "0.564\n",
      "Test:  20532\n",
      "0.421\n",
      "\n",
      " -------------------------------------------------- \n",
      " ext_source_2 \n",
      "\n",
      "Train:  660\n",
      "0.002\n",
      "Test:  8\n",
      "0.0\n",
      "\n",
      " -------------------------------------------------- \n",
      " ext_source_3 \n",
      "\n",
      "Train:  60965\n",
      "0.198\n",
      "Test:  8668\n",
      "0.178\n",
      "\n",
      " -------------------------------------------------- \n",
      " apartments_avg \n",
      "\n",
      "Train:  156061\n",
      "0.507\n",
      "Test:  23887\n",
      "0.49\n",
      "\n",
      " -------------------------------------------------- \n",
      " basementarea_avg \n",
      "\n",
      "Train:  179943\n",
      "0.585\n",
      "Test:  27641\n",
      "0.567\n",
      "\n",
      " -------------------------------------------------- \n",
      " years_beginexpluatation_avg \n",
      "\n",
      "Train:  150007\n",
      "0.488\n",
      "Test:  22856\n",
      "0.469\n",
      "\n",
      " -------------------------------------------------- \n",
      " years_build_avg \n",
      "\n",
      "Train:  204488\n",
      "0.665\n",
      "Test:  31818\n",
      "0.653\n",
      "\n",
      " -------------------------------------------------- \n",
      " commonarea_avg \n",
      "\n",
      "Train:  214865\n",
      "0.699\n",
      "Test:  33495\n",
      "0.687\n",
      "\n",
      " -------------------------------------------------- \n",
      " elevators_avg \n",
      "\n",
      "Train:  163891\n",
      "0.533\n",
      "Test:  25189\n",
      "0.517\n",
      "\n",
      " -------------------------------------------------- \n",
      " entrances_avg \n",
      "\n",
      "Train:  154828\n",
      "0.503\n",
      "Test:  23579\n",
      "0.484\n",
      "\n",
      " -------------------------------------------------- \n",
      " floorsmax_avg \n",
      "\n",
      "Train:  153020\n",
      "0.498\n",
      "Test:  23321\n",
      "0.478\n",
      "\n",
      " -------------------------------------------------- \n",
      " floorsmin_avg \n",
      "\n",
      "Train:  208642\n",
      "0.678\n",
      "Test:  32466\n",
      "0.666\n",
      "\n",
      " -------------------------------------------------- \n",
      " landarea_avg \n",
      "\n",
      "Train:  182590\n",
      "0.594\n",
      "Test:  28254\n",
      "0.58\n",
      "\n",
      " -------------------------------------------------- \n",
      " livingapartments_avg \n",
      "\n",
      "Train:  210199\n",
      "0.684\n",
      "Test:  32780\n",
      "0.672\n",
      "\n",
      " -------------------------------------------------- \n",
      " livingarea_avg \n",
      "\n",
      "Train:  154350\n",
      "0.502\n",
      "Test:  23552\n",
      "0.483\n",
      "\n",
      " -------------------------------------------------- \n",
      " nonlivingapartments_avg \n",
      "\n",
      "Train:  213514\n",
      "0.694\n",
      "Test:  33347\n",
      "0.684\n",
      "\n",
      " -------------------------------------------------- \n",
      " nonlivingarea_avg \n",
      "\n",
      "Train:  169682\n",
      "0.552\n",
      "Test:  26084\n",
      "0.535\n",
      "\n",
      " -------------------------------------------------- \n",
      " apartments_mode \n",
      "\n",
      "Train:  156061\n",
      "0.507\n",
      "Test:  23887\n",
      "0.49\n",
      "\n",
      " -------------------------------------------------- \n",
      " basementarea_mode \n",
      "\n",
      "Train:  179943\n",
      "0.585\n",
      "Test:  27641\n",
      "0.567\n",
      "\n",
      " -------------------------------------------------- \n",
      " years_beginexpluatation_mode \n",
      "\n",
      "Train:  150007\n",
      "0.488\n",
      "Test:  22856\n",
      "0.469\n",
      "\n",
      " -------------------------------------------------- \n",
      " years_build_mode \n",
      "\n",
      "Train:  204488\n",
      "0.665\n",
      "Test:  31818\n",
      "0.653\n",
      "\n",
      " -------------------------------------------------- \n",
      " commonarea_mode \n",
      "\n",
      "Train:  214865\n",
      "0.699\n",
      "Test:  33495\n",
      "0.687\n",
      "\n",
      " -------------------------------------------------- \n",
      " elevators_mode \n",
      "\n",
      "Train:  163891\n",
      "0.533\n",
      "Test:  25189\n",
      "0.517\n",
      "\n",
      " -------------------------------------------------- \n",
      " entrances_mode \n",
      "\n",
      "Train:  154828\n",
      "0.503\n",
      "Test:  23579\n",
      "0.484\n",
      "\n",
      " -------------------------------------------------- \n",
      " floorsmax_mode \n",
      "\n",
      "Train:  153020\n",
      "0.498\n",
      "Test:  23321\n",
      "0.478\n",
      "\n",
      " -------------------------------------------------- \n",
      " floorsmin_mode \n",
      "\n",
      "Train:  208642\n",
      "0.678\n",
      "Test:  32466\n",
      "0.666\n",
      "\n",
      " -------------------------------------------------- \n",
      " landarea_mode \n",
      "\n",
      "Train:  182590\n",
      "0.594\n",
      "Test:  28254\n",
      "0.58\n",
      "\n",
      " -------------------------------------------------- \n",
      " livingapartments_mode \n",
      "\n",
      "Train:  210199\n",
      "0.684\n",
      "Test:  32780\n",
      "0.672\n",
      "\n",
      " -------------------------------------------------- \n",
      " livingarea_mode \n",
      "\n",
      "Train:  154350\n",
      "0.502\n",
      "Test:  23552\n",
      "0.483\n",
      "\n",
      " -------------------------------------------------- \n",
      " nonlivingapartments_mode \n",
      "\n",
      "Train:  213514\n",
      "0.694\n",
      "Test:  33347\n",
      "0.684\n",
      "\n",
      " -------------------------------------------------- \n",
      " nonlivingarea_mode \n",
      "\n",
      "Train:  169682\n",
      "0.552\n",
      "Test:  26084\n",
      "0.535\n",
      "\n",
      " -------------------------------------------------- \n",
      " apartments_medi \n",
      "\n",
      "Train:  156061\n",
      "0.507\n",
      "Test:  23887\n",
      "0.49\n",
      "\n",
      " -------------------------------------------------- \n",
      " basementarea_medi \n",
      "\n",
      "Train:  179943\n",
      "0.585\n",
      "Test:  27641\n",
      "0.567\n",
      "\n",
      " -------------------------------------------------- \n",
      " years_beginexpluatation_medi \n",
      "\n",
      "Train:  150007\n",
      "0.488\n",
      "Test:  22856\n",
      "0.469\n",
      "\n",
      " -------------------------------------------------- \n",
      " years_build_medi \n",
      "\n",
      "Train:  204488\n",
      "0.665\n",
      "Test:  31818\n",
      "0.653\n",
      "\n",
      " -------------------------------------------------- \n",
      " commonarea_medi \n",
      "\n",
      "Train:  214865\n",
      "0.699\n",
      "Test:  33495\n",
      "0.687\n",
      "\n",
      " -------------------------------------------------- \n",
      " elevators_medi \n",
      "\n",
      "Train:  163891\n",
      "0.533\n",
      "Test:  25189\n",
      "0.517\n",
      "\n",
      " -------------------------------------------------- \n",
      " entrances_medi \n",
      "\n",
      "Train:  154828\n",
      "0.503\n",
      "Test:  23579\n",
      "0.484\n",
      "\n",
      " -------------------------------------------------- \n",
      " floorsmax_medi \n",
      "\n",
      "Train:  153020\n",
      "0.498\n",
      "Test:  23321\n",
      "0.478\n",
      "\n",
      " -------------------------------------------------- \n",
      " floorsmin_medi \n",
      "\n",
      "Train:  208642\n",
      "0.678\n",
      "Test:  32466\n",
      "0.666\n",
      "\n",
      " -------------------------------------------------- \n",
      " landarea_medi \n",
      "\n",
      "Train:  182590\n",
      "0.594\n",
      "Test:  28254\n",
      "0.58\n",
      "\n",
      " -------------------------------------------------- \n",
      " livingapartments_medi \n",
      "\n"
     ]
    },
    {
     "name": "stdout",
     "output_type": "stream",
     "text": [
      "Train:  210199\n",
      "0.684\n",
      "Test:  32780\n",
      "0.672\n",
      "\n",
      " -------------------------------------------------- \n",
      " livingarea_medi \n",
      "\n",
      "Train:  154350\n",
      "0.502\n",
      "Test:  23552\n",
      "0.483\n",
      "\n",
      " -------------------------------------------------- \n",
      " nonlivingapartments_medi \n",
      "\n",
      "Train:  213514\n",
      "0.694\n",
      "Test:  33347\n",
      "0.684\n",
      "\n",
      " -------------------------------------------------- \n",
      " nonlivingarea_medi \n",
      "\n",
      "Train:  169682\n",
      "0.552\n",
      "Test:  26084\n",
      "0.535\n",
      "\n",
      " -------------------------------------------------- \n",
      " fondkapremont_mode \n",
      "\n",
      "Train:  210295\n",
      "0.684\n",
      "Test:  32797\n",
      "0.673\n",
      "\n",
      " -------------------------------------------------- \n",
      " housetype_mode \n",
      "\n",
      "Train:  154297\n",
      "0.502\n",
      "Test:  23619\n",
      "0.485\n",
      "\n",
      " -------------------------------------------------- \n",
      " totalarea_mode \n",
      "\n",
      "Train:  148431\n",
      "0.483\n",
      "Test:  22624\n",
      "0.464\n",
      "\n",
      " -------------------------------------------------- \n",
      " wallsmaterial_mode \n",
      "\n",
      "Train:  156341\n",
      "0.508\n",
      "Test:  23893\n",
      "0.49\n",
      "\n",
      " -------------------------------------------------- \n",
      " emergencystate_mode \n",
      "\n",
      "Train:  145755\n",
      "0.474\n",
      "Test:  22209\n",
      "0.456\n",
      "\n",
      " -------------------------------------------------- \n",
      " obs_30_cnt_social_circle \n",
      "\n",
      "Train:  1021\n",
      "0.003\n",
      "Test:  29\n",
      "0.001\n",
      "\n",
      " -------------------------------------------------- \n",
      " def_30_cnt_social_circle \n",
      "\n",
      "Train:  1021\n",
      "0.003\n",
      "Test:  29\n",
      "0.001\n",
      "\n",
      " -------------------------------------------------- \n",
      " obs_60_cnt_social_circle \n",
      "\n",
      "Train:  1021\n",
      "0.003\n",
      "Test:  29\n",
      "0.001\n",
      "\n",
      " -------------------------------------------------- \n",
      " def_60_cnt_social_circle \n",
      "\n",
      "Train:  1021\n",
      "0.003\n",
      "Test:  29\n",
      "0.001\n",
      "\n",
      " -------------------------------------------------- \n",
      " days_last_phone_change \n",
      "\n",
      "Train:  1\n",
      "0.0\n",
      "Test: 0\n",
      "\n",
      " -------------------------------------------------- \n",
      " flag_document_2 \n",
      "\n",
      "Train: 0\n",
      "Test: 0\n",
      "\n",
      " -------------------------------------------------- \n",
      " flag_document_3 \n",
      "\n",
      "Train: 0\n",
      "Test: 0\n",
      "\n",
      " -------------------------------------------------- \n",
      " flag_document_4 \n",
      "\n",
      "Train: 0\n",
      "Test: 0\n",
      "\n",
      " -------------------------------------------------- \n",
      " flag_document_5 \n",
      "\n",
      "Train: 0\n",
      "Test: 0\n",
      "\n",
      " -------------------------------------------------- \n",
      " flag_document_6 \n",
      "\n",
      "Train: 0\n",
      "Test: 0\n",
      "\n",
      " -------------------------------------------------- \n",
      " flag_document_7 \n",
      "\n",
      "Train: 0\n",
      "Test: 0\n",
      "\n",
      " -------------------------------------------------- \n",
      " flag_document_8 \n",
      "\n",
      "Train: 0\n",
      "Test: 0\n",
      "\n",
      " -------------------------------------------------- \n",
      " flag_document_9 \n",
      "\n",
      "Train: 0\n",
      "Test: 0\n",
      "\n",
      " -------------------------------------------------- \n",
      " flag_document_10 \n",
      "\n",
      "Train: 0\n",
      "Test: 0\n",
      "\n",
      " -------------------------------------------------- \n",
      " flag_document_11 \n",
      "\n",
      "Train: 0\n",
      "Test: 0\n",
      "\n",
      " -------------------------------------------------- \n",
      " flag_document_12 \n",
      "\n",
      "Train: 0\n",
      "Test: 0\n",
      "\n",
      " -------------------------------------------------- \n",
      " flag_document_13 \n",
      "\n",
      "Train: 0\n",
      "Test: 0\n",
      "\n",
      " -------------------------------------------------- \n",
      " flag_document_14 \n",
      "\n",
      "Train: 0\n",
      "Test: 0\n",
      "\n",
      " -------------------------------------------------- \n",
      " flag_document_15 \n",
      "\n",
      "Train: 0\n",
      "Test: 0\n",
      "\n",
      " -------------------------------------------------- \n",
      " flag_document_16 \n",
      "\n",
      "Train: 0\n",
      "Test: 0\n",
      "\n",
      " -------------------------------------------------- \n",
      " flag_document_17 \n",
      "\n",
      "Train: 0\n",
      "Test: 0\n",
      "\n",
      " -------------------------------------------------- \n",
      " flag_document_18 \n",
      "\n",
      "Train: 0\n",
      "Test: 0\n",
      "\n",
      " -------------------------------------------------- \n",
      " flag_document_19 \n",
      "\n",
      "Train: 0\n",
      "Test: 0\n",
      "\n",
      " -------------------------------------------------- \n",
      " flag_document_20 \n",
      "\n",
      "Train: 0\n",
      "Test: 0\n",
      "\n",
      " -------------------------------------------------- \n",
      " flag_document_21 \n",
      "\n",
      "Train: 0\n",
      "Test: 0\n",
      "\n",
      " -------------------------------------------------- \n",
      " amt_req_credit_bureau_hour \n",
      "\n",
      "Train:  41519\n",
      "0.135\n",
      "Test:  6049\n",
      "0.124\n",
      "\n",
      " -------------------------------------------------- \n",
      " amt_req_credit_bureau_day \n",
      "\n",
      "Train:  41519\n",
      "0.135\n",
      "Test:  6049\n",
      "0.124\n",
      "\n",
      " -------------------------------------------------- \n",
      " amt_req_credit_bureau_week \n",
      "\n",
      "Train:  41519\n",
      "0.135\n",
      "Test:  6049\n",
      "0.124\n",
      "\n",
      " -------------------------------------------------- \n",
      " amt_req_credit_bureau_mon \n",
      "\n",
      "Train:  41519\n",
      "0.135\n",
      "Test:  6049\n",
      "0.124\n",
      "\n",
      " -------------------------------------------------- \n",
      " amt_req_credit_bureau_qrt \n",
      "\n",
      "Train:  41519\n",
      "0.135\n",
      "Test:  6049\n",
      "0.124\n",
      "\n",
      " -------------------------------------------------- \n",
      " amt_req_credit_bureau_year \n",
      "\n",
      "Train:  41519\n",
      "0.135\n",
      "Test:  6049\n",
      "0.124\n"
     ]
    }
   ],
   "source": [
    "for col in df_train.columns.tolist()[2:]:\n",
    "    perc_null(col)"
   ]
  },
  {
   "cell_type": "markdown",
   "metadata": {},
   "source": [
    "Percent of defaults in training df"
   ]
  },
  {
   "cell_type": "code",
   "execution_count": 5,
   "metadata": {},
   "outputs": [
    {
     "data": {
      "text/plain": [
       "0.0807"
      ]
     },
     "execution_count": 5,
     "metadata": {},
     "output_type": "execute_result"
    }
   ],
   "source": [
    "round(len(df_train[df_train['target'] == 1])/len(df_train), 4)"
   ]
  },
  {
   "cell_type": "code",
   "execution_count": 6,
   "metadata": {},
   "outputs": [
    {
     "data": {
      "text/plain": [
       "<matplotlib.axes._subplots.AxesSubplot at 0x10eeeb080>"
      ]
     },
     "execution_count": 6,
     "metadata": {},
     "output_type": "execute_result"
    },
    {
     "data": {
      "image/png": "[encoded data removed]",
      "text/plain": [
       "<Figure size 432x288 with 1 Axes>"
      ]
     },
     "metadata": {},
     "output_type": "display_data"
    }
   ],
   "source": [
    "sns.countplot(df_train['reg_region_not_live_region'])"
   ]
  },
  {
   "cell_type": "markdown",
   "metadata": {},
   "source": [
    "# Drop Columns"
   ]
  },
  {
   "cell_type": "markdown",
   "metadata": {},
   "source": [
    "These columns contain normalized information about where the client lives. Each column is missing about 45-70% of the data. Could be used in the future but not low hanging fruit.\n",
    "\n",
    "note*, using different indices for df_test because there is no 'target' column"
   ]
  },
  {
   "cell_type": "code",
   "execution_count": 7,
   "metadata": {},
   "outputs": [],
   "source": [
    "df_train.drop(df_train.columns[range(44, 91)], inplace=True, axis=1)\n",
    "df_test.drop(df_test.columns[range(43, 90)], inplace=True, axis=1)"
   ]
  },
  {
   "cell_type": "markdown",
   "metadata": {},
   "source": [
    "These columns were either viewed as not important or highly correlated with another feature during EDA"
   ]
  },
  {
   "cell_type": "code",
   "execution_count": 8,
   "metadata": {},
   "outputs": [],
   "source": [
    "drop_cols = [\n",
    "    'weekday_appr_process_start',\n",
    "    'region_rating_client_w_city',\n",
    "    'obs_60_cnt_social_circle',\n",
    "    'def_60_cnt_social_circle',\n",
    "    'amt_req_credit_bureau_hour',\n",
    "    'amt_req_credit_bureau_week',\n",
    "    'amt_req_credit_bureau_mon',\n",
    "    'amt_req_credit_bureau_year'\n",
    "]\n",
    "\n",
    "for col in drop_cols:\n",
    "    df_train.drop(col, inplace=True, axis=1)\n",
    "    df_test.drop(col, inplace=True, axis=1)"
   ]
  },
  {
   "cell_type": "markdown",
   "metadata": {},
   "source": [
    "These columns could be worth some imputing in the future if there's time"
   ]
  },
  {
   "cell_type": "code",
   "execution_count": 9,
   "metadata": {},
   "outputs": [],
   "source": [
    "imputable_cols = [\n",
    "    'own_car_age',\n",
    "    'occupation_type',\n",
    "    'ext_source_1',\n",
    "    'ext_source_3',\n",
    "    'amt_req_credit_bureau_day',\n",
    "    'amt_req_credit_bureau_qrt'\n",
    "]\n",
    "\n",
    "for col in imputable_cols:\n",
    "    df_train.drop(col, inplace=True, axis=1)\n",
    "    df_test.drop(col, inplace=True, axis=1)"
   ]
  },
  {
   "cell_type": "markdown",
   "metadata": {},
   "source": [
    "There should only be 61 columns now in the train and 60 in the test, down from 122/121"
   ]
  },
  {
   "cell_type": "code",
   "execution_count": 10,
   "metadata": {
    "scrolled": true
   },
   "outputs": [
    {
     "name": "stdout",
     "output_type": "stream",
     "text": [
      "(307511, 61)\n",
      "(48744, 60)\n"
     ]
    }
   ],
   "source": [
    "print(df_train.shape)\n",
    "print(df_test.shape)"
   ]
  },
  {
   "cell_type": "markdown",
   "metadata": {},
   "source": [
    "# Clean and Bin"
   ]
  },
  {
   "cell_type": "markdown",
   "metadata": {},
   "source": [
    "Impute a few values and turn strings into 1 and 0's. Just this simple stuff here."
   ]
  },
  {
   "cell_type": "markdown",
   "metadata": {},
   "source": [
    "## Gender"
   ]
  },
  {
   "cell_type": "markdown",
   "metadata": {},
   "source": [
    "Change 'M' and 'F' to 1 and 0 respectively. 'XAN' is assumed to be female."
   ]
  },
  {
   "cell_type": "code",
   "execution_count": 11,
   "metadata": {},
   "outputs": [
    {
     "data": {
      "text/plain": [
       "<matplotlib.axes._subplots.AxesSubplot at 0x1a23fef9e8>"
      ]
     },
     "execution_count": 11,
     "metadata": {},
     "output_type": "execute_result"
    },
    {
     "data": {
      "image/png": "[encoded data removed]",
      "text/plain": [
       "<Figure size 432x288 with 1 Axes>"
      ]
     },
     "metadata": {},
     "output_type": "display_data"
    }
   ],
   "source": [
    "np.unique(df_train['code_gender'])\n",
    "sns.countplot(df_train['code_gender'])"
   ]
  },
  {
   "cell_type": "code",
   "execution_count": 12,
   "metadata": {},
   "outputs": [
    {
     "data": {
      "text/plain": [
       "array(['F', 'M'], dtype=object)"
      ]
     },
     "execution_count": 12,
     "metadata": {},
     "output_type": "execute_result"
    }
   ],
   "source": [
    "idxs = df_train[df_train['code_gender'] == 'XNA'].index\n",
    "\n",
    "for idx in idxs:\n",
    "    df_train.at[idx, 'code_gender'] = 'F'\n",
    "np.unique(df_train['code_gender'])"
   ]
  },
  {
   "cell_type": "code",
   "execution_count": 13,
   "metadata": {},
   "outputs": [
    {
     "data": {
      "text/plain": [
       "<matplotlib.axes._subplots.AxesSubplot at 0x10e3aeef0>"
      ]
     },
     "execution_count": 13,
     "metadata": {},
     "output_type": "execute_result"
    },
    {
     "data": {
      "image/png": "[encoded data removed]",
      "text/plain": [
       "<Figure size 432x288 with 1 Axes>"
      ]
     },
     "metadata": {},
     "output_type": "display_data"
    }
   ],
   "source": [
    "foo = lambda x: 1 if x == 'M' else 0\n",
    "df_train['code_gender'] = df_train['code_gender'].apply(foo)\n",
    "df_train.rename(columns={'code_gender': 'is_male'}, inplace=True)\n",
    "df_test.rename(columns={'code_gender': 'is_male'}, inplace=True)\n",
    "sns.countplot(df_train['is_male'])"
   ]
  },
  {
   "cell_type": "markdown",
   "metadata": {},
   "source": [
    "## Car"
   ]
  },
  {
   "cell_type": "markdown",
   "metadata": {},
   "source": [
    "Change 'Y' and 'N' to 1 and 0 respectively."
   ]
  },
  {
   "cell_type": "code",
   "execution_count": 14,
   "metadata": {},
   "outputs": [
    {
     "name": "stdout",
     "output_type": "stream",
     "text": [
      "['N' 'Y']\n"
     ]
    },
    {
     "data": {
      "text/plain": [
       "<matplotlib.axes._subplots.AxesSubplot at 0x11c964f28>"
      ]
     },
     "execution_count": 14,
     "metadata": {},
     "output_type": "execute_result"
    },
    {
     "data": {
      "image/png": "[encoded data removed]",
      "text/plain": [
       "<Figure size 432x288 with 1 Axes>"
      ]
     },
     "metadata": {},
     "output_type": "display_data"
    }
   ],
   "source": [
    "print(np.unique(df_train['flag_own_car']))\n",
    "sns.countplot(df_train['flag_own_car'])"
   ]
  },
  {
   "cell_type": "code",
   "execution_count": 15,
   "metadata": {},
   "outputs": [
    {
     "data": {
      "text/plain": [
       "<matplotlib.axes._subplots.AxesSubplot at 0x1a23f6fb70>"
      ]
     },
     "execution_count": 15,
     "metadata": {},
     "output_type": "execute_result"
    },
    {
     "data": {
      "image/png": "[encoded data removed]",
      "text/plain": [
       "<Figure size 432x288 with 1 Axes>"
      ]
     },
     "metadata": {},
     "output_type": "display_data"
    }
   ],
   "source": [
    "foo = lambda x: 1 if x == 'Y' else 0\n",
    "df_train['flag_own_car'] = df_train['flag_own_car'].apply(foo)\n",
    "sns.countplot(df_train['flag_own_car'])"
   ]
  },
  {
   "cell_type": "markdown",
   "metadata": {},
   "source": [
    "## Realty"
   ]
  },
  {
   "cell_type": "markdown",
   "metadata": {},
   "source": [
    "Change 'Y' and 'N' to 1 and 0 respectively."
   ]
  },
  {
   "cell_type": "code",
   "execution_count": 16,
   "metadata": {},
   "outputs": [
    {
     "name": "stdout",
     "output_type": "stream",
     "text": [
      "['N' 'Y']\n"
     ]
    },
    {
     "data": {
      "text/plain": [
       "<matplotlib.axes._subplots.AxesSubplot at 0x10e424710>"
      ]
     },
     "execution_count": 16,
     "metadata": {},
     "output_type": "execute_result"
    },
    {
     "data": {
      "image/png": "[encoded data removed]",
      "text/plain": [
       "<Figure size 432x288 with 1 Axes>"
      ]
     },
     "metadata": {},
     "output_type": "display_data"
    }
   ],
   "source": [
    "print(np.unique(df_train['flag_own_realty']))\n",
    "sns.countplot(df_train['flag_own_realty'])"
   ]
  },
  {
   "cell_type": "code",
   "execution_count": 17,
   "metadata": {},
   "outputs": [
    {
     "data": {
      "text/plain": [
       "<matplotlib.axes._subplots.AxesSubplot at 0x1a1fc37128>"
      ]
     },
     "execution_count": 17,
     "metadata": {},
     "output_type": "execute_result"
    },
    {
     "data": {
      "image/png": "[encoded data removed]",
      "text/plain": [
       "<Figure size 432x288 with 1 Axes>"
      ]
     },
     "metadata": {},
     "output_type": "display_data"
    }
   ],
   "source": [
    "foo = lambda x: 1 if x == 'Y' else 0\n",
    "df_train['flag_own_realty'] = df_train['flag_own_realty'].apply(foo)\n",
    "sns.countplot(df_train['flag_own_realty'])"
   ]
  },
  {
   "cell_type": "markdown",
   "metadata": {},
   "source": [
    "## Amount of Annuity"
   ]
  },
  {
   "cell_type": "markdown",
   "metadata": {},
   "source": [
    "Imputing the median"
   ]
  },
  {
   "cell_type": "code",
   "execution_count": 18,
   "metadata": {},
   "outputs": [
    {
     "name": "stderr",
     "output_type": "stream",
     "text": [
      "/Users/blairthurman/anaconda3/lib/python3.6/site-packages/scipy/stats/stats.py:1713: FutureWarning: Using a non-tuple sequence for multidimensional indexing is deprecated; use `arr[tuple(seq)]` instead of `arr[seq]`. In the future this will be interpreted as an array index, `arr[np.array(seq)]`, which will result either in an error or a different result.\n",
      "  return np.add.reduce(sorted[indexer] * weights, axis=axis) / sumval\n"
     ]
    },
    {
     "data": {
      "text/plain": [
       "<matplotlib.axes._subplots.AxesSubplot at 0x1a1fc151d0>"
      ]
     },
     "execution_count": 18,
     "metadata": {},
     "output_type": "execute_result"
    },
    {
     "data": {
      "image/png": "[encoded data removed]",
      "text/plain": [
       "<Figure size 432x288 with 1 Axes>"
      ]
     },
     "metadata": {},
     "output_type": "display_data"
    }
   ],
   "source": [
    "x = df_train[~df_train['amt_annuity'].isnull()]['amt_annuity']\n",
    "sns.kdeplot(x)"
   ]
  },
  {
   "cell_type": "code",
   "execution_count": 19,
   "metadata": {},
   "outputs": [
    {
     "name": "stdout",
     "output_type": "stream",
     "text": [
      "24903.0\n"
     ]
    }
   ],
   "source": [
    "median = df_train['amt_annuity'].median()\n",
    "print(median)"
   ]
  },
  {
   "cell_type": "code",
   "execution_count": 20,
   "metadata": {},
   "outputs": [],
   "source": [
    "idxs = df_train[df_train['amt_annuity'].isnull()]['amt_annuity'].index\n",
    "\n",
    "for idx in idxs:\n",
    "    df_train.at[idx, 'amt_annuity'] = median\n",
    "\n",
    "idxs = df_test[df_test['amt_annuity'].isnull()]['amt_annuity'].index\n",
    "\n",
    "for idx in idxs:\n",
    "    df_test.at[idx, 'amt_annuity'] = median"
   ]
  },
  {
   "cell_type": "markdown",
   "metadata": {},
   "source": [
    "## Amount of Good Price"
   ]
  },
  {
   "cell_type": "markdown",
   "metadata": {},
   "source": [
    "Imputing the median"
   ]
  },
  {
   "cell_type": "code",
   "execution_count": 21,
   "metadata": {},
   "outputs": [
    {
     "name": "stderr",
     "output_type": "stream",
     "text": [
      "/Users/blairthurman/anaconda3/lib/python3.6/site-packages/scipy/stats/stats.py:1713: FutureWarning: Using a non-tuple sequence for multidimensional indexing is deprecated; use `arr[tuple(seq)]` instead of `arr[seq]`. In the future this will be interpreted as an array index, `arr[np.array(seq)]`, which will result either in an error or a different result.\n",
      "  return np.add.reduce(sorted[indexer] * weights, axis=axis) / sumval\n"
     ]
    },
    {
     "data": {
      "text/plain": [
       "<matplotlib.axes._subplots.AxesSubplot at 0x1a1fc37f60>"
      ]
     },
     "execution_count": 21,
     "metadata": {},
     "output_type": "execute_result"
    },
    {
     "data": {
      "image/png": "[encoded data removed]",
      "text/plain": [
       "<Figure size 432x288 with 1 Axes>"
      ]
     },
     "metadata": {},
     "output_type": "display_data"
    }
   ],
   "source": [
    "x = df_train[~df_train['amt_goods_price'].isnull()]['amt_goods_price']\n",
    "sns.kdeplot(x)"
   ]
  },
  {
   "cell_type": "code",
   "execution_count": 22,
   "metadata": {},
   "outputs": [
    {
     "name": "stdout",
     "output_type": "stream",
     "text": [
      "450000.0\n"
     ]
    }
   ],
   "source": [
    "median = df_train['amt_goods_price'].median()\n",
    "print(median)"
   ]
  },
  {
   "cell_type": "code",
   "execution_count": 23,
   "metadata": {},
   "outputs": [],
   "source": [
    "idxs = df_train[df_train['amt_goods_price'].isnull()]['amt_goods_price'].index\n",
    "\n",
    "for idx in idxs:\n",
    "    df_train.at[idx, 'amt_goods_price'] = median\n",
    "\n",
    "idxs = df_test[df_test['amt_goods_price'].isnull()]['amt_goods_price'].index\n",
    "\n",
    "for idx in idxs:\n",
    "    df_test.at[idx, 'amt_goods_price'] = median"
   ]
  },
  {
   "cell_type": "markdown",
   "metadata": {},
   "source": [
    "## Count of Family Members"
   ]
  },
  {
   "cell_type": "markdown",
   "metadata": {},
   "source": [
    "Imputing the mode"
   ]
  },
  {
   "cell_type": "code",
   "execution_count": 24,
   "metadata": {},
   "outputs": [
    {
     "name": "stderr",
     "output_type": "stream",
     "text": [
      "/Users/blairthurman/anaconda3/lib/python3.6/site-packages/scipy/stats/stats.py:1713: FutureWarning: Using a non-tuple sequence for multidimensional indexing is deprecated; use `arr[tuple(seq)]` instead of `arr[seq]`. In the future this will be interpreted as an array index, `arr[np.array(seq)]`, which will result either in an error or a different result.\n",
      "  return np.add.reduce(sorted[indexer] * weights, axis=axis) / sumval\n"
     ]
    },
    {
     "data": {
      "text/plain": [
       "<matplotlib.axes._subplots.AxesSubplot at 0x1a29979cf8>"
      ]
     },
     "execution_count": 24,
     "metadata": {},
     "output_type": "execute_result"
    },
    {
     "data": {
      "image/png": "[encoded data removed]",
      "text/plain": [
       "<Figure size 432x288 with 1 Axes>"
      ]
     },
     "metadata": {},
     "output_type": "display_data"
    }
   ],
   "source": [
    "x = df_train[~df_train['cnt_fam_members'].isnull()]['cnt_fam_members']\n",
    "sns.kdeplot(x)"
   ]
  },
  {
   "cell_type": "code",
   "execution_count": 25,
   "metadata": {},
   "outputs": [
    {
     "data": {
      "text/plain": [
       "2.0"
      ]
     },
     "execution_count": 25,
     "metadata": {},
     "output_type": "execute_result"
    }
   ],
   "source": [
    "mode = stats.mode(df_train['cnt_fam_members'])[0][0]\n",
    "mode"
   ]
  },
  {
   "cell_type": "code",
   "execution_count": 26,
   "metadata": {},
   "outputs": [],
   "source": [
    "idxs = df_train[df_train['amt_goods_price'].isnull()]['amt_goods_price'].index\n",
    "\n",
    "for idx in idxs:\n",
    "    df_train.at[idx, 'amt_goods_price'] = mode\n",
    "\n",
    "idxs = df_test[df_test['amt_goods_price'].isnull()]['amt_goods_price'].index\n",
    "\n",
    "for idx in idxs:\n",
    "    df_test.at[idx, 'amt_goods_price'] = mode"
   ]
  },
  {
   "cell_type": "markdown",
   "metadata": {},
   "source": [
    "## Region Rating Client"
   ]
  },
  {
   "cell_type": "markdown",
   "metadata": {},
   "source": [
    "Turn this into (1 & 3) vs. 2"
   ]
  },
  {
   "cell_type": "code",
   "execution_count": 27,
   "metadata": {},
   "outputs": [
    {
     "data": {
      "text/plain": [
       "<matplotlib.axes._subplots.AxesSubplot at 0x1a29979630>"
      ]
     },
     "execution_count": 27,
     "metadata": {},
     "output_type": "execute_result"
    },
    {
     "data": {
      "image/png": "[encoded data removed]",
      "text/plain": [
       "<Figure size 432x288 with 1 Axes>"
      ]
     },
     "metadata": {},
     "output_type": "display_data"
    }
   ],
   "source": [
    "sns.countplot(df_train['region_rating_client'])"
   ]
  },
  {
   "cell_type": "code",
   "execution_count": 28,
   "metadata": {},
   "outputs": [
    {
     "data": {
      "text/plain": [
       "<matplotlib.axes._subplots.AxesSubplot at 0x1a2990eba8>"
      ]
     },
     "execution_count": 28,
     "metadata": {},
     "output_type": "execute_result"
    },
    {
     "data": {
      "image/png": "[encoded data removed]",
      "text/plain": [
       "<Figure size 432x288 with 1 Axes>"
      ]
     },
     "metadata": {},
     "output_type": "display_data"
    }
   ],
   "source": [
    "foo = lambda x: 1 if x != 2 else 0\n",
    "df_train['region_rating_client'] = df_train['region_rating_client'].apply(foo)\n",
    "df_test['region_rating_client'] = df_test['region_rating_client'].apply(foo)\n",
    "sns.countplot(df_train['region_rating_client'])"
   ]
  },
  {
   "cell_type": "markdown",
   "metadata": {},
   "source": [
    "## Hour Appr Process Start"
   ]
  },
  {
   "cell_type": "markdown",
   "metadata": {},
   "source": [
    "Turn this into binary value of completed during business hours (9am-5pm) or not"
   ]
  },
  {
   "cell_type": "code",
   "execution_count": 29,
   "metadata": {},
   "outputs": [
    {
     "data": {
      "text/plain": [
       "<matplotlib.axes._subplots.AxesSubplot at 0x1a299b7b00>"
      ]
     },
     "execution_count": 29,
     "metadata": {},
     "output_type": "execute_result"
    },
    {
     "data": {
      "image/png": "[encoded data removed]",
      "text/plain": [
       "<Figure size 432x288 with 1 Axes>"
      ]
     },
     "metadata": {},
     "output_type": "display_data"
    }
   ],
   "source": [
    "sns.countplot(df_train['hour_appr_process_start'])"
   ]
  },
  {
   "cell_type": "code",
   "execution_count": 30,
   "metadata": {},
   "outputs": [
    {
     "data": {
      "text/plain": [
       "<matplotlib.axes._subplots.AxesSubplot at 0x1a2b5a4b70>"
      ]
     },
     "execution_count": 30,
     "metadata": {},
     "output_type": "execute_result"
    },
    {
     "data": {
      "image/png": "[encoded data removed]",
      "text/plain": [
       "<Figure size 432x288 with 1 Axes>"
      ]
     },
     "metadata": {},
     "output_type": "display_data"
    }
   ],
   "source": [
    "foo = lambda x: 1 if x in range(9,18) else 0\n",
    "df_train['hour_appr_process_start'] = df_train['hour_appr_process_start'].apply(foo)\n",
    "df_test['hour_appr_process_start'] = df_test['hour_appr_process_start'].apply(foo)\n",
    "df_train.rename(columns={'hour_appr_process_start': 'appr_start_business_hour'}, inplace=True)\n",
    "df_test.rename(columns={'hour_appr_process_start': 'appr_start_business_hour'}, inplace=True)\n",
    "sns.countplot(df_train['appr_start_business_hour'])"
   ]
  },
  {
   "cell_type": "markdown",
   "metadata": {},
   "source": [
    "## EXT Source 2"
   ]
  },
  {
   "cell_type": "markdown",
   "metadata": {},
   "source": [
    "Imputing median"
   ]
  },
  {
   "cell_type": "code",
   "execution_count": 31,
   "metadata": {},
   "outputs": [
    {
     "name": "stderr",
     "output_type": "stream",
     "text": [
      "/Users/blairthurman/anaconda3/lib/python3.6/site-packages/statsmodels/nonparametric/kde.py:448: RuntimeWarning: invalid value encountered in greater\n",
      "  X = X[np.logical_and(X > clip[0], X < clip[1])] # won't work for two columns.\n",
      "/Users/blairthurman/anaconda3/lib/python3.6/site-packages/statsmodels/nonparametric/kde.py:448: RuntimeWarning: invalid value encountered in less\n",
      "  X = X[np.logical_and(X > clip[0], X < clip[1])] # won't work for two columns.\n",
      "/Users/blairthurman/anaconda3/lib/python3.6/site-packages/scipy/stats/stats.py:1713: FutureWarning: Using a non-tuple sequence for multidimensional indexing is deprecated; use `arr[tuple(seq)]` instead of `arr[seq]`. In the future this will be interpreted as an array index, `arr[np.array(seq)]`, which will result either in an error or a different result.\n",
      "  return np.add.reduce(sorted[indexer] * weights, axis=axis) / sumval\n"
     ]
    },
    {
     "data": {
      "text/plain": [
       "<matplotlib.axes._subplots.AxesSubplot at 0x1a2b728668>"
      ]
     },
     "execution_count": 31,
     "metadata": {},
     "output_type": "execute_result"
    },
    {
     "data": {
      "image/png": "[encoded data removed]",
      "text/plain": [
       "<Figure size 432x288 with 1 Axes>"
      ]
     },
     "metadata": {},
     "output_type": "display_data"
    }
   ],
   "source": [
    "sns.kdeplot(df_train['ext_source_2'])"
   ]
  },
  {
   "cell_type": "code",
   "execution_count": 32,
   "metadata": {},
   "outputs": [
    {
     "data": {
      "text/plain": [
       "0.5659614260608526"
      ]
     },
     "execution_count": 32,
     "metadata": {},
     "output_type": "execute_result"
    }
   ],
   "source": [
    "median = df_train['ext_source_2'].median()\n",
    "median"
   ]
  },
  {
   "cell_type": "code",
   "execution_count": 33,
   "metadata": {},
   "outputs": [],
   "source": [
    "idxs = df_train[df_train['ext_source_2'].isnull()]['ext_source_2'].index\n",
    "for idx in idxs:\n",
    "    df_train.at[idx, 'ext_source_2'] = mode\n",
    "\n",
    "idxs = df_test[df_test['ext_source_2'].isnull()]['ext_source_2'].index\n",
    "for idx in idxs:\n",
    "    df_test.at[idx, 'ext_source_2'] = mode"
   ]
  },
  {
   "cell_type": "markdown",
   "metadata": {},
   "source": [
    "## OBS 30 CNT Social Circle"
   ]
  },
  {
   "cell_type": "markdown",
   "metadata": {},
   "source": [
    "Imputing median"
   ]
  },
  {
   "cell_type": "code",
   "execution_count": 34,
   "metadata": {},
   "outputs": [
    {
     "data": {
      "text/plain": [
       "(array([ 0,  1,  2,  3,  4,  5,  6,  7,  8,  9, 10, 11, 12, 13, 14, 15, 16,\n",
       "        17, 18, 19, 20, 21, 22, 23, 24, 25, 26, 27, 28, 29, 30, 31, 32]),\n",
       " <a list of 33 Text xticklabel objects>)"
      ]
     },
     "execution_count": 34,
     "metadata": {},
     "output_type": "execute_result"
    },
    {
     "data": {
      "image/png": "[encoded data removed]",
      "text/plain": [
       "<Figure size 432x288 with 1 Axes>"
      ]
     },
     "metadata": {},
     "output_type": "display_data"
    }
   ],
   "source": [
    "sns.countplot(df_train['obs_30_cnt_social_circle'])\n",
    "plt.xticks(rotation='vertical')"
   ]
  },
  {
   "cell_type": "code",
   "execution_count": 35,
   "metadata": {},
   "outputs": [],
   "source": [
    "mode = stats.mode(df_train['obs_30_cnt_social_circle'])[0][0]\n",
    "\n",
    "idxs = df_train[df_train['obs_30_cnt_social_circle'].isnull()]['obs_30_cnt_social_circle'].index\n",
    "for idx in idxs:\n",
    "    df_train.at[idx, 'obs_30_cnt_social_circle'] = mode\n",
    "\n",
    "idxs = df_test[df_test['obs_30_cnt_social_circle'].isnull()]['obs_30_cnt_social_circle'].index\n",
    "for idx in idxs:\n",
    "    df_test.at[idx, 'obs_30_cnt_social_circle'] = mode"
   ]
  },
  {
   "cell_type": "markdown",
   "metadata": {},
   "source": [
    "## DEF 30 CNT Social Circle"
   ]
  },
  {
   "cell_type": "markdown",
   "metadata": {},
   "source": [
    "Imputing median"
   ]
  },
  {
   "cell_type": "code",
   "execution_count": 36,
   "metadata": {},
   "outputs": [
    {
     "data": {
      "text/plain": [
       "(array([0, 1, 2, 3, 4, 5, 6, 7, 8, 9]), <a list of 10 Text xticklabel objects>)"
      ]
     },
     "execution_count": 36,
     "metadata": {},
     "output_type": "execute_result"
    },
    {
     "data": {
      "image/png": "[encoded data removed]",
      "text/plain": [
       "<Figure size 432x288 with 1 Axes>"
      ]
     },
     "metadata": {},
     "output_type": "display_data"
    }
   ],
   "source": [
    "sns.countplot(df_train['def_30_cnt_social_circle'])\n",
    "plt.xticks(rotation='vertical')"
   ]
  },
  {
   "cell_type": "code",
   "execution_count": 37,
   "metadata": {},
   "outputs": [],
   "source": [
    "mode = stats.mode(df_train['def_30_cnt_social_circle'])[0][0]\n",
    "\n",
    "idxs = df_train[df_train['def_30_cnt_social_circle'].isnull()]['def_30_cnt_social_circle'].index\n",
    "for idx in idxs:\n",
    "    df_train.at[idx, 'def_30_cnt_social_circle'] = mode\n",
    "\n",
    "idxs = df_test[df_test['def_30_cnt_social_circle'].isnull()]['def_30_cnt_social_circle'].index\n",
    "for idx in idxs:\n",
    "    df_test.at[idx, 'def_30_cnt_social_circle'] = mode"
   ]
  },
  {
   "cell_type": "markdown",
   "metadata": {},
   "source": [
    "## Days Last Phone Change"
   ]
  },
  {
   "cell_type": "markdown",
   "metadata": {},
   "source": [
    "Just one missing value"
   ]
  },
  {
   "cell_type": "code",
   "execution_count": 38,
   "metadata": {},
   "outputs": [
    {
     "name": "stderr",
     "output_type": "stream",
     "text": [
      "/Users/blairthurman/anaconda3/lib/python3.6/site-packages/statsmodels/nonparametric/kde.py:448: RuntimeWarning: invalid value encountered in greater\n",
      "  X = X[np.logical_and(X > clip[0], X < clip[1])] # won't work for two columns.\n",
      "/Users/blairthurman/anaconda3/lib/python3.6/site-packages/statsmodels/nonparametric/kde.py:448: RuntimeWarning: invalid value encountered in less\n",
      "  X = X[np.logical_and(X > clip[0], X < clip[1])] # won't work for two columns.\n",
      "/Users/blairthurman/anaconda3/lib/python3.6/site-packages/scipy/stats/stats.py:1713: FutureWarning: Using a non-tuple sequence for multidimensional indexing is deprecated; use `arr[tuple(seq)]` instead of `arr[seq]`. In the future this will be interpreted as an array index, `arr[np.array(seq)]`, which will result either in an error or a different result.\n",
      "  return np.add.reduce(sorted[indexer] * weights, axis=axis) / sumval\n"
     ]
    },
    {
     "data": {
      "text/plain": [
       "<matplotlib.axes._subplots.AxesSubplot at 0x1a2b6029b0>"
      ]
     },
     "execution_count": 38,
     "metadata": {},
     "output_type": "execute_result"
    },
    {
     "data": {
      "image/png": "[encoded data removed]",
      "text/plain": [
       "<Figure size 432x288 with 1 Axes>"
      ]
     },
     "metadata": {},
     "output_type": "display_data"
    }
   ],
   "source": [
    "sns.kdeplot(df_train['days_last_phone_change'])"
   ]
  },
  {
   "cell_type": "code",
   "execution_count": 39,
   "metadata": {},
   "outputs": [],
   "source": [
    "idx = df_train[df_train['days_last_phone_change'].isnull()]['days_last_phone_change'].index[0]\n",
    "df_train.at[idx, 'days_last_phone_change'] = 0"
   ]
  },
  {
   "cell_type": "code",
   "execution_count": 40,
   "metadata": {},
   "outputs": [
    {
     "data": {
      "text/html": [
       "<div>\n",
       "<style scoped>\n",
       "    .dataframe tbody tr th:only-of-type {\n",
       "        vertical-align: middle;\n",
       "    }\n",
       "\n",
       "    .dataframe tbody tr th {\n",
       "        vertical-align: top;\n",
       "    }\n",
       "\n",
       "    .dataframe thead th {\n",
       "        text-align: right;\n",
       "    }\n",
       "</style>\n",
       "<table border=\"1\" class=\"dataframe\">\n",
       "  <thead>\n",
       "    <tr style=\"text-align: right;\">\n",
       "      <th></th>\n",
       "      <th>sk_id_curr</th>\n",
       "      <th>target</th>\n",
       "      <th>name_contract_type</th>\n",
       "      <th>is_male</th>\n",
       "      <th>flag_own_car</th>\n",
       "      <th>flag_own_realty</th>\n",
       "      <th>cnt_children</th>\n",
       "      <th>amt_income_total</th>\n",
       "      <th>amt_credit</th>\n",
       "      <th>amt_annuity</th>\n",
       "      <th>...</th>\n",
       "      <th>flag_document_12</th>\n",
       "      <th>flag_document_13</th>\n",
       "      <th>flag_document_14</th>\n",
       "      <th>flag_document_15</th>\n",
       "      <th>flag_document_16</th>\n",
       "      <th>flag_document_17</th>\n",
       "      <th>flag_document_18</th>\n",
       "      <th>flag_document_19</th>\n",
       "      <th>flag_document_20</th>\n",
       "      <th>flag_document_21</th>\n",
       "    </tr>\n",
       "  </thead>\n",
       "  <tbody>\n",
       "    <tr>\n",
       "      <th>0</th>\n",
       "      <td>100002</td>\n",
       "      <td>1</td>\n",
       "      <td>Cash loans</td>\n",
       "      <td>1</td>\n",
       "      <td>0</td>\n",
       "      <td>1</td>\n",
       "      <td>0</td>\n",
       "      <td>202500.0</td>\n",
       "      <td>406597.5</td>\n",
       "      <td>24700.5</td>\n",
       "      <td>...</td>\n",
       "      <td>0</td>\n",
       "      <td>0</td>\n",
       "      <td>0</td>\n",
       "      <td>0</td>\n",
       "      <td>0</td>\n",
       "      <td>0</td>\n",
       "      <td>0</td>\n",
       "      <td>0</td>\n",
       "      <td>0</td>\n",
       "      <td>0</td>\n",
       "    </tr>\n",
       "    <tr>\n",
       "      <th>1</th>\n",
       "      <td>100003</td>\n",
       "      <td>0</td>\n",
       "      <td>Cash loans</td>\n",
       "      <td>0</td>\n",
       "      <td>0</td>\n",
       "      <td>0</td>\n",
       "      <td>0</td>\n",
       "      <td>270000.0</td>\n",
       "      <td>1293502.5</td>\n",
       "      <td>35698.5</td>\n",
       "      <td>...</td>\n",
       "      <td>0</td>\n",
       "      <td>0</td>\n",
       "      <td>0</td>\n",
       "      <td>0</td>\n",
       "      <td>0</td>\n",
       "      <td>0</td>\n",
       "      <td>0</td>\n",
       "      <td>0</td>\n",
       "      <td>0</td>\n",
       "      <td>0</td>\n",
       "    </tr>\n",
       "    <tr>\n",
       "      <th>2</th>\n",
       "      <td>100004</td>\n",
       "      <td>0</td>\n",
       "      <td>Revolving loans</td>\n",
       "      <td>1</td>\n",
       "      <td>1</td>\n",
       "      <td>1</td>\n",
       "      <td>0</td>\n",
       "      <td>67500.0</td>\n",
       "      <td>135000.0</td>\n",
       "      <td>6750.0</td>\n",
       "      <td>...</td>\n",
       "      <td>0</td>\n",
       "      <td>0</td>\n",
       "      <td>0</td>\n",
       "      <td>0</td>\n",
       "      <td>0</td>\n",
       "      <td>0</td>\n",
       "      <td>0</td>\n",
       "      <td>0</td>\n",
       "      <td>0</td>\n",
       "      <td>0</td>\n",
       "    </tr>\n",
       "    <tr>\n",
       "      <th>3</th>\n",
       "      <td>100006</td>\n",
       "      <td>0</td>\n",
       "      <td>Cash loans</td>\n",
       "      <td>0</td>\n",
       "      <td>0</td>\n",
       "      <td>1</td>\n",
       "      <td>0</td>\n",
       "      <td>135000.0</td>\n",
       "      <td>312682.5</td>\n",
       "      <td>29686.5</td>\n",
       "      <td>...</td>\n",
       "      <td>0</td>\n",
       "      <td>0</td>\n",
       "      <td>0</td>\n",
       "      <td>0</td>\n",
       "      <td>0</td>\n",
       "      <td>0</td>\n",
       "      <td>0</td>\n",
       "      <td>0</td>\n",
       "      <td>0</td>\n",
       "      <td>0</td>\n",
       "    </tr>\n",
       "    <tr>\n",
       "      <th>4</th>\n",
       "      <td>100007</td>\n",
       "      <td>0</td>\n",
       "      <td>Cash loans</td>\n",
       "      <td>1</td>\n",
       "      <td>0</td>\n",
       "      <td>1</td>\n",
       "      <td>0</td>\n",
       "      <td>121500.0</td>\n",
       "      <td>513000.0</td>\n",
       "      <td>21865.5</td>\n",
       "      <td>...</td>\n",
       "      <td>0</td>\n",
       "      <td>0</td>\n",
       "      <td>0</td>\n",
       "      <td>0</td>\n",
       "      <td>0</td>\n",
       "      <td>0</td>\n",
       "      <td>0</td>\n",
       "      <td>0</td>\n",
       "      <td>0</td>\n",
       "      <td>0</td>\n",
       "    </tr>\n",
       "  </tbody>\n",
       "</table>\n",
       "<p>5 rows × 61 columns</p>\n",
       "</div>"
      ],
      "text/plain": [
       "   sk_id_curr  target name_contract_type  is_male  flag_own_car  \\\n",
       "0      100002       1         Cash loans        1             0   \n",
       "1      100003       0         Cash loans        0             0   \n",
       "2      100004       0    Revolving loans        1             1   \n",
       "3      100006       0         Cash loans        0             0   \n",
       "4      100007       0         Cash loans        1             0   \n",
       "\n",
       "   flag_own_realty  cnt_children  amt_income_total  amt_credit  amt_annuity  \\\n",
       "0                1             0          202500.0    406597.5      24700.5   \n",
       "1                0             0          270000.0   1293502.5      35698.5   \n",
       "2                1             0           67500.0    135000.0       6750.0   \n",
       "3                1             0          135000.0    312682.5      29686.5   \n",
       "4                1             0          121500.0    513000.0      21865.5   \n",
       "\n",
       "         ...         flag_document_12 flag_document_13 flag_document_14  \\\n",
       "0        ...                        0                0                0   \n",
       "1        ...                        0                0                0   \n",
       "2        ...                        0                0                0   \n",
       "3        ...                        0                0                0   \n",
       "4        ...                        0                0                0   \n",
       "\n",
       "  flag_document_15 flag_document_16 flag_document_17  flag_document_18  \\\n",
       "0                0                0                0                 0   \n",
       "1                0                0                0                 0   \n",
       "2                0                0                0                 0   \n",
       "3                0                0                0                 0   \n",
       "4                0                0                0                 0   \n",
       "\n",
       "   flag_document_19  flag_document_20  flag_document_21  \n",
       "0                 0                 0                 0  \n",
       "1                 0                 0                 0  \n",
       "2                 0                 0                 0  \n",
       "3                 0                 0                 0  \n",
       "4                 0                 0                 0  \n",
       "\n",
       "[5 rows x 61 columns]"
      ]
     },
     "execution_count": 40,
     "metadata": {},
     "output_type": "execute_result"
    }
   ],
   "source": [
    "df_train.head()"
   ]
  },
  {
   "cell_type": "code",
   "execution_count": 41,
   "metadata": {},
   "outputs": [],
   "source": [
    "df_train.to_csv('data/application_train_clean.csv', index=False)\n",
    "df_test.to_csv('data/application_test_clean.csv', index=False)"
   ]
  },
  {
   "cell_type": "code",
   "execution_count": null,
   "metadata": {},
   "outputs": [],
   "source": []
  }
 ],
 "metadata": {
  "kernelspec": {
   "display_name": "Python 3",
   "language": "python",
   "name": "python3"
  },
  "language_info": {
   "codemirror_mode": {
    "name": "ipython",
    "version": 3
   },
   "file_extension": ".py",
   "mimetype": "text/x-python",
   "name": "python",
   "nbconvert_exporter": "python",
   "pygments_lexer": "ipython3",
   "version": "3.6.6"
  }
 },
 "nbformat": 4,
 "nbformat_minor": 2
}
