{
 "cells": [
  {
   "cell_type": "code",
   "execution_count": 1,
   "metadata": {},
   "outputs": [
    {
     "name": "stderr",
     "output_type": "stream",
     "text": [
      "/Users/blairthurman/anaconda3/lib/python3.6/site-packages/sklearn/ensemble/weight_boosting.py:29: DeprecationWarning: numpy.core.umath_tests is an internal NumPy module and should not be imported. It will be removed in a future NumPy release.\n",
      "  from numpy.core.umath_tests import inner1d\n",
      "/Users/blairthurman/anaconda3/lib/python3.6/site-packages/sklearn/cross_validation.py:41: DeprecationWarning: This module was deprecated in version 0.18 in favor of the model_selection module into which all the refactored classes and functions are moved. Also note that the interface of the new CV iterators are different from that of this module. This module will be removed in 0.20.\n",
      "  \"This module will be removed in 0.20.\", DeprecationWarning)\n"
     ]
    }
   ],
   "source": [
    "import pandas as pd\n",
    "import numpy as np\n",
    "import pickle\n",
    "from time import time\n",
    "from pprint import PrettyPrinter\n",
    "\n",
    "from sklearn.model_selection import train_test_split\n",
    "from sklearn.naive_bayes import GaussianNB\n",
    "from sklearn.linear_model import LogisticRegression\n",
    "from sklearn.neighbors import KNeighborsClassifier\n",
    "from sklearn.ensemble import RandomForestClassifier, AdaBoostClassifier, GradientBoostingClassifier\n",
    "import xgboost as xgb\n",
    "from xgboost.sklearn import XGBClassifier\n",
    "from sklearn import cross_validation, metrics\n",
    "from sklearn.model_selection import GridSearchCV\n",
    "\n",
    "import seaborn as sns\n",
    "import matplotlib.pyplot as plt\n",
    "sns.set()\n",
    "%matplotlib inline\n",
    "pp = PrettyPrinter()"
   ]
  },
  {
   "cell_type": "markdown",
   "metadata": {},
   "source": [
    "# Train/Test Split"
   ]
  },
  {
   "cell_type": "code",
   "execution_count": 2,
   "metadata": {
    "scrolled": true
   },
   "outputs": [
    {
     "data": {
      "text/html": [
       "<div>\n",
       "<style scoped>\n",
       "    .dataframe tbody tr th:only-of-type {\n",
       "        vertical-align: middle;\n",
       "    }\n",
       "\n",
       "    .dataframe tbody tr th {\n",
       "        vertical-align: top;\n",
       "    }\n",
       "\n",
       "    .dataframe thead th {\n",
       "        text-align: right;\n",
       "    }\n",
       "</style>\n",
       "<table border=\"1\" class=\"dataframe\">\n",
       "  <thead>\n",
       "    <tr style=\"text-align: right;\">\n",
       "      <th></th>\n",
       "      <th>sk_id_curr</th>\n",
       "      <th>target</th>\n",
       "      <th>0</th>\n",
       "      <th>1</th>\n",
       "      <th>2</th>\n",
       "      <th>3</th>\n",
       "      <th>4</th>\n",
       "      <th>5</th>\n",
       "      <th>6</th>\n",
       "      <th>7</th>\n",
       "      <th>...</th>\n",
       "      <th>28</th>\n",
       "      <th>29</th>\n",
       "      <th>30</th>\n",
       "      <th>31</th>\n",
       "      <th>32</th>\n",
       "      <th>33</th>\n",
       "      <th>34</th>\n",
       "      <th>35</th>\n",
       "      <th>36</th>\n",
       "      <th>37</th>\n",
       "    </tr>\n",
       "  </thead>\n",
       "  <tbody>\n",
       "    <tr>\n",
       "      <th>0</th>\n",
       "      <td>100002</td>\n",
       "      <td>1</td>\n",
       "      <td>0.311091</td>\n",
       "      <td>-1.332634</td>\n",
       "      <td>-0.399883</td>\n",
       "      <td>-2.000222</td>\n",
       "      <td>0.390812</td>\n",
       "      <td>0.672156</td>\n",
       "      <td>-0.191782</td>\n",
       "      <td>1.242912</td>\n",
       "      <td>...</td>\n",
       "      <td>0.094919</td>\n",
       "      <td>0.108869</td>\n",
       "      <td>-0.097447</td>\n",
       "      <td>0.207195</td>\n",
       "      <td>1.110724</td>\n",
       "      <td>-0.885310</td>\n",
       "      <td>0.271509</td>\n",
       "      <td>0.201748</td>\n",
       "      <td>0.078745</td>\n",
       "      <td>-1.013988</td>\n",
       "    </tr>\n",
       "    <tr>\n",
       "      <th>1</th>\n",
       "      <td>100003</td>\n",
       "      <td>0</td>\n",
       "      <td>1.003885</td>\n",
       "      <td>2.295670</td>\n",
       "      <td>-0.859131</td>\n",
       "      <td>-1.410614</td>\n",
       "      <td>0.350578</td>\n",
       "      <td>-0.441695</td>\n",
       "      <td>1.138504</td>\n",
       "      <td>-0.655109</td>\n",
       "      <td>...</td>\n",
       "      <td>0.215964</td>\n",
       "      <td>0.051572</td>\n",
       "      <td>0.488226</td>\n",
       "      <td>-0.041404</td>\n",
       "      <td>-0.785569</td>\n",
       "      <td>1.252293</td>\n",
       "      <td>1.370241</td>\n",
       "      <td>-0.178892</td>\n",
       "      <td>-0.732245</td>\n",
       "      <td>0.653229</td>\n",
       "    </tr>\n",
       "    <tr>\n",
       "      <th>2</th>\n",
       "      <td>100004</td>\n",
       "      <td>0</td>\n",
       "      <td>-0.356299</td>\n",
       "      <td>-2.745839</td>\n",
       "      <td>0.603927</td>\n",
       "      <td>-0.145268</td>\n",
       "      <td>2.845680</td>\n",
       "      <td>-0.206305</td>\n",
       "      <td>-1.628813</td>\n",
       "      <td>-0.740097</td>\n",
       "      <td>...</td>\n",
       "      <td>-0.140227</td>\n",
       "      <td>0.215135</td>\n",
       "      <td>-0.424872</td>\n",
       "      <td>0.097197</td>\n",
       "      <td>0.123388</td>\n",
       "      <td>0.143478</td>\n",
       "      <td>0.539556</td>\n",
       "      <td>0.226337</td>\n",
       "      <td>-0.640607</td>\n",
       "      <td>-1.492682</td>\n",
       "    </tr>\n",
       "    <tr>\n",
       "      <th>3</th>\n",
       "      <td>100006</td>\n",
       "      <td>0</td>\n",
       "      <td>-0.452229</td>\n",
       "      <td>-0.706371</td>\n",
       "      <td>-1.026894</td>\n",
       "      <td>-1.142946</td>\n",
       "      <td>-0.490824</td>\n",
       "      <td>-0.542183</td>\n",
       "      <td>-0.185623</td>\n",
       "      <td>0.939177</td>\n",
       "      <td>...</td>\n",
       "      <td>0.015248</td>\n",
       "      <td>-0.032642</td>\n",
       "      <td>-0.234938</td>\n",
       "      <td>-0.217559</td>\n",
       "      <td>0.080454</td>\n",
       "      <td>-0.554469</td>\n",
       "      <td>-0.494474</td>\n",
       "      <td>0.734851</td>\n",
       "      <td>-0.315487</td>\n",
       "      <td>0.781315</td>\n",
       "    </tr>\n",
       "    <tr>\n",
       "      <th>4</th>\n",
       "      <td>100007</td>\n",
       "      <td>0</td>\n",
       "      <td>0.396743</td>\n",
       "      <td>-0.732436</td>\n",
       "      <td>2.179659</td>\n",
       "      <td>-0.024886</td>\n",
       "      <td>1.154158</td>\n",
       "      <td>2.721180</td>\n",
       "      <td>-2.287210</td>\n",
       "      <td>0.657978</td>\n",
       "      <td>...</td>\n",
       "      <td>0.434943</td>\n",
       "      <td>0.120781</td>\n",
       "      <td>-0.307910</td>\n",
       "      <td>-0.718415</td>\n",
       "      <td>-0.035805</td>\n",
       "      <td>-1.283724</td>\n",
       "      <td>0.026249</td>\n",
       "      <td>0.483156</td>\n",
       "      <td>2.127985</td>\n",
       "      <td>-0.200012</td>\n",
       "    </tr>\n",
       "  </tbody>\n",
       "</table>\n",
       "<p>5 rows × 40 columns</p>\n",
       "</div>"
      ],
      "text/plain": [
       "   sk_id_curr  target         0         1         2         3         4  \\\n",
       "0      100002       1  0.311091 -1.332634 -0.399883 -2.000222  0.390812   \n",
       "1      100003       0  1.003885  2.295670 -0.859131 -1.410614  0.350578   \n",
       "2      100004       0 -0.356299 -2.745839  0.603927 -0.145268  2.845680   \n",
       "3      100006       0 -0.452229 -0.706371 -1.026894 -1.142946 -0.490824   \n",
       "4      100007       0  0.396743 -0.732436  2.179659 -0.024886  1.154158   \n",
       "\n",
       "          5         6         7    ...           28        29        30  \\\n",
       "0  0.672156 -0.191782  1.242912    ...     0.094919  0.108869 -0.097447   \n",
       "1 -0.441695  1.138504 -0.655109    ...     0.215964  0.051572  0.488226   \n",
       "2 -0.206305 -1.628813 -0.740097    ...    -0.140227  0.215135 -0.424872   \n",
       "3 -0.542183 -0.185623  0.939177    ...     0.015248 -0.032642 -0.234938   \n",
       "4  2.721180 -2.287210  0.657978    ...     0.434943  0.120781 -0.307910   \n",
       "\n",
       "         31        32        33        34        35        36        37  \n",
       "0  0.207195  1.110724 -0.885310  0.271509  0.201748  0.078745 -1.013988  \n",
       "1 -0.041404 -0.785569  1.252293  1.370241 -0.178892 -0.732245  0.653229  \n",
       "2  0.097197  0.123388  0.143478  0.539556  0.226337 -0.640607 -1.492682  \n",
       "3 -0.217559  0.080454 -0.554469 -0.494474  0.734851 -0.315487  0.781315  \n",
       "4 -0.718415 -0.035805 -1.283724  0.026249  0.483156  2.127985 -0.200012  \n",
       "\n",
       "[5 rows x 40 columns]"
      ]
     },
     "execution_count": 2,
     "metadata": {},
     "output_type": "execute_result"
    }
   ],
   "source": [
    "df = pd.read_csv('data/application_train_pca.csv')\n",
    "df.head()"
   ]
  },
  {
   "cell_type": "code",
   "execution_count": 3,
   "metadata": {},
   "outputs": [],
   "source": [
    "train = df[df.columns[2:]]\n",
    "target = df['target']"
   ]
  },
  {
   "cell_type": "markdown",
   "metadata": {},
   "source": [
    "# Modeling"
   ]
  },
  {
   "cell_type": "code",
   "execution_count": 4,
   "metadata": {},
   "outputs": [],
   "source": [
    "def model_fit(model, train, target, timed=True, feature_importance=False):\n",
    "    '''\n",
    "    This function is for checking performance of a single model. \n",
    "    \n",
    "    Optional plot of feature importance for ensemble methods.\n",
    "    '''\n",
    "    # Fit and Predict\n",
    "    if timed:\n",
    "        start = time()\n",
    "        passed = time() - start\n",
    "        print(f'Seconds to start: {passed:.2f}')\n",
    "    model.fit(train, target)\n",
    "    if timed:\n",
    "        passed = time() - start\n",
    "        print(f'Seconds to fit: {passed:.2f}')\n",
    "    \n",
    "    # CV\n",
    "    cv_score = cross_validation.cross_val_score(model, train, target, cv=5, scoring='roc_auc')\n",
    "    print(f'CV Score : Mean - {np.mean(cv_score):.3f} | Std - {np.std(cv_score):.3f} | Min - {np.min(cv_score):.3f} | Max - {np.max(cv_score):.3f}')\n",
    "    if timed:\n",
    "        passed = time() - start\n",
    "        print(f'Seconds to CV: {passed:.2f}')\n",
    "    \n",
    "    # Plots feature importance, for ensemble models only\n",
    "    if feature_importance:\n",
    "        feat_imp = pd.Series(model.feature_importances_).sort_values(ascending=False)\n",
    "        feat_imp.plot(kind='bar', title='Feature Importances')\n",
    "        plt.ylabel('Feature Importance Score')"
   ]
  },
  {
   "cell_type": "code",
   "execution_count": 24,
   "metadata": {},
   "outputs": [
    {
     "name": "stdout",
     "output_type": "stream",
     "text": [
      "Seconds to start: 0.00\n",
      "Seconds to fit: 37.88\n",
      "CV Score : Mean - 0.592 | Std - 0.002 | Min - 0.591 | Max - 0.595\n",
      "Seconds to CV: 175.27\n"
     ]
    },
    {
     "data": {
      "image/png": "[encoded data removed]",
      "text/plain": [
       "<Figure size 432x288 with 1 Axes>"
      ]
     },
     "metadata": {},
     "output_type": "display_data"
    }
   ],
   "source": [
    "rfc = RandomForestClassifier(random_state=42)\n",
    "model_fit(rfc, train, target, feature_importance=True)"
   ]
  },
  {
   "cell_type": "code",
   "execution_count": 5,
   "metadata": {},
   "outputs": [],
   "source": [
    "def grid_searcher(model, train, target, parameters={}, cv=4, timed=True):\n",
    "    '''\n",
    "    Makes a printout of the AUC score for gridsearched models.\n",
    "    '''\n",
    "    if timed:\n",
    "        start = time()\n",
    "        passed = time() - start\n",
    "        print(f'Seconds to start: {passed:.2f}')\n",
    "    gsearcher = GridSearchCV(\n",
    "        estimator=model, \n",
    "        param_grid=parameters,\n",
    "        scoring='roc_auc',\n",
    "        n_jobs=4,\n",
    "        cv=cv)\n",
    "    gsearcher.fit(train, target)\n",
    "    if timed:\n",
    "        passed = time() - start\n",
    "        print(f'Seconds to fit: {passed:.2f}')\n",
    "    print('Grid Scores: \\n')\n",
    "    pp.pprint(gsearcher.cv_results_)\n",
    "    print(f'Best Model Parameters: {gsearcher.best_params_}')\n",
    "    print(f'Best Model Score: {gsearcher.best_score_:.4f}')"
   ]
  },
  {
   "cell_type": "markdown",
   "metadata": {},
   "source": [
    "## Naive Bayes"
   ]
  },
  {
   "cell_type": "markdown",
   "metadata": {},
   "source": [
    "For Funnsies"
   ]
  },
  {
   "cell_type": "code",
   "execution_count": 69,
   "metadata": {},
   "outputs": [
    {
     "name": "stdout",
     "output_type": "stream",
     "text": [
      "Seconds to start: 0.00\n",
      "Seconds to fit: 2.61\n",
      "Grid Scores: \n",
      "\n",
      "{'mean_fit_time': array([0.57424241]),\n",
      " 'mean_score_time': array([0.16385829]),\n",
      " 'mean_test_score': array([0.63585457]),\n",
      " 'mean_train_score': array([0.63620212]),\n",
      " 'params': [{}],\n",
      " 'rank_test_score': array([1], dtype=int32),\n",
      " 'split0_test_score': array([0.66536437]),\n",
      " 'split0_train_score': array([0.66500492]),\n",
      " 'split1_test_score': array([0.63106633]),\n",
      " 'split1_train_score': array([0.62473171]),\n",
      " 'split2_test_score': array([0.62023497]),\n",
      " 'split2_train_score': array([0.62882607]),\n",
      " 'split3_test_score': array([0.6267519]),\n",
      " 'split3_train_score': array([0.62624578]),\n",
      " 'std_fit_time': array([0.10114609]),\n",
      " 'std_score_time': array([0.02379337]),\n",
      " 'std_test_score': array([0.01746852]),\n",
      " 'std_train_score': array([0.01669361])}\n",
      "Best Model Parameters: {}\n",
      "Best Model Score: 0.6359\n"
     ]
    }
   ],
   "source": [
    "grid_searcher(GaussianNB(), train, target)"
   ]
  },
  {
   "cell_type": "markdown",
   "metadata": {},
   "source": [
    "## Logistic Regression"
   ]
  },
  {
   "cell_type": "markdown",
   "metadata": {},
   "source": [
    "Did a L1 Vs. L2 run. Same AUC (0.0688 w/ C=1.0). But took more than 10 times as long to fit, so don't use it."
   ]
  },
  {
   "cell_type": "code",
   "execution_count": 73,
   "metadata": {},
   "outputs": [
    {
     "name": "stdout",
     "output_type": "stream",
     "text": [
      "Seconds to start: 0.00\n",
      "Seconds to fit: 35.96\n",
      "Grid Scores: \n",
      "\n",
      "{'mean_fit_time': array([9.24557883, 9.22544372, 9.65600723]),\n",
      " 'mean_score_time': array([0.05977499, 0.04733109, 0.04461986]),\n",
      " 'mean_test_score': array([0.68782749, 0.68813003, 0.68814998]),\n",
      " 'mean_train_score': array([0.68844141, 0.68868085, 0.68868879]),\n",
      " 'param_C': masked_array(data=[0.1, 1.0, 10.0],\n",
      "             mask=[False, False, False],\n",
      "       fill_value='?',\n",
      "            dtype=object),\n",
      " 'params': [{'C': 0.1}, {'C': 1.0}, {'C': 10.0}],\n",
      " 'rank_test_score': array([3, 2, 1], dtype=int32),\n",
      " 'split0_test_score': array([0.68852682, 0.68875559, 0.68877045]),\n",
      " 'split0_train_score': array([0.68811236, 0.68830688, 0.68830709]),\n",
      " 'split1_test_score': array([0.68948963, 0.68989244, 0.68992319]),\n",
      " 'split1_train_score': array([0.68782096, 0.68809091, 0.68810805]),\n",
      " 'split2_test_score': array([0.68378984, 0.68411861, 0.68414445]),\n",
      " 'split2_train_score': array([0.68981337, 0.69007042, 0.69007795]),\n",
      " 'split3_test_score': array([0.68950365, 0.68975344, 0.68976177]),\n",
      " 'split3_train_score': array([0.68801894, 0.68825519, 0.68826207]),\n",
      " 'std_fit_time': array([0.08106188, 0.44826378, 0.50419984]),\n",
      " 'std_score_time': array([0.00980388, 0.00201605, 0.01296805]),\n",
      " 'std_test_score': array([0.00236452, 0.00235713, 0.00235432]),\n",
      " 'std_train_score': array([0.00079906, 0.00080622, 0.00080542])}\n",
      "Best Model Parameters: {'C': 10.0}\n",
      "Best Model Score: 0.6881\n"
     ]
    }
   ],
   "source": [
    "parameters = {\n",
    "    'C': [0.1, 1.0, 10.0]\n",
    "}\n",
    "grid_searcher(LogisticRegression(), train, target, parameters=parameters)"
   ]
  },
  {
   "cell_type": "code",
   "execution_count": 75,
   "metadata": {},
   "outputs": [
    {
     "name": "stdout",
     "output_type": "stream",
     "text": [
      "Seconds to start: 0.00\n",
      "Seconds to fit: 35.96\n",
      "Grid Scores: \n",
      "\n",
      "{'mean_fit_time': array([9.73964375, 9.66589713, 9.00063419]),\n",
      " 'mean_score_time': array([0.08108318, 0.05486774, 0.03736824]),\n",
      " 'mean_test_score': array([0.68814998, 0.68815106, 0.68815127]),\n",
      " 'mean_train_score': array([0.68868879, 0.68868899, 0.68868906]),\n",
      " 'param_C': masked_array(data=[10, 50, 100],\n",
      "             mask=[False, False, False],\n",
      "       fill_value='?',\n",
      "            dtype=object),\n",
      " 'params': [{'C': 10}, {'C': 50}, {'C': 100}],\n",
      " 'rank_test_score': array([3, 2, 1], dtype=int32),\n",
      " 'split0_test_score': array([0.68877045, 0.68877018, 0.68877025]),\n",
      " 'split0_train_score': array([0.68830709, 0.68830707, 0.68830704]),\n",
      " 'split1_test_score': array([0.68992319, 0.68992592, 0.68992636]),\n",
      " 'split1_train_score': array([0.68810805, 0.68810904, 0.6881093 ]),\n",
      " 'split2_test_score': array([0.68414445, 0.68414571, 0.68414621]),\n",
      " 'split2_train_score': array([0.69007795, 0.69007792, 0.69007795]),\n",
      " 'split3_test_score': array([0.68976177, 0.68976237, 0.68976221]),\n",
      " 'split3_train_score': array([0.68826207, 0.68826193, 0.68826194]),\n",
      " 'std_fit_time': array([0.67062643, 0.63419184, 0.50623418]),\n",
      " 'std_score_time': array([0.01914255, 0.00777152, 0.00922948]),\n",
      " 'std_test_score': array([0.00235432, 0.00235438, 0.00235423]),\n",
      " 'std_train_score': array([0.00080542, 0.00080525, 0.00080522])}\n",
      "Best Model Parameters: {'C': 100}\n",
      "Best Model Score: 0.6882\n"
     ]
    }
   ],
   "source": [
    "parameters = {\n",
    "    'C': [10, 50, 100]\n",
    "}\n",
    "grid_searcher(LogisticRegression(), train, target, parameters=parameters)"
   ]
  },
  {
   "cell_type": "code",
   "execution_count": 77,
   "metadata": {},
   "outputs": [
    {
     "name": "stdout",
     "output_type": "stream",
     "text": [
      "Seconds to start: 0.00\n",
      "Seconds to fit: 36.33\n",
      "Grid Scores: \n",
      "\n",
      "{'mean_fit_time': array([9.98389977, 9.73388952, 9.22305554]),\n",
      " 'mean_score_time': array([0.05230355, 0.05861026, 0.04027176]),\n",
      " 'mean_test_score': array([0.68815127, 0.6881513 , 0.68815128]),\n",
      " 'mean_train_score': array([0.68868906, 0.68868914, 0.68868914]),\n",
      " 'param_C': masked_array(data=[100, 500, 1000],\n",
      "             mask=[False, False, False],\n",
      "       fill_value='?',\n",
      "            dtype=object),\n",
      " 'params': [{'C': 100}, {'C': 500}, {'C': 1000}],\n",
      " 'rank_test_score': array([3, 1, 2], dtype=int32),\n",
      " 'split0_test_score': array([0.68877025, 0.68877006, 0.68876999]),\n",
      " 'split0_train_score': array([0.68830704, 0.68830701, 0.688307  ]),\n",
      " 'split1_test_score': array([0.68992636, 0.68992671, 0.68992668]),\n",
      " 'split1_train_score': array([0.6881093 , 0.68810946, 0.68810951]),\n",
      " 'split2_test_score': array([0.68414621, 0.68414625, 0.68414624]),\n",
      " 'split2_train_score': array([0.69007795, 0.69007809, 0.69007804]),\n",
      " 'split3_test_score': array([0.68976221, 0.68976214, 0.68976217]),\n",
      " 'split3_train_score': array([0.68826194, 0.68826201, 0.68826199]),\n",
      " 'std_fit_time': array([0.54752057, 0.57398754, 0.48950413]),\n",
      " 'std_score_time': array([0.00409152, 0.00903588, 0.0097268 ]),\n",
      " 'std_test_score': array([0.00235423, 0.00235425, 0.00235425]),\n",
      " 'std_train_score': array([0.00080522, 0.00080525, 0.00080521])}\n",
      "Best Model Parameters: {'C': 500}\n",
      "Best Model Score: 0.6882\n"
     ]
    }
   ],
   "source": [
    "parameters = {\n",
    "    'C': [100, 500, 1000]\n",
    "}\n",
    "grid_searcher(LogisticRegression(), train, target, parameters=parameters)"
   ]
  },
  {
   "cell_type": "markdown",
   "metadata": {},
   "source": [
    "---\n",
    "\n",
    "Just marginally getting better now so I'll stick with the lower C\n",
    "\n",
    "Best Logistic Regression Model AUC: 0.6882\n",
    "\n",
    "Loss: L2\n",
    "C: 100\n",
    "\n",
    "---"
   ]
  },
  {
   "cell_type": "markdown",
   "metadata": {},
   "source": [
    "## KNN"
   ]
  },
  {
   "cell_type": "code",
   "execution_count": 82,
   "metadata": {},
   "outputs": [
    {
     "name": "stdout",
     "output_type": "stream",
     "text": [
      "Seconds to start: 0.00\n",
      "Seconds to fit: 0.30\n",
      "Grid Scores: \n",
      "\n",
      "{'mean_fit_time': array([0.00845522]),\n",
      " 'mean_score_time': array([0.02241725]),\n",
      " 'mean_test_score': array([0.52674497]),\n",
      " 'mean_train_score': array([0.90104145]),\n",
      " 'params': [{}],\n",
      " 'rank_test_score': array([1], dtype=int32),\n",
      " 'split0_test_score': array([0.55293276]),\n",
      " 'split0_train_score': array([0.89595519]),\n",
      " 'split1_test_score': array([0.47627563]),\n",
      " 'split1_train_score': array([0.90339091]),\n",
      " 'split2_test_score': array([0.53815923]),\n",
      " 'split2_train_score': array([0.90639023]),\n",
      " 'split3_test_score': array([0.5398073]),\n",
      " 'split3_train_score': array([0.89842948]),\n",
      " 'std_fit_time': array([0.00098422]),\n",
      " 'std_score_time': array([0.0018546]),\n",
      " 'std_test_score': array([0.02977244]),\n",
      " 'std_train_score': array([0.00408723])}\n",
      "Best Model Parameters: {}\n",
      "Best Model Score: 0.5267\n"
     ]
    }
   ],
   "source": [
    "parameters = {}\n",
    "grid_searcher(KNeighborsClassifier(), train[:1000], target[:1000], parameters=parameters)"
   ]
  },
  {
   "cell_type": "code",
   "execution_count": 80,
   "metadata": {},
   "outputs": [
    {
     "name": "stdout",
     "output_type": "stream",
     "text": [
      "Seconds to start: 0.00\n",
      "Seconds to fit: 13.98\n",
      "Grid Scores: \n",
      "\n",
      "{'mean_fit_time': array([0.03860927]),\n",
      " 'mean_score_time': array([3.47560292]),\n",
      " 'mean_test_score': array([0.55925109]),\n",
      " 'mean_train_score': array([0.90473996]),\n",
      " 'params': [{}],\n",
      " 'rank_test_score': array([1], dtype=int32),\n",
      " 'split0_test_score': array([0.57021548]),\n",
      " 'split0_train_score': array([0.90351992]),\n",
      " 'split1_test_score': array([0.55509719]),\n",
      " 'split1_train_score': array([0.90815545]),\n",
      " 'split2_test_score': array([0.55631544]),\n",
      " 'split2_train_score': array([0.90518849]),\n",
      " 'split3_test_score': array([0.55537031]),\n",
      " 'split3_train_score': array([0.902096]),\n",
      " 'std_fit_time': array([0.00539002]),\n",
      " 'std_score_time': array([0.10222352]),\n",
      " 'std_test_score': array([0.0063481]),\n",
      " 'std_train_score': array([0.00225531])}\n",
      "Best Model Parameters: {}\n",
      "Best Model Score: 0.5593\n"
     ]
    }
   ],
   "source": [
    "parameters = {}\n",
    "grid_searcher(KNeighborsClassifier(), train[:10000], target[:10000], parameters=parameters)"
   ]
  },
  {
   "cell_type": "code",
   "execution_count": 81,
   "metadata": {},
   "outputs": [
    {
     "name": "stdout",
     "output_type": "stream",
     "text": [
      "Seconds to start: 0.00\n",
      "Seconds to fit: 250.46\n",
      "Grid Scores: \n",
      "\n",
      "{'mean_fit_time': array([0.25517172]),\n",
      " 'mean_score_time': array([64.12995625]),\n",
      " 'mean_test_score': array([0.55795376]),\n",
      " 'mean_train_score': array([0.899545]),\n",
      " 'params': [{}],\n",
      " 'rank_test_score': array([1], dtype=int32),\n",
      " 'split0_test_score': array([0.55891313]),\n",
      " 'split0_train_score': array([0.89847673]),\n",
      " 'split1_test_score': array([0.54330993]),\n",
      " 'split1_train_score': array([0.89891288]),\n",
      " 'split2_test_score': array([0.56728112]),\n",
      " 'split2_train_score': array([0.89845786]),\n",
      " 'split3_test_score': array([0.56231306]),\n",
      " 'split3_train_score': array([0.90233251]),\n",
      " 'std_fit_time': array([0.01521097]),\n",
      " 'std_score_time': array([2.42269303]),\n",
      " 'std_test_score': array([0.00896345]),\n",
      " 'std_train_score': array([0.00161963])}\n",
      "Best Model Parameters: {}\n",
      "Best Model Score: 0.5580\n"
     ]
    }
   ],
   "source": [
    "parameters = {}\n",
    "grid_searcher(KNeighborsClassifier(), train[:50000], target[:50000], parameters=parameters)"
   ]
  },
  {
   "cell_type": "markdown",
   "metadata": {},
   "source": [
    "---\n",
    "\n",
    "Training time is increasing by n^2 - the whole dataset of 300k would take ~9000 seconds to train locally (2.5 hours). Not worth it if it can't even tickle ~0.6 AUC. I'll gridsearch on a subset of data later (just 30k instead of the 50k above).\n",
    "\n",
    "---"
   ]
  },
  {
   "cell_type": "code",
   "execution_count": 92,
   "metadata": {},
   "outputs": [
    {
     "name": "stdout",
     "output_type": "stream",
     "text": [
      "Seconds to start: 0.00\n",
      "Seconds to fit: 529.45\n",
      "Grid Scores: \n",
      "\n",
      "{'mean_fit_time': array([0.14385247, 0.12380219, 0.11354631, 0.11212033, 0.1148473 ]),\n",
      " 'mean_score_time': array([23.35089755, 25.75460583, 27.42709237, 28.14374775, 29.16809601]),\n",
      " 'mean_test_score': array([0.54479748, 0.57184604, 0.5852932 , 0.59513264, 0.60120883]),\n",
      " 'mean_train_score': array([0.94035583, 0.8690169 , 0.82673626, 0.80059894, 0.78296345]),\n",
      " 'param_n_neighbors': masked_array(data=[3, 7, 11, 15, 19],\n",
      "             mask=[False, False, False, False, False],\n",
      "       fill_value='?',\n",
      "            dtype=object),\n",
      " 'params': [{'n_neighbors': 3},\n",
      "            {'n_neighbors': 7},\n",
      "            {'n_neighbors': 11},\n",
      "            {'n_neighbors': 15},\n",
      "            {'n_neighbors': 19}],\n",
      " 'rank_test_score': array([5, 4, 3, 2, 1], dtype=int32),\n",
      " 'split0_test_score': array([0.54261571, 0.55548418, 0.57401941, 0.58244802, 0.58998957]),\n",
      " 'split0_train_score': array([0.93969433, 0.87007617, 0.82979798, 0.80355858, 0.78675149]),\n",
      " 'split1_test_score': array([0.53699194, 0.56020155, 0.5706691 , 0.57615073, 0.58371815]),\n",
      " 'split1_train_score': array([0.94111209, 0.87204289, 0.83036759, 0.80555943, 0.78718088]),\n",
      " 'split2_test_score': array([0.55020339, 0.5837362 , 0.5943001 , 0.61050956, 0.61640083]),\n",
      " 'split2_train_score': array([0.94059543, 0.86948237, 0.82389669, 0.79745345, 0.77934554]),\n",
      " 'split3_test_score': array([0.54937946, 0.58796433, 0.60218637, 0.61142436, 0.61472853]),\n",
      " 'split3_train_score': array([0.94002145, 0.86446617, 0.82288277, 0.79582429, 0.7785759 ]),\n",
      " 'std_fit_time': array([0.02816388, 0.00122808, 0.00171068, 0.00253476, 0.00291297]),\n",
      " 'std_score_time': array([0.64849128, 0.53599606, 0.45203461, 0.46793727, 0.43758418]),\n",
      " 'std_test_score': array([0.00538298, 0.01418161, 0.01329899, 0.01599282, 0.0145377 ]),\n",
      " 'std_train_score': array([0.00054284, 0.00279305, 0.00337169, 0.00406378, 0.00401484])}\n",
      "Best Model Parameters: {'n_neighbors': 19}\n",
      "Best Model Score: 0.6012\n"
     ]
    }
   ],
   "source": [
    "x_train, y_train, x_test, y_test = train_test_split(train, target,test_size=0.9, random_state=42)\n",
    "\n",
    "parameters = {\n",
    "    'n_neighbors': range(3, 20, 4)\n",
    "}\n",
    "grid_searcher(KNeighborsClassifier(), x_train, x_test, parameters=parameters)"
   ]
  },
  {
   "cell_type": "markdown",
   "metadata": {},
   "source": [
    "---\n",
    "\n",
    "0.6 AUC achieved. Go a little further before moving onto Random Forest.\n",
    "\n",
    "---"
   ]
  },
  {
   "cell_type": "code",
   "execution_count": 95,
   "metadata": {},
   "outputs": [
    {
     "name": "stdout",
     "output_type": "stream",
     "text": [
      "Seconds to start: 0.00\n",
      "Seconds to fit: 780.18\n",
      "Grid Scores: \n",
      "\n",
      "{'mean_fit_time': array([0.13688499, 0.11805701, 0.11368102, 0.11555791, 0.11695671,\n",
      "       0.16096228]),\n",
      " 'mean_score_time': array([30.27679992, 30.14938778, 33.44042993, 33.92674637, 34.22200781,\n",
      "       34.94614708]),\n",
      " 'mean_test_score': array([0.60120883, 0.60896516, 0.61627274, 0.62263232, 0.63040065,\n",
      "       0.63615329]),\n",
      " 'mean_train_score': array([0.78296345, 0.77062483, 0.76191558, 0.75613101, 0.7504163 ,\n",
      "       0.74531885]),\n",
      " 'param_n_neighbors': masked_array(data=[19, 23, 27, 31, 35, 39],\n",
      "             mask=[False, False, False, False, False, False],\n",
      "       fill_value='?',\n",
      "            dtype=object),\n",
      " 'params': [{'n_neighbors': 19},\n",
      "            {'n_neighbors': 23},\n",
      "            {'n_neighbors': 27},\n",
      "            {'n_neighbors': 31},\n",
      "            {'n_neighbors': 35},\n",
      "            {'n_neighbors': 39}],\n",
      " 'rank_test_score': array([6, 5, 4, 3, 2, 1], dtype=int32),\n",
      " 'split0_test_score': array([0.58998957, 0.60165653, 0.60509818, 0.6064078 , 0.61341832,\n",
      "       0.6201391 ]),\n",
      " 'split0_train_score': array([0.78675149, 0.77506358, 0.76466305, 0.7615273 , 0.7570028 ,\n",
      "       0.75370299]),\n",
      " 'split1_test_score': array([0.58371815, 0.5924061 , 0.61643706, 0.62292052, 0.62946223,\n",
      "       0.63271339]),\n",
      " 'split1_train_score': array([0.78718088, 0.77750564, 0.76770591, 0.76083456, 0.75254584,\n",
      "       0.74513025]),\n",
      " 'split2_test_score': array([0.61640083, 0.61895204, 0.62350747, 0.63401602, 0.64303939,\n",
      "       0.64824806]),\n",
      " 'split2_train_score': array([0.77934554, 0.76264096, 0.75726873, 0.7492365 , 0.74604451,\n",
      "       0.74045787]),\n",
      " 'split3_test_score': array([0.61472853, 0.62284781, 0.62004875, 0.62718552, 0.63568337,\n",
      "       0.64351355]),\n",
      " 'split3_train_score': array([0.7785759 , 0.76728913, 0.75802463, 0.75292568, 0.74607205,\n",
      "       0.74198428]),\n",
      " 'std_fit_time': array([0.00866877, 0.00681799, 0.00611134, 0.00909285, 0.00637869,\n",
      "       0.036199  ]),\n",
      " 'std_score_time': array([0.42313498, 0.453842  , 0.31814402, 0.43272336, 0.32969642,\n",
      "       0.51384315]),\n",
      " 'std_test_score': array([0.0145377 , 0.0124507 , 0.00691921, 0.01016918, 0.01091944,\n",
      "       0.01082534]),\n",
      " 'std_train_score': array([0.00401484, 0.00595645, 0.00441048, 0.00522139, 0.00463417,\n",
      "       0.00512537])}\n",
      "Best Model Parameters: {'n_neighbors': 39}\n",
      "Best Model Score: 0.6362\n"
     ]
    }
   ],
   "source": [
    "parameters = {\n",
    "    'n_neighbors': range(19, 40, 4)\n",
    "}\n",
    "grid_searcher(KNeighborsClassifier(), x_train, x_test, parameters=parameters)"
   ]
  },
  {
   "cell_type": "markdown",
   "metadata": {},
   "source": [
    "---\n",
    "\n",
    "Hmmm....see how much further this can go...\n",
    "\n",
    "---"
   ]
  },
  {
   "cell_type": "code",
   "execution_count": 97,
   "metadata": {},
   "outputs": [
    {
     "name": "stdout",
     "output_type": "stream",
     "text": [
      "Seconds to start: 0.00\n",
      "Seconds to fit: 295.30\n",
      "Grid Scores: \n",
      "\n",
      "{'mean_fit_time': array([0.13802606, 0.14722174]),\n",
      " 'mean_score_time': array([37.02309197, 37.94940591]),\n",
      " 'mean_test_score': array([0.63783752, 0.64099169]),\n",
      " 'mean_train_score': array([0.73386181, 0.72569142]),\n",
      " 'param_n_neighbors': masked_array(data=[50, 60],\n",
      "             mask=[False, False],\n",
      "       fill_value='?',\n",
      "            dtype=object),\n",
      " 'params': [{'n_neighbors': 50}, {'n_neighbors': 60}],\n",
      " 'rank_test_score': array([2, 1], dtype=int32),\n",
      " 'split0_test_score': array([0.6208874, 0.623075 ]),\n",
      " 'split0_train_score': array([0.74124953, 0.73368386]),\n",
      " 'split1_test_score': array([0.63690405, 0.6394443 ]),\n",
      " 'split1_train_score': array([0.73497644, 0.72808635]),\n",
      " 'split2_test_score': array([0.65288993, 0.65484452]),\n",
      " 'split2_train_score': array([0.72698929, 0.71750481]),\n",
      " 'split3_test_score': array([0.64066905, 0.64660368]),\n",
      " 'split3_train_score': array([0.73223196, 0.72349067]),\n",
      " 'std_fit_time': array([0.02070816, 0.01507383]),\n",
      " 'std_score_time': array([0.51365445, 0.2423046 ]),\n",
      " 'std_test_score': array([0.01143226, 0.011692  ]),\n",
      " 'std_train_score': array([0.00514074, 0.00594724])}\n",
      "Best Model Parameters: {'n_neighbors': 60}\n",
      "Best Model Score: 0.6410\n"
     ]
    }
   ],
   "source": [
    "parameters = {\n",
    "    'n_neighbors': [50, 60]\n",
    "}\n",
    "grid_searcher(KNeighborsClassifier(), x_train, x_test, parameters=parameters)"
   ]
  },
  {
   "cell_type": "code",
   "execution_count": 98,
   "metadata": {},
   "outputs": [
    {
     "name": "stdout",
     "output_type": "stream",
     "text": [
      "Seconds to start: 0.00\n",
      "Seconds to fit: 301.32\n",
      "Grid Scores: \n",
      "\n",
      "{'mean_fit_time': array([0.13332397, 0.12818938]),\n",
      " 'mean_score_time': array([38.5567435 , 35.97088635]),\n",
      " 'mean_test_score': array([0.64338975, 0.64766161]),\n",
      " 'mean_train_score': array([0.7124254 , 0.70654365]),\n",
      " 'param_n_neighbors': masked_array(data=[80, 100],\n",
      "             mask=[False, False],\n",
      "       fill_value='?',\n",
      "            dtype=object),\n",
      " 'params': [{'n_neighbors': 80}, {'n_neighbors': 100}],\n",
      " 'rank_test_score': array([2, 1], dtype=int32),\n",
      " 'split0_test_score': array([0.6236616 , 0.62384183]),\n",
      " 'split0_train_score': array([0.72169498, 0.71548974]),\n",
      " 'split1_test_score': array([0.63679022, 0.64489122]),\n",
      " 'split1_train_score': array([0.71224388, 0.70842726]),\n",
      " 'split2_test_score': array([0.6557105 , 0.66277531]),\n",
      " 'split2_train_score': array([0.70672402, 0.6987411 ]),\n",
      " 'split3_test_score': array([0.6573985 , 0.65913955]),\n",
      " 'split3_train_score': array([0.70903874, 0.70351649]),\n",
      " 'std_fit_time': array([0.01960268, 0.01434934]),\n",
      " 'std_score_time': array([0.43151116, 0.36178901]),\n",
      " 'std_test_score': array([0.01397139, 0.01529082]),\n",
      " 'std_train_score': array([0.00569941, 0.00619726])}\n",
      "Best Model Parameters: {'n_neighbors': 100}\n",
      "Best Model Score: 0.6477\n"
     ]
    }
   ],
   "source": [
    "parameters = {\n",
    "    'n_neighbors': [80, 100]\n",
    "}\n",
    "grid_searcher(KNeighborsClassifier(), x_train, x_test, parameters=parameters)"
   ]
  },
  {
   "cell_type": "code",
   "execution_count": 100,
   "metadata": {},
   "outputs": [
    {
     "name": "stdout",
     "output_type": "stream",
     "text": [
      "Seconds to start: 0.00\n",
      "Seconds to fit: 631.65\n",
      "Grid Scores: \n",
      "\n",
      "{'mean_fit_time': array([0.1325593 , 0.13325483, 0.11910671, 0.12345225]),\n",
      " 'mean_score_time': array([35.31970727, 36.95936239, 37.04843122, 37.57638675]),\n",
      " 'mean_test_score': array([0.65137785, 0.65149116, 0.65325445, 0.6551905 ]),\n",
      " 'mean_train_score': array([0.69928784, 0.69407967, 0.6912033 , 0.68840554]),\n",
      " 'param_n_neighbors': masked_array(data=[125, 150, 175, 200],\n",
      "             mask=[False, False, False, False],\n",
      "       fill_value='?',\n",
      "            dtype=object),\n",
      " 'params': [{'n_neighbors': 125},\n",
      "            {'n_neighbors': 150},\n",
      "            {'n_neighbors': 175},\n",
      "            {'n_neighbors': 200}],\n",
      " 'rank_test_score': array([4, 3, 2, 1], dtype=int32),\n",
      " 'split0_test_score': array([0.62910782, 0.62703579, 0.62839225, 0.62880188]),\n",
      " 'split0_train_score': array([0.70786338, 0.70223947, 0.69951348, 0.69663934]),\n",
      " 'split1_test_score': array([0.6472763 , 0.64666197, 0.6470314 , 0.65078563]),\n",
      " 'split1_train_score': array([0.70111144, 0.69486535, 0.69340901, 0.69074438]),\n",
      " 'split2_test_score': array([0.66257667, 0.66403624, 0.66820697, 0.67084928]),\n",
      " 'split2_train_score': array([0.69202666, 0.6875559 , 0.68442981, 0.68258279]),\n",
      " 'split3_test_score': array([0.66655259, 0.66823282, 0.66938929, 0.67032716]),\n",
      " 'split3_train_score': array([0.69614988, 0.69165796, 0.68746091, 0.68365563]),\n",
      " 'std_fit_time': array([0.01297456, 0.00922991, 0.00769573, 0.0125917 ]),\n",
      " 'std_score_time': array([0.39652549, 0.2331817 , 0.34733795, 0.31564066]),\n",
      " 'std_test_score': array([0.01473484, 0.01627149, 0.01688764, 0.01724882]),\n",
      " 'std_train_score': array([0.00590417, 0.00537643, 0.00578381, 0.00569499])}\n",
      "Best Model Parameters: {'n_neighbors': 200}\n",
      "Best Model Score: 0.6552\n"
     ]
    }
   ],
   "source": [
    "parameters = {\n",
    "    'n_neighbors': range(125, 201, 25)\n",
    "}\n",
    "grid_searcher(KNeighborsClassifier(), x_train, x_test, parameters=parameters)"
   ]
  },
  {
   "cell_type": "code",
   "execution_count": 101,
   "metadata": {},
   "outputs": [
    {
     "name": "stdout",
     "output_type": "stream",
     "text": [
      "Seconds to start: 0.00\n",
      "Seconds to fit: 872.22\n",
      "Grid Scores: \n",
      "\n",
      "{'mean_fit_time': array([0.14175755, 0.12903881, 0.12424058, 0.15267181, 0.16963798]),\n",
      " 'mean_score_time': array([43.57783151, 47.51412475, 41.36088622, 47.48112595, 47.85628557]),\n",
      " 'mean_test_score': array([0.6551905 , 0.65488796, 0.65824526, 0.65794263, 0.65905535]),\n",
      " 'mean_train_score': array([0.68840554, 0.68405795, 0.68213119, 0.68059386, 0.67906348]),\n",
      " 'param_n_neighbors': masked_array(data=[200, 250, 300, 350, 400],\n",
      "             mask=[False, False, False, False, False],\n",
      "       fill_value='?',\n",
      "            dtype=object),\n",
      " 'params': [{'n_neighbors': 200},\n",
      "            {'n_neighbors': 250},\n",
      "            {'n_neighbors': 300},\n",
      "            {'n_neighbors': 350},\n",
      "            {'n_neighbors': 400}],\n",
      " 'rank_test_score': array([4, 5, 2, 3, 1], dtype=int32),\n",
      " 'split0_test_score': array([0.62880188, 0.62885943, 0.62856922, 0.62816682, 0.63044517]),\n",
      " 'split0_train_score': array([0.69663934, 0.69091696, 0.69076239, 0.69094394, 0.68928905]),\n",
      " 'split1_test_score': array([0.65078563, 0.64560248, 0.65041002, 0.65265494, 0.65370884]),\n",
      " 'split1_train_score': array([0.69074438, 0.68750415, 0.68513306, 0.68201727, 0.67959917]),\n",
      " 'split2_test_score': array([0.67084928, 0.67338872, 0.67855231, 0.67586665, 0.67555279]),\n",
      " 'split2_train_score': array([0.68258279, 0.67786818, 0.67547465, 0.67474523, 0.67435065]),\n",
      " 'split3_test_score': array([0.67032716, 0.67170339, 0.67545174, 0.67508435, 0.67651685]),\n",
      " 'split3_train_score': array([0.68365563, 0.67994251, 0.67715467, 0.674669  , 0.67301504]),\n",
      " 'std_fit_time': array([0.01754913, 0.01028118, 0.02644259, 0.03526471, 0.05812457]),\n",
      " 'std_score_time': array([0.26806977, 0.28127428, 0.30374312, 0.32609097, 0.39461531]),\n",
      " 'std_test_score': array([0.01724882, 0.01863297, 0.02031325, 0.01955556, 0.01886931]),\n",
      " 'std_train_score': array([0.00569499, 0.00534257, 0.00617625, 0.00667946, 0.00639616])}\n",
      "Best Model Parameters: {'n_neighbors': 400}\n",
      "Best Model Score: 0.6591\n"
     ]
    }
   ],
   "source": [
    "parameters = {\n",
    "    'n_neighbors': range(200, 401, 50)\n",
    "}\n",
    "grid_searcher(KNeighborsClassifier(), x_train, x_test, parameters=parameters)"
   ]
  },
  {
   "cell_type": "code",
   "execution_count": 102,
   "metadata": {},
   "outputs": [
    {
     "name": "stdout",
     "output_type": "stream",
     "text": [
      "Seconds to start: 0.00\n",
      "Seconds to fit: 5543.41\n",
      "Grid Scores: \n",
      "\n",
      "{'mean_fit_time': array([0.13964373, 0.11477357, 0.10823256]),\n",
      " 'mean_score_time': array([39.60221505, 39.26024419, 40.91284329]),\n",
      " 'mean_test_score': array([0.65905535, 0.66007587, 0.66221001]),\n",
      " 'mean_train_score': array([0.67906348, 0.67673292, 0.67583827]),\n",
      " 'param_n_neighbors': masked_array(data=[400, 500, 600],\n",
      "             mask=[False, False, False],\n",
      "       fill_value='?',\n",
      "            dtype=object),\n",
      " 'params': [{'n_neighbors': 400}, {'n_neighbors': 500}, {'n_neighbors': 600}],\n",
      " 'rank_test_score': array([3, 2, 1], dtype=int32),\n",
      " 'split0_test_score': array([0.63044517, 0.63049399, 0.63413369]),\n",
      " 'split0_train_score': array([0.68928905, 0.68701126, 0.68536271]),\n",
      " 'split1_test_score': array([0.65370884, 0.65648886, 0.65503314]),\n",
      " 'split1_train_score': array([0.67959917, 0.67696626, 0.67786309]),\n",
      " 'split2_test_score': array([0.67555279, 0.67580712, 0.68110538]),\n",
      " 'split2_train_score': array([0.67435065, 0.67309981, 0.6707361 ]),\n",
      " 'split3_test_score': array([0.67651685, 0.67751579, 0.67856995]),\n",
      " 'split3_train_score': array([0.67301504, 0.66985434, 0.66939117]),\n",
      " 'std_fit_time': array([0.01637122, 0.00997794, 0.01056285]),\n",
      " 'std_score_time': array([0.26713609, 0.03897321, 0.401473  ]),\n",
      " 'std_test_score': array([0.01886931, 0.01897093, 0.01913428]),\n",
      " 'std_train_score': array([0.00639616, 0.00644618, 0.00637205])}\n",
      "Best Model Parameters: {'n_neighbors': 600}\n",
      "Best Model Score: 0.6622\n"
     ]
    }
   ],
   "source": [
    "parameters = {\n",
    "    'n_neighbors': [400, 500, 600]\n",
    "}\n",
    "grid_searcher(KNeighborsClassifier(), x_train, x_test, parameters=parameters)"
   ]
  },
  {
   "cell_type": "code",
   "execution_count": 6,
   "metadata": {},
   "outputs": [
    {
     "data": {
      "text/plain": [
       "Text(0,0.5,'AUC Score')"
      ]
     },
     "execution_count": 6,
     "metadata": {},
     "output_type": "execute_result"
    },
    {
     "data": {
      "image/png": "[encoded data removed]",
      "text/plain": [
       "<Figure size 432x288 with 1 Axes>"
      ]
     },
     "metadata": {},
     "output_type": "display_data"
    }
   ],
   "source": [
    "x = [3, 7, 11, 15, 19, 19, 23, 27, 31, 35, 39, 50, 60, 80, 100, 125, 150, 175, 200, 200, 250, 300, 350, 400, 400, 500, 600]\n",
    "knn_AUC_means = [0.54479748, 0.57184604, 0.5852932 , 0.59513264, 0.60120883, 0.60120883, 0.60896516, 0.61627274, 0.62263232, 0.63040065,\n",
    "       0.63615329, 0.63783752, 0.64099169, 0.64338975, 0.64766161, 0.65137785, 0.65149116, 0.65325445, 0.6551905, 0.6551905 , 0.65488796, 0.65824526, 0.65794263, 0.6590553, 0.65905535, 0.66007587, 0.66221001]\n",
    "plt.scatter(x=x, y=knn_AUC_means)\n",
    "plt.title('KNN AUC over N-Neighbors')\n",
    "plt.xlabel('N Neighbors')\n",
    "plt.ylabel('AUC Score')"
   ]
  },
  {
   "cell_type": "markdown",
   "metadata": {},
   "source": [
    "---\n",
    "\n",
    "For n_neighbors, could pick either 200 or the range 40-50. Going for 200 for that sweet sweet AUC.\n",
    "\n",
    "Check final KNN model with model_fit function and 1/3 of total available training data instead of 1/10. \n",
    "Hoping to achieve ~0.66 AUC\n",
    "\n",
    "---"
   ]
  },
  {
   "cell_type": "code",
   "execution_count": 10,
   "metadata": {},
   "outputs": [
    {
     "name": "stdout",
     "output_type": "stream",
     "text": [
      "Seconds to start: 0.00\n",
      "Seconds to fit: 0.39\n",
      "CV Score : Mean - 0.662 | Std - 0.005 | Min - 0.655 | Max - 0.670\n",
      "Seconds to CV: 987.14\n"
     ]
    }
   ],
   "source": [
    "x_train, y_train, x_test, y_test = train_test_split(train, target,test_size=2/3, random_state=42)\n",
    "\n",
    "model = KNeighborsClassifier(n_neighbors=200)\n",
    "model_fit(model, x_train, x_test)"
   ]
  },
  {
   "cell_type": "markdown",
   "metadata": {},
   "source": [
    "---\n",
    "\n",
    "Huzzah! AUC of 0.662 w/ k=200. Done with KNN now. It was much closer to logistic regression than I had first anticipated.\n",
    "\n",
    "---"
   ]
  },
  {
   "cell_type": "markdown",
   "metadata": {},
   "source": [
    "## Random Forest"
   ]
  },
  {
   "cell_type": "code",
   "execution_count": 87,
   "metadata": {},
   "outputs": [
    {
     "name": "stdout",
     "output_type": "stream",
     "text": [
      "Seconds to start: 0.00\n",
      "Seconds to fit: 82.34\n",
      "Grid Scores: \n",
      "\n",
      "{'mean_fit_time': array([43.77107728]),\n",
      " 'mean_score_time': array([0.47911048]),\n",
      " 'mean_test_score': array([0.589808]),\n",
      " 'mean_train_score': array([0.99974094]),\n",
      " 'params': [{}],\n",
      " 'rank_test_score': array([1], dtype=int32),\n",
      " 'split0_test_score': array([0.59414754]),\n",
      " 'split0_train_score': array([0.99975338]),\n",
      " 'split1_test_score': array([0.58403182]),\n",
      " 'split1_train_score': array([0.99972242]),\n",
      " 'split2_test_score': array([0.59000421]),\n",
      " 'split2_train_score': array([0.99971714]),\n",
      " 'split3_test_score': array([0.59104838]),\n",
      " 'split3_train_score': array([0.99977085]),\n",
      " 'std_fit_time': array([0.46477554]),\n",
      " 'std_score_time': array([0.02135924]),\n",
      " 'std_test_score': array([0.00366651]),\n",
      " 'std_train_score': array([2.21312073e-05])}\n",
      "Best Model Parameters: {}\n",
      "Best Model Score: 0.5898\n"
     ]
    }
   ],
   "source": [
    "parameters = {}\n",
    "grid_searcher(RandomForestClassifier(), train, target, parameters=parameters)"
   ]
  },
  {
   "cell_type": "markdown",
   "metadata": {},
   "source": [
    "### n_features"
   ]
  },
  {
   "cell_type": "code",
   "execution_count": null,
   "metadata": {},
   "outputs": [],
   "source": []
  },
  {
   "cell_type": "markdown",
   "metadata": {},
   "source": [
    "### max_depth"
   ]
  },
  {
   "cell_type": "code",
   "execution_count": null,
   "metadata": {},
   "outputs": [],
   "source": []
  },
  {
   "cell_type": "markdown",
   "metadata": {},
   "source": [
    "### min_samples_split"
   ]
  },
  {
   "cell_type": "code",
   "execution_count": null,
   "metadata": {},
   "outputs": [],
   "source": []
  },
  {
   "cell_type": "markdown",
   "metadata": {},
   "source": [
    "### min_samples_leaf"
   ]
  },
  {
   "cell_type": "code",
   "execution_count": null,
   "metadata": {},
   "outputs": [],
   "source": []
  },
  {
   "cell_type": "markdown",
   "metadata": {},
   "source": [
    "### max_features"
   ]
  },
  {
   "cell_type": "code",
   "execution_count": null,
   "metadata": {},
   "outputs": [],
   "source": []
  },
  {
   "cell_type": "markdown",
   "metadata": {},
   "source": [
    "### learning_rate"
   ]
  },
  {
   "cell_type": "markdown",
   "metadata": {},
   "source": [
    "## Gradient Boost"
   ]
  },
  {
   "cell_type": "markdown",
   "metadata": {},
   "source": [
    "## Adaptive Boost"
   ]
  },
  {
   "cell_type": "markdown",
   "metadata": {},
   "source": [
    "## XGBoost"
   ]
  },
  {
   "cell_type": "code",
   "execution_count": null,
   "metadata": {},
   "outputs": [],
   "source": []
  }
 ],
 "metadata": {
  "kernelspec": {
   "display_name": "Python 3",
   "language": "python",
   "name": "python3"
  },
  "language_info": {
   "codemirror_mode": {
    "name": "ipython",
    "version": 3
   },
   "file_extension": ".py",
   "mimetype": "text/x-python",
   "name": "python",
   "nbconvert_exporter": "python",
   "pygments_lexer": "ipython3",
   "version": "3.6.6"
  }
 },
 "nbformat": 4,
 "nbformat_minor": 2
}
