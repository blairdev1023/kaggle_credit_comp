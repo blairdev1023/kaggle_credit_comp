{
 "cells": [
  {
   "cell_type": "code",
   "execution_count": 1,
   "metadata": {},
   "outputs": [],
   "source": [
    "import pandas as pd\n",
    "import numpy as np\n",
    "from scipy import stats\n",
    "import seaborn as sns\n",
    "import matplotlib.pyplot as plt\n",
    "\n",
    "sns.set()\n",
    "%matplotlib inline"
   ]
  },
  {
   "cell_type": "markdown",
   "metadata": {},
   "source": [
    "# Load"
   ]
  },
  {
   "cell_type": "code",
   "execution_count": 2,
   "metadata": {},
   "outputs": [],
   "source": [
    "df_train = pd.read_csv('data/application_train.csv')"
   ]
  },
  {
   "cell_type": "code",
   "execution_count": 3,
   "metadata": {},
   "outputs": [],
   "source": [
    "df_test = pd.read_csv('data/application_test.csv')"
   ]
  },
  {
   "cell_type": "code",
   "execution_count": 4,
   "metadata": {},
   "outputs": [
    {
     "data": {
      "text/html": [
       "<div>\n",
       "<style scoped>\n",
       "    .dataframe tbody tr th:only-of-type {\n",
       "        vertical-align: middle;\n",
       "    }\n",
       "\n",
       "    .dataframe tbody tr th {\n",
       "        vertical-align: top;\n",
       "    }\n",
       "\n",
       "    .dataframe thead th {\n",
       "        text-align: right;\n",
       "    }\n",
       "</style>\n",
       "<table border=\"1\" class=\"dataframe\">\n",
       "  <thead>\n",
       "    <tr style=\"text-align: right;\">\n",
       "      <th></th>\n",
       "      <th>SK_ID_CURR</th>\n",
       "      <th>TARGET</th>\n",
       "      <th>NAME_CONTRACT_TYPE</th>\n",
       "      <th>CODE_GENDER</th>\n",
       "      <th>FLAG_OWN_CAR</th>\n",
       "      <th>FLAG_OWN_REALTY</th>\n",
       "      <th>CNT_CHILDREN</th>\n",
       "      <th>AMT_INCOME_TOTAL</th>\n",
       "      <th>AMT_CREDIT</th>\n",
       "      <th>AMT_ANNUITY</th>\n",
       "      <th>...</th>\n",
       "      <th>FLAG_DOCUMENT_18</th>\n",
       "      <th>FLAG_DOCUMENT_19</th>\n",
       "      <th>FLAG_DOCUMENT_20</th>\n",
       "      <th>FLAG_DOCUMENT_21</th>\n",
       "      <th>AMT_REQ_CREDIT_BUREAU_HOUR</th>\n",
       "      <th>AMT_REQ_CREDIT_BUREAU_DAY</th>\n",
       "      <th>AMT_REQ_CREDIT_BUREAU_WEEK</th>\n",
       "      <th>AMT_REQ_CREDIT_BUREAU_MON</th>\n",
       "      <th>AMT_REQ_CREDIT_BUREAU_QRT</th>\n",
       "      <th>AMT_REQ_CREDIT_BUREAU_YEAR</th>\n",
       "    </tr>\n",
       "  </thead>\n",
       "  <tbody>\n",
       "    <tr>\n",
       "      <th>0</th>\n",
       "      <td>100002</td>\n",
       "      <td>1</td>\n",
       "      <td>Cash loans</td>\n",
       "      <td>M</td>\n",
       "      <td>N</td>\n",
       "      <td>Y</td>\n",
       "      <td>0</td>\n",
       "      <td>202500.0</td>\n",
       "      <td>406597.5</td>\n",
       "      <td>24700.5</td>\n",
       "      <td>...</td>\n",
       "      <td>0</td>\n",
       "      <td>0</td>\n",
       "      <td>0</td>\n",
       "      <td>0</td>\n",
       "      <td>0.0</td>\n",
       "      <td>0.0</td>\n",
       "      <td>0.0</td>\n",
       "      <td>0.0</td>\n",
       "      <td>0.0</td>\n",
       "      <td>1.0</td>\n",
       "    </tr>\n",
       "    <tr>\n",
       "      <th>1</th>\n",
       "      <td>100003</td>\n",
       "      <td>0</td>\n",
       "      <td>Cash loans</td>\n",
       "      <td>F</td>\n",
       "      <td>N</td>\n",
       "      <td>N</td>\n",
       "      <td>0</td>\n",
       "      <td>270000.0</td>\n",
       "      <td>1293502.5</td>\n",
       "      <td>35698.5</td>\n",
       "      <td>...</td>\n",
       "      <td>0</td>\n",
       "      <td>0</td>\n",
       "      <td>0</td>\n",
       "      <td>0</td>\n",
       "      <td>0.0</td>\n",
       "      <td>0.0</td>\n",
       "      <td>0.0</td>\n",
       "      <td>0.0</td>\n",
       "      <td>0.0</td>\n",
       "      <td>0.0</td>\n",
       "    </tr>\n",
       "    <tr>\n",
       "      <th>2</th>\n",
       "      <td>100004</td>\n",
       "      <td>0</td>\n",
       "      <td>Revolving loans</td>\n",
       "      <td>M</td>\n",
       "      <td>Y</td>\n",
       "      <td>Y</td>\n",
       "      <td>0</td>\n",
       "      <td>67500.0</td>\n",
       "      <td>135000.0</td>\n",
       "      <td>6750.0</td>\n",
       "      <td>...</td>\n",
       "      <td>0</td>\n",
       "      <td>0</td>\n",
       "      <td>0</td>\n",
       "      <td>0</td>\n",
       "      <td>0.0</td>\n",
       "      <td>0.0</td>\n",
       "      <td>0.0</td>\n",
       "      <td>0.0</td>\n",
       "      <td>0.0</td>\n",
       "      <td>0.0</td>\n",
       "    </tr>\n",
       "    <tr>\n",
       "      <th>3</th>\n",
       "      <td>100006</td>\n",
       "      <td>0</td>\n",
       "      <td>Cash loans</td>\n",
       "      <td>F</td>\n",
       "      <td>N</td>\n",
       "      <td>Y</td>\n",
       "      <td>0</td>\n",
       "      <td>135000.0</td>\n",
       "      <td>312682.5</td>\n",
       "      <td>29686.5</td>\n",
       "      <td>...</td>\n",
       "      <td>0</td>\n",
       "      <td>0</td>\n",
       "      <td>0</td>\n",
       "      <td>0</td>\n",
       "      <td>NaN</td>\n",
       "      <td>NaN</td>\n",
       "      <td>NaN</td>\n",
       "      <td>NaN</td>\n",
       "      <td>NaN</td>\n",
       "      <td>NaN</td>\n",
       "    </tr>\n",
       "    <tr>\n",
       "      <th>4</th>\n",
       "      <td>100007</td>\n",
       "      <td>0</td>\n",
       "      <td>Cash loans</td>\n",
       "      <td>M</td>\n",
       "      <td>N</td>\n",
       "      <td>Y</td>\n",
       "      <td>0</td>\n",
       "      <td>121500.0</td>\n",
       "      <td>513000.0</td>\n",
       "      <td>21865.5</td>\n",
       "      <td>...</td>\n",
       "      <td>0</td>\n",
       "      <td>0</td>\n",
       "      <td>0</td>\n",
       "      <td>0</td>\n",
       "      <td>0.0</td>\n",
       "      <td>0.0</td>\n",
       "      <td>0.0</td>\n",
       "      <td>0.0</td>\n",
       "      <td>0.0</td>\n",
       "      <td>0.0</td>\n",
       "    </tr>\n",
       "  </tbody>\n",
       "</table>\n",
       "<p>5 rows × 122 columns</p>\n",
       "</div>"
      ],
      "text/plain": [
       "   SK_ID_CURR  TARGET NAME_CONTRACT_TYPE CODE_GENDER FLAG_OWN_CAR  \\\n",
       "0      100002       1         Cash loans           M            N   \n",
       "1      100003       0         Cash loans           F            N   \n",
       "2      100004       0    Revolving loans           M            Y   \n",
       "3      100006       0         Cash loans           F            N   \n",
       "4      100007       0         Cash loans           M            N   \n",
       "\n",
       "  FLAG_OWN_REALTY  CNT_CHILDREN  AMT_INCOME_TOTAL  AMT_CREDIT  AMT_ANNUITY  \\\n",
       "0               Y             0          202500.0    406597.5      24700.5   \n",
       "1               N             0          270000.0   1293502.5      35698.5   \n",
       "2               Y             0           67500.0    135000.0       6750.0   \n",
       "3               Y             0          135000.0    312682.5      29686.5   \n",
       "4               Y             0          121500.0    513000.0      21865.5   \n",
       "\n",
       "              ...              FLAG_DOCUMENT_18 FLAG_DOCUMENT_19  \\\n",
       "0             ...                             0                0   \n",
       "1             ...                             0                0   \n",
       "2             ...                             0                0   \n",
       "3             ...                             0                0   \n",
       "4             ...                             0                0   \n",
       "\n",
       "  FLAG_DOCUMENT_20 FLAG_DOCUMENT_21 AMT_REQ_CREDIT_BUREAU_HOUR  \\\n",
       "0                0                0                        0.0   \n",
       "1                0                0                        0.0   \n",
       "2                0                0                        0.0   \n",
       "3                0                0                        NaN   \n",
       "4                0                0                        0.0   \n",
       "\n",
       "  AMT_REQ_CREDIT_BUREAU_DAY  AMT_REQ_CREDIT_BUREAU_WEEK  \\\n",
       "0                       0.0                         0.0   \n",
       "1                       0.0                         0.0   \n",
       "2                       0.0                         0.0   \n",
       "3                       NaN                         NaN   \n",
       "4                       0.0                         0.0   \n",
       "\n",
       "   AMT_REQ_CREDIT_BUREAU_MON  AMT_REQ_CREDIT_BUREAU_QRT  \\\n",
       "0                        0.0                        0.0   \n",
       "1                        0.0                        0.0   \n",
       "2                        0.0                        0.0   \n",
       "3                        NaN                        NaN   \n",
       "4                        0.0                        0.0   \n",
       "\n",
       "   AMT_REQ_CREDIT_BUREAU_YEAR  \n",
       "0                         1.0  \n",
       "1                         0.0  \n",
       "2                         0.0  \n",
       "3                         NaN  \n",
       "4                         0.0  \n",
       "\n",
       "[5 rows x 122 columns]"
      ]
     },
     "execution_count": 4,
     "metadata": {},
     "output_type": "execute_result"
    }
   ],
   "source": [
    "df_train.head()"
   ]
  },
  {
   "cell_type": "code",
   "execution_count": 5,
   "metadata": {},
   "outputs": [],
   "source": [
    "def perc_null(col):\n",
    "    '''\n",
    "    Makes a pretty print out of the percent of null values in each column\n",
    "    '''\n",
    "    print('\\n', '-' * 50, '\\n', col, '\\n')\n",
    "    train_null = len(df_train[df_train[col].isnull()])\n",
    "    test_null = len(df_test[df_test[col].isnull()])\n",
    "    if train_null == 0:\n",
    "        print('Train: 0')\n",
    "    else:\n",
    "        print('Train: ', train_null)\n",
    "        print(round(train_null/len(df_train), 3))\n",
    "    if test_null == 0:\n",
    "        print('Test: 0')\n",
    "    else:\n",
    "        print('Test: ', test_null)\n",
    "        print(round(test_null/len(df_test), 3))"
   ]
  },
  {
   "cell_type": "code",
   "execution_count": 6,
   "metadata": {},
   "outputs": [
    {
     "name": "stdout",
     "output_type": "stream",
     "text": [
      "\n",
      " -------------------------------------------------- \n",
      " NAME_CONTRACT_TYPE \n",
      "\n",
      "Train: 0\n",
      "Test: 0\n",
      "\n",
      " -------------------------------------------------- \n",
      " CODE_GENDER \n",
      "\n",
      "Train: 0\n",
      "Test: 0\n",
      "\n",
      " -------------------------------------------------- \n",
      " FLAG_OWN_CAR \n",
      "\n",
      "Train: 0\n",
      "Test: 0\n",
      "\n",
      " -------------------------------------------------- \n",
      " FLAG_OWN_REALTY \n",
      "\n",
      "Train: 0\n",
      "Test: 0\n",
      "\n",
      " -------------------------------------------------- \n",
      " CNT_CHILDREN \n",
      "\n",
      "Train: 0\n",
      "Test: 0\n",
      "\n",
      " -------------------------------------------------- \n",
      " AMT_INCOME_TOTAL \n",
      "\n",
      "Train: 0\n",
      "Test: 0\n",
      "\n",
      " -------------------------------------------------- \n",
      " AMT_CREDIT \n",
      "\n",
      "Train: 0\n",
      "Test: 0\n",
      "\n",
      " -------------------------------------------------- \n",
      " AMT_ANNUITY \n",
      "\n",
      "Train:  12\n",
      "0.0\n",
      "Test:  24\n",
      "0.0\n",
      "\n",
      " -------------------------------------------------- \n",
      " AMT_GOODS_PRICE \n",
      "\n",
      "Train:  278\n",
      "0.001\n",
      "Test: 0\n",
      "\n",
      " -------------------------------------------------- \n",
      " NAME_TYPE_SUITE \n",
      "\n",
      "Train:  1292\n",
      "0.004\n",
      "Test:  911\n",
      "0.019\n",
      "\n",
      " -------------------------------------------------- \n",
      " NAME_INCOME_TYPE \n",
      "\n",
      "Train: 0\n",
      "Test: 0\n",
      "\n",
      " -------------------------------------------------- \n",
      " NAME_EDUCATION_TYPE \n",
      "\n",
      "Train: 0\n",
      "Test: 0\n",
      "\n",
      " -------------------------------------------------- \n",
      " NAME_FAMILY_STATUS \n",
      "\n",
      "Train: 0\n",
      "Test: 0\n",
      "\n",
      " -------------------------------------------------- \n",
      " NAME_HOUSING_TYPE \n",
      "\n",
      "Train: 0\n",
      "Test: 0\n",
      "\n",
      " -------------------------------------------------- \n",
      " REGION_POPULATION_RELATIVE \n",
      "\n",
      "Train: 0\n",
      "Test: 0\n",
      "\n",
      " -------------------------------------------------- \n",
      " DAYS_BIRTH \n",
      "\n",
      "Train: 0\n",
      "Test: 0\n",
      "\n",
      " -------------------------------------------------- \n",
      " DAYS_EMPLOYED \n",
      "\n",
      "Train: 0\n",
      "Test: 0\n",
      "\n",
      " -------------------------------------------------- \n",
      " DAYS_REGISTRATION \n",
      "\n",
      "Train: 0\n",
      "Test: 0\n",
      "\n",
      " -------------------------------------------------- \n",
      " DAYS_ID_PUBLISH \n",
      "\n",
      "Train: 0\n",
      "Test: 0\n",
      "\n",
      " -------------------------------------------------- \n",
      " OWN_CAR_AGE \n",
      "\n",
      "Train:  202929\n",
      "0.66\n",
      "Test:  32312\n",
      "0.663\n",
      "\n",
      " -------------------------------------------------- \n",
      " FLAG_MOBIL \n",
      "\n",
      "Train: 0\n",
      "Test: 0\n",
      "\n",
      " -------------------------------------------------- \n",
      " FLAG_EMP_PHONE \n",
      "\n",
      "Train: 0\n",
      "Test: 0\n",
      "\n",
      " -------------------------------------------------- \n",
      " FLAG_WORK_PHONE \n",
      "\n",
      "Train: 0\n",
      "Test: 0\n",
      "\n",
      " -------------------------------------------------- \n",
      " FLAG_CONT_MOBILE \n",
      "\n",
      "Train: 0\n",
      "Test: 0\n",
      "\n",
      " -------------------------------------------------- \n",
      " FLAG_PHONE \n",
      "\n",
      "Train: 0\n",
      "Test: 0\n",
      "\n",
      " -------------------------------------------------- \n",
      " FLAG_EMAIL \n",
      "\n",
      "Train: 0\n",
      "Test: 0\n",
      "\n",
      " -------------------------------------------------- \n",
      " OCCUPATION_TYPE \n",
      "\n",
      "Train:  96391\n",
      "0.313\n",
      "Test:  15605\n",
      "0.32\n",
      "\n",
      " -------------------------------------------------- \n",
      " CNT_FAM_MEMBERS \n",
      "\n",
      "Train:  2\n",
      "0.0\n",
      "Test: 0\n",
      "\n",
      " -------------------------------------------------- \n",
      " REGION_RATING_CLIENT \n",
      "\n",
      "Train: 0\n",
      "Test: 0\n",
      "\n",
      " -------------------------------------------------- \n",
      " REGION_RATING_CLIENT_W_CITY \n",
      "\n",
      "Train: 0\n",
      "Test: 0\n",
      "\n",
      " -------------------------------------------------- \n",
      " WEEKDAY_APPR_PROCESS_START \n",
      "\n",
      "Train: 0\n",
      "Test: 0\n",
      "\n",
      " -------------------------------------------------- \n",
      " HOUR_APPR_PROCESS_START \n",
      "\n",
      "Train: 0\n",
      "Test: 0\n",
      "\n",
      " -------------------------------------------------- \n",
      " REG_REGION_NOT_LIVE_REGION \n",
      "\n",
      "Train: 0\n",
      "Test: 0\n",
      "\n",
      " -------------------------------------------------- \n",
      " REG_REGION_NOT_WORK_REGION \n",
      "\n",
      "Train: 0\n",
      "Test: 0\n",
      "\n",
      " -------------------------------------------------- \n",
      " LIVE_REGION_NOT_WORK_REGION \n",
      "\n",
      "Train: 0\n",
      "Test: 0\n",
      "\n",
      " -------------------------------------------------- \n",
      " REG_CITY_NOT_LIVE_CITY \n",
      "\n",
      "Train: 0\n",
      "Test: 0\n",
      "\n",
      " -------------------------------------------------- \n",
      " REG_CITY_NOT_WORK_CITY \n",
      "\n",
      "Train: 0\n",
      "Test: 0\n",
      "\n",
      " -------------------------------------------------- \n",
      " LIVE_CITY_NOT_WORK_CITY \n",
      "\n",
      "Train: 0\n",
      "Test: 0\n",
      "\n",
      " -------------------------------------------------- \n",
      " ORGANIZATION_TYPE \n",
      "\n",
      "Train: 0\n",
      "Test: 0\n",
      "\n",
      " -------------------------------------------------- \n",
      " EXT_SOURCE_1 \n",
      "\n",
      "Train:  173378\n",
      "0.564\n",
      "Test:  20532\n",
      "0.421\n",
      "\n",
      " -------------------------------------------------- \n",
      " EXT_SOURCE_2 \n",
      "\n",
      "Train:  660\n",
      "0.002\n",
      "Test:  8\n",
      "0.0\n",
      "\n",
      " -------------------------------------------------- \n",
      " EXT_SOURCE_3 \n",
      "\n",
      "Train:  60965\n",
      "0.198\n",
      "Test:  8668\n",
      "0.178\n",
      "\n",
      " -------------------------------------------------- \n",
      " APARTMENTS_AVG \n",
      "\n",
      "Train:  156061\n",
      "0.507\n",
      "Test:  23887\n",
      "0.49\n",
      "\n",
      " -------------------------------------------------- \n",
      " BASEMENTAREA_AVG \n",
      "\n",
      "Train:  179943\n",
      "0.585\n",
      "Test:  27641\n",
      "0.567\n",
      "\n",
      " -------------------------------------------------- \n",
      " YEARS_BEGINEXPLUATATION_AVG \n",
      "\n",
      "Train:  150007\n",
      "0.488\n",
      "Test:  22856\n",
      "0.469\n",
      "\n",
      " -------------------------------------------------- \n",
      " YEARS_BUILD_AVG \n",
      "\n",
      "Train:  204488\n",
      "0.665\n",
      "Test:  31818\n",
      "0.653\n",
      "\n",
      " -------------------------------------------------- \n",
      " COMMONAREA_AVG \n",
      "\n",
      "Train:  214865\n",
      "0.699\n",
      "Test:  33495\n",
      "0.687\n",
      "\n",
      " -------------------------------------------------- \n",
      " ELEVATORS_AVG \n",
      "\n",
      "Train:  163891\n",
      "0.533\n",
      "Test:  25189\n",
      "0.517\n",
      "\n",
      " -------------------------------------------------- \n",
      " ENTRANCES_AVG \n",
      "\n",
      "Train:  154828\n",
      "0.503\n",
      "Test:  23579\n",
      "0.484\n",
      "\n",
      " -------------------------------------------------- \n",
      " FLOORSMAX_AVG \n",
      "\n",
      "Train:  153020\n",
      "0.498\n",
      "Test:  23321\n",
      "0.478\n",
      "\n",
      " -------------------------------------------------- \n",
      " FLOORSMIN_AVG \n",
      "\n",
      "Train:  208642\n",
      "0.678\n",
      "Test:  32466\n",
      "0.666\n",
      "\n",
      " -------------------------------------------------- \n",
      " LANDAREA_AVG \n",
      "\n",
      "Train:  182590\n",
      "0.594\n",
      "Test:  28254\n",
      "0.58\n",
      "\n",
      " -------------------------------------------------- \n",
      " LIVINGAPARTMENTS_AVG \n",
      "\n",
      "Train:  210199\n",
      "0.684\n",
      "Test:  32780\n",
      "0.672\n",
      "\n",
      " -------------------------------------------------- \n",
      " LIVINGAREA_AVG \n",
      "\n",
      "Train:  154350\n",
      "0.502\n",
      "Test:  23552\n",
      "0.483\n",
      "\n",
      " -------------------------------------------------- \n",
      " NONLIVINGAPARTMENTS_AVG \n",
      "\n",
      "Train:  213514\n",
      "0.694\n",
      "Test:  33347\n",
      "0.684\n",
      "\n",
      " -------------------------------------------------- \n",
      " NONLIVINGAREA_AVG \n",
      "\n",
      "Train:  169682\n",
      "0.552\n",
      "Test:  26084\n",
      "0.535\n",
      "\n",
      " -------------------------------------------------- \n",
      " APARTMENTS_MODE \n",
      "\n",
      "Train:  156061\n",
      "0.507\n",
      "Test:  23887\n",
      "0.49\n",
      "\n",
      " -------------------------------------------------- \n",
      " BASEMENTAREA_MODE \n",
      "\n",
      "Train:  179943\n",
      "0.585\n",
      "Test:  27641\n",
      "0.567\n",
      "\n",
      " -------------------------------------------------- \n",
      " YEARS_BEGINEXPLUATATION_MODE \n",
      "\n",
      "Train:  150007\n",
      "0.488\n",
      "Test:  22856\n",
      "0.469\n",
      "\n",
      " -------------------------------------------------- \n",
      " YEARS_BUILD_MODE \n",
      "\n",
      "Train:  204488\n",
      "0.665\n",
      "Test:  31818\n",
      "0.653\n",
      "\n",
      " -------------------------------------------------- \n",
      " COMMONAREA_MODE \n",
      "\n",
      "Train:  214865\n",
      "0.699\n",
      "Test:  33495\n",
      "0.687\n",
      "\n",
      " -------------------------------------------------- \n",
      " ELEVATORS_MODE \n",
      "\n",
      "Train:  163891\n",
      "0.533\n",
      "Test:  25189\n",
      "0.517\n",
      "\n",
      " -------------------------------------------------- \n",
      " ENTRANCES_MODE \n",
      "\n",
      "Train:  154828\n",
      "0.503\n",
      "Test:  23579\n",
      "0.484\n",
      "\n",
      " -------------------------------------------------- \n",
      " FLOORSMAX_MODE \n",
      "\n",
      "Train:  153020\n",
      "0.498\n",
      "Test:  23321\n",
      "0.478\n",
      "\n",
      " -------------------------------------------------- \n",
      " FLOORSMIN_MODE \n",
      "\n",
      "Train:  208642\n",
      "0.678\n",
      "Test:  32466\n",
      "0.666\n",
      "\n",
      " -------------------------------------------------- \n",
      " LANDAREA_MODE \n",
      "\n",
      "Train:  182590\n",
      "0.594\n",
      "Test:  28254\n",
      "0.58\n",
      "\n",
      " -------------------------------------------------- \n",
      " LIVINGAPARTMENTS_MODE \n",
      "\n",
      "Train:  210199\n",
      "0.684\n",
      "Test:  32780\n",
      "0.672\n",
      "\n",
      " -------------------------------------------------- \n",
      " LIVINGAREA_MODE \n",
      "\n",
      "Train:  154350\n",
      "0.502\n",
      "Test:  23552\n",
      "0.483\n",
      "\n",
      " -------------------------------------------------- \n",
      " NONLIVINGAPARTMENTS_MODE \n",
      "\n",
      "Train:  213514\n",
      "0.694\n",
      "Test:  33347\n",
      "0.684\n",
      "\n",
      " -------------------------------------------------- \n",
      " NONLIVINGAREA_MODE \n",
      "\n",
      "Train:  169682\n",
      "0.552\n",
      "Test:  26084\n",
      "0.535\n",
      "\n",
      " -------------------------------------------------- \n",
      " APARTMENTS_MEDI \n",
      "\n",
      "Train:  156061\n",
      "0.507\n",
      "Test:  23887\n",
      "0.49\n",
      "\n",
      " -------------------------------------------------- \n",
      " BASEMENTAREA_MEDI \n",
      "\n",
      "Train:  179943\n",
      "0.585\n",
      "Test:  27641\n",
      "0.567\n",
      "\n",
      " -------------------------------------------------- \n",
      " YEARS_BEGINEXPLUATATION_MEDI \n",
      "\n",
      "Train:  150007\n",
      "0.488\n",
      "Test:  22856\n",
      "0.469\n",
      "\n",
      " -------------------------------------------------- \n",
      " YEARS_BUILD_MEDI \n",
      "\n",
      "Train:  204488\n",
      "0.665\n",
      "Test:  31818\n",
      "0.653\n",
      "\n",
      " -------------------------------------------------- \n",
      " COMMONAREA_MEDI \n",
      "\n",
      "Train:  214865\n",
      "0.699\n",
      "Test:  33495\n",
      "0.687\n",
      "\n",
      " -------------------------------------------------- \n",
      " ELEVATORS_MEDI \n",
      "\n",
      "Train:  163891\n",
      "0.533\n",
      "Test:  25189\n",
      "0.517\n",
      "\n",
      " -------------------------------------------------- \n",
      " ENTRANCES_MEDI \n",
      "\n",
      "Train:  154828\n",
      "0.503\n",
      "Test:  23579\n",
      "0.484\n",
      "\n",
      " -------------------------------------------------- \n",
      " FLOORSMAX_MEDI \n",
      "\n",
      "Train:  153020\n",
      "0.498\n",
      "Test:  23321\n",
      "0.478\n",
      "\n",
      " -------------------------------------------------- \n",
      " FLOORSMIN_MEDI \n",
      "\n",
      "Train:  208642\n",
      "0.678\n",
      "Test:  32466\n",
      "0.666\n",
      "\n",
      " -------------------------------------------------- \n",
      " LANDAREA_MEDI \n",
      "\n",
      "Train:  182590\n",
      "0.594\n",
      "Test:  28254\n",
      "0.58\n",
      "\n",
      " -------------------------------------------------- \n",
      " LIVINGAPARTMENTS_MEDI \n",
      "\n"
     ]
    },
    {
     "name": "stdout",
     "output_type": "stream",
     "text": [
      "Train:  210199\n",
      "0.684\n",
      "Test:  32780\n",
      "0.672\n",
      "\n",
      " -------------------------------------------------- \n",
      " LIVINGAREA_MEDI \n",
      "\n",
      "Train:  154350\n",
      "0.502\n",
      "Test:  23552\n",
      "0.483\n",
      "\n",
      " -------------------------------------------------- \n",
      " NONLIVINGAPARTMENTS_MEDI \n",
      "\n",
      "Train:  213514\n",
      "0.694\n",
      "Test:  33347\n",
      "0.684\n",
      "\n",
      " -------------------------------------------------- \n",
      " NONLIVINGAREA_MEDI \n",
      "\n",
      "Train:  169682\n",
      "0.552\n",
      "Test:  26084\n",
      "0.535\n",
      "\n",
      " -------------------------------------------------- \n",
      " FONDKAPREMONT_MODE \n",
      "\n",
      "Train:  210295\n",
      "0.684\n",
      "Test:  32797\n",
      "0.673\n",
      "\n",
      " -------------------------------------------------- \n",
      " HOUSETYPE_MODE \n",
      "\n",
      "Train:  154297\n",
      "0.502\n",
      "Test:  23619\n",
      "0.485\n",
      "\n",
      " -------------------------------------------------- \n",
      " TOTALAREA_MODE \n",
      "\n",
      "Train:  148431\n",
      "0.483\n",
      "Test:  22624\n",
      "0.464\n",
      "\n",
      " -------------------------------------------------- \n",
      " WALLSMATERIAL_MODE \n",
      "\n",
      "Train:  156341\n",
      "0.508\n",
      "Test:  23893\n",
      "0.49\n",
      "\n",
      " -------------------------------------------------- \n",
      " EMERGENCYSTATE_MODE \n",
      "\n",
      "Train:  145755\n",
      "0.474\n",
      "Test:  22209\n",
      "0.456\n",
      "\n",
      " -------------------------------------------------- \n",
      " OBS_30_CNT_SOCIAL_CIRCLE \n",
      "\n",
      "Train:  1021\n",
      "0.003\n",
      "Test:  29\n",
      "0.001\n",
      "\n",
      " -------------------------------------------------- \n",
      " DEF_30_CNT_SOCIAL_CIRCLE \n",
      "\n",
      "Train:  1021\n",
      "0.003\n",
      "Test:  29\n",
      "0.001\n",
      "\n",
      " -------------------------------------------------- \n",
      " OBS_60_CNT_SOCIAL_CIRCLE \n",
      "\n",
      "Train:  1021\n",
      "0.003\n",
      "Test:  29\n",
      "0.001\n",
      "\n",
      " -------------------------------------------------- \n",
      " DEF_60_CNT_SOCIAL_CIRCLE \n",
      "\n",
      "Train:  1021\n",
      "0.003\n",
      "Test:  29\n",
      "0.001\n",
      "\n",
      " -------------------------------------------------- \n",
      " DAYS_LAST_PHONE_CHANGE \n",
      "\n",
      "Train:  1\n",
      "0.0\n",
      "Test: 0\n",
      "\n",
      " -------------------------------------------------- \n",
      " FLAG_DOCUMENT_2 \n",
      "\n",
      "Train: 0\n",
      "Test: 0\n",
      "\n",
      " -------------------------------------------------- \n",
      " FLAG_DOCUMENT_3 \n",
      "\n",
      "Train: 0\n",
      "Test: 0\n",
      "\n",
      " -------------------------------------------------- \n",
      " FLAG_DOCUMENT_4 \n",
      "\n",
      "Train: 0\n",
      "Test: 0\n",
      "\n",
      " -------------------------------------------------- \n",
      " FLAG_DOCUMENT_5 \n",
      "\n",
      "Train: 0\n",
      "Test: 0\n",
      "\n",
      " -------------------------------------------------- \n",
      " FLAG_DOCUMENT_6 \n",
      "\n",
      "Train: 0\n",
      "Test: 0\n",
      "\n",
      " -------------------------------------------------- \n",
      " FLAG_DOCUMENT_7 \n",
      "\n",
      "Train: 0\n",
      "Test: 0\n",
      "\n",
      " -------------------------------------------------- \n",
      " FLAG_DOCUMENT_8 \n",
      "\n",
      "Train: 0\n",
      "Test: 0\n",
      "\n",
      " -------------------------------------------------- \n",
      " FLAG_DOCUMENT_9 \n",
      "\n",
      "Train: 0\n",
      "Test: 0\n",
      "\n",
      " -------------------------------------------------- \n",
      " FLAG_DOCUMENT_10 \n",
      "\n",
      "Train: 0\n",
      "Test: 0\n",
      "\n",
      " -------------------------------------------------- \n",
      " FLAG_DOCUMENT_11 \n",
      "\n",
      "Train: 0\n",
      "Test: 0\n",
      "\n",
      " -------------------------------------------------- \n",
      " FLAG_DOCUMENT_12 \n",
      "\n",
      "Train: 0\n",
      "Test: 0\n",
      "\n",
      " -------------------------------------------------- \n",
      " FLAG_DOCUMENT_13 \n",
      "\n",
      "Train: 0\n",
      "Test: 0\n",
      "\n",
      " -------------------------------------------------- \n",
      " FLAG_DOCUMENT_14 \n",
      "\n",
      "Train: 0\n",
      "Test: 0\n",
      "\n",
      " -------------------------------------------------- \n",
      " FLAG_DOCUMENT_15 \n",
      "\n",
      "Train: 0\n",
      "Test: 0\n",
      "\n",
      " -------------------------------------------------- \n",
      " FLAG_DOCUMENT_16 \n",
      "\n",
      "Train: 0\n",
      "Test: 0\n",
      "\n",
      " -------------------------------------------------- \n",
      " FLAG_DOCUMENT_17 \n",
      "\n",
      "Train: 0\n",
      "Test: 0\n",
      "\n",
      " -------------------------------------------------- \n",
      " FLAG_DOCUMENT_18 \n",
      "\n",
      "Train: 0\n",
      "Test: 0\n",
      "\n",
      " -------------------------------------------------- \n",
      " FLAG_DOCUMENT_19 \n",
      "\n",
      "Train: 0\n",
      "Test: 0\n",
      "\n",
      " -------------------------------------------------- \n",
      " FLAG_DOCUMENT_20 \n",
      "\n",
      "Train: 0\n",
      "Test: 0\n",
      "\n",
      " -------------------------------------------------- \n",
      " FLAG_DOCUMENT_21 \n",
      "\n",
      "Train: 0\n",
      "Test: 0\n",
      "\n",
      " -------------------------------------------------- \n",
      " AMT_REQ_CREDIT_BUREAU_HOUR \n",
      "\n",
      "Train:  41519\n",
      "0.135\n",
      "Test:  6049\n",
      "0.124\n",
      "\n",
      " -------------------------------------------------- \n",
      " AMT_REQ_CREDIT_BUREAU_DAY \n",
      "\n",
      "Train:  41519\n",
      "0.135\n",
      "Test:  6049\n",
      "0.124\n",
      "\n",
      " -------------------------------------------------- \n",
      " AMT_REQ_CREDIT_BUREAU_WEEK \n",
      "\n",
      "Train:  41519\n",
      "0.135\n",
      "Test:  6049\n",
      "0.124\n",
      "\n",
      " -------------------------------------------------- \n",
      " AMT_REQ_CREDIT_BUREAU_MON \n",
      "\n",
      "Train:  41519\n",
      "0.135\n",
      "Test:  6049\n",
      "0.124\n",
      "\n",
      " -------------------------------------------------- \n",
      " AMT_REQ_CREDIT_BUREAU_QRT \n",
      "\n",
      "Train:  41519\n",
      "0.135\n",
      "Test:  6049\n",
      "0.124\n",
      "\n",
      " -------------------------------------------------- \n",
      " AMT_REQ_CREDIT_BUREAU_YEAR \n",
      "\n",
      "Train:  41519\n",
      "0.135\n",
      "Test:  6049\n",
      "0.124\n"
     ]
    }
   ],
   "source": [
    "for col in df_train.columns.tolist()[2:]:\n",
    "    perc_null(col)"
   ]
  },
  {
   "cell_type": "markdown",
   "metadata": {},
   "source": [
    "# Random EDA Workspace"
   ]
  },
  {
   "cell_type": "markdown",
   "metadata": {},
   "source": [
    "Percent of defaults in training df"
   ]
  },
  {
   "cell_type": "code",
   "execution_count": 7,
   "metadata": {},
   "outputs": [
    {
     "data": {
      "text/plain": [
       "0.0807"
      ]
     },
     "execution_count": 7,
     "metadata": {},
     "output_type": "execute_result"
    }
   ],
   "source": [
    "round(len(df_train[df_train['TARGET'] == 1])/len(df_train), 4)"
   ]
  },
  {
   "cell_type": "code",
   "execution_count": 8,
   "metadata": {},
   "outputs": [
    {
     "data": {
      "text/plain": [
       "<matplotlib.axes._subplots.AxesSubplot at 0x1a1fcee1d0>"
      ]
     },
     "execution_count": 8,
     "metadata": {},
     "output_type": "execute_result"
    },
    {
     "data": {
      "image/png": "[encoded data removed]",
      "text/plain": [
       "<Figure size 432x288 with 1 Axes>"
      ]
     },
     "metadata": {},
     "output_type": "display_data"
    }
   ],
   "source": [
    "sns.countplot(df_train['REG_REGION_NOT_LIVE_REGION'])"
   ]
  },
  {
   "cell_type": "code",
   "execution_count": 9,
   "metadata": {},
   "outputs": [],
   "source": [
    "temp = df_train[df_train['REGION_RATING_CLIENT_W_CITY'] == 3]"
   ]
  },
  {
   "cell_type": "code",
   "execution_count": 10,
   "metadata": {},
   "outputs": [
    {
     "data": {
      "text/plain": [
       "0.1140218878248974"
      ]
     },
     "execution_count": 10,
     "metadata": {},
     "output_type": "execute_result"
    }
   ],
   "source": [
    "len(temp[temp['TARGET'] == 1])/len(temp)"
   ]
  },
  {
   "cell_type": "markdown",
   "metadata": {},
   "source": [
    "# Drop Columns Testing"
   ]
  },
  {
   "cell_type": "code",
   "execution_count": 11,
   "metadata": {},
   "outputs": [],
   "source": [
    "temp_train = df_train.copy()\n",
    "temp_train.columns = [col.lower() for col in temp_train.columns]\n",
    "temp_train.drop(temp_train.columns[range(44, 91)], inplace=True, axis=1)\n",
    "\n",
    "temp_test = df_test.copy()\n",
    "temp_test.columns = [col.lower() for col in temp_test.columns]\n",
    "temp_test.drop(temp_test.columns[range(43, 90)], inplace=True, axis=1)"
   ]
  },
  {
   "cell_type": "code",
   "execution_count": 12,
   "metadata": {},
   "outputs": [],
   "source": [
    "drop_cols = [\n",
    "    'weekday_appr_process_start',\n",
    "    'amt_req_credit_bureau_hour',\n",
    "    'amt_req_credit_bureau_week',\n",
    "    'amt_req_credit_bureau_mon',\n",
    "    'amt_req_credit_bureau_year',\n",
    "]\n",
    "\n",
    "for col in drop_cols:\n",
    "    temp_train.drop(col, inplace=True, axis=1)\n",
    "    temp_test.drop(col, inplace=True, axis=1)"
   ]
  },
  {
   "cell_type": "markdown",
   "metadata": {},
   "source": [
    "There should only be 70 columns now in the train and 69 in the test, down from 122/121"
   ]
  },
  {
   "cell_type": "code",
   "execution_count": 13,
   "metadata": {
    "scrolled": true
   },
   "outputs": [
    {
     "name": "stdout",
     "output_type": "stream",
     "text": [
      "(307511, 70)\n",
      "(48744, 69)\n"
     ]
    }
   ],
   "source": [
    "print(temp_train.shape)\n",
    "print(temp_test.shape)"
   ]
  },
  {
   "cell_type": "markdown",
   "metadata": {},
   "source": [
    "# Clean and Bin"
   ]
  },
  {
   "cell_type": "markdown",
   "metadata": {},
   "source": [
    "Impute a few values and turn strings into 1 and 0's. Just this simple stuff here."
   ]
  },
  {
   "cell_type": "markdown",
   "metadata": {},
   "source": [
    "## Gender"
   ]
  },
  {
   "cell_type": "code",
   "execution_count": 14,
   "metadata": {},
   "outputs": [
    {
     "data": {
      "text/plain": [
       "<matplotlib.axes._subplots.AxesSubplot at 0x1a1fb90be0>"
      ]
     },
     "execution_count": 14,
     "metadata": {},
     "output_type": "execute_result"
    },
    {
     "data": {
      "image/png": "[encoded data removed]",
      "text/plain": [
       "<Figure size 432x288 with 1 Axes>"
      ]
     },
     "metadata": {},
     "output_type": "display_data"
    }
   ],
   "source": [
    "np.unique(temp_train['code_gender'])\n",
    "sns.countplot(temp_train['code_gender'])"
   ]
  },
  {
   "cell_type": "code",
   "execution_count": 15,
   "metadata": {},
   "outputs": [
    {
     "data": {
      "text/plain": [
       "array(['F', 'M'], dtype=object)"
      ]
     },
     "execution_count": 15,
     "metadata": {},
     "output_type": "execute_result"
    }
   ],
   "source": [
    "idxs = temp_train[temp_train['code_gender'] == 'XNA'].index\n",
    "\n",
    "for idx in idxs:\n",
    "    temp_train.at[idx, 'code_gender'] = 'F'\n",
    "np.unique(temp_train['code_gender'])"
   ]
  },
  {
   "cell_type": "code",
   "execution_count": 16,
   "metadata": {},
   "outputs": [
    {
     "data": {
      "text/plain": [
       "<matplotlib.axes._subplots.AxesSubplot at 0x1a1fbbfda0>"
      ]
     },
     "execution_count": 16,
     "metadata": {},
     "output_type": "execute_result"
    },
    {
     "data": {
      "image/png": "[encoded data removed]",
      "text/plain": [
       "<Figure size 432x288 with 1 Axes>"
      ]
     },
     "metadata": {},
     "output_type": "display_data"
    }
   ],
   "source": [
    "foo = lambda x: 1 if x == 'M' else 0\n",
    "temp_train['code_gender'] = temp_train['code_gender'].apply(foo)\n",
    "temp_train.rename(columns={'code_gender': 'is_male'}, inplace=True)\n",
    "temp_test.rename(columns={'code_gender': 'is_male'}, inplace=True)\n",
    "sns.countplot(temp_train['is_male'])"
   ]
  },
  {
   "cell_type": "markdown",
   "metadata": {},
   "source": [
    "## Car"
   ]
  },
  {
   "cell_type": "code",
   "execution_count": 17,
   "metadata": {},
   "outputs": [
    {
     "name": "stdout",
     "output_type": "stream",
     "text": [
      "['N' 'Y']\n"
     ]
    },
    {
     "data": {
      "text/plain": [
       "<matplotlib.axes._subplots.AxesSubplot at 0x1a21007710>"
      ]
     },
     "execution_count": 17,
     "metadata": {},
     "output_type": "execute_result"
    },
    {
     "data": {
      "image/png": "[encoded data removed]",
      "text/plain": [
       "<Figure size 432x288 with 1 Axes>"
      ]
     },
     "metadata": {},
     "output_type": "display_data"
    }
   ],
   "source": [
    "print(np.unique(temp_train['flag_own_car']))\n",
    "sns.countplot(temp_train['flag_own_car'])"
   ]
  },
  {
   "cell_type": "code",
   "execution_count": 18,
   "metadata": {},
   "outputs": [
    {
     "data": {
      "text/plain": [
       "<matplotlib.axes._subplots.AxesSubplot at 0x1a1fc0fdd8>"
      ]
     },
     "execution_count": 18,
     "metadata": {},
     "output_type": "execute_result"
    },
    {
     "data": {
      "image/png": "[encoded data removed]",
      "text/plain": [
       "<Figure size 432x288 with 1 Axes>"
      ]
     },
     "metadata": {},
     "output_type": "display_data"
    }
   ],
   "source": [
    "foo = lambda x: 1 if x == 'Y' else 0\n",
    "temp_train['flag_own_car'] = temp_train['flag_own_car'].apply(foo)\n",
    "sns.countplot(temp_train['flag_own_car'])"
   ]
  },
  {
   "cell_type": "markdown",
   "metadata": {},
   "source": [
    "## Realty"
   ]
  },
  {
   "cell_type": "code",
   "execution_count": 19,
   "metadata": {},
   "outputs": [
    {
     "name": "stdout",
     "output_type": "stream",
     "text": [
      "['N' 'Y']\n"
     ]
    },
    {
     "data": {
      "text/plain": [
       "<matplotlib.axes._subplots.AxesSubplot at 0x1a210757b8>"
      ]
     },
     "execution_count": 19,
     "metadata": {},
     "output_type": "execute_result"
    },
    {
     "data": {
      "image/png": "[encoded data removed]",
      "text/plain": [
       "<Figure size 432x288 with 1 Axes>"
      ]
     },
     "metadata": {},
     "output_type": "display_data"
    }
   ],
   "source": [
    "print(np.unique(temp_train['flag_own_realty']))\n",
    "sns.countplot(temp_train['flag_own_realty'])"
   ]
  },
  {
   "cell_type": "code",
   "execution_count": 20,
   "metadata": {},
   "outputs": [
    {
     "data": {
      "text/plain": [
       "<matplotlib.axes._subplots.AxesSubplot at 0x1a21067828>"
      ]
     },
     "execution_count": 20,
     "metadata": {},
     "output_type": "execute_result"
    },
    {
     "data": {
      "image/png": "[encoded data removed]",
      "text/plain": [
       "<Figure size 432x288 with 1 Axes>"
      ]
     },
     "metadata": {},
     "output_type": "display_data"
    }
   ],
   "source": [
    "foo = lambda x: 1 if x == 'Y' else 0\n",
    "temp_train['flag_own_realty'] = temp_train['flag_own_realty'].apply(foo)\n",
    "sns.countplot(temp_train['flag_own_realty'])"
   ]
  },
  {
   "cell_type": "markdown",
   "metadata": {},
   "source": [
    "## Amount of Annuity"
   ]
  },
  {
   "cell_type": "code",
   "execution_count": 21,
   "metadata": {},
   "outputs": [
    {
     "name": "stderr",
     "output_type": "stream",
     "text": [
      "/Users/blairthurman/anaconda3/lib/python3.6/site-packages/scipy/stats/stats.py:1713: FutureWarning: Using a non-tuple sequence for multidimensional indexing is deprecated; use `arr[tuple(seq)]` instead of `arr[seq]`. In the future this will be interpreted as an array index, `arr[np.array(seq)]`, which will result either in an error or a different result.\n",
      "  return np.add.reduce(sorted[indexer] * weights, axis=axis) / sumval\n"
     ]
    },
    {
     "data": {
      "text/plain": [
       "<matplotlib.axes._subplots.AxesSubplot at 0x1a28623630>"
      ]
     },
     "execution_count": 21,
     "metadata": {},
     "output_type": "execute_result"
    },
    {
     "data": {
      "image/png": "[encoded data removed]",
      "text/plain": [
       "<Figure size 432x288 with 1 Axes>"
      ]
     },
     "metadata": {},
     "output_type": "display_data"
    }
   ],
   "source": [
    "x = temp_train[~temp_train['amt_annuity'].isnull()]['amt_annuity']\n",
    "sns.kdeplot(x)"
   ]
  },
  {
   "cell_type": "code",
   "execution_count": 22,
   "metadata": {},
   "outputs": [
    {
     "name": "stdout",
     "output_type": "stream",
     "text": [
      "24903.0\n"
     ]
    }
   ],
   "source": [
    "median = temp_train['amt_annuity'].median()\n",
    "print(median)"
   ]
  },
  {
   "cell_type": "code",
   "execution_count": 23,
   "metadata": {},
   "outputs": [],
   "source": [
    "idxs = temp_train[temp_train['amt_annuity'].isnull()]['amt_annuity'].index\n",
    "\n",
    "for idx in idxs:\n",
    "    temp_train.at[idx, 'amt_annuity'] = median\n",
    "\n",
    "idxs = temp_test[temp_test['amt_annuity'].isnull()]['amt_annuity'].index\n",
    "\n",
    "for idx in idxs:\n",
    "    temp_test.at[idx, 'amt_annuity'] = median"
   ]
  },
  {
   "cell_type": "markdown",
   "metadata": {},
   "source": [
    "## Amount of Good Price"
   ]
  },
  {
   "cell_type": "code",
   "execution_count": 24,
   "metadata": {},
   "outputs": [
    {
     "name": "stderr",
     "output_type": "stream",
     "text": [
      "/Users/blairthurman/anaconda3/lib/python3.6/site-packages/scipy/stats/stats.py:1713: FutureWarning: Using a non-tuple sequence for multidimensional indexing is deprecated; use `arr[tuple(seq)]` instead of `arr[seq]`. In the future this will be interpreted as an array index, `arr[np.array(seq)]`, which will result either in an error or a different result.\n",
      "  return np.add.reduce(sorted[indexer] * weights, axis=axis) / sumval\n"
     ]
    },
    {
     "data": {
      "text/plain": [
       "<matplotlib.axes._subplots.AxesSubplot at 0x1a286c48d0>"
      ]
     },
     "execution_count": 24,
     "metadata": {},
     "output_type": "execute_result"
    },
    {
     "data": {
      "image/png": "[encoded data removed]",
      "text/plain": [
       "<Figure size 432x288 with 1 Axes>"
      ]
     },
     "metadata": {},
     "output_type": "display_data"
    }
   ],
   "source": [
    "x = temp_train[~temp_train['amt_goods_price'].isnull()]['amt_goods_price']\n",
    "sns.kdeplot(x)"
   ]
  },
  {
   "cell_type": "code",
   "execution_count": 25,
   "metadata": {},
   "outputs": [
    {
     "name": "stdout",
     "output_type": "stream",
     "text": [
      "450000.0\n"
     ]
    }
   ],
   "source": [
    "median = temp_train['amt_goods_price'].median()\n",
    "print(median)"
   ]
  },
  {
   "cell_type": "code",
   "execution_count": 26,
   "metadata": {},
   "outputs": [],
   "source": [
    "idxs = temp_train[temp_train['amt_goods_price'].isnull()]['amt_goods_price'].index\n",
    "\n",
    "for idx in idxs:\n",
    "    temp_train.at[idx, 'amt_goods_price'] = median\n",
    "\n",
    "idxs = temp_test[temp_test['amt_goods_price'].isnull()]['amt_goods_price'].index\n",
    "\n",
    "for idx in idxs:\n",
    "    temp_test.at[idx, 'amt_goods_price'] = median"
   ]
  },
  {
   "cell_type": "markdown",
   "metadata": {},
   "source": [
    "## Count of Family Members"
   ]
  },
  {
   "cell_type": "code",
   "execution_count": 27,
   "metadata": {},
   "outputs": [
    {
     "name": "stderr",
     "output_type": "stream",
     "text": [
      "/Users/blairthurman/anaconda3/lib/python3.6/site-packages/scipy/stats/stats.py:1713: FutureWarning: Using a non-tuple sequence for multidimensional indexing is deprecated; use `arr[tuple(seq)]` instead of `arr[seq]`. In the future this will be interpreted as an array index, `arr[np.array(seq)]`, which will result either in an error or a different result.\n",
      "  return np.add.reduce(sorted[indexer] * weights, axis=axis) / sumval\n"
     ]
    },
    {
     "data": {
      "text/plain": [
       "<matplotlib.axes._subplots.AxesSubplot at 0x1a2bf2e588>"
      ]
     },
     "execution_count": 27,
     "metadata": {},
     "output_type": "execute_result"
    },
    {
     "data": {
      "image/png": "[encoded data removed]",
      "text/plain": [
       "<Figure size 432x288 with 1 Axes>"
      ]
     },
     "metadata": {},
     "output_type": "display_data"
    }
   ],
   "source": [
    "x = temp_train[~temp_train['cnt_fam_members'].isnull()]['cnt_fam_members']\n",
    "sns.kdeplot(x)"
   ]
  },
  {
   "cell_type": "code",
   "execution_count": 28,
   "metadata": {},
   "outputs": [
    {
     "name": "stdout",
     "output_type": "stream",
     "text": [
      "2.0\n"
     ]
    }
   ],
   "source": [
    "mode = stats.mode(temp_train['cnt_fam_members'])[0][0]\n",
    "print(mode)"
   ]
  },
  {
   "cell_type": "code",
   "execution_count": 29,
   "metadata": {},
   "outputs": [],
   "source": [
    "idxs = temp_train[temp_train['amt_goods_price'].isnull()]['amt_goods_price'].index\n",
    "\n",
    "for idx in idxs:\n",
    "    temp_train.at[idx, 'amt_goods_price'] = mode\n",
    "\n",
    "idxs = temp_test[temp_test['amt_goods_price'].isnull()]['amt_goods_price'].index\n",
    "\n",
    "for idx in idxs:\n",
    "    temp_test.at[idx, 'amt_goods_price'] = mode"
   ]
  },
  {
   "cell_type": "markdown",
   "metadata": {},
   "source": [
    "## Region Rating Client"
   ]
  },
  {
   "cell_type": "code",
   "execution_count": 30,
   "metadata": {},
   "outputs": [
    {
     "data": {
      "text/plain": [
       "<matplotlib.axes._subplots.AxesSubplot at 0x1a2eb145f8>"
      ]
     },
     "execution_count": 30,
     "metadata": {},
     "output_type": "execute_result"
    },
    {
     "data": {
      "image/png": "[encoded data removed]",
      "text/plain": [
       "<Figure size 432x288 with 1 Axes>"
      ]
     },
     "metadata": {},
     "output_type": "display_data"
    }
   ],
   "source": [
    "sns.countplot(temp_train['region_rating_client'])"
   ]
  },
  {
   "cell_type": "code",
   "execution_count": 31,
   "metadata": {},
   "outputs": [
    {
     "data": {
      "text/plain": [
       "<matplotlib.axes._subplots.AxesSubplot at 0x1a2bed7eb8>"
      ]
     },
     "execution_count": 31,
     "metadata": {},
     "output_type": "execute_result"
    },
    {
     "data": {
      "image/png": "[encoded data removed]",
      "text/plain": [
       "<Figure size 432x288 with 1 Axes>"
      ]
     },
     "metadata": {},
     "output_type": "display_data"
    }
   ],
   "source": [
    "foo = lambda x: 1 if x != 2 else 0\n",
    "temp_train['region_rating_client'] = temp_train['region_rating_client'].apply(foo)\n",
    "temp_test['region_rating_client'] = temp_test['region_rating_client'].apply(foo)\n",
    "sns.countplot(temp_train['region_rating_client'])"
   ]
  },
  {
   "cell_type": "code",
   "execution_count": 32,
   "metadata": {},
   "outputs": [
    {
     "data": {
      "text/plain": [
       "<matplotlib.axes._subplots.AxesSubplot at 0x1a2eb03160>"
      ]
     },
     "execution_count": 32,
     "metadata": {},
     "output_type": "execute_result"
    },
    {
     "data": {
      "image/png": "[encoded data removed]",
      "text/plain": [
       "<Figure size 432x288 with 1 Axes>"
      ]
     },
     "metadata": {},
     "output_type": "display_data"
    }
   ],
   "source": [
    "sns.countplot(temp_train['region_rating_client_w_city'])"
   ]
  },
  {
   "cell_type": "code",
   "execution_count": 33,
   "metadata": {},
   "outputs": [
    {
     "data": {
      "text/plain": [
       "<matplotlib.axes._subplots.AxesSubplot at 0x1a2f2d0588>"
      ]
     },
     "execution_count": 33,
     "metadata": {},
     "output_type": "execute_result"
    },
    {
     "data": {
      "image/png": "[encoded data removed]",
      "text/plain": [
       "<Figure size 432x288 with 1 Axes>"
      ]
     },
     "metadata": {},
     "output_type": "display_data"
    }
   ],
   "source": [
    "foo = lambda x: 1 if x != 2 else 0\n",
    "temp_train['region_rating_client_w_city'] = temp_train['region_rating_client_w_city'].apply(foo)\n",
    "temp_test['region_rating_client_w_city'] = temp_test['region_rating_client_w_city'].apply(foo)\n",
    "sns.countplot(temp_train['region_rating_client_w_city'])"
   ]
  },
  {
   "cell_type": "code",
   "execution_count": 34,
   "metadata": {},
   "outputs": [
    {
     "data": {
      "text/plain": [
       "(0.9577651060969266, 0.0)"
      ]
     },
     "execution_count": 34,
     "metadata": {},
     "output_type": "execute_result"
    }
   ],
   "source": [
    "stats.pearsonr(temp_train['region_rating_client'], temp_train['region_rating_client_w_city'])"
   ]
  },
  {
   "cell_type": "markdown",
   "metadata": {},
   "source": [
    "Drop the /w city, too strongly correlated."
   ]
  },
  {
   "cell_type": "markdown",
   "metadata": {},
   "source": [
    "## Hour Appr Process Start"
   ]
  },
  {
   "cell_type": "code",
   "execution_count": 35,
   "metadata": {},
   "outputs": [
    {
     "data": {
      "text/plain": [
       "<matplotlib.axes._subplots.AxesSubplot at 0x1a2f303f28>"
      ]
     },
     "execution_count": 35,
     "metadata": {},
     "output_type": "execute_result"
    },
    {
     "data": {
      "image/png": "[encoded data removed]",
      "text/plain": [
       "<Figure size 432x288 with 1 Axes>"
      ]
     },
     "metadata": {},
     "output_type": "display_data"
    }
   ],
   "source": [
    "sns.countplot(temp_train['hour_appr_process_start'])"
   ]
  },
  {
   "cell_type": "code",
   "execution_count": 36,
   "metadata": {},
   "outputs": [
    {
     "data": {
      "text/plain": [
       "<matplotlib.axes._subplots.AxesSubplot at 0x1a2f1e11d0>"
      ]
     },
     "execution_count": 36,
     "metadata": {},
     "output_type": "execute_result"
    },
    {
     "data": {
      "image/png": "[encoded data removed]",
      "text/plain": [
       "<Figure size 432x288 with 1 Axes>"
      ]
     },
     "metadata": {},
     "output_type": "display_data"
    }
   ],
   "source": [
    "foo = lambda x: 1 if x in range(9,18) else 0\n",
    "temp_train['hour_appr_process_start'] = temp_train['hour_appr_process_start'].apply(foo)\n",
    "temp_test['hour_appr_process_start'] = temp_test['hour_appr_process_start'].apply(foo)\n",
    "temp_train.rename(columns={'hour_appr_process_start': 'appr_start_business_hour'}, inplace=True)\n",
    "temp_test.rename(columns={'hour_appr_process_start': 'appr_start_business_hour'}, inplace=True)\n",
    "sns.countplot(temp_train['appr_start_business_hour'])"
   ]
  },
  {
   "cell_type": "markdown",
   "metadata": {},
   "source": [
    "## EXT Source 2"
   ]
  },
  {
   "cell_type": "markdown",
   "metadata": {},
   "source": [
    "## OBS 30 CNT Social Circle"
   ]
  },
  {
   "cell_type": "markdown",
   "metadata": {},
   "source": [
    "## DEF 30 CNT Social Circle"
   ]
  },
  {
   "cell_type": "markdown",
   "metadata": {},
   "source": [
    "## OBS 60 CNT Social Circle"
   ]
  },
  {
   "cell_type": "markdown",
   "metadata": {},
   "source": [
    "## DEF 60 CNT Social Circle"
   ]
  },
  {
   "cell_type": "markdown",
   "metadata": {},
   "source": [
    "## Days Last Phone Change"
   ]
  },
  {
   "cell_type": "code",
   "execution_count": null,
   "metadata": {},
   "outputs": [],
   "source": []
  }
 ],
 "metadata": {
  "kernelspec": {
   "display_name": "Python 3",
   "language": "python",
   "name": "python3"
  },
  "language_info": {
   "codemirror_mode": {
    "name": "ipython",
    "version": 3
   },
   "file_extension": ".py",
   "mimetype": "text/x-python",
   "name": "python",
   "nbconvert_exporter": "python",
   "pygments_lexer": "ipython3",
   "version": "3.6.6"
  }
 },
 "nbformat": 4,
 "nbformat_minor": 2
}
