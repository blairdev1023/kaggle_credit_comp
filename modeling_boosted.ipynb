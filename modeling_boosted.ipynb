{
 "cells": [
  {
   "cell_type": "code",
   "execution_count": 1,
   "metadata": {},
   "outputs": [
    {
     "name": "stderr",
     "output_type": "stream",
     "text": [
      "/Users/blairthurman/anaconda3/lib/python3.6/site-packages/sklearn/ensemble/weight_boosting.py:29: DeprecationWarning: numpy.core.umath_tests is an internal NumPy module and should not be imported. It will be removed in a future NumPy release.\n",
      "  from numpy.core.umath_tests import inner1d\n",
      "/Users/blairthurman/anaconda3/lib/python3.6/site-packages/sklearn/cross_validation.py:41: DeprecationWarning: This module was deprecated in version 0.18 in favor of the model_selection module into which all the refactored classes and functions are moved. Also note that the interface of the new CV iterators are different from that of this module. This module will be removed in 0.20.\n",
      "  \"This module will be removed in 0.20.\", DeprecationWarning)\n"
     ]
    }
   ],
   "source": [
    "import pandas as pd\n",
    "import numpy as np\n",
    "from time import time\n",
    "from pprint import PrettyPrinter\n",
    "\n",
    "from sklearn.model_selection import train_test_split\n",
    "from sklearn.ensemble import GradientBoostingClassifier\n",
    "from sklearn import cross_validation\n",
    "from sklearn.model_selection import GridSearchCV\n",
    "\n",
    "import seaborn as sns\n",
    "import matplotlib.pyplot as plt\n",
    "sns.set()\n",
    "%matplotlib inline\n",
    "pp = PrettyPrinter()"
   ]
  },
  {
   "cell_type": "markdown",
   "metadata": {},
   "source": [
    "# Useful Functions"
   ]
  },
  {
   "cell_type": "code",
   "execution_count": 2,
   "metadata": {},
   "outputs": [],
   "source": [
    "def model_fit(model, train, target, timed=True, feature_importance=False):\n",
    "    '''\n",
    "    This function is for checking performance of a single model. \n",
    "    \n",
    "    Optional plot of feature importance for ensemble methods.\n",
    "    '''\n",
    "    # Fit\n",
    "    if timed:\n",
    "        start = time()\n",
    "        passed = time() - start\n",
    "        print(f'Seconds to start: {passed:.2f}')\n",
    "    model.fit(train, target)\n",
    "    if timed:\n",
    "        passed = time() - start\n",
    "        print(f'Seconds to fit: {passed:.2f}')\n",
    "    \n",
    "    # CV\n",
    "    cv_score = cross_validation.cross_val_score(model, train, target, cv=5, scoring='roc_auc')\n",
    "    print(f'CV Score : Mean - {np.mean(cv_score):.3f} | Std - {np.std(cv_score):.3f} | Min - {np.min(cv_score):.3f} | Max - {np.max(cv_score):.3f}')\n",
    "    if timed:\n",
    "        passed = time() - start\n",
    "        print(f'Seconds to CV: {passed:.2f}')\n",
    "    \n",
    "    # Plots feature importance, for ensemble models only\n",
    "    if feature_importance:\n",
    "        feat_imp = pd.Series(model.feature_importances_).sort_values(ascending=False)\n",
    "        feat_imp.plot(kind='bar', title='Feature Importances')\n",
    "        plt.ylabel('Feature Importance Score')"
   ]
  },
  {
   "cell_type": "code",
   "execution_count": 3,
   "metadata": {},
   "outputs": [],
   "source": [
    "def grid_searcher(model, train, target, parameters={}, cv=4, timed=True):\n",
    "    '''\n",
    "    Makes a printout of the AUC score for gridsearched models.\n",
    "    '''\n",
    "    if timed:\n",
    "        start = time()\n",
    "        passed = time() - start\n",
    "        print(f'Seconds to start: {passed:.2f}')\n",
    "    gsearcher = GridSearchCV(\n",
    "        estimator=model, \n",
    "        param_grid=parameters,\n",
    "        scoring='roc_auc',\n",
    "        n_jobs=4,\n",
    "        cv=cv)\n",
    "    gsearcher.fit(train, target)\n",
    "    if timed:\n",
    "        passed = time() - start\n",
    "        print(f'Seconds to fit: {passed:.2f}')\n",
    "    print('Grid Scores: \\n')\n",
    "    pp.pprint(gsearcher.cv_results_)\n",
    "    print(f'Best Model Parameters: {gsearcher.best_params_}')\n",
    "    print(f'Best Model Score: {gsearcher.best_score_:.4f}')"
   ]
  },
  {
   "cell_type": "code",
   "execution_count": 4,
   "metadata": {},
   "outputs": [],
   "source": [
    "def cv_plotter(x, y, title, feature_label):\n",
    "    '''\n",
    "    Makes a simple scatter plot\n",
    "    '''\n",
    "    plt.scatter(x=x, y=y)\n",
    "    plt.title(f'{title} AUC over {feature_label}')\n",
    "    plt.xlabel(feature_label)\n",
    "    plt.ylabel('AUC Score')"
   ]
  },
  {
   "cell_type": "code",
   "execution_count": 8,
   "metadata": {},
   "outputs": [],
   "source": [
    "def sampler(train, test, size):\n",
    "    '''\n",
    "    Just a hack of a function to quickly sample out data. \n",
    "    \n",
    "    Size: Float, 0.0 - 1.0\n",
    "        Fraction of data you want returned\n",
    "    '''\n",
    "    test_size = 1 - size\n",
    "    results = train_test_split(train, test, test_size=test_size, random_state=42)\n",
    "    return results[0], results[2]"
   ]
  },
  {
   "cell_type": "markdown",
   "metadata": {},
   "source": [
    "# Load"
   ]
  },
  {
   "cell_type": "code",
   "execution_count": 9,
   "metadata": {},
   "outputs": [
    {
     "data": {
      "text/html": [
       "<div>\n",
       "<style scoped>\n",
       "    .dataframe tbody tr th:only-of-type {\n",
       "        vertical-align: middle;\n",
       "    }\n",
       "\n",
       "    .dataframe tbody tr th {\n",
       "        vertical-align: top;\n",
       "    }\n",
       "\n",
       "    .dataframe thead th {\n",
       "        text-align: right;\n",
       "    }\n",
       "</style>\n",
       "<table border=\"1\" class=\"dataframe\">\n",
       "  <thead>\n",
       "    <tr style=\"text-align: right;\">\n",
       "      <th></th>\n",
       "      <th>sk_id_curr</th>\n",
       "      <th>target</th>\n",
       "      <th>0</th>\n",
       "      <th>1</th>\n",
       "      <th>2</th>\n",
       "      <th>3</th>\n",
       "      <th>4</th>\n",
       "      <th>5</th>\n",
       "      <th>6</th>\n",
       "      <th>7</th>\n",
       "      <th>...</th>\n",
       "      <th>28</th>\n",
       "      <th>29</th>\n",
       "      <th>30</th>\n",
       "      <th>31</th>\n",
       "      <th>32</th>\n",
       "      <th>33</th>\n",
       "      <th>34</th>\n",
       "      <th>35</th>\n",
       "      <th>36</th>\n",
       "      <th>37</th>\n",
       "    </tr>\n",
       "  </thead>\n",
       "  <tbody>\n",
       "    <tr>\n",
       "      <th>0</th>\n",
       "      <td>100002</td>\n",
       "      <td>1</td>\n",
       "      <td>0.311091</td>\n",
       "      <td>-1.332634</td>\n",
       "      <td>-0.399883</td>\n",
       "      <td>-2.000222</td>\n",
       "      <td>0.390812</td>\n",
       "      <td>0.672156</td>\n",
       "      <td>-0.191782</td>\n",
       "      <td>1.242912</td>\n",
       "      <td>...</td>\n",
       "      <td>0.094919</td>\n",
       "      <td>0.108869</td>\n",
       "      <td>-0.097447</td>\n",
       "      <td>0.207195</td>\n",
       "      <td>1.110724</td>\n",
       "      <td>-0.885310</td>\n",
       "      <td>0.271509</td>\n",
       "      <td>0.201748</td>\n",
       "      <td>0.078745</td>\n",
       "      <td>-1.013988</td>\n",
       "    </tr>\n",
       "    <tr>\n",
       "      <th>1</th>\n",
       "      <td>100003</td>\n",
       "      <td>0</td>\n",
       "      <td>1.003885</td>\n",
       "      <td>2.295670</td>\n",
       "      <td>-0.859131</td>\n",
       "      <td>-1.410614</td>\n",
       "      <td>0.350578</td>\n",
       "      <td>-0.441695</td>\n",
       "      <td>1.138504</td>\n",
       "      <td>-0.655109</td>\n",
       "      <td>...</td>\n",
       "      <td>0.215964</td>\n",
       "      <td>0.051572</td>\n",
       "      <td>0.488226</td>\n",
       "      <td>-0.041404</td>\n",
       "      <td>-0.785569</td>\n",
       "      <td>1.252293</td>\n",
       "      <td>1.370241</td>\n",
       "      <td>-0.178892</td>\n",
       "      <td>-0.732245</td>\n",
       "      <td>0.653229</td>\n",
       "    </tr>\n",
       "    <tr>\n",
       "      <th>2</th>\n",
       "      <td>100004</td>\n",
       "      <td>0</td>\n",
       "      <td>-0.356299</td>\n",
       "      <td>-2.745839</td>\n",
       "      <td>0.603927</td>\n",
       "      <td>-0.145268</td>\n",
       "      <td>2.845680</td>\n",
       "      <td>-0.206305</td>\n",
       "      <td>-1.628813</td>\n",
       "      <td>-0.740097</td>\n",
       "      <td>...</td>\n",
       "      <td>-0.140227</td>\n",
       "      <td>0.215135</td>\n",
       "      <td>-0.424872</td>\n",
       "      <td>0.097197</td>\n",
       "      <td>0.123388</td>\n",
       "      <td>0.143478</td>\n",
       "      <td>0.539556</td>\n",
       "      <td>0.226337</td>\n",
       "      <td>-0.640607</td>\n",
       "      <td>-1.492682</td>\n",
       "    </tr>\n",
       "    <tr>\n",
       "      <th>3</th>\n",
       "      <td>100006</td>\n",
       "      <td>0</td>\n",
       "      <td>-0.452229</td>\n",
       "      <td>-0.706371</td>\n",
       "      <td>-1.026894</td>\n",
       "      <td>-1.142946</td>\n",
       "      <td>-0.490824</td>\n",
       "      <td>-0.542183</td>\n",
       "      <td>-0.185623</td>\n",
       "      <td>0.939177</td>\n",
       "      <td>...</td>\n",
       "      <td>0.015248</td>\n",
       "      <td>-0.032642</td>\n",
       "      <td>-0.234938</td>\n",
       "      <td>-0.217559</td>\n",
       "      <td>0.080454</td>\n",
       "      <td>-0.554469</td>\n",
       "      <td>-0.494474</td>\n",
       "      <td>0.734851</td>\n",
       "      <td>-0.315487</td>\n",
       "      <td>0.781315</td>\n",
       "    </tr>\n",
       "    <tr>\n",
       "      <th>4</th>\n",
       "      <td>100007</td>\n",
       "      <td>0</td>\n",
       "      <td>0.396743</td>\n",
       "      <td>-0.732436</td>\n",
       "      <td>2.179659</td>\n",
       "      <td>-0.024886</td>\n",
       "      <td>1.154158</td>\n",
       "      <td>2.721180</td>\n",
       "      <td>-2.287210</td>\n",
       "      <td>0.657978</td>\n",
       "      <td>...</td>\n",
       "      <td>0.434943</td>\n",
       "      <td>0.120781</td>\n",
       "      <td>-0.307910</td>\n",
       "      <td>-0.718415</td>\n",
       "      <td>-0.035805</td>\n",
       "      <td>-1.283724</td>\n",
       "      <td>0.026249</td>\n",
       "      <td>0.483156</td>\n",
       "      <td>2.127985</td>\n",
       "      <td>-0.200012</td>\n",
       "    </tr>\n",
       "  </tbody>\n",
       "</table>\n",
       "<p>5 rows × 40 columns</p>\n",
       "</div>"
      ],
      "text/plain": [
       "   sk_id_curr  target         0         1         2         3         4  \\\n",
       "0      100002       1  0.311091 -1.332634 -0.399883 -2.000222  0.390812   \n",
       "1      100003       0  1.003885  2.295670 -0.859131 -1.410614  0.350578   \n",
       "2      100004       0 -0.356299 -2.745839  0.603927 -0.145268  2.845680   \n",
       "3      100006       0 -0.452229 -0.706371 -1.026894 -1.142946 -0.490824   \n",
       "4      100007       0  0.396743 -0.732436  2.179659 -0.024886  1.154158   \n",
       "\n",
       "          5         6         7    ...           28        29        30  \\\n",
       "0  0.672156 -0.191782  1.242912    ...     0.094919  0.108869 -0.097447   \n",
       "1 -0.441695  1.138504 -0.655109    ...     0.215964  0.051572  0.488226   \n",
       "2 -0.206305 -1.628813 -0.740097    ...    -0.140227  0.215135 -0.424872   \n",
       "3 -0.542183 -0.185623  0.939177    ...     0.015248 -0.032642 -0.234938   \n",
       "4  2.721180 -2.287210  0.657978    ...     0.434943  0.120781 -0.307910   \n",
       "\n",
       "         31        32        33        34        35        36        37  \n",
       "0  0.207195  1.110724 -0.885310  0.271509  0.201748  0.078745 -1.013988  \n",
       "1 -0.041404 -0.785569  1.252293  1.370241 -0.178892 -0.732245  0.653229  \n",
       "2  0.097197  0.123388  0.143478  0.539556  0.226337 -0.640607 -1.492682  \n",
       "3 -0.217559  0.080454 -0.554469 -0.494474  0.734851 -0.315487  0.781315  \n",
       "4 -0.718415 -0.035805 -1.283724  0.026249  0.483156  2.127985 -0.200012  \n",
       "\n",
       "[5 rows x 40 columns]"
      ]
     },
     "execution_count": 9,
     "metadata": {},
     "output_type": "execute_result"
    }
   ],
   "source": [
    "df = pd.read_csv('data/application_train_pca.csv')\n",
    "train = df[df.columns[2:]]\n",
    "target = df['target']\n",
    "df.head()"
   ]
  },
  {
   "cell_type": "markdown",
   "metadata": {},
   "source": [
    "# Modeling"
   ]
  },
  {
   "cell_type": "markdown",
   "metadata": {},
   "source": [
    "## Gradient Boost"
   ]
  },
  {
   "cell_type": "markdown",
   "metadata": {},
   "source": [
    "---\n",
    "### Benchmark"
   ]
  },
  {
   "cell_type": "code",
   "execution_count": 10,
   "metadata": {},
   "outputs": [
    {
     "name": "stdout",
     "output_type": "stream",
     "text": [
      "Seconds to start: 0.00\n",
      "Seconds to fit: 341.69\n",
      "CV Score : Mean - 0.688 | Std - 0.002 | Min - 0.685 | Max - 0.690\n",
      "Seconds to CV: 1574.67\n"
     ]
    },
    {
     "data": {
      "image/png": "[encoded data removed]",
      "text/plain": [
       "<Figure size 432x288 with 1 Axes>"
      ]
     },
     "metadata": {},
     "output_type": "display_data"
    }
   ],
   "source": [
    "model = GradientBoostingClassifier()\n",
    "\n",
    "model_fit(model, train, target, feature_importance=True)"
   ]
  },
  {
   "cell_type": "markdown",
   "metadata": {},
   "source": [
    "Already better than the tuned RFC and on par with the Logistic Regression. Great!"
   ]
  },
  {
   "cell_type": "markdown",
   "metadata": {},
   "source": [
    "---\n",
    "### Data"
   ]
  },
  {
   "cell_type": "markdown",
   "metadata": {},
   "source": [
    "Given that the benchmark GBC took 10 times as long to run as the RFC on the entire dataset, training will be done with just 1/5 of the dataset. "
   ]
  },
  {
   "cell_type": "code",
   "execution_count": 20,
   "metadata": {},
   "outputs": [],
   "source": [
    "train_sample, test_sample = sampler(train, target, 1/5)"
   ]
  },
  {
   "cell_type": "markdown",
   "metadata": {},
   "source": [
    "---\n",
    "### n_estimators"
   ]
  },
  {
   "cell_type": "code",
   "execution_count": 22,
   "metadata": {},
   "outputs": [
    {
     "name": "stdout",
     "output_type": "stream",
     "text": [
      "Seconds to start: 0.00\n",
      "Seconds to fit: 184.48\n",
      "Grid Scores: \n",
      "\n",
      "{'mean_fit_time': array([ 6.6726138 , 10.03338277, 12.19777691, 15.25464696, 19.72019446,\n",
      "       23.42524344, 26.40633118, 27.51865435, 30.1420936 ]),\n",
      " 'mean_score_time': array([0.03506774, 0.04084814, 0.04758042, 0.06056792, 0.07418454,\n",
      "       0.07252902, 0.07657021, 0.0883432 , 0.07303065]),\n",
      " 'mean_test_score': array([0.67549275, 0.67949047, 0.68031151, 0.68113989, 0.68129467,\n",
      "       0.68080589, 0.68039496, 0.67948176, 0.67842183]),\n",
      " 'mean_train_score': array([0.77389621, 0.7891711 , 0.80036652, 0.80923874, 0.81785282,\n",
      "       0.82586588, 0.83375623, 0.84124062, 0.8482547 ]),\n",
      " 'param_n_estimators': masked_array(data=[20, 30, 40, 50, 60, 70, 80, 90, 100],\n",
      "             mask=[False, False, False, False, False, False, False, False,\n",
      "                   False],\n",
      "       fill_value='?',\n",
      "            dtype=object),\n",
      " 'params': [{'n_estimators': 20},\n",
      "            {'n_estimators': 30},\n",
      "            {'n_estimators': 40},\n",
      "            {'n_estimators': 50},\n",
      "            {'n_estimators': 60},\n",
      "            {'n_estimators': 70},\n",
      "            {'n_estimators': 80},\n",
      "            {'n_estimators': 90},\n",
      "            {'n_estimators': 100}],\n",
      " 'rank_test_score': array([9, 6, 5, 2, 1, 3, 4, 7, 8], dtype=int32),\n",
      " 'split0_test_score': array([0.68043359, 0.68117858, 0.68134939, 0.68260149, 0.68158459,\n",
      "       0.68051306, 0.67971298, 0.67729601, 0.67589976]),\n",
      " 'split0_train_score': array([0.77434017, 0.7887183 , 0.80016826, 0.811513  , 0.81951845,\n",
      "       0.82741865, 0.83638844, 0.84436492, 0.85329647]),\n",
      " 'split1_test_score': array([0.67188645, 0.67665813, 0.67786202, 0.67899215, 0.67959992,\n",
      "       0.67951244, 0.67851305, 0.67962397, 0.67932274]),\n",
      " 'split1_train_score': array([0.77129556, 0.78685435, 0.79896222, 0.80542511, 0.8144279 ,\n",
      "       0.82365281, 0.83182915, 0.83904352, 0.8433712 ]),\n",
      " 'split2_test_score': array([0.66935017, 0.67229967, 0.67179412, 0.67132845, 0.67234955,\n",
      "       0.67120732, 0.67096545, 0.67044841, 0.66923087]),\n",
      " 'split2_train_score': array([0.7798308 , 0.79456856, 0.80531242, 0.81282002, 0.8218371 ,\n",
      "       0.83045597, 0.83818491, 0.84303051, 0.84885528]),\n",
      " 'split3_test_score': array([0.68030014, 0.68782528, 0.69024037, 0.69163727, 0.69164458,\n",
      "       0.69199078, 0.69238846, 0.69055891, 0.68923429]),\n",
      " 'split3_train_score': array([0.77011833, 0.78654318, 0.79702316, 0.80719683, 0.81562782,\n",
      "       0.82193609, 0.82862241, 0.83852353, 0.84749583]),\n",
      " 'std_fit_time': array([0.05513194, 0.08713468, 0.27358159, 0.11045117, 0.2815605 ,\n",
      "       0.16615218, 0.26194901, 0.17219907, 0.27226879]),\n",
      " 'std_score_time': array([0.00434874, 0.0045433 , 0.0026978 , 0.00731911, 0.00443185,\n",
      "       0.00340002, 0.00469096, 0.00892527, 0.00866528]),\n",
      " 'std_test_score': array([0.0049563 , 0.00574553, 0.00667457, 0.00730072, 0.00689358,\n",
      "       0.00739909, 0.00769348, 0.00723008, 0.00722062]),\n",
      " 'std_train_score': array([0.00375673, 0.00322532, 0.00306803, 0.00302948, 0.00297193,\n",
      "       0.00330987, 0.00376203, 0.00250873, 0.00354276])}\n",
      "Best Model Parameters: {'n_estimators': 60}\n",
      "Best Model Score: 0.6813\n"
     ]
    }
   ],
   "source": [
    "parameters = {\n",
    "    'n_estimators': range(20, 101, 10)\n",
    "}\n",
    "\n",
    "model = GradientBoostingClassifier(\n",
    "    max_depth=8,\n",
    "    min_samples_split=1000,\n",
    "    min_samples_leaf=50,\n",
    "    max_features='sqrt',\n",
    "    subsample=0.8,\n",
    "    random_state=42\n",
    ")\n",
    "\n",
    "grid_searcher(model, train_sample, test_sample, parameters=parameters)"
   ]
  },
  {
   "cell_type": "code",
   "execution_count": 23,
   "metadata": {},
   "outputs": [
    {
     "name": "stdout",
     "output_type": "stream",
     "text": [
      "Seconds to start: 0.00\n",
      "Seconds to fit: 208.91\n",
      "Grid Scores: \n",
      "\n",
      "{'mean_fit_time': array([ 7.46149325, 14.48682624, 15.98760909, 21.70739144, 23.22521317,\n",
      "       22.29051834, 28.31235528, 28.1848194 , 32.98886693]),\n",
      " 'mean_score_time': array([0.03726274, 0.07015014, 0.05632186, 0.05573148, 0.06143385,\n",
      "       0.0680542 , 0.09797198, 0.07959878, 0.07537681]),\n",
      " 'mean_test_score': array([0.67438772, 0.67707494, 0.678229  , 0.67841903, 0.67876689,\n",
      "       0.67796927, 0.67761368, 0.67690258, 0.67555737]),\n",
      " 'mean_train_score': array([0.78973196, 0.80445229, 0.81578195, 0.82461535, 0.83253091,\n",
      "       0.84069029, 0.84743344, 0.85466373, 0.86067279]),\n",
      " 'param_n_estimators': masked_array(data=[20, 30, 40, 50, 60, 70, 80, 90, 100],\n",
      "             mask=[False, False, False, False, False, False, False, False,\n",
      "                   False],\n",
      "       fill_value='?',\n",
      "            dtype=object),\n",
      " 'params': [{'n_estimators': 20},\n",
      "            {'n_estimators': 30},\n",
      "            {'n_estimators': 40},\n",
      "            {'n_estimators': 50},\n",
      "            {'n_estimators': 60},\n",
      "            {'n_estimators': 70},\n",
      "            {'n_estimators': 80},\n",
      "            {'n_estimators': 90},\n",
      "            {'n_estimators': 100}],\n",
      " 'rank_test_score': array([9, 6, 3, 2, 1, 4, 5, 7, 8], dtype=int32),\n",
      " 'split0_test_score': array([0.6774637 , 0.67877686, 0.67995177, 0.68007611, 0.6809375 ,\n",
      "       0.67967821, 0.67846682, 0.67874186, 0.67687293]),\n",
      " 'split0_train_score': array([0.78942587, 0.8070173 , 0.82019687, 0.83028005, 0.83911153,\n",
      "       0.84638421, 0.85337767, 0.85932417, 0.86561197]),\n",
      " 'split1_test_score': array([0.67337969, 0.67529888, 0.67674881, 0.67660568, 0.67792139,\n",
      "       0.67622171, 0.67552966, 0.67518992, 0.67415819]),\n",
      " 'split1_train_score': array([0.78818947, 0.80109762, 0.81166788, 0.81935949, 0.82910343,\n",
      "       0.83727569, 0.84376913, 0.84945431, 0.85638169]),\n",
      " 'split2_test_score': array([0.6675354 , 0.67068794, 0.67111007, 0.67130988, 0.670953  ,\n",
      "       0.67007793, 0.66968774, 0.66831227, 0.66692702]),\n",
      " 'split2_train_score': array([0.79313285, 0.8071887 , 0.81632979, 0.82543021, 0.83216244,\n",
      "       0.84002613, 0.84584696, 0.85311847, 0.85798006]),\n",
      " 'split3_test_score': array([0.67917167, 0.68353587, 0.68510513, 0.68568422, 0.6852554 ,\n",
      "       0.685899  , 0.6867704 , 0.68536602, 0.68427115]),\n",
      " 'split3_train_score': array([0.78817964, 0.80250554, 0.81493325, 0.82339166, 0.82974625,\n",
      "       0.83907512, 0.84673998, 0.85675798, 0.86271742]),\n",
      " 'std_fit_time': array([0.28365554, 0.28190682, 0.28845741, 0.50159522, 0.60858667,\n",
      "       0.2520837 , 0.83674696, 0.40789931, 0.54153065]),\n",
      " 'std_score_time': array([0.00635294, 0.01370884, 0.00716758, 0.00244861, 0.00706119,\n",
      "       0.00665464, 0.02061926, 0.00582494, 0.01017335]),\n",
      " 'std_test_score': array([0.00448099, 0.004706  , 0.00507731, 0.00522862, 0.00521011,\n",
      "       0.00572548, 0.00615898, 0.00615904, 0.00620678]),\n",
      " 'std_train_score': array([0.00202785, 0.00269772, 0.00305931, 0.00393301, 0.00396681,\n",
      "       0.00343257, 0.00359718, 0.00372932, 0.0036824 ])}\n",
      "Best Model Parameters: {'n_estimators': 60}\n",
      "Best Model Score: 0.6788\n"
     ]
    }
   ],
   "source": [
    "parameters = {\n",
    "    'n_estimators': range(20, 101, 10)\n",
    "}\n",
    "\n",
    "model = GradientBoostingClassifier(\n",
    "    max_depth=8,\n",
    "    min_samples_split=1000,\n",
    "    min_samples_leaf=50,\n",
    "    max_features='sqrt',\n",
    "    subsample=1.0,\n",
    "    random_state=42\n",
    ")\n",
    "\n",
    "grid_searcher(model, train_sample, test_sample, parameters=parameters)"
   ]
  },
  {
   "cell_type": "code",
   "execution_count": 24,
   "metadata": {},
   "outputs": [
    {
     "data": {
      "image/png": "[encoded data removed]",
      "text/plain": [
       "<Figure size 432x288 with 1 Axes>"
      ]
     },
     "metadata": {},
     "output_type": "display_data"
    }
   ],
   "source": [
    "x = range(20, 101, 10)\n",
    "y = [0.67549275, 0.67949047, 0.68031151, 0.68113989, 0.68129467,\n",
    "       0.68080589, 0.68039496, 0.67948176, 0.67842183]\n",
    "cv_plotter(x, y, 'GBC', 'N Estimators (Subsample=0.8)')"
   ]
  },
  {
   "cell_type": "code",
   "execution_count": 25,
   "metadata": {},
   "outputs": [
    {
     "data": {
      "image/png": "[encoded data removed]",
      "text/plain": [
       "<Figure size 432x288 with 1 Axes>"
      ]
     },
     "metadata": {},
     "output_type": "display_data"
    }
   ],
   "source": [
    "x = range(20, 101, 10)\n",
    "y = [0.67438772, 0.67707494, 0.678229  , 0.67841903, 0.67876689,\n",
    "       0.67796927, 0.67761368, 0.67690258, 0.67555737]\n",
    "cv_plotter(x, y, 'GBC', 'N Estimators (Subsample=1.0)')"
   ]
  },
  {
   "cell_type": "markdown",
   "metadata": {},
   "source": [
    "60 is the right number of trees"
   ]
  },
  {
   "cell_type": "markdown",
   "metadata": {},
   "source": [
    "---\n",
    "### max_depth"
   ]
  },
  {
   "cell_type": "code",
   "execution_count": 28,
   "metadata": {},
   "outputs": [
    {
     "name": "stdout",
     "output_type": "stream",
     "text": [
      "Seconds to start: 0.00\n",
      "Seconds to fit: 183.92\n",
      "Grid Scores: \n",
      "\n",
      "{'mean_fit_time': array([ 9.58727294, 12.25467122, 16.78121698, 18.83958727, 18.13056719,\n",
      "       20.78076869, 26.69225276, 27.06796384, 26.06054491]),\n",
      " 'mean_score_time': array([0.04403484, 0.06668788, 0.05471498, 0.05346423, 0.06364542,\n",
      "       0.06343603, 0.06651473, 0.06494695, 0.05812991]),\n",
      " 'mean_test_score': array([0.68249625, 0.68163822, 0.68158804, 0.67955939, 0.67876689,\n",
      "       0.67761238, 0.67709772, 0.67571128, 0.67485436]),\n",
      " 'mean_train_score': array([0.74370214, 0.76619999, 0.79007928, 0.81157261, 0.83253091,\n",
      "       0.84953437, 0.86132509, 0.87633157, 0.88501891]),\n",
      " 'param_max_depth': masked_array(data=[4, 5, 6, 7, 8, 9, 10, 11, 12],\n",
      "             mask=[False, False, False, False, False, False, False, False,\n",
      "                   False],\n",
      "       fill_value='?',\n",
      "            dtype=object),\n",
      " 'params': [{'max_depth': 4},\n",
      "            {'max_depth': 5},\n",
      "            {'max_depth': 6},\n",
      "            {'max_depth': 7},\n",
      "            {'max_depth': 8},\n",
      "            {'max_depth': 9},\n",
      "            {'max_depth': 10},\n",
      "            {'max_depth': 11},\n",
      "            {'max_depth': 12}],\n",
      " 'rank_test_score': array([1, 2, 3, 4, 5, 6, 7, 8, 9], dtype=int32),\n",
      " 'split0_test_score': array([0.68178508, 0.68330669, 0.68051209, 0.67704762, 0.6809375 ,\n",
      "       0.67458139, 0.67836052, 0.67839066, 0.6723862 ]),\n",
      " 'split0_train_score': array([0.74490993, 0.76755144, 0.79222662, 0.81424183, 0.83911153,\n",
      "       0.85694607, 0.86764181, 0.88180518, 0.89285119]),\n",
      " 'split1_test_score': array([0.6782143 , 0.67798555, 0.67731944, 0.6772887 , 0.67792139,\n",
      "       0.67459655, 0.67561628, 0.67118058, 0.67424384]),\n",
      " 'split1_train_score': array([0.74260063, 0.76489802, 0.78756739, 0.80717876, 0.82910343,\n",
      "       0.84505229, 0.85633624, 0.87426576, 0.87743451]),\n",
      " 'split2_test_score': array([0.67728813, 0.67455232, 0.6755868 , 0.67696462, 0.670953  ,\n",
      "       0.671507  , 0.66797687, 0.66877223, 0.6668336 ]),\n",
      " 'split2_train_score': array([0.74728977, 0.76920964, 0.79182113, 0.81401106, 0.83216244,\n",
      "       0.85099518, 0.86205982, 0.87337542, 0.88653143]),\n",
      " 'split3_test_score': array([0.69269757, 0.6907081 , 0.69293395, 0.68693696, 0.6852554 ,\n",
      "       0.68976498, 0.68643706, 0.6845013 , 0.68595413]),\n",
      " 'split3_train_score': array([0.74000824, 0.76314086, 0.78870197, 0.8108588 , 0.82974625,\n",
      "       0.84514392, 0.85926249, 0.87587992, 0.8832585 ]),\n",
      " 'std_fit_time': array([0.34821753, 0.22111764, 0.46203739, 0.36686599, 0.28135193,\n",
      "       0.46252755, 0.51702215, 0.25648872, 0.30945298]),\n",
      " 'std_score_time': array([0.00162677, 0.01641346, 0.00824184, 0.001637  , 0.00758623,\n",
      "       0.00254796, 0.00600735, 0.00109955, 0.0063583 ]),\n",
      " 'std_test_score': array([0.00612429, 0.00609496, 0.00678449, 0.00426101, 0.00521011,\n",
      "       0.00712808, 0.00659919, 0.00618703, 0.00696413]),\n",
      " 'std_train_score': array([0.0027013 , 0.00234189, 0.00199071, 0.00286732, 0.00396681,\n",
      "       0.00491   , 0.00417084, 0.00328523, 0.00557347])}\n",
      "Best Model Parameters: {'max_depth': 4}\n",
      "Best Model Score: 0.6825\n"
     ]
    }
   ],
   "source": [
    "parameters = {\n",
    "    'max_depth': range(4, 13)\n",
    "}\n",
    "\n",
    "model = GradientBoostingClassifier(\n",
    "    n_estimators=60,\n",
    "    min_samples_split=1000,\n",
    "    min_samples_leaf=50,\n",
    "    max_features='sqrt',\n",
    "    subsample=1.0,\n",
    "    random_state=42\n",
    ")\n",
    "\n",
    "grid_searcher(model, train_sample, test_sample, parameters=parameters)"
   ]
  },
  {
   "cell_type": "code",
   "execution_count": 29,
   "metadata": {},
   "outputs": [
    {
     "data": {
      "image/png": "[encoded data removed]",
      "text/plain": [
       "<Figure size 432x288 with 1 Axes>"
      ]
     },
     "metadata": {},
     "output_type": "display_data"
    }
   ],
   "source": [
    "x = range(4, 13)\n",
    "y = [0.68249625, 0.68163822, 0.68158804, 0.67955939, 0.67876689,\n",
    "       0.67761238, 0.67709772, 0.67571128, 0.67485436]\n",
    "cv_plotter(x, y, 'GBC', 'Max Depth')"
   ]
  },
  {
   "cell_type": "markdown",
   "metadata": {},
   "source": [
    "Going to take 4 here."
   ]
  },
  {
   "cell_type": "markdown",
   "metadata": {},
   "source": [
    "---\n",
    "### min_samples_split"
   ]
  },
  {
   "cell_type": "code",
   "execution_count": 30,
   "metadata": {},
   "outputs": [
    {
     "name": "stdout",
     "output_type": "stream",
     "text": [
      "Seconds to start: 0.00\n",
      "Seconds to fit: 51.20\n",
      "Grid Scores: \n",
      "\n",
      "{'mean_fit_time': array([8.80845392, 8.37145972, 9.53474027, 8.862849  , 9.60090882]),\n",
      " 'mean_score_time': array([0.04443854, 0.04586059, 0.04385942, 0.04126662, 0.03234965]),\n",
      " 'mean_test_score': array([0.6813459 , 0.68167312, 0.68249625, 0.68224321, 0.68224444]),\n",
      " 'mean_train_score': array([0.74514627, 0.74427743, 0.74370214, 0.74304231, 0.74290517]),\n",
      " 'param_min_samples_split': masked_array(data=[800, 900, 1000, 1100, 1200],\n",
      "             mask=[False, False, False, False, False],\n",
      "       fill_value='?',\n",
      "            dtype=object),\n",
      " 'params': [{'min_samples_split': 800},\n",
      "            {'min_samples_split': 900},\n",
      "            {'min_samples_split': 1000},\n",
      "            {'min_samples_split': 1100},\n",
      "            {'min_samples_split': 1200}],\n",
      " 'rank_test_score': array([5, 4, 1, 3, 2], dtype=int32),\n",
      " 'split0_test_score': array([0.68011036, 0.68107663, 0.68178508, 0.67884342, 0.67869625]),\n",
      " 'split0_train_score': array([0.74711338, 0.7460736 , 0.74490993, 0.74454426, 0.74503174]),\n",
      " 'split1_test_score': array([0.67723411, 0.67994034, 0.6782143 , 0.6785411 , 0.6792091 ]),\n",
      " 'split1_train_score': array([0.74293225, 0.74484291, 0.74260063, 0.74416176, 0.7430649 ]),\n",
      " 'split2_test_score': array([0.67475305, 0.67373166, 0.67728813, 0.67609595, 0.6763769 ]),\n",
      " 'split2_train_score': array([0.74874456, 0.74658859, 0.74728977, 0.7442227 , 0.74359933]),\n",
      " 'split3_test_score': array([0.69328626, 0.69194393, 0.69269757, 0.6954928 , 0.69469596]),\n",
      " 'split3_train_score': array([0.74179491, 0.73960461, 0.74000824, 0.73924051, 0.73992472]),\n",
      " 'std_fit_time': array([0.10853534, 0.11475167, 0.184698  , 0.16696223, 0.25289133]),\n",
      " 'std_score_time': array([0.00112685, 0.00664445, 0.00446564, 0.00306534, 0.00634115]),\n",
      " 'std_test_score': array([0.00714956, 0.00655571, 0.00612429, 0.00772331, 0.0072675 ]),\n",
      " 'std_train_score': array([0.00287014, 0.00277141, 0.0027013 , 0.00219977, 0.00186499])}\n",
      "Best Model Parameters: {'min_samples_split': 1000}\n",
      "Best Model Score: 0.6825\n"
     ]
    }
   ],
   "source": [
    "parameters = {\n",
    "    'min_samples_split': range(800, 1201, 100)\n",
    "}\n",
    "\n",
    "model = GradientBoostingClassifier(\n",
    "    n_estimators=60,\n",
    "    max_depth=4,\n",
    "    min_samples_leaf=50,\n",
    "    max_features='sqrt',\n",
    "    subsample=1.0,\n",
    "    random_state=42\n",
    ")\n",
    "\n",
    "grid_searcher(model, train_sample, test_sample, parameters=parameters)"
   ]
  },
  {
   "cell_type": "code",
   "execution_count": 31,
   "metadata": {},
   "outputs": [
    {
     "data": {
      "image/png": "[encoded data removed]",
      "text/plain": [
       "<Figure size 432x288 with 1 Axes>"
      ]
     },
     "metadata": {},
     "output_type": "display_data"
    }
   ],
   "source": [
    "x = range(800, 1201, 100)\n",
    "y = [0.6813459 , 0.68167312, 0.68249625, 0.68224321, 0.68224444]\n",
    "cv_plotter(x, y, 'GBC', 'Min Samples Split')"
   ]
  },
  {
   "cell_type": "markdown",
   "metadata": {},
   "source": [
    "Sticking with 1000 here."
   ]
  },
  {
   "cell_type": "markdown",
   "metadata": {},
   "source": [
    "---\n",
    "### min_samples_leaf"
   ]
  },
  {
   "cell_type": "code",
   "execution_count": 32,
   "metadata": {},
   "outputs": [
    {
     "name": "stdout",
     "output_type": "stream",
     "text": [
      "Seconds to start: 0.00\n",
      "Seconds to fit: 95.78\n",
      "Grid Scores: \n",
      "\n",
      "{'mean_fit_time': array([13.86074179, 11.87855327, 11.28239638, 11.81280917, 12.36136687,\n",
      "       13.91664171, 12.46713799]),\n",
      " 'mean_score_time': array([0.05116922, 0.0485782 , 0.0488677 , 0.04594535, 0.06599122,\n",
      "       0.04635501, 0.04106444]),\n",
      " 'mean_test_score': array([0.6831859 , 0.68276547, 0.68163822, 0.68254383, 0.68189533,\n",
      "       0.68213816, 0.6830424 ]),\n",
      " 'mean_train_score': array([0.76757962, 0.76686701, 0.76619999, 0.76618452, 0.76716456,\n",
      "       0.76580971, 0.76590911]),\n",
      " 'param_min_samples_leaf': masked_array(data=[30, 40, 50, 60, 70, 80, 90],\n",
      "             mask=[False, False, False, False, False, False, False],\n",
      "       fill_value='?',\n",
      "            dtype=object),\n",
      " 'params': [{'min_samples_leaf': 30},\n",
      "            {'min_samples_leaf': 40},\n",
      "            {'min_samples_leaf': 50},\n",
      "            {'min_samples_leaf': 60},\n",
      "            {'min_samples_leaf': 70},\n",
      "            {'min_samples_leaf': 80},\n",
      "            {'min_samples_leaf': 90}],\n",
      " 'rank_test_score': array([1, 3, 7, 4, 6, 5, 2], dtype=int32),\n",
      " 'split0_test_score': array([0.68139455, 0.68122973, 0.68330669, 0.68269163, 0.68230994,\n",
      "       0.68073901, 0.68406955]),\n",
      " 'split0_train_score': array([0.7669638 , 0.76741053, 0.76755144, 0.76964838, 0.76997394,\n",
      "       0.76771816, 0.7680099 ]),\n",
      " 'split1_test_score': array([0.67910882, 0.67868509, 0.67798555, 0.67650569, 0.67558423,\n",
      "       0.67877582, 0.68019249]),\n",
      " 'split1_train_score': array([0.76888284, 0.76542962, 0.76489802, 0.7644929 , 0.76268637,\n",
      "       0.76507982, 0.76492457]),\n",
      " 'split2_test_score': array([0.67815839, 0.67575421, 0.67455232, 0.67836729, 0.67503297,\n",
      "       0.67528797, 0.67384159]),\n",
      " 'split2_train_score': array([0.7703927 , 0.77103911, 0.76920964, 0.76948695, 0.77096139,\n",
      "       0.7689291 , 0.76698705]),\n",
      " 'split3_test_score': array([0.69408207, 0.69539304, 0.6907081 , 0.6926107 , 0.69465414,\n",
      "       0.69375002, 0.69406582]),\n",
      " 'split3_train_score': array([0.76407916, 0.7635888 , 0.76314086, 0.76110984, 0.76503653,\n",
      "       0.76151178, 0.7637149 ]),\n",
      " 'std_fit_time': array([0.16713889, 0.19757431, 0.0525224 , 0.10877512, 0.508776  ,\n",
      "       0.50311124, 0.0371175 ]),\n",
      " 'std_score_time': array([0.00586224, 0.00620626, 0.00602142, 0.00236237, 0.02143145,\n",
      "       0.00168062, 0.00673394]),\n",
      " 'std_test_score': array([0.00639979, 0.00754344, 0.00609496, 0.00623019, 0.00790369,\n",
      "       0.00698243, 0.00733725]),\n",
      " 'std_train_score': array([0.00235819, 0.002762  , 0.00234189, 0.00358881, 0.00342386,\n",
      "       0.00284507, 0.00168517])}\n",
      "Best Model Parameters: {'min_samples_leaf': 30}\n",
      "Best Model Score: 0.6832\n"
     ]
    }
   ],
   "source": [
    "parameters = {\n",
    "    'min_samples_leaf': range(30, 91, 10)\n",
    "}\n",
    "\n",
    "model = GradientBoostingClassifier(\n",
    "    n_estimators=60,\n",
    "    max_depth=5,\n",
    "    min_samples_split=1000,\n",
    "    max_features='sqrt',\n",
    "    subsample=1.0,\n",
    "    random_state=42\n",
    ")\n",
    "\n",
    "grid_searcher(model, train_sample, test_sample, parameters=parameters)"
   ]
  },
  {
   "cell_type": "code",
   "execution_count": 33,
   "metadata": {},
   "outputs": [
    {
     "data": {
      "image/png": "[encoded data removed]",
      "text/plain": [
       "<Figure size 432x288 with 1 Axes>"
      ]
     },
     "metadata": {},
     "output_type": "display_data"
    }
   ],
   "source": [
    "x = range(30, 91, 10)\n",
    "y = [0.6831859 , 0.68276547, 0.68163822, 0.68254383, 0.68189533,\n",
    "       0.68213816, 0.6830424]\n",
    "cv_plotter(x, y, 'GBC', 'Min Samples Leaf')"
   ]
  },
  {
   "cell_type": "markdown",
   "metadata": {},
   "source": [
    "Could go with 30 or 60. Picking 60."
   ]
  },
  {
   "cell_type": "markdown",
   "metadata": {},
   "source": [
    "---\n",
    "### max_features"
   ]
  },
  {
   "cell_type": "code",
   "execution_count": 34,
   "metadata": {},
   "outputs": [
    {
     "name": "stdout",
     "output_type": "stream",
     "text": [
      "Seconds to start: 0.00\n",
      "Seconds to fit: 157.42\n",
      "Grid Scores: \n",
      "\n",
      "{'mean_fit_time': array([ 7.57283354,  9.43708712,  9.91733563, 11.47330445, 13.49582839,\n",
      "       14.1181156 , 16.36116135, 19.56566226, 18.89022112, 22.85659027]),\n",
      " 'mean_score_time': array([0.06052524, 0.05134892, 0.05004352, 0.05311006, 0.05023521,\n",
      "       0.04561615, 0.04680037, 0.04785275, 0.04494369, 0.06406206]),\n",
      " 'mean_test_score': array([0.68171991, 0.68187207, 0.6833368 , 0.68254383, 0.68304553,\n",
      "       0.68327218, 0.68218381, 0.68222877, 0.68293474, 0.6842246 ]),\n",
      " 'mean_train_score': array([0.76292421, 0.7645056 , 0.76617823, 0.76618452, 0.76751108,\n",
      "       0.76906479, 0.76846501, 0.77044201, 0.77023275, 0.7710864 ]),\n",
      " 'param_max_features': masked_array(data=[3, 4, 5, 6, 7, 8, 9, 10, 11, 12],\n",
      "             mask=[False, False, False, False, False, False, False, False,\n",
      "                   False, False],\n",
      "       fill_value='?',\n",
      "            dtype=object),\n",
      " 'params': [{'max_features': 3},\n",
      "            {'max_features': 4},\n",
      "            {'max_features': 5},\n",
      "            {'max_features': 6},\n",
      "            {'max_features': 7},\n",
      "            {'max_features': 8},\n",
      "            {'max_features': 9},\n",
      "            {'max_features': 10},\n",
      "            {'max_features': 11},\n",
      "            {'max_features': 12}],\n",
      " 'rank_test_score': array([10,  9,  2,  6,  4,  3,  8,  7,  5,  1], dtype=int32),\n",
      " 'split0_test_score': array([0.68019685, 0.68297661, 0.68161656, 0.68269163, 0.68416843,\n",
      "       0.68468598, 0.68351769, 0.68141076, 0.68104038, 0.68406961]),\n",
      " 'split0_train_score': array([0.76377204, 0.76419283, 0.76796869, 0.76964838, 0.76800544,\n",
      "       0.76920557, 0.77311952, 0.77421642, 0.77339287, 0.77214355]),\n",
      " 'split1_test_score': array([0.67976105, 0.67800126, 0.67980516, 0.67650569, 0.67959712,\n",
      "       0.68080175, 0.68207792, 0.67940908, 0.67982418, 0.68327792]),\n",
      " 'split1_train_score': array([0.76336211, 0.76518726, 0.76604245, 0.7644929 , 0.76717046,\n",
      "       0.76756994, 0.76682077, 0.76928829, 0.76935324, 0.77079646]),\n",
      " 'split2_test_score': array([0.67508827, 0.67509439, 0.67925995, 0.67836729, 0.6766399 ,\n",
      "       0.67442076, 0.67369549, 0.67644969, 0.67704512, 0.67910756]),\n",
      " 'split2_train_score': array([0.76384042, 0.76567928, 0.76778219, 0.76948695, 0.77043854,\n",
      "       0.77149525, 0.76931394, 0.77274254, 0.77292415, 0.77208799]),\n",
      " 'split3_test_score': array([0.69183365, 0.69141586, 0.69266575, 0.6926107 , 0.69177651,\n",
      "       0.69318004, 0.68944399, 0.69164564, 0.69382953, 0.69044332]),\n",
      " 'split3_train_score': array([0.76072227, 0.76296303, 0.76291961, 0.76110984, 0.76442988,\n",
      "       0.76798839, 0.7646058 , 0.7655208 , 0.76526075, 0.7693176 ]),\n",
      " 'std_fit_time': array([0.11032495, 0.20098859, 0.17671959, 0.34386411, 0.25211388,\n",
      "       0.3333383 , 0.53814043, 0.59277665, 0.2372243 , 0.4312363 ]),\n",
      " 'std_score_time': array([0.01467025, 0.00404703, 0.00482506, 0.00672086, 0.00526488,\n",
      "       0.00162841, 0.00143203, 0.00429422, 0.0031418 , 0.03782406]),\n",
      " 'std_test_score': array([0.0061729 , 0.00618909, 0.00545615, 0.00623019, 0.00570987,\n",
      "       0.00679355, 0.00562468, 0.005716  , 0.00645452, 0.00405508]),\n",
      " 'std_train_score': array([0.00128438, 0.00103917, 0.0020258 , 0.00358881, 0.00214617,\n",
      "       0.00152645, 0.00316157, 0.00335738, 0.00326819, 0.00115472])}\n",
      "Best Model Parameters: {'max_features': 12}\n",
      "Best Model Score: 0.6842\n"
     ]
    }
   ],
   "source": [
    "parameters = {\n",
    "    'max_features': range(3, 13)\n",
    "}\n",
    "\n",
    "model = GradientBoostingClassifier(\n",
    "    n_estimators=60,\n",
    "    max_depth=5,\n",
    "    min_samples_split=1000,\n",
    "    min_samples_leaf=60,\n",
    "    subsample=1.0,\n",
    "    random_state=42\n",
    ")\n",
    "\n",
    "grid_searcher(model, train_sample, test_sample, parameters=parameters)"
   ]
  },
  {
   "cell_type": "code",
   "execution_count": 35,
   "metadata": {},
   "outputs": [
    {
     "data": {
      "image/png": "[encoded data removed]",
      "text/plain": [
       "<Figure size 432x288 with 1 Axes>"
      ]
     },
     "metadata": {},
     "output_type": "display_data"
    }
   ],
   "source": [
    "x = range(3, 13)\n",
    "y = [0.68171991, 0.68187207, 0.6833368 , 0.68254383, 0.68304553,\n",
    "       0.68327218, 0.68218381, 0.68222877, 0.68293474, 0.6842246]\n",
    "cv_plotter(x, y, 'GBC', 'N Features')"
   ]
  },
  {
   "cell_type": "code",
   "execution_count": 39,
   "metadata": {},
   "outputs": [
    {
     "name": "stdout",
     "output_type": "stream",
     "text": [
      "Seconds to start: 0.00\n",
      "Seconds to fit: 187.90\n",
      "Grid Scores: \n",
      "\n",
      "{'mean_fit_time': array([18.75598758, 22.04476583, 28.40508038, 28.92232472, 38.45234835,\n",
      "       37.91939145]),\n",
      " 'mean_score_time': array([0.06100523, 0.04601943, 0.04400575, 0.04381502, 0.04912424,\n",
      "       0.04002309]),\n",
      " 'mean_test_score': array([0.68222877, 0.6842246 , 0.68419217, 0.68293092, 0.68369928,\n",
      "       0.68310192]),\n",
      " 'mean_train_score': array([0.77044201, 0.7710864 , 0.77323669, 0.77161597, 0.77369349,\n",
      "       0.77395088]),\n",
      " 'param_max_features': masked_array(data=[10, 12, 14, 16, 18, 20],\n",
      "             mask=[False, False, False, False, False, False],\n",
      "       fill_value='?',\n",
      "            dtype=object),\n",
      " 'params': [{'max_features': 10},\n",
      "            {'max_features': 12},\n",
      "            {'max_features': 14},\n",
      "            {'max_features': 16},\n",
      "            {'max_features': 18},\n",
      "            {'max_features': 20}],\n",
      " 'rank_test_score': array([6, 1, 2, 5, 3, 4], dtype=int32),\n",
      " 'split0_test_score': array([0.68141076, 0.68406961, 0.68423077, 0.67998095, 0.68248155,\n",
      "       0.67942457]),\n",
      " 'split0_train_score': array([0.77421642, 0.77214355, 0.77591556, 0.77475427, 0.77741888,\n",
      "       0.77599227]),\n",
      " 'split1_test_score': array([0.67940908, 0.68327792, 0.67749451, 0.67886799, 0.68098442,\n",
      "       0.68279322]),\n",
      " 'split1_train_score': array([0.76928829, 0.77079646, 0.77105586, 0.76989225, 0.77051557,\n",
      "       0.77087282]),\n",
      " 'split2_test_score': array([0.67644969, 0.67910756, 0.68237178, 0.67818382, 0.67763233,\n",
      "       0.67835689]),\n",
      " 'split2_train_score': array([0.77274254, 0.77208799, 0.77618997, 0.77315177, 0.7757321 ,\n",
      "       0.77581067]),\n",
      " 'split3_test_score': array([0.69164564, 0.69044332, 0.69267163, 0.69469133, 0.69369897,\n",
      "       0.69183348]),\n",
      " 'split3_train_score': array([0.7655208 , 0.7693176 , 0.76978536, 0.76866559, 0.77110742,\n",
      "       0.77312778]),\n",
      " 'std_fit_time': array([0.11813948, 0.20181741, 0.44922654, 0.29556732, 0.46317924,\n",
      "       0.06284378]),\n",
      " 'std_score_time': array([0.00797902, 0.00168311, 0.00091386, 0.0026042 , 0.00457177,\n",
      "       0.00661434]),\n",
      " 'std_test_score': array([0.005716  , 0.00405508, 0.00547885, 0.00681995, 0.00603429,\n",
      "       0.00530028]),\n",
      " 'std_train_score': array([0.00335738, 0.00115472, 0.00285332, 0.00244354, 0.00295048,\n",
      "       0.0021082 ])}\n",
      "Best Model Parameters: {'max_features': 12}\n",
      "Best Model Score: 0.6842\n"
     ]
    }
   ],
   "source": [
    "parameters = {\n",
    "    'max_features': range(10, 21, 2)\n",
    "}\n",
    "\n",
    "model = GradientBoostingClassifier(\n",
    "    n_estimators=60,\n",
    "    max_depth=5,\n",
    "    min_samples_split=1000,\n",
    "    min_samples_leaf=60,\n",
    "    subsample=1.0,\n",
    "    random_state=42\n",
    ")\n",
    "\n",
    "grid_searcher(model, train_sample, test_sample, parameters=parameters)"
   ]
  },
  {
   "cell_type": "code",
   "execution_count": 41,
   "metadata": {},
   "outputs": [
    {
     "data": {
      "image/png": "[encoded data removed]",
      "text/plain": [
       "<Figure size 432x288 with 1 Axes>"
      ]
     },
     "metadata": {},
     "output_type": "display_data"
    }
   ],
   "source": [
    "x = range(10, 21, 2)\n",
    "y = [0.68222877, 0.6842246 , 0.68419217, 0.68293092, 0.68369928,\n",
    "       0.68310192]\n",
    "cv_plotter(x, y, 'GBC', 'N Features')"
   ]
  },
  {
   "cell_type": "markdown",
   "metadata": {},
   "source": [
    "12 it is."
   ]
  },
  {
   "cell_type": "markdown",
   "metadata": {},
   "source": [
    "---\n",
    "### subsample"
   ]
  },
  {
   "cell_type": "code",
   "execution_count": 42,
   "metadata": {},
   "outputs": [
    {
     "name": "stdout",
     "output_type": "stream",
     "text": [
      "Seconds to start: 0.00\n",
      "Seconds to fit: 148.69\n",
      "Grid Scores: \n",
      "\n",
      "{'mean_fit_time': array([ 4.55031353,  8.17226088, 12.75694096, 11.91590971, 12.16626859,\n",
      "       14.59152478, 16.29578149, 18.0439778 , 20.42172468, 18.8423537 ]),\n",
      " 'mean_score_time': array([0.04592568, 0.06395978, 0.06848949, 0.04383969, 0.04335552,\n",
      "       0.04576725, 0.04512799, 0.04428858, 0.04422379, 0.03504503]),\n",
      " 'mean_test_score': array([0.66911732, 0.67761467, 0.67862811, 0.6802109 , 0.68336669,\n",
      "       0.68545487, 0.68158252, 0.68248124, 0.68287035, 0.6842246 ]),\n",
      " 'mean_train_score': array([0.70258025, 0.72281399, 0.73551897, 0.74494864, 0.74973072,\n",
      "       0.75443679, 0.76087608, 0.76394575, 0.76733899, 0.7710864 ]),\n",
      " 'param_subsample': masked_array(data=[0.1, 0.2, 0.30000000000000004, 0.4, 0.5, 0.6,\n",
      "                   0.7000000000000001, 0.8, 0.9, 1.0],\n",
      "             mask=[False, False, False, False, False, False, False, False,\n",
      "                   False, False],\n",
      "       fill_value='?',\n",
      "            dtype=object),\n",
      " 'params': [{'subsample': 0.1},\n",
      "            {'subsample': 0.2},\n",
      "            {'subsample': 0.30000000000000004},\n",
      "            {'subsample': 0.4},\n",
      "            {'subsample': 0.5},\n",
      "            {'subsample': 0.6},\n",
      "            {'subsample': 0.7000000000000001},\n",
      "            {'subsample': 0.8},\n",
      "            {'subsample': 0.9},\n",
      "            {'subsample': 1.0}],\n",
      " 'rank_test_score': array([10,  9,  8,  7,  3,  1,  6,  5,  4,  2], dtype=int32),\n",
      " 'split0_test_score': array([0.66470109, 0.67867079, 0.67620924, 0.68170065, 0.68654463,\n",
      "       0.68552802, 0.681925  , 0.68340922, 0.68251654, 0.68406961]),\n",
      " 'split0_train_score': array([0.70136909, 0.7219901 , 0.7381007 , 0.74596463, 0.75110766,\n",
      "       0.75601581, 0.76125208, 0.76614331, 0.77152412, 0.77214355]),\n",
      " 'split1_test_score': array([0.66633456, 0.66964346, 0.67622154, 0.67439274, 0.67751251,\n",
      "       0.67915276, 0.67665385, 0.67776991, 0.67965648, 0.68327792]),\n",
      " 'split1_train_score': array([0.70295196, 0.72246667, 0.73322942, 0.7432917 , 0.7491098 ,\n",
      "       0.75208786, 0.7596609 , 0.76243102, 0.76526452, 0.77079646]),\n",
      " 'split2_test_score': array([0.66602465, 0.67082232, 0.67590294, 0.67480887, 0.67993789,\n",
      "       0.68245034, 0.67554709, 0.6762368 , 0.67636153, 0.67910756]),\n",
      " 'split2_train_score': array([0.70468034, 0.72892737, 0.73835379, 0.74869459, 0.75267778,\n",
      "       0.756606  , 0.76395588, 0.76531448, 0.76920414, 0.77208799]),\n",
      " 'split3_test_score': array([0.67940954, 0.69132198, 0.68617903, 0.68994114, 0.6894713 ,\n",
      "       0.69468836, 0.6922041 , 0.6925089 , 0.69294689, 0.69044332]),\n",
      " 'split3_train_score': array([0.7013196 , 0.71787183, 0.73239196, 0.74184365, 0.74602764,\n",
      "       0.75303751, 0.75863547, 0.76189419, 0.76336316, 0.7693176 ]),\n",
      " 'std_fit_time': array([0.08401093, 0.11614826, 0.27849213, 0.24301091, 0.1369577 ,\n",
      "       0.4774107 , 0.36534634, 0.50107468, 0.34473914, 0.47373807]),\n",
      " 'std_score_time': array([0.0021809 , 0.02004073, 0.01676207, 0.0010166 , 0.00265511,\n",
      "       0.00248654, 0.00378824, 0.00196183, 0.00091943, 0.00620098]),\n",
      " 'std_test_score': array([0.00597367, 0.00864107, 0.0043613 , 0.00632307, 0.00483198,\n",
      "       0.00578797, 0.00658878, 0.00637573, 0.0062119 , 0.00405508]),\n",
      " 'std_train_score': array([0.00137883, 0.00395594, 0.00272589, 0.00261968, 0.00248392,\n",
      "       0.00191535, 0.00200771, 0.001817  , 0.00320565, 0.00115472])}\n",
      "Best Model Parameters: {'subsample': 0.6}\n",
      "Best Model Score: 0.6855\n"
     ]
    }
   ],
   "source": [
    "parameters = {\n",
    "    'subsample': np.arange(0.1, 1.1, 0.1)\n",
    "}\n",
    "\n",
    "model = GradientBoostingClassifier(\n",
    "    n_estimators=60,\n",
    "    max_depth=5,\n",
    "    min_samples_split=1000,\n",
    "    min_samples_leaf=60,\n",
    "    max_features=12,\n",
    "    random_state=42\n",
    ")\n",
    "\n",
    "grid_searcher(model, train_sample, test_sample, parameters=parameters)"
   ]
  },
  {
   "cell_type": "code",
   "execution_count": 43,
   "metadata": {},
   "outputs": [
    {
     "data": {
      "image/png": "[encoded data removed]",
      "text/plain": [
       "<Figure size 432x288 with 1 Axes>"
      ]
     },
     "metadata": {},
     "output_type": "display_data"
    }
   ],
   "source": [
    "x = np.arange(0.1, 1.1, 0.1)\n",
    "y = [0.66911732, 0.67761467, 0.67862811, 0.6802109 , 0.68336669,\n",
    "       0.68545487, 0.68158252, 0.68248124, 0.68287035, 0.6842246]\n",
    "cv_plotter(x, y, 'GBC', 'Subsample')"
   ]
  },
  {
   "cell_type": "markdown",
   "metadata": {},
   "source": [
    "0.6, Stochastic it is then."
   ]
  },
  {
   "cell_type": "markdown",
   "metadata": {},
   "source": [
    "---\n",
    "### learning_rate"
   ]
  },
  {
   "cell_type": "markdown",
   "metadata": {},
   "source": [
    "* n_estimators: 60\n",
    "* learning_rate: 0.1"
   ]
  },
  {
   "cell_type": "code",
   "execution_count": 44,
   "metadata": {},
   "outputs": [
    {
     "name": "stdout",
     "output_type": "stream",
     "text": [
      "Seconds to start: 0.00\n",
      "Seconds to fit: 7.71\n",
      "CV Score : Mean - 0.681 | Std - 0.006 | Min - 0.671 | Max - 0.689\n",
      "Seconds to CV: 36.95\n"
     ]
    },
    {
     "data": {
      "image/png": "[encoded data removed]",
      "text/plain": [
       "<Figure size 432x288 with 1 Axes>"
      ]
     },
     "metadata": {},
     "output_type": "display_data"
    }
   ],
   "source": [
    "model = GradientBoostingClassifier(\n",
    "    n_estimators=60,\n",
    "    max_depth=5,\n",
    "    min_samples_split=1000,\n",
    "    min_samples_leaf=60,\n",
    "    max_features=12,\n",
    "    subsample=0.6,\n",
    "    learning_rate=0.1,\n",
    "    random_state=42\n",
    ")\n",
    "\n",
    "model_fit(model, train_sample, test_sample, feature_importance=True)"
   ]
  },
  {
   "cell_type": "markdown",
   "metadata": {},
   "source": [
    "---\n",
    "* n_estimators: 120\n",
    "* learning_rate: 0.05"
   ]
  },
  {
   "cell_type": "code",
   "execution_count": 45,
   "metadata": {},
   "outputs": [
    {
     "name": "stdout",
     "output_type": "stream",
     "text": [
      "Seconds to start: 0.00\n",
      "Seconds to fit: 17.68\n",
      "CV Score : Mean - 0.686 | Std - 0.006 | Min - 0.678 | Max - 0.692\n",
      "Seconds to CV: 81.13\n"
     ]
    },
    {
     "data": {
      "image/png": "[encoded data removed]",
      "text/plain": [
       "<Figure size 432x288 with 1 Axes>"
      ]
     },
     "metadata": {},
     "output_type": "display_data"
    }
   ],
   "source": [
    "model = GradientBoostingClassifier(\n",
    "    n_estimators=120,\n",
    "    max_depth=5,\n",
    "    min_samples_split=1000,\n",
    "    min_samples_leaf=60,\n",
    "    max_features=12,\n",
    "    subsample=0.6,\n",
    "    learning_rate=0.05,\n",
    "    random_state=42\n",
    ")\n",
    "\n",
    "model_fit(model, train_sample, test_sample, feature_importance=True)"
   ]
  },
  {
   "cell_type": "markdown",
   "metadata": {},
   "source": [
    "---\n",
    "* n_estimators: 200\n",
    "* learning_rate: 0.03"
   ]
  },
  {
   "cell_type": "code",
   "execution_count": 48,
   "metadata": {},
   "outputs": [
    {
     "name": "stdout",
     "output_type": "stream",
     "text": [
      "Seconds to start: 0.00\n",
      "Seconds to fit: 30.37\n",
      "CV Score : Mean - 0.687 | Std - 0.006 | Min - 0.680 | Max - 0.695\n",
      "Seconds to CV: 132.32\n"
     ]
    },
    {
     "data": {
      "image/png": "[encoded data removed]",
      "text/plain": [
       "<Figure size 432x288 with 1 Axes>"
      ]
     },
     "metadata": {},
     "output_type": "display_data"
    }
   ],
   "source": [
    "model = GradientBoostingClassifier(\n",
    "    n_estimators=200,\n",
    "    max_depth=5,\n",
    "    min_samples_split=1000,\n",
    "    min_samples_leaf=60,\n",
    "    max_features=12,\n",
    "    subsample=0.6,\n",
    "    learning_rate=0.03,\n",
    "    random_state=42\n",
    ")\n",
    "\n",
    "model_fit(model, train_sample, test_sample, feature_importance=True)"
   ]
  },
  {
   "cell_type": "markdown",
   "metadata": {},
   "source": [
    "---\n",
    "* n_estimators: 300\n",
    "* learning_rate: 0.02"
   ]
  },
  {
   "cell_type": "code",
   "execution_count": 46,
   "metadata": {},
   "outputs": [
    {
     "name": "stdout",
     "output_type": "stream",
     "text": [
      "Seconds to start: 0.00\n",
      "Seconds to fit: 40.52\n",
      "CV Score : Mean - 0.688 | Std - 0.005 | Min - 0.682 | Max - 0.696\n",
      "Seconds to CV: 184.32\n"
     ]
    },
    {
     "data": {
      "image/png": "[encoded data removed]",
      "text/plain": [
       "<Figure size 432x288 with 1 Axes>"
      ]
     },
     "metadata": {},
     "output_type": "display_data"
    }
   ],
   "source": [
    "model = GradientBoostingClassifier(\n",
    "    n_estimators=300,\n",
    "    max_depth=5,\n",
    "    min_samples_split=1000,\n",
    "    min_samples_leaf=60,\n",
    "    max_features=12,\n",
    "    subsample=0.6,\n",
    "    learning_rate=0.02,\n",
    "    random_state=42\n",
    ")\n",
    "\n",
    "model_fit(model, train_sample, test_sample, feature_importance=True)"
   ]
  },
  {
   "cell_type": "markdown",
   "metadata": {},
   "source": [
    "---\n",
    "* n_estimators: 600\n",
    "* learning_rate: 0.01"
   ]
  },
  {
   "cell_type": "code",
   "execution_count": 47,
   "metadata": {},
   "outputs": [
    {
     "name": "stdout",
     "output_type": "stream",
     "text": [
      "Seconds to start: 0.00\n",
      "Seconds to fit: 76.26\n",
      "CV Score : Mean - 0.688 | Std - 0.006 | Min - 0.681 | Max - 0.697\n",
      "Seconds to CV: 382.01\n"
     ]
    },
    {
     "data": {
      "image/png": "[encoded data removed]",
      "text/plain": [
       "<Figure size 432x288 with 1 Axes>"
      ]
     },
     "metadata": {},
     "output_type": "display_data"
    }
   ],
   "source": [
    "model = GradientBoostingClassifier(\n",
    "    n_estimators=600,\n",
    "    max_depth=5,\n",
    "    min_samples_split=1000,\n",
    "    min_samples_leaf=60,\n",
    "    max_features=12,\n",
    "    subsample=0.6,\n",
    "    learning_rate=0.01,\n",
    "    random_state=42\n",
    ")\n",
    "\n",
    "model_fit(model, train_sample, test_sample, feature_importance=True)"
   ]
  },
  {
   "cell_type": "markdown",
   "metadata": {},
   "source": [
    "For training on more data's sake, going with a learning rate of 0.05 and 120 trees for the 0.005 bump in AUC."
   ]
  },
  {
   "cell_type": "markdown",
   "metadata": {},
   "source": [
    "---\n",
    "### Final Model"
   ]
  },
  {
   "cell_type": "code",
   "execution_count": 49,
   "metadata": {},
   "outputs": [
    {
     "name": "stdout",
     "output_type": "stream",
     "text": [
      "Seconds to start: 0.00\n",
      "Seconds to fit: 166.79\n",
      "CV Score : Mean - 0.690 | Std - 0.002 | Min - 0.688 | Max - 0.693\n",
      "Seconds to CV: 778.01\n"
     ]
    },
    {
     "data": {
      "image/png": "[encoded data removed]",
      "text/plain": [
       "<Figure size 432x288 with 1 Axes>"
      ]
     },
     "metadata": {},
     "output_type": "display_data"
    }
   ],
   "source": [
    "model = GradientBoostingClassifier(\n",
    "    n_estimators=120,\n",
    "    max_depth=5,\n",
    "    min_samples_split=1000,\n",
    "    min_samples_leaf=60,\n",
    "    max_features=12,\n",
    "    subsample=0.6,\n",
    "    learning_rate=0.05,\n",
    "    random_state=42\n",
    ")\n",
    "\n",
    "model_fit(model, train, target, feature_importance=True)"
   ]
  },
  {
   "cell_type": "markdown",
   "metadata": {},
   "source": [
    "A whopping 0.002 increase in AUC over Logistic Regression. Neat."
   ]
  },
  {
   "cell_type": "code",
   "execution_count": 50,
   "metadata": {},
   "outputs": [
    {
     "name": "stdout",
     "output_type": "stream",
     "text": [
      "Seconds to start: 0.00\n",
      "Seconds to fit: 345.43\n",
      "CV Score : Mean - 0.691 | Std - 0.002 | Min - 0.688 | Max - 0.694\n",
      "Seconds to CV: 1597.03\n"
     ]
    },
    {
     "data": {
      "image/png": "[encoded data removed]",
      "text/plain": [
       "<Figure size 432x288 with 1 Axes>"
      ]
     },
     "metadata": {},
     "output_type": "display_data"
    }
   ],
   "source": [
    "model = GradientBoostingClassifier(\n",
    "    n_estimators=200,\n",
    "    max_depth=5,\n",
    "    min_samples_split=1000,\n",
    "    min_samples_leaf=60,\n",
    "    max_features=12,\n",
    "    subsample=0.6,\n",
    "    learning_rate=0.03,\n",
    "    random_state=42\n",
    ")\n",
    "\n",
    "model_fit(model, train, target, feature_importance=True)"
   ]
  },
  {
   "cell_type": "markdown",
   "metadata": {},
   "source": [
    "Well, I suppose a half hour was worth the wait for 0.003 improvement of AUC instead of 0.002. Final model.\n",
    "\n",
    "Might be worth it to go for 300 trees and 0.02 learning rate later on. Tuning showed a delta of 0.001 AUC available but I don't want to double traiing time for CV right now. Squeezing blood out of a rock by this point though."
   ]
  },
  {
   "cell_type": "code",
   "execution_count": null,
   "metadata": {},
   "outputs": [],
   "source": []
  }
 ],
 "metadata": {
  "kernelspec": {
   "display_name": "Python 3",
   "language": "python",
   "name": "python3"
  },
  "language_info": {
   "codemirror_mode": {
    "name": "ipython",
    "version": 3
   },
   "file_extension": ".py",
   "mimetype": "text/x-python",
   "name": "python",
   "nbconvert_exporter": "python",
   "pygments_lexer": "ipython3",
   "version": "3.6.6"
  }
 },
 "nbformat": 4,
 "nbformat_minor": 2
}
