{
 "cells": [
  {
   "cell_type": "code",
   "execution_count": null,
   "metadata": {},
   "outputs": [],
   "source": [
    "import pandas as pd\n",
    "import numpy as np\n",
    "from time import time\n",
    "from pprint import PrettyPrinter\n",
    "\n",
    "from sklearn.model_selection import train_test_split\n",
    "from sklearn.ensemble import AdaBoostClassifier, GradientBoostingClassifier\n",
    "import xgboost as xgb\n",
    "from xgboost.sklearn import XGBClassifier\n",
    "from sklearn import cross_validation\n",
    "from sklearn.model_selection import GridSearchCV\n",
    "\n",
    "import seaborn as sns\n",
    "import matplotlib.pyplot as plt\n",
    "sns.set()\n",
    "%matplotlib inline\n",
    "pp = PrettyPrinter()"
   ]
  },
  {
   "cell_type": "code",
   "execution_count": null,
   "metadata": {},
   "outputs": [],
   "source": [
    "def model_fit(model, train, target, timed=True, feature_importance=False):\n",
    "    '''\n",
    "    This function is for checking performance of a single model. \n",
    "    \n",
    "    Optional plot of feature importance for ensemble methods.\n",
    "    '''\n",
    "    # Fit and Predict\n",
    "    if timed:\n",
    "        start = time()\n",
    "        passed = time() - start\n",
    "        print(f'Seconds to start: {passed:.2f}')\n",
    "    model.fit(train, target)\n",
    "    if timed:\n",
    "        passed = time() - start\n",
    "        print(f'Seconds to fit: {passed:.2f}')\n",
    "    \n",
    "    # CV\n",
    "    cv_score = cross_validation.cross_val_score(model, train, target, cv=5, scoring='roc_auc')\n",
    "    print(f'CV Score : Mean - {np.mean(cv_score):.3f} | Std - {np.std(cv_score):.3f} | Min - {np.min(cv_score):.3f} | Max - {np.max(cv_score):.3f}')\n",
    "    if timed:\n",
    "        passed = time() - start\n",
    "        print(f'Seconds to CV: {passed:.2f}')\n",
    "    \n",
    "    # Plots feature importance, for ensemble models only\n",
    "    if feature_importance:\n",
    "        feat_imp = pd.Series(model.feature_importances_).sort_values(ascending=False)\n",
    "        feat_imp.plot(kind='bar', title='Feature Importances')\n",
    "        plt.ylabel('Feature Importance Score')"
   ]
  },
  {
   "cell_type": "code",
   "execution_count": null,
   "metadata": {},
   "outputs": [],
   "source": [
    "def grid_searcher(model, train, target, parameters={}, cv=4, timed=True):\n",
    "    '''\n",
    "    Makes a printout of the AUC score for gridsearched models.\n",
    "    '''\n",
    "    if timed:\n",
    "        start = time()\n",
    "        passed = time() - start\n",
    "        print(f'Seconds to start: {passed:.2f}')\n",
    "    gsearcher = GridSearchCV(\n",
    "        estimator=model, \n",
    "        param_grid=parameters,\n",
    "        scoring='roc_auc',\n",
    "        n_jobs=4,\n",
    "        cv=cv)\n",
    "    gsearcher.fit(train, target)\n",
    "    if timed:\n",
    "        passed = time() - start\n",
    "        print(f'Seconds to fit: {passed:.2f}')\n",
    "    print('Grid Scores: \\n')\n",
    "    pp.pprint(gsearcher.cv_results_)\n",
    "    print(f'Best Model Parameters: {gsearcher.best_params_}')\n",
    "    print(f'Best Model Score: {gsearcher.best_score_:.4f}')"
   ]
  },
  {
   "cell_type": "code",
   "execution_count": null,
   "metadata": {},
   "outputs": [],
   "source": [
    "def cv_plotter(x, y, title, feature_label):\n",
    "    '''\n",
    "    Makes a simple scatter plot\n",
    "    '''\n",
    "    plt.scatter(x=x, y=y)\n",
    "    plt.title(f'{title} AUC over {feature_label}')\n",
    "    plt.xlabel(feature_label)\n",
    "    plt.ylabel('AUC Score')"
   ]
  },
  {
   "cell_type": "markdown",
   "metadata": {},
   "source": [
    "## Gradient Boost"
   ]
  },
  {
   "cell_type": "markdown",
   "metadata": {},
   "source": [
    "## Adaptive Boost"
   ]
  },
  {
   "cell_type": "markdown",
   "metadata": {},
   "source": [
    "## XGBoost"
   ]
  },
  {
   "cell_type": "code",
   "execution_count": null,
   "metadata": {},
   "outputs": [],
   "source": []
  }
 ],
 "metadata": {
  "kernelspec": {
   "display_name": "Python 3",
   "language": "python",
   "name": "python3"
  },
  "language_info": {
   "codemirror_mode": {
    "name": "ipython",
    "version": 3
   },
   "file_extension": ".py",
   "mimetype": "text/x-python",
   "name": "python",
   "nbconvert_exporter": "python",
   "pygments_lexer": "ipython3",
   "version": "3.6.6"
  }
 },
 "nbformat": 4,
 "nbformat_minor": 2
}
